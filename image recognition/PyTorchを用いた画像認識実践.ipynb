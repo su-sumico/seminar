{
  "nbformat": 4,
  "nbformat_minor": 0,
  "metadata": {
    "colab": {
      "provenance": [],
      "gpuType": "T4"
    },
    "kernelspec": {
      "name": "python3",
      "display_name": "Python 3"
    },
    "language_info": {
      "name": "python"
    },
    "accelerator": "GPU"
  },
  "cells": [
    {
      "cell_type": "markdown",
      "source": [
        "画像認識の基本：https://qiita.com/iitachi_tdse/items/90435aef7c8d5ee1a78a"
      ],
      "metadata": {
        "id": "EaFjL056J1cn"
      }
    },
    {
      "cell_type": "markdown",
      "source": [
        "####PyTorchによる学習の流れ\n",
        "\n",
        "1.　前処理、後処理、ネットワークモデルの入出力を確認\n",
        "\n",
        "2.　Datasetの作成\n",
        "\n",
        "3.　DataLoaderの作成\n",
        "\n",
        "4.　ネットワークモデルの作成\n",
        "\n",
        "5.　順伝搬（forward）の定義\n",
        "\n",
        "6.　損失関数の定義\n",
        "\n",
        "7.　最適化手法の設定\n",
        "\n",
        "8.　学習・検証の実施\n",
        "\n",
        "9.　テストデータで推論"
      ],
      "metadata": {
        "id": "vcaZmfdwnZNv"
      }
    },
    {
      "cell_type": "markdown",
      "source": [
        "####PyTorchを用いた学習(画像分類)の基本手順\n",
        "\n",
        "1. データを準備: Dataset、Dataloaderを作成\n",
        "1. Modelの定義\n",
        "1. 損失関数と最適化関数の定義\n",
        "1. 学習\n",
        "1. テスト\n",
        "\n",
        "参考:\n",
        "https://pytorch.org/tutorials/beginner/blitz/cifar10_tutorial.html\n"
      ],
      "metadata": {
        "id": "yBcWzW0sRY5I"
      }
    },
    {
      "cell_type": "markdown",
      "source": [
        "#### 0.GPU\n",
        "\n",
        "GPUを設定"
      ],
      "metadata": {
        "id": "7tHdsKFFWXkh"
      }
    },
    {
      "cell_type": "markdown",
      "source": [
        "#### 1.データを準備: Dataset、Dataloaderを作成\n",
        "\n",
        "学習するための画像データ（CIFAR10）\n",
        "10のクラス、データ数は6万枚\n",
        "1. 5万枚の訓練データ用（画像とラベル）\n",
        "1. 1万枚のテストデータ用（画像とラベル）\n"
      ],
      "metadata": {
        "id": "NDTjaEmvV9AX"
      }
    },
    {
      "cell_type": "markdown",
      "source": [
        "##### 1-1.データダウンロードとDataset、Dataloaderを作成"
      ],
      "metadata": {
        "id": "GQRkshJcJAIH"
      }
    },
    {
      "cell_type": "code",
      "execution_count": null,
      "metadata": {
        "id": "BeaKvNWfxpNu",
        "colab": {
          "base_uri": "https://localhost:8080/"
        },
        "outputId": "2a7cf370-f0f0-4fb2-c79b-d85c77030fbd"
      },
      "outputs": [
        {
          "output_type": "stream",
          "name": "stdout",
          "text": [
            "Downloading https://www.cs.toronto.edu/~kriz/cifar-10-python.tar.gz to ./data/cifar-10-python.tar.gz\n"
          ]
        },
        {
          "output_type": "stream",
          "name": "stderr",
          "text": [
            "100%|██████████| 170498071/170498071 [00:03<00:00, 43504782.66it/s]\n"
          ]
        },
        {
          "output_type": "stream",
          "name": "stdout",
          "text": [
            "Extracting ./data/cifar-10-python.tar.gz to ./data\n",
            "Files already downloaded and verified\n"
          ]
        }
      ],
      "source": [
        "import torch\n",
        "import torchvision\n",
        "import torchvision.transforms as transforms\n",
        "\n",
        "# データの前処理\n",
        "# chを1次元にしてTensor化 > 標準化\n",
        "transform = transforms.Compose(\n",
        "    [transforms.ToTensor(),\n",
        "     transforms.Normalize((0.5, 0.5, 0.5), (0.5, 0.5, 0.5))])\n",
        "\n",
        "# バッチサイズ\n",
        "batch_size = 4\n",
        "\n",
        "# DatasetとDataloader Pytorchでデータを管理\n",
        "## 訓練用データ\n",
        "trainset = torchvision.datasets.CIFAR10(root='./data', train=True,\n",
        "                                        download=True, transform=transform)\n",
        "trainloader = torch.utils.data.DataLoader(trainset, batch_size=batch_size,\n",
        "                                          shuffle=True, num_workers=2)\n",
        "# テスト用データ\n",
        "testset = torchvision.datasets.CIFAR10(root='./data', train=False,\n",
        "                                       download=True, transform=transform)\n",
        "testloader = torch.utils.data.DataLoader(testset, batch_size=batch_size,\n",
        "                                         shuffle=False, num_workers=2)\n",
        "\n",
        "# CIFAR10の10クラス\n",
        "classes = ('plane', 'car', 'bird', 'cat',\n",
        "           'deer', 'dog', 'frog', 'horse', 'ship', 'truck')"
      ]
    },
    {
      "cell_type": "markdown",
      "source": [
        "##### 1-2.補足 transformについて  \n",
        "\n",
        "3と4の処理によって、高精度、高速な学習が可能\n",
        "\n",
        "1.pytorchでは画像データを(色のch, 高さ, 幅)で取り扱うので、次元の入れ替え\n",
        "\n",
        "2.numpy.ndarrayをTensor化\n",
        "\n",
        "3.各RGBの0〜255の値を255で割って[0, 1] の値にする(正規化)\n",
        "\n",
        "4.標準化の式を使って計算(平均：0.5　標準偏差:0.5)。[0, 1] の範囲の値を [-1, 1]にする\n",
        "\n",
        "$$ 標準化の式 = \\frac{x-平均}{標準偏差} $$"
      ],
      "metadata": {
        "id": "Jd3QA_AbFvKo"
      }
    },
    {
      "cell_type": "code",
      "source": [
        "# サンプル画像の取得\n",
        "!wget https://itoishoukai.com/od_course/sample.jpg"
      ],
      "metadata": {
        "colab": {
          "base_uri": "https://localhost:8080/"
        },
        "id": "385ONqo9FwbF",
        "outputId": "7ee9d24b-e50a-4ace-8f03-a1a8fecd34b8"
      },
      "execution_count": null,
      "outputs": [
        {
          "output_type": "stream",
          "name": "stdout",
          "text": [
            "--2024-08-10 05:15:59--  https://itoishoukai.com/od_course/sample.jpg\n",
            "Resolving itoishoukai.com (itoishoukai.com)... 183.181.96.115\n",
            "Connecting to itoishoukai.com (itoishoukai.com)|183.181.96.115|:443... connected.\n",
            "HTTP request sent, awaiting response... 200 OK\n",
            "Length: 49506 (48K) [image/jpeg]\n",
            "Saving to: ‘sample.jpg’\n",
            "\n",
            "sample.jpg          100%[===================>]  48.35K  --.-KB/s    in 0.1s    \n",
            "\n",
            "2024-08-10 05:16:00 (428 KB/s) - ‘sample.jpg’ saved [49506/49506]\n",
            "\n"
          ]
        }
      ]
    },
    {
      "cell_type": "code",
      "source": [
        "import cv2\n",
        "img = cv2.imread(\"sample.jpg\")\n",
        "img_trans = transform(img)"
      ],
      "metadata": {
        "id": "Uhf9v178FyZZ"
      },
      "execution_count": null,
      "outputs": []
    },
    {
      "cell_type": "markdown",
      "source": [
        "1,2つ目の確認。Tensorになって、chが1次元目に来ていることがわかります。"
      ],
      "metadata": {
        "id": "plwRy8zmHx74"
      }
    },
    {
      "cell_type": "code",
      "source": [
        "print(type(img_trans))\n",
        "print(img_trans.shape)"
      ],
      "metadata": {
        "colab": {
          "base_uri": "https://localhost:8080/"
        },
        "id": "3DAN__M-F-Vu",
        "outputId": "17532446-5bf8-4754-e2c0-d8226f9d8412"
      },
      "execution_count": null,
      "outputs": [
        {
          "output_type": "stream",
          "name": "stdout",
          "text": [
            "<class 'torch.Tensor'>\n",
            "torch.Size([3, 640, 613])\n"
          ]
        }
      ]
    },
    {
      "cell_type": "markdown",
      "source": [
        "3つ目の確認\n",
        "\n",
        "(高さ, 幅, 色のch) = (300, 300, 0)  \n",
        "(色のch, 高さ, 幅) = (0, 300, 300)  \n",
        "で確認します。"
      ],
      "metadata": {
        "id": "cxrc6tLyH9Ry"
      }
    },
    {
      "cell_type": "code",
      "source": [
        "print(\"元の数値 = \", img[300,300,0])\n",
        "print(\"(元の数値/255-平均0.5) / 標準偏差0.5 = \", (img[300,300,0]/255 - 0.5)/ 0.5)\n",
        "print(\"transformした後の数値 = \", img_trans[0, 300, 300])"
      ],
      "metadata": {
        "colab": {
          "base_uri": "https://localhost:8080/"
        },
        "id": "690Y25nXG7PG",
        "outputId": "ea5631da-564a-43fb-843a-9d0bad6dbfc2"
      },
      "execution_count": null,
      "outputs": [
        {
          "output_type": "stream",
          "name": "stdout",
          "text": [
            "元の数値 =  160\n",
            "(元の数値/255-平均0.5) / 標準偏差0.5 =  0.2549019607843137\n",
            "transformした後の数値 =  tensor(0.2549)\n"
          ]
        }
      ]
    },
    {
      "cell_type": "code",
      "source": [
        "print(\"最小\", torch.min(img_trans))\n",
        "print(\"最大\", torch.max(img_trans))"
      ],
      "metadata": {
        "colab": {
          "base_uri": "https://localhost:8080/"
        },
        "id": "XsrR3JnCLFNS",
        "outputId": "bd2be642-f4be-4555-bb8b-7dbe826516ec"
      },
      "execution_count": null,
      "outputs": [
        {
          "output_type": "stream",
          "name": "stdout",
          "text": [
            "最小 tensor(-1.)\n",
            "最大 tensor(1.)\n"
          ]
        }
      ]
    },
    {
      "cell_type": "markdown",
      "source": [
        "##### 1-3.画像データを確認"
      ],
      "metadata": {
        "id": "AX_MEvGvYt6W"
      }
    },
    {
      "cell_type": "code",
      "source": [
        "import matplotlib.pyplot as plt\n",
        "import numpy as np\n",
        "\n",
        "# 画像表示用の関数\n",
        "def imshow(img):\n",
        "    img = img / 2 + 0.5     # [-1, 1]にされていたものを[0, 1]の値に戻す\n",
        "    npimg = img.numpy()\n",
        "    plt.imshow(np.transpose(npimg, (1, 2, 0)))\n",
        "    plt.show()\n",
        "\n",
        "\n",
        "# trainloderからデータのサンプルを取得\n",
        "dataiter = iter(trainloader)\n",
        "images, labels = next(dataiter)\n",
        "\n",
        "# 画像の表示\n",
        "imshow(torchvision.utils.make_grid(images))\n",
        "# ラベルの表示\n",
        "print(' '.join(f'{classes[labels[j]]:5s}' for j in range(batch_size)))"
      ],
      "metadata": {
        "colab": {
          "base_uri": "https://localhost:8080/",
          "height": 211
        },
        "id": "E8zozCsAXdUj",
        "outputId": "8e7a9e4b-446d-4907-8dcf-e9e5a9d4d42b"
      },
      "execution_count": null,
      "outputs": [
        {
          "output_type": "display_data",
          "data": {
            "text/plain": [
              "<Figure size 640x480 with 1 Axes>"
            ],
            "image/png": "[encoded data removed]"
          },
          "metadata": {}
        },
        {
          "output_type": "stream",
          "name": "stdout",
          "text": [
            "plane deer  truck plane\n"
          ]
        }
      ]
    },
    {
      "cell_type": "code",
      "source": [
        "print(\"学習用：\", len(trainset))\n",
        "print(\"評価用：\", len(testset))"
      ],
      "metadata": {
        "colab": {
          "base_uri": "https://localhost:8080/"
        },
        "id": "ucSXefRzbBQd",
        "outputId": "a67a3f79-ccc2-4e9d-d3ec-65ef706ce29e"
      },
      "execution_count": null,
      "outputs": [
        {
          "output_type": "stream",
          "name": "stdout",
          "text": [
            "学習用： 50000\n",
            "評価用： 10000\n"
          ]
        }
      ]
    },
    {
      "cell_type": "markdown",
      "source": [
        "#### 2.Modelの定義\n",
        "* 学習に使うモデルを定義\n",
        "* 代表的なモデル「Resnet34」を選択"
      ],
      "metadata": {
        "id": "FlaZ2Bevce6X"
      }
    },
    {
      "cell_type": "code",
      "source": [
        "import torch.nn as nn\n",
        "import torch.nn.functional as F\n",
        "\n",
        "# AIモデル\n",
        "class Net(nn.Module):\n",
        "\n",
        "    # モデルで使うパーツを決める\n",
        "    def __init__(self):\n",
        "        super().__init__()\n",
        "        self.conv1 = nn.Conv2d(3, 6, 5)\n",
        "        self.pool = nn.MaxPool2d(2, 2)\n",
        "        self.conv2 = nn.Conv2d(6, 16, 5)\n",
        "        self.fc1 = nn.Linear(16 * 5 * 5, 120)\n",
        "        self.fc2 = nn.Linear(120, 84)\n",
        "        self.fc3 = nn.Linear(84, 10)\n",
        "\n",
        "    # xに画像が入り、上記で宣言した処理のパーツが実行される\n",
        "    def forward(self, x):\n",
        "        x = self.pool(F.relu(self.conv1(x)))\n",
        "        x = self.pool(F.relu(self.conv2(x)))\n",
        "        x = torch.flatten(x, 1) # flatten all dimensions except batch\n",
        "        x = F.relu(self.fc1(x))\n",
        "        x = F.relu(self.fc2(x))\n",
        "        x = self.fc3(x)\n",
        "        return x\n",
        "\n",
        "# AIを宣言\n",
        "net = Net()"
      ],
      "metadata": {
        "id": "UQ67nSHYdNGl"
      },
      "execution_count": null,
      "outputs": []
    },
    {
      "cell_type": "markdown",
      "source": [
        "#### 3.損失関数と最適化関数の定義\n",
        "* AIがどのように学習するかを決めます。\n",
        "* criterionが損失関数、optimizerが最適化関数を定義  \n",
        "* AIの学習では、正解とAIの予測結果を比較してうまくいってるか数値として表します。  \n",
        "* 損失関数はその数値を表したもの、最適化関数はどうやってその数値を小さくするかの方法です。"
      ],
      "metadata": {
        "id": "BBdp_F3jdnYo"
      }
    },
    {
      "cell_type": "code",
      "source": [
        "import torch.optim as optim\n",
        "# 損失関数 クロスエントロピーロスは多クラス分類で使う損失\n",
        "criterion = nn.CrossEntropyLoss()\n",
        "# 最適化関数 SGDかAdamが使われることが多い\n",
        "optimizer = optim.SGD(net.parameters(), lr=0.001, momentum=0.9)"
      ],
      "metadata": {
        "id": "BntGfWgndnIK"
      },
      "execution_count": null,
      "outputs": []
    },
    {
      "cell_type": "markdown",
      "source": [
        "最適化関数の種類(SGD,Adam)や学習率(lr)は精度Upを模索するために人が調整するパラメータ（ハイパーパラメータ）になります。"
      ],
      "metadata": {
        "id": "FJOAg7C-PaGc"
      }
    },
    {
      "cell_type": "markdown",
      "source": [
        "#### 4.学習\n",
        "\n",
        "1. Dataloaderよりデータをバッチ単位（小分け）で取得\n",
        "1. 学習時に計算している勾配という値をゼロにしておく\n",
        "1. 学習処理\n",
        "1. 結果を確認しながら指定エポック数（学習回数）繰り返す"
      ],
      "metadata": {
        "id": "XDdv3XxzfA1Z"
      }
    },
    {
      "cell_type": "code",
      "source": [
        "for epoch in range(2):  # 1つのデータセットを決められた回数分繰り返す\n",
        "\n",
        "    running_loss = 0.0\n",
        "    for i, data in enumerate(trainloader, 0):\n",
        "        # データを取得\n",
        "        inputs, labels = data\n",
        "\n",
        "        # 勾配をゼロにする\n",
        "        optimizer.zero_grad()\n",
        "\n",
        "        # 学習（forward + backward + optimize）\n",
        "        outputs = net(inputs)\n",
        "        loss = criterion(outputs, labels)\n",
        "        loss.backward()\n",
        "        optimizer.step()\n",
        "\n",
        "        # 結果を表示\n",
        "        running_loss += loss.item()\n",
        "        if i % 2000 == 1999:    # print every 2000 mini-batches\n",
        "            print(f'[{epoch + 1}, {i + 1:5d}] loss: {running_loss / 2000:.3f}')\n",
        "            running_loss = 0.0\n",
        "\n",
        "print('Finished Training')"
      ],
      "metadata": {
        "colab": {
          "base_uri": "https://localhost:8080/"
        },
        "id": "KZg8swqVfBIK",
        "outputId": "89dbdefd-ed29-4248-a7ba-3b2437e82874"
      },
      "execution_count": null,
      "outputs": [
        {
          "output_type": "stream",
          "name": "stdout",
          "text": [
            "[1,  2000] loss: 2.200\n",
            "[1,  4000] loss: 1.863\n",
            "[1,  6000] loss: 1.700\n",
            "[1,  8000] loss: 1.609\n",
            "[1, 10000] loss: 1.550\n",
            "[1, 12000] loss: 1.503\n",
            "[2,  2000] loss: 1.420\n",
            "[2,  4000] loss: 1.404\n",
            "[2,  6000] loss: 1.383\n",
            "[2,  8000] loss: 1.347\n",
            "[2, 10000] loss: 1.329\n",
            "[2, 12000] loss: 1.277\n",
            "Finished Training\n"
          ]
        }
      ]
    },
    {
      "cell_type": "markdown",
      "source": [
        "学習結果を保存"
      ],
      "metadata": {
        "id": "6AG9tHkxao72"
      }
    },
    {
      "cell_type": "code",
      "source": [
        "PATH = './cifar_net.pth'\n",
        "torch.save(net.state_dict(), PATH)"
      ],
      "metadata": {
        "id": "SRE0K55aannv"
      },
      "execution_count": null,
      "outputs": []
    },
    {
      "cell_type": "markdown",
      "source": [
        "#### 5.テスト\n",
        "* テスト用データでAIの学習した成果を確認"
      ],
      "metadata": {
        "id": "2td6vLsGYz0N"
      }
    },
    {
      "cell_type": "code",
      "source": [
        "dataiter = iter(testloader)\n",
        "images, labels = next(dataiter)\n",
        "\n",
        "# print images\n",
        "imshow(torchvision.utils.make_grid(images))\n",
        "print('GroundTruth: ', ' '.join(f'{classes[labels[j]]:5s}' for j in range(4)))"
      ],
      "metadata": {
        "colab": {
          "base_uri": "https://localhost:8080/",
          "height": 211
        },
        "id": "J5HztVBGYzBe",
        "outputId": "bf4cd0c9-6eb7-423c-fbb0-8f11da2b5023"
      },
      "execution_count": null,
      "outputs": [
        {
          "output_type": "display_data",
          "data": {
            "text/plain": [
              "<Figure size 640x480 with 1 Axes>"
            ],
            "image/png": "[encoded data removed]"
          },
          "metadata": {}
        },
        {
          "output_type": "stream",
          "name": "stdout",
          "text": [
            "GroundTruth:  cat   ship  ship  plane\n"
          ]
        }
      ]
    },
    {
      "cell_type": "markdown",
      "source": [
        "先程保存した学習済のAIの結果を読み込む"
      ],
      "metadata": {
        "id": "LUngblUma65W"
      }
    },
    {
      "cell_type": "code",
      "source": [
        "net = Net()\n",
        "net.load_state_dict(torch.load(PATH))"
      ],
      "metadata": {
        "colab": {
          "base_uri": "https://localhost:8080/"
        },
        "id": "uHTfWcYwaBhj",
        "outputId": "8e23ffc7-0103-4d67-e35e-9d2b48b93f47"
      },
      "execution_count": null,
      "outputs": [
        {
          "output_type": "execute_result",
          "data": {
            "text/plain": [
              "<All keys matched successfully>"
            ]
          },
          "metadata": {},
          "execution_count": 14
        }
      ]
    },
    {
      "cell_type": "markdown",
      "source": [
        "AIを用い4つの画像を予測"
      ],
      "metadata": {
        "id": "pTXYVoIybJ5B"
      }
    },
    {
      "cell_type": "code",
      "source": [
        "outputs = net(images)"
      ],
      "metadata": {
        "id": "K5uzyxbhaYGx"
      },
      "execution_count": null,
      "outputs": []
    },
    {
      "cell_type": "markdown",
      "source": [
        "AIが出力したoutputs(予測結果)で一番確率が高いものを採用"
      ],
      "metadata": {
        "id": "BWEem5Q6bOKs"
      }
    },
    {
      "cell_type": "code",
      "source": [
        "_, predicted = torch.max(outputs, 1)\n",
        "\n",
        "print('Predicted: ', ' '.join(f'{classes[predicted[j]]:5s}' for j in range(4)))"
      ],
      "metadata": {
        "colab": {
          "base_uri": "https://localhost:8080/"
        },
        "id": "h825-2QDagKI",
        "outputId": "cf1a8dca-7f59-4062-e0b9-e36a4507eeda"
      },
      "execution_count": null,
      "outputs": [
        {
          "output_type": "stream",
          "name": "stdout",
          "text": [
            "Predicted:  cat   car   car   ship \n"
          ]
        }
      ]
    },
    {
      "cell_type": "markdown",
      "source": [
        "最後にすべてのテストデータを用いてどれくらいの精度で予測できるかを確認"
      ],
      "metadata": {
        "id": "cpKgziNHbnv8"
      }
    },
    {
      "cell_type": "code",
      "source": [
        "correct = 0\n",
        "total = 0\n",
        "\n",
        "# 学習の時以外は勾配の計算は不要なのでOFF\n",
        "with torch.no_grad():\n",
        "    for data in testloader:\n",
        "        images, labels = data\n",
        "        # AIが予測\n",
        "        outputs = net(images)\n",
        "        # 予測確率が一番高いものを採用し精度を算出\n",
        "        _, predicted = torch.max(outputs.data, 1)\n",
        "        total += labels.size(0)\n",
        "        correct += (predicted == labels).sum().item()\n",
        "\n",
        "print(f'Accuracy of the network on the 10000 test images: {100 * correct // total} %')"
      ],
      "metadata": {
        "colab": {
          "base_uri": "https://localhost:8080/"
        },
        "id": "xVVFC9hhaf10",
        "outputId": "36ecf0e9-bba3-49d8-f9c4-e7cd13cd8084"
      },
      "execution_count": null,
      "outputs": [
        {
          "output_type": "stream",
          "name": "stdout",
          "text": [
            "Accuracy of the network on the 10000 test images: 52 %\n"
          ]
        }
      ]
    }
  ]
}