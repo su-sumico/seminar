{
  "cells": [
    {
      "cell_type": "markdown",
      "metadata": {
        "id": "view-in-github",
        "colab_type": "text"
      },
      "source": [
        "<a href=\"https://colab.research.google.com/github/su-sumico/seminar/blob/main/zonal_stats.ipynb\" target=\"_parent\"><img src=\"https://colab.research.google.com/assets/colab-badge.svg\" alt=\"Open In Colab\"/></a>"
      ]
    },
    {
      "cell_type": "markdown",
      "id": "0",
      "metadata": {
        "id": "0"
      },
      "source": [
        "* ゾーン統計の計算 - 地理空間ラスターデータセットをベクトル形状に基づいて要約\n",
        "* Calculating zonal statistics - summarizing geospatial raster datasets based on vector geometries"
      ]
    },
    {
      "cell_type": "code",
      "execution_count": 1,
      "id": "1",
      "metadata": {
        "id": "1",
        "colab": {
          "base_uri": "https://localhost:8080/"
        },
        "outputId": "6abcc6f2-7efb-4f9f-95c5-0e62e3a35ae3"
      },
      "outputs": [
        {
          "output_type": "stream",
          "name": "stdout",
          "text": [
            "Collecting leafmap\n",
            "  Downloading leafmap-0.32.1-py2.py3-none-any.whl (1.8 MB)\n",
            "\u001b[?25l     \u001b[90m━━━━━━━━━━━━━━━━━━━━━━━━━━━━━━━━━━━━━━━━\u001b[0m \u001b[32m0.0/1.8 MB\u001b[0m \u001b[31m?\u001b[0m eta \u001b[36m-:--:--\u001b[0m\r\u001b[2K     \u001b[91m━━━\u001b[0m\u001b[90m╺\u001b[0m\u001b[90m━━━━━━━━━━━━━━━━━━━━━━━━━━━━━━━━━━━━\u001b[0m \u001b[32m0.1/1.8 MB\u001b[0m \u001b[31m3.8 MB/s\u001b[0m eta \u001b[36m0:00:01\u001b[0m\r\u001b[2K     \u001b[91m━━━━━━━━━━━━━━━━━━━━━━━\u001b[0m\u001b[90m╺\u001b[0m\u001b[90m━━━━━━━━━━━━━━━━\u001b[0m \u001b[32m1.1/1.8 MB\u001b[0m \u001b[31m14.8 MB/s\u001b[0m eta \u001b[36m0:00:01\u001b[0m\r\u001b[2K     \u001b[91m━━━━━━━━━━━━━━━━━━━━━━━━━━━━━━━━━━━━━━━\u001b[0m\u001b[91m╸\u001b[0m \u001b[32m1.8/1.8 MB\u001b[0m \u001b[31m21.6 MB/s\u001b[0m eta \u001b[36m0:00:01\u001b[0m\r\u001b[2K     \u001b[90m━━━━━━━━━━━━━━━━━━━━━━━━━━━━━━━━━━━━━━━━\u001b[0m \u001b[32m1.8/1.8 MB\u001b[0m \u001b[31m16.3 MB/s\u001b[0m eta \u001b[36m0:00:00\u001b[0m\n",
            "\u001b[?25hRequirement already satisfied: bqplot in /usr/local/lib/python3.10/dist-packages (from leafmap) (0.12.43)\n",
            "Requirement already satisfied: colour in /usr/local/lib/python3.10/dist-packages (from leafmap) (0.1.5)\n",
            "Requirement already satisfied: duckdb in /usr/local/lib/python3.10/dist-packages (from leafmap) (0.10.2)\n",
            "Requirement already satisfied: folium in /usr/local/lib/python3.10/dist-packages (from leafmap) (0.14.0)\n",
            "Requirement already satisfied: gdown in /usr/local/lib/python3.10/dist-packages (from leafmap) (5.1.0)\n",
            "Collecting geojson (from leafmap)\n",
            "  Downloading geojson-3.1.0-py3-none-any.whl (15 kB)\n",
            "Requirement already satisfied: ipyevents in /usr/local/lib/python3.10/dist-packages (from leafmap) (2.0.2)\n",
            "Requirement already satisfied: ipyfilechooser in /usr/local/lib/python3.10/dist-packages (from leafmap) (0.6.0)\n",
            "Requirement already satisfied: ipyleaflet in /usr/local/lib/python3.10/dist-packages (from leafmap) (0.18.2)\n",
            "Requirement already satisfied: ipywidgets in /usr/local/lib/python3.10/dist-packages (from leafmap) (7.7.1)\n",
            "Requirement already satisfied: matplotlib in /usr/local/lib/python3.10/dist-packages (from leafmap) (3.7.1)\n",
            "Requirement already satisfied: numpy in /usr/local/lib/python3.10/dist-packages (from leafmap) (1.25.2)\n",
            "Requirement already satisfied: pandas in /usr/local/lib/python3.10/dist-packages (from leafmap) (2.0.3)\n",
            "Requirement already satisfied: plotly in /usr/local/lib/python3.10/dist-packages (from leafmap) (5.15.0)\n",
            "Requirement already satisfied: pyshp in /usr/local/lib/python3.10/dist-packages (from leafmap) (2.3.1)\n",
            "Collecting pystac-client (from leafmap)\n",
            "  Downloading pystac_client-0.8.1-py3-none-any.whl (33 kB)\n",
            "Requirement already satisfied: python-box in /usr/local/lib/python3.10/dist-packages (from leafmap) (7.1.1)\n",
            "Requirement already satisfied: scooby in /usr/local/lib/python3.10/dist-packages (from leafmap) (0.10.0)\n",
            "Collecting whiteboxgui (from leafmap)\n",
            "  Downloading whiteboxgui-2.3.0-py2.py3-none-any.whl (108 kB)\n",
            "\u001b[2K     \u001b[90m━━━━━━━━━━━━━━━━━━━━━━━━━━━━━━━━━━━━━━━━\u001b[0m \u001b[32m108.6/108.6 kB\u001b[0m \u001b[31m10.2 MB/s\u001b[0m eta \u001b[36m0:00:00\u001b[0m\n",
            "\u001b[?25hRequirement already satisfied: xyzservices in /usr/local/lib/python3.10/dist-packages (from leafmap) (2024.4.0)\n",
            "Requirement already satisfied: traitlets>=4.3.0 in /usr/local/lib/python3.10/dist-packages (from bqplot->leafmap) (5.7.1)\n",
            "Requirement already satisfied: traittypes>=0.0.6 in /usr/local/lib/python3.10/dist-packages (from bqplot->leafmap) (0.2.1)\n",
            "Requirement already satisfied: ipykernel>=4.5.1 in /usr/local/lib/python3.10/dist-packages (from ipywidgets->leafmap) (5.5.6)\n",
            "Requirement already satisfied: ipython-genutils~=0.2.0 in /usr/local/lib/python3.10/dist-packages (from ipywidgets->leafmap) (0.2.0)\n",
            "Requirement already satisfied: widgetsnbextension~=3.6.0 in /usr/local/lib/python3.10/dist-packages (from ipywidgets->leafmap) (3.6.6)\n",
            "Requirement already satisfied: ipython>=4.0.0 in /usr/local/lib/python3.10/dist-packages (from ipywidgets->leafmap) (7.34.0)\n",
            "Requirement already satisfied: jupyterlab-widgets>=1.0.0 in /usr/local/lib/python3.10/dist-packages (from ipywidgets->leafmap) (3.0.10)\n",
            "Requirement already satisfied: python-dateutil>=2.8.2 in /usr/local/lib/python3.10/dist-packages (from pandas->leafmap) (2.8.2)\n",
            "Requirement already satisfied: pytz>=2020.1 in /usr/local/lib/python3.10/dist-packages (from pandas->leafmap) (2023.4)\n",
            "Requirement already satisfied: tzdata>=2022.1 in /usr/local/lib/python3.10/dist-packages (from pandas->leafmap) (2024.1)\n",
            "Requirement already satisfied: branca>=0.6.0 in /usr/local/lib/python3.10/dist-packages (from folium->leafmap) (0.7.2)\n",
            "Requirement already satisfied: jinja2>=2.9 in /usr/local/lib/python3.10/dist-packages (from folium->leafmap) (3.1.4)\n",
            "Requirement already satisfied: requests in /usr/local/lib/python3.10/dist-packages (from folium->leafmap) (2.31.0)\n",
            "Requirement already satisfied: beautifulsoup4 in /usr/local/lib/python3.10/dist-packages (from gdown->leafmap) (4.12.3)\n",
            "Requirement already satisfied: filelock in /usr/local/lib/python3.10/dist-packages (from gdown->leafmap) (3.14.0)\n",
            "Requirement already satisfied: tqdm in /usr/local/lib/python3.10/dist-packages (from gdown->leafmap) (4.66.4)\n",
            "Requirement already satisfied: contourpy>=1.0.1 in /usr/local/lib/python3.10/dist-packages (from matplotlib->leafmap) (1.2.1)\n",
            "Requirement already satisfied: cycler>=0.10 in /usr/local/lib/python3.10/dist-packages (from matplotlib->leafmap) (0.12.1)\n",
            "Requirement already satisfied: fonttools>=4.22.0 in /usr/local/lib/python3.10/dist-packages (from matplotlib->leafmap) (4.51.0)\n",
            "Requirement already satisfied: kiwisolver>=1.0.1 in /usr/local/lib/python3.10/dist-packages (from matplotlib->leafmap) (1.4.5)\n",
            "Requirement already satisfied: packaging>=20.0 in /usr/local/lib/python3.10/dist-packages (from matplotlib->leafmap) (24.0)\n",
            "Requirement already satisfied: pillow>=6.2.0 in /usr/local/lib/python3.10/dist-packages (from matplotlib->leafmap) (9.4.0)\n",
            "Requirement already satisfied: pyparsing>=2.3.1 in /usr/local/lib/python3.10/dist-packages (from matplotlib->leafmap) (3.1.2)\n",
            "Requirement already satisfied: tenacity>=6.2.0 in /usr/local/lib/python3.10/dist-packages (from plotly->leafmap) (8.3.0)\n",
            "Collecting pystac[validation]>=1.10.0 (from pystac-client->leafmap)\n",
            "  Downloading pystac-1.10.1-py3-none-any.whl (182 kB)\n",
            "\u001b[2K     \u001b[90m━━━━━━━━━━━━━━━━━━━━━━━━━━━━━━━━━━━━━━━━\u001b[0m \u001b[32m182.9/182.9 kB\u001b[0m \u001b[31m15.6 MB/s\u001b[0m eta \u001b[36m0:00:00\u001b[0m\n",
            "\u001b[?25hRequirement already satisfied: ipytree in /usr/local/lib/python3.10/dist-packages (from whiteboxgui->leafmap) (0.2.2)\n",
            "Collecting whitebox (from whiteboxgui->leafmap)\n",
            "  Downloading whitebox-2.3.3-py2.py3-none-any.whl (72 kB)\n",
            "\u001b[2K     \u001b[90m━━━━━━━━━━━━━━━━━━━━━━━━━━━━━━━━━━━━━━━━\u001b[0m \u001b[32m72.3/72.3 kB\u001b[0m \u001b[31m4.7 MB/s\u001b[0m eta \u001b[36m0:00:00\u001b[0m\n",
            "\u001b[?25hRequirement already satisfied: jupyter-client in /usr/local/lib/python3.10/dist-packages (from ipykernel>=4.5.1->ipywidgets->leafmap) (6.1.12)\n",
            "Requirement already satisfied: tornado>=4.2 in /usr/local/lib/python3.10/dist-packages (from ipykernel>=4.5.1->ipywidgets->leafmap) (6.3.3)\n",
            "Requirement already satisfied: setuptools>=18.5 in /usr/local/lib/python3.10/dist-packages (from ipython>=4.0.0->ipywidgets->leafmap) (67.7.2)\n",
            "Collecting jedi>=0.16 (from ipython>=4.0.0->ipywidgets->leafmap)\n",
            "  Downloading jedi-0.19.1-py2.py3-none-any.whl (1.6 MB)\n",
            "\u001b[2K     \u001b[90m━━━━━━━━━━━━━━━━━━━━━━━━━━━━━━━━━━━━━━━━\u001b[0m \u001b[32m1.6/1.6 MB\u001b[0m \u001b[31m31.0 MB/s\u001b[0m eta \u001b[36m0:00:00\u001b[0m\n",
            "\u001b[?25hRequirement already satisfied: decorator in /usr/local/lib/python3.10/dist-packages (from ipython>=4.0.0->ipywidgets->leafmap) (4.4.2)\n",
            "Requirement already satisfied: pickleshare in /usr/local/lib/python3.10/dist-packages (from ipython>=4.0.0->ipywidgets->leafmap) (0.7.5)\n",
            "Requirement already satisfied: prompt-toolkit!=3.0.0,!=3.0.1,<3.1.0,>=2.0.0 in /usr/local/lib/python3.10/dist-packages (from ipython>=4.0.0->ipywidgets->leafmap) (3.0.43)\n",
            "Requirement already satisfied: pygments in /usr/local/lib/python3.10/dist-packages (from ipython>=4.0.0->ipywidgets->leafmap) (2.16.1)\n",
            "Requirement already satisfied: backcall in /usr/local/lib/python3.10/dist-packages (from ipython>=4.0.0->ipywidgets->leafmap) (0.2.0)\n",
            "Requirement already satisfied: matplotlib-inline in /usr/local/lib/python3.10/dist-packages (from ipython>=4.0.0->ipywidgets->leafmap) (0.1.7)\n",
            "Requirement already satisfied: pexpect>4.3 in /usr/local/lib/python3.10/dist-packages (from ipython>=4.0.0->ipywidgets->leafmap) (4.9.0)\n",
            "Requirement already satisfied: MarkupSafe>=2.0 in /usr/local/lib/python3.10/dist-packages (from jinja2>=2.9->folium->leafmap) (2.1.5)\n",
            "Requirement already satisfied: jsonschema~=4.18 in /usr/local/lib/python3.10/dist-packages (from pystac[validation]>=1.10.0->pystac-client->leafmap) (4.19.2)\n",
            "Requirement already satisfied: six>=1.5 in /usr/local/lib/python3.10/dist-packages (from python-dateutil>=2.8.2->pandas->leafmap) (1.16.0)\n",
            "Requirement already satisfied: charset-normalizer<4,>=2 in /usr/local/lib/python3.10/dist-packages (from requests->folium->leafmap) (3.3.2)\n",
            "Requirement already satisfied: idna<4,>=2.5 in /usr/local/lib/python3.10/dist-packages (from requests->folium->leafmap) (3.7)\n",
            "Requirement already satisfied: urllib3<3,>=1.21.1 in /usr/local/lib/python3.10/dist-packages (from requests->folium->leafmap) (2.0.7)\n",
            "Requirement already satisfied: certifi>=2017.4.17 in /usr/local/lib/python3.10/dist-packages (from requests->folium->leafmap) (2024.2.2)\n",
            "Requirement already satisfied: notebook>=4.4.1 in /usr/local/lib/python3.10/dist-packages (from widgetsnbextension~=3.6.0->ipywidgets->leafmap) (6.5.5)\n",
            "Requirement already satisfied: soupsieve>1.2 in /usr/local/lib/python3.10/dist-packages (from beautifulsoup4->gdown->leafmap) (2.5)\n",
            "Requirement already satisfied: PySocks!=1.5.7,>=1.5.6 in /usr/local/lib/python3.10/dist-packages (from requests->folium->leafmap) (1.7.1)\n",
            "Requirement already satisfied: Click>=6.0 in /usr/local/lib/python3.10/dist-packages (from whitebox->whiteboxgui->leafmap) (8.1.7)\n",
            "Requirement already satisfied: parso<0.9.0,>=0.8.3 in /usr/local/lib/python3.10/dist-packages (from jedi>=0.16->ipython>=4.0.0->ipywidgets->leafmap) (0.8.4)\n",
            "Requirement already satisfied: attrs>=22.2.0 in /usr/local/lib/python3.10/dist-packages (from jsonschema~=4.18->pystac[validation]>=1.10.0->pystac-client->leafmap) (23.2.0)\n",
            "Requirement already satisfied: jsonschema-specifications>=2023.03.6 in /usr/local/lib/python3.10/dist-packages (from jsonschema~=4.18->pystac[validation]>=1.10.0->pystac-client->leafmap) (2023.12.1)\n",
            "Requirement already satisfied: referencing>=0.28.4 in /usr/local/lib/python3.10/dist-packages (from jsonschema~=4.18->pystac[validation]>=1.10.0->pystac-client->leafmap) (0.35.1)\n",
            "Requirement already satisfied: rpds-py>=0.7.1 in /usr/local/lib/python3.10/dist-packages (from jsonschema~=4.18->pystac[validation]>=1.10.0->pystac-client->leafmap) (0.18.1)\n",
            "Requirement already satisfied: pyzmq<25,>=17 in /usr/local/lib/python3.10/dist-packages (from notebook>=4.4.1->widgetsnbextension~=3.6.0->ipywidgets->leafmap) (24.0.1)\n",
            "Requirement already satisfied: argon2-cffi in /usr/local/lib/python3.10/dist-packages (from notebook>=4.4.1->widgetsnbextension~=3.6.0->ipywidgets->leafmap) (23.1.0)\n",
            "Requirement already satisfied: jupyter-core>=4.6.1 in /usr/local/lib/python3.10/dist-packages (from notebook>=4.4.1->widgetsnbextension~=3.6.0->ipywidgets->leafmap) (5.7.2)\n",
            "Requirement already satisfied: nbformat in /usr/local/lib/python3.10/dist-packages (from notebook>=4.4.1->widgetsnbextension~=3.6.0->ipywidgets->leafmap) (5.10.4)\n",
            "Requirement already satisfied: nbconvert>=5 in /usr/local/lib/python3.10/dist-packages (from notebook>=4.4.1->widgetsnbextension~=3.6.0->ipywidgets->leafmap) (6.5.4)\n",
            "Requirement already satisfied: nest-asyncio>=1.5 in /usr/local/lib/python3.10/dist-packages (from notebook>=4.4.1->widgetsnbextension~=3.6.0->ipywidgets->leafmap) (1.6.0)\n",
            "Requirement already satisfied: Send2Trash>=1.8.0 in /usr/local/lib/python3.10/dist-packages (from notebook>=4.4.1->widgetsnbextension~=3.6.0->ipywidgets->leafmap) (1.8.3)\n",
            "Requirement already satisfied: terminado>=0.8.3 in /usr/local/lib/python3.10/dist-packages (from notebook>=4.4.1->widgetsnbextension~=3.6.0->ipywidgets->leafmap) (0.18.1)\n",
            "Requirement already satisfied: prometheus-client in /usr/local/lib/python3.10/dist-packages (from notebook>=4.4.1->widgetsnbextension~=3.6.0->ipywidgets->leafmap) (0.20.0)\n",
            "Requirement already satisfied: nbclassic>=0.4.7 in /usr/local/lib/python3.10/dist-packages (from notebook>=4.4.1->widgetsnbextension~=3.6.0->ipywidgets->leafmap) (1.0.0)\n",
            "Requirement already satisfied: ptyprocess>=0.5 in /usr/local/lib/python3.10/dist-packages (from pexpect>4.3->ipython>=4.0.0->ipywidgets->leafmap) (0.7.0)\n",
            "Requirement already satisfied: wcwidth in /usr/local/lib/python3.10/dist-packages (from prompt-toolkit!=3.0.0,!=3.0.1,<3.1.0,>=2.0.0->ipython>=4.0.0->ipywidgets->leafmap) (0.2.13)\n",
            "Requirement already satisfied: platformdirs>=2.5 in /usr/local/lib/python3.10/dist-packages (from jupyter-core>=4.6.1->notebook>=4.4.1->widgetsnbextension~=3.6.0->ipywidgets->leafmap) (4.2.2)\n",
            "Requirement already satisfied: jupyter-server>=1.8 in /usr/local/lib/python3.10/dist-packages (from nbclassic>=0.4.7->notebook>=4.4.1->widgetsnbextension~=3.6.0->ipywidgets->leafmap) (1.24.0)\n",
            "Requirement already satisfied: notebook-shim>=0.2.3 in /usr/local/lib/python3.10/dist-packages (from nbclassic>=0.4.7->notebook>=4.4.1->widgetsnbextension~=3.6.0->ipywidgets->leafmap) (0.2.4)\n",
            "Requirement already satisfied: lxml in /usr/local/lib/python3.10/dist-packages (from nbconvert>=5->notebook>=4.4.1->widgetsnbextension~=3.6.0->ipywidgets->leafmap) (4.9.4)\n",
            "Requirement already satisfied: bleach in /usr/local/lib/python3.10/dist-packages (from nbconvert>=5->notebook>=4.4.1->widgetsnbextension~=3.6.0->ipywidgets->leafmap) (6.1.0)\n",
            "Requirement already satisfied: defusedxml in /usr/local/lib/python3.10/dist-packages (from nbconvert>=5->notebook>=4.4.1->widgetsnbextension~=3.6.0->ipywidgets->leafmap) (0.7.1)\n",
            "Requirement already satisfied: entrypoints>=0.2.2 in /usr/local/lib/python3.10/dist-packages (from nbconvert>=5->notebook>=4.4.1->widgetsnbextension~=3.6.0->ipywidgets->leafmap) (0.4)\n",
            "Requirement already satisfied: jupyterlab-pygments in /usr/local/lib/python3.10/dist-packages (from nbconvert>=5->notebook>=4.4.1->widgetsnbextension~=3.6.0->ipywidgets->leafmap) (0.3.0)\n",
            "Requirement already satisfied: mistune<2,>=0.8.1 in /usr/local/lib/python3.10/dist-packages (from nbconvert>=5->notebook>=4.4.1->widgetsnbextension~=3.6.0->ipywidgets->leafmap) (0.8.4)\n",
            "Requirement already satisfied: nbclient>=0.5.0 in /usr/local/lib/python3.10/dist-packages (from nbconvert>=5->notebook>=4.4.1->widgetsnbextension~=3.6.0->ipywidgets->leafmap) (0.10.0)\n",
            "Requirement already satisfied: pandocfilters>=1.4.1 in /usr/local/lib/python3.10/dist-packages (from nbconvert>=5->notebook>=4.4.1->widgetsnbextension~=3.6.0->ipywidgets->leafmap) (1.5.1)\n",
            "Requirement already satisfied: tinycss2 in /usr/local/lib/python3.10/dist-packages (from nbconvert>=5->notebook>=4.4.1->widgetsnbextension~=3.6.0->ipywidgets->leafmap) (1.3.0)\n",
            "Requirement already satisfied: fastjsonschema>=2.15 in /usr/local/lib/python3.10/dist-packages (from nbformat->notebook>=4.4.1->widgetsnbextension~=3.6.0->ipywidgets->leafmap) (2.19.1)\n",
            "Requirement already satisfied: argon2-cffi-bindings in /usr/local/lib/python3.10/dist-packages (from argon2-cffi->notebook>=4.4.1->widgetsnbextension~=3.6.0->ipywidgets->leafmap) (21.2.0)\n",
            "Requirement already satisfied: anyio<4,>=3.1.0 in /usr/local/lib/python3.10/dist-packages (from jupyter-server>=1.8->nbclassic>=0.4.7->notebook>=4.4.1->widgetsnbextension~=3.6.0->ipywidgets->leafmap) (3.7.1)\n",
            "Requirement already satisfied: websocket-client in /usr/local/lib/python3.10/dist-packages (from jupyter-server>=1.8->nbclassic>=0.4.7->notebook>=4.4.1->widgetsnbextension~=3.6.0->ipywidgets->leafmap) (1.8.0)\n",
            "Requirement already satisfied: cffi>=1.0.1 in /usr/local/lib/python3.10/dist-packages (from argon2-cffi-bindings->argon2-cffi->notebook>=4.4.1->widgetsnbextension~=3.6.0->ipywidgets->leafmap) (1.16.0)\n",
            "Requirement already satisfied: webencodings in /usr/local/lib/python3.10/dist-packages (from bleach->nbconvert>=5->notebook>=4.4.1->widgetsnbextension~=3.6.0->ipywidgets->leafmap) (0.5.1)\n",
            "Requirement already satisfied: sniffio>=1.1 in /usr/local/lib/python3.10/dist-packages (from anyio<4,>=3.1.0->jupyter-server>=1.8->nbclassic>=0.4.7->notebook>=4.4.1->widgetsnbextension~=3.6.0->ipywidgets->leafmap) (1.3.1)\n",
            "Requirement already satisfied: exceptiongroup in /usr/local/lib/python3.10/dist-packages (from anyio<4,>=3.1.0->jupyter-server>=1.8->nbclassic>=0.4.7->notebook>=4.4.1->widgetsnbextension~=3.6.0->ipywidgets->leafmap) (1.2.1)\n",
            "Requirement already satisfied: pycparser in /usr/local/lib/python3.10/dist-packages (from cffi>=1.0.1->argon2-cffi-bindings->argon2-cffi->notebook>=4.4.1->widgetsnbextension~=3.6.0->ipywidgets->leafmap) (2.22)\n",
            "Installing collected packages: whitebox, jedi, geojson, pystac, pystac-client, whiteboxgui, leafmap\n",
            "Successfully installed geojson-3.1.0 jedi-0.19.1 leafmap-0.32.1 pystac-1.10.1 pystac-client-0.8.1 whitebox-2.3.3 whiteboxgui-2.3.0\n"
          ]
        }
      ],
      "source": [
        "%pip install -U leafmap"
      ]
    },
    {
      "cell_type": "code",
      "execution_count": 2,
      "id": "2",
      "metadata": {
        "id": "2",
        "colab": {
          "base_uri": "https://localhost:8080/"
        },
        "outputId": "e623f4e2-730b-4830-83c6-f6a9f3b1e41f"
      },
      "outputs": [
        {
          "output_type": "stream",
          "name": "stdout",
          "text": [
            "Collecting rasterstats\n",
            "  Downloading rasterstats-0.19.0-py3-none-any.whl (16 kB)\n",
            "Requirement already satisfied: geopandas in /usr/local/lib/python3.10/dist-packages (0.13.2)\n",
            "Collecting geopandas\n",
            "  Downloading geopandas-0.14.4-py3-none-any.whl (1.1 MB)\n",
            "\u001b[2K     \u001b[90m━━━━━━━━━━━━━━━━━━━━━━━━━━━━━━━━━━━━━━━━\u001b[0m \u001b[32m1.1/1.1 MB\u001b[0m \u001b[31m8.2 MB/s\u001b[0m eta \u001b[36m0:00:00\u001b[0m\n",
            "\u001b[?25hCollecting affine (from rasterstats)\n",
            "  Downloading affine-2.4.0-py3-none-any.whl (15 kB)\n",
            "Requirement already satisfied: click>7.1 in /usr/local/lib/python3.10/dist-packages (from rasterstats) (8.1.7)\n",
            "Requirement already satisfied: cligj>=0.4 in /usr/local/lib/python3.10/dist-packages (from rasterstats) (0.7.2)\n",
            "Requirement already satisfied: fiona in /usr/local/lib/python3.10/dist-packages (from rasterstats) (1.9.6)\n",
            "Requirement already satisfied: numpy>=1.9 in /usr/local/lib/python3.10/dist-packages (from rasterstats) (1.25.2)\n",
            "Collecting rasterio>=1.0 (from rasterstats)\n",
            "  Downloading rasterio-1.3.10-cp310-cp310-manylinux2014_x86_64.whl (21.5 MB)\n",
            "\u001b[2K     \u001b[90m━━━━━━━━━━━━━━━━━━━━━━━━━━━━━━━━━━━━━━━━\u001b[0m \u001b[32m21.5/21.5 MB\u001b[0m \u001b[31m28.5 MB/s\u001b[0m eta \u001b[36m0:00:00\u001b[0m\n",
            "\u001b[?25hCollecting simplejson (from rasterstats)\n",
            "  Downloading simplejson-3.19.2-cp310-cp310-manylinux_2_5_x86_64.manylinux1_x86_64.manylinux_2_17_x86_64.manylinux2014_x86_64.whl (137 kB)\n",
            "\u001b[2K     \u001b[90m━━━━━━━━━━━━━━━━━━━━━━━━━━━━━━━━━━━━━━━━\u001b[0m \u001b[32m137.9/137.9 kB\u001b[0m \u001b[31m12.9 MB/s\u001b[0m eta \u001b[36m0:00:00\u001b[0m\n",
            "\u001b[?25hRequirement already satisfied: shapely in /usr/local/lib/python3.10/dist-packages (from rasterstats) (2.0.4)\n",
            "Requirement already satisfied: packaging in /usr/local/lib/python3.10/dist-packages (from geopandas) (24.0)\n",
            "Requirement already satisfied: pandas>=1.4.0 in /usr/local/lib/python3.10/dist-packages (from geopandas) (2.0.3)\n",
            "Requirement already satisfied: pyproj>=3.3.0 in /usr/local/lib/python3.10/dist-packages (from geopandas) (3.6.1)\n",
            "Requirement already satisfied: attrs>=19.2.0 in /usr/local/lib/python3.10/dist-packages (from fiona->rasterstats) (23.2.0)\n",
            "Requirement already satisfied: certifi in /usr/local/lib/python3.10/dist-packages (from fiona->rasterstats) (2024.2.2)\n",
            "Requirement already satisfied: click-plugins>=1.0 in /usr/local/lib/python3.10/dist-packages (from fiona->rasterstats) (1.1.1)\n",
            "Requirement already satisfied: six in /usr/local/lib/python3.10/dist-packages (from fiona->rasterstats) (1.16.0)\n",
            "Requirement already satisfied: python-dateutil>=2.8.2 in /usr/local/lib/python3.10/dist-packages (from pandas>=1.4.0->geopandas) (2.8.2)\n",
            "Requirement already satisfied: pytz>=2020.1 in /usr/local/lib/python3.10/dist-packages (from pandas>=1.4.0->geopandas) (2023.4)\n",
            "Requirement already satisfied: tzdata>=2022.1 in /usr/local/lib/python3.10/dist-packages (from pandas>=1.4.0->geopandas) (2024.1)\n",
            "Collecting snuggs>=1.4.1 (from rasterio>=1.0->rasterstats)\n",
            "  Downloading snuggs-1.4.7-py3-none-any.whl (5.4 kB)\n",
            "Requirement already satisfied: setuptools in /usr/local/lib/python3.10/dist-packages (from rasterio>=1.0->rasterstats) (67.7.2)\n",
            "Requirement already satisfied: pyparsing>=2.1.6 in /usr/local/lib/python3.10/dist-packages (from snuggs>=1.4.1->rasterio>=1.0->rasterstats) (3.1.2)\n",
            "Installing collected packages: snuggs, simplejson, affine, rasterio, rasterstats, geopandas\n",
            "  Attempting uninstall: geopandas\n",
            "    Found existing installation: geopandas 0.13.2\n",
            "    Uninstalling geopandas-0.13.2:\n",
            "      Successfully uninstalled geopandas-0.13.2\n",
            "Successfully installed affine-2.4.0 geopandas-0.14.4 rasterio-1.3.10 rasterstats-0.19.0 simplejson-3.19.2 snuggs-1.4.7\n"
          ]
        }
      ],
      "source": [
        "%pip install -U rasterstats geopandas"
      ]
    },
    {
      "cell_type": "code",
      "execution_count": 3,
      "id": "3",
      "metadata": {
        "id": "3"
      },
      "outputs": [],
      "source": [
        "import leafmap\n",
        "import geopandas as gpd"
      ]
    },
    {
      "cell_type": "code",
      "execution_count": 4,
      "id": "4",
      "metadata": {
        "id": "4"
      },
      "outputs": [],
      "source": [
        "dsm = \"https://open.gishub.org/data/elevation/dsm.tif\"\n",
        "hag = \"https://open.gishub.org/data/elevation/hag.tif\"\n",
        "buildings = \"https://open.gishub.org/data/elevation/buildings.geojson\""
      ]
    },
    {
      "cell_type": "code",
      "execution_count": 5,
      "id": "5",
      "metadata": {
        "id": "5",
        "colab": {
          "base_uri": "https://localhost:8080/",
          "height": 621,
          "referenced_widgets": [
            "9868faf2af77488aa7d0dbadd41acc18",
            "1b4e50150fc940a881b416d692e9dd6e",
            "611ee5ae03484b7ab4623a6504cb03b2",
            "fd830322216e4561a9709ce6f0413cf8",
            "9374f02db2ca4dc5a560718faa92b15e",
            "5850ada2a470401d983ff8a8a4ebb98a",
            "84f30a43e3ba4aa9b041a22ad313dbea",
            "6c5aba1431a0436f9c0fb57750628418",
            "3c91fd20abed4779bc5842d755e4c253",
            "0de7e889cb9b4575a9a5dd63b5aa6927",
            "48573dc8c103412484f8124bf5a25835",
            "25effeff5b044acbbc75b3c7c0f1ffa4",
            "06b9eebc3fe446e2ac8e89b2cec25f30",
            "25a68f39721f442d8514dd4c7735f01f",
            "4c3b481ac3f242dfa007d7e1b0f514af",
            "a0031f3e475c47fd8b7f9b1390fd0464",
            "a969877d6626444ea704b8d28c9ac6b6",
            "244d850115d145628fecd74d289f3d80",
            "15385470a35944d0b5f8a74521a9c6ba",
            "2e56e57d3f39405ca1d116217682c934",
            "a343e2d80ebb4355814398bfb5a4565c",
            "0f6d39f47f3b4d8198d304a4cedb1fb7",
            "75755887def4456d884d898ed5a2756e",
            "8357d8e32b4242dea38a7a7429b9c327",
            "251bf194cfcc4d35a5e490624bd78df9",
            "acad036c53e1441a898e52907789134c",
            "cac9ab5b4aa84cd2933da1ef424220c8",
            "6fc97c3b6e0c45e390ab900c329d2831",
            "d96fade3faa04160a178559aab312271",
            "cfc1abf7d850483880341e0c5938d549",
            "c0d9572c24d94fbe92d8ae7577f65bb8",
            "4d5ecc6564c044f2b7da8aae84270a02",
            "e626027aa75649a0bd6f74950cff1aa2",
            "77a85761977343cca39bbadc7c93c19a"
          ]
        },
        "outputId": "18f9d68d-b90d-4330-ccd2-b7cd5313b49e"
      },
      "outputs": [
        {
          "output_type": "display_data",
          "data": {
            "text/plain": [
              "Map(center=[20, 0], controls=(ZoomControl(options=['position', 'zoom_in_text', 'zoom_in_title', 'zoom_out_text…"
            ],
            "application/vnd.jupyter.widget-view+json": {
              "version_major": 2,
              "version_minor": 0,
              "model_id": "9868faf2af77488aa7d0dbadd41acc18"
            }
          },
          "metadata": {
            "application/vnd.jupyter.widget-view+json": {
              "colab": {
                "custom_widget_manager": {
                  "url": "https://ssl.gstatic.com/colaboratory-static/widgets/colab-cdn-widget-manager/2b70e893a8ba7c0f/manager.min.js"
                }
              }
            }
          }
        }
      ],
      "source": [
        "m = leafmap.Map()\n",
        "m.add_cog_layer(dsm, name=\"DSM\", palette=\"terrain\")\n",
        "m.add_cog_layer(hag, name=\"Height Above Ground\", palette=\"magma\")\n",
        "m.add_geojson(buildings, layer_name=\"Buildings\")\n",
        "m"
      ]
    },
    {
      "cell_type": "code",
      "execution_count": 6,
      "id": "6",
      "metadata": {
        "id": "6",
        "colab": {
          "base_uri": "https://localhost:8080/"
        },
        "outputId": "d75c09a0-985e-43ff-d8c6-4d3a29db43cc"
      },
      "outputs": [
        {
          "output_type": "execute_result",
          "data": {
            "text/plain": [
              "84"
            ]
          },
          "metadata": {},
          "execution_count": 6
        }
      ],
      "source": [
        "gdf = gpd.read_file(buildings)\n",
        "len(gdf)"
      ]
    },
    {
      "cell_type": "code",
      "execution_count": 7,
      "id": "7",
      "metadata": {
        "id": "7",
        "colab": {
          "base_uri": "https://localhost:8080/",
          "height": 206
        },
        "outputId": "663604b8-8903-49c2-a90f-05e94a303c79"
      },
      "outputs": [
        {
          "output_type": "execute_result",
          "data": {
            "text/plain": [
              "      HEIGHT     SQMETERS                                           geometry\n",
              "0  17.530001  3525.113281  MULTIPOLYGON (((-77.05121 38.81215, -77.05132 ...\n",
              "1   6.620000    51.499035  MULTIPOLYGON (((-77.05339 38.80930, -77.05341 ...\n",
              "2   5.970000   233.687225  MULTIPOLYGON (((-77.05272 38.81064, -77.05282 ...\n",
              "3   7.190000   320.350342  MULTIPOLYGON (((-77.05211 38.81024, -77.05213 ...\n",
              "4   6.340000    85.387062  MULTIPOLYGON (((-77.05285 38.81006, -77.05303 ..."
            ],
            "text/html": [
              "\n",
              "  <div id=\"df-05a92044-3090-4aed-a869-4893ab6c6809\" class=\"colab-df-container\">\n",
              "    <div>\n",
              "<style scoped>\n",
              "    .dataframe tbody tr th:only-of-type {\n",
              "        vertical-align: middle;\n",
              "    }\n",
              "\n",
              "    .dataframe tbody tr th {\n",
              "        vertical-align: top;\n",
              "    }\n",
              "\n",
              "    .dataframe thead th {\n",
              "        text-align: right;\n",
              "    }\n",
              "</style>\n",
              "<table border=\"1\" class=\"dataframe\">\n",
              "  <thead>\n",
              "    <tr style=\"text-align: right;\">\n",
              "      <th></th>\n",
              "      <th>HEIGHT</th>\n",
              "      <th>SQMETERS</th>\n",
              "      <th>geometry</th>\n",
              "    </tr>\n",
              "  </thead>\n",
              "  <tbody>\n",
              "    <tr>\n",
              "      <th>0</th>\n",
              "      <td>17.530001</td>\n",
              "      <td>3525.113281</td>\n",
              "      <td>MULTIPOLYGON (((-77.05121 38.81215, -77.05132 ...</td>\n",
              "    </tr>\n",
              "    <tr>\n",
              "      <th>1</th>\n",
              "      <td>6.620000</td>\n",
              "      <td>51.499035</td>\n",
              "      <td>MULTIPOLYGON (((-77.05339 38.80930, -77.05341 ...</td>\n",
              "    </tr>\n",
              "    <tr>\n",
              "      <th>2</th>\n",
              "      <td>5.970000</td>\n",
              "      <td>233.687225</td>\n",
              "      <td>MULTIPOLYGON (((-77.05272 38.81064, -77.05282 ...</td>\n",
              "    </tr>\n",
              "    <tr>\n",
              "      <th>3</th>\n",
              "      <td>7.190000</td>\n",
              "      <td>320.350342</td>\n",
              "      <td>MULTIPOLYGON (((-77.05211 38.81024, -77.05213 ...</td>\n",
              "    </tr>\n",
              "    <tr>\n",
              "      <th>4</th>\n",
              "      <td>6.340000</td>\n",
              "      <td>85.387062</td>\n",
              "      <td>MULTIPOLYGON (((-77.05285 38.81006, -77.05303 ...</td>\n",
              "    </tr>\n",
              "  </tbody>\n",
              "</table>\n",
              "</div>\n",
              "    <div class=\"colab-df-buttons\">\n",
              "\n",
              "  <div class=\"colab-df-container\">\n",
              "    <button class=\"colab-df-convert\" onclick=\"convertToInteractive('df-05a92044-3090-4aed-a869-4893ab6c6809')\"\n",
              "            title=\"Convert this dataframe to an interactive table.\"\n",
              "            style=\"display:none;\">\n",
              "\n",
              "  <svg xmlns=\"http://www.w3.org/2000/svg\" height=\"24px\" viewBox=\"0 -960 960 960\">\n",
              "    <path d=\"M120-120v-720h720v720H120Zm60-500h600v-160H180v160Zm220 220h160v-160H400v160Zm0 220h160v-160H400v160ZM180-400h160v-160H180v160Zm440 0h160v-160H620v160ZM180-180h160v-160H180v160Zm440 0h160v-160H620v160Z\"/>\n",
              "  </svg>\n",
              "    </button>\n",
              "\n",
              "  <style>\n",
              "    .colab-df-container {\n",
              "      display:flex;\n",
              "      gap: 12px;\n",
              "    }\n",
              "\n",
              "    .colab-df-convert {\n",
              "      background-color: #E8F0FE;\n",
              "      border: none;\n",
              "      border-radius: 50%;\n",
              "      cursor: pointer;\n",
              "      display: none;\n",
              "      fill: #1967D2;\n",
              "      height: 32px;\n",
              "      padding: 0 0 0 0;\n",
              "      width: 32px;\n",
              "    }\n",
              "\n",
              "    .colab-df-convert:hover {\n",
              "      background-color: #E2EBFA;\n",
              "      box-shadow: 0px 1px 2px rgba(60, 64, 67, 0.3), 0px 1px 3px 1px rgba(60, 64, 67, 0.15);\n",
              "      fill: #174EA6;\n",
              "    }\n",
              "\n",
              "    .colab-df-buttons div {\n",
              "      margin-bottom: 4px;\n",
              "    }\n",
              "\n",
              "    [theme=dark] .colab-df-convert {\n",
              "      background-color: #3B4455;\n",
              "      fill: #D2E3FC;\n",
              "    }\n",
              "\n",
              "    [theme=dark] .colab-df-convert:hover {\n",
              "      background-color: #434B5C;\n",
              "      box-shadow: 0px 1px 3px 1px rgba(0, 0, 0, 0.15);\n",
              "      filter: drop-shadow(0px 1px 2px rgba(0, 0, 0, 0.3));\n",
              "      fill: #FFFFFF;\n",
              "    }\n",
              "  </style>\n",
              "\n",
              "    <script>\n",
              "      const buttonEl =\n",
              "        document.querySelector('#df-05a92044-3090-4aed-a869-4893ab6c6809 button.colab-df-convert');\n",
              "      buttonEl.style.display =\n",
              "        google.colab.kernel.accessAllowed ? 'block' : 'none';\n",
              "\n",
              "      async function convertToInteractive(key) {\n",
              "        const element = document.querySelector('#df-05a92044-3090-4aed-a869-4893ab6c6809');\n",
              "        const dataTable =\n",
              "          await google.colab.kernel.invokeFunction('convertToInteractive',\n",
              "                                                    [key], {});\n",
              "        if (!dataTable) return;\n",
              "\n",
              "        const docLinkHtml = 'Like what you see? Visit the ' +\n",
              "          '<a target=\"_blank\" href=https://colab.research.google.com/notebooks/data_table.ipynb>data table notebook</a>'\n",
              "          + ' to learn more about interactive tables.';\n",
              "        element.innerHTML = '';\n",
              "        dataTable['output_type'] = 'display_data';\n",
              "        await google.colab.output.renderOutput(dataTable, element);\n",
              "        const docLink = document.createElement('div');\n",
              "        docLink.innerHTML = docLinkHtml;\n",
              "        element.appendChild(docLink);\n",
              "      }\n",
              "    </script>\n",
              "  </div>\n",
              "\n",
              "\n",
              "<div id=\"df-3c115f58-a723-4633-8e33-72b89fbb3e7c\">\n",
              "  <button class=\"colab-df-quickchart\" onclick=\"quickchart('df-3c115f58-a723-4633-8e33-72b89fbb3e7c')\"\n",
              "            title=\"Suggest charts\"\n",
              "            style=\"display:none;\">\n",
              "\n",
              "<svg xmlns=\"http://www.w3.org/2000/svg\" height=\"24px\"viewBox=\"0 0 24 24\"\n",
              "     width=\"24px\">\n",
              "    <g>\n",
              "        <path d=\"M19 3H5c-1.1 0-2 .9-2 2v14c0 1.1.9 2 2 2h14c1.1 0 2-.9 2-2V5c0-1.1-.9-2-2-2zM9 17H7v-7h2v7zm4 0h-2V7h2v10zm4 0h-2v-4h2v4z\"/>\n",
              "    </g>\n",
              "</svg>\n",
              "  </button>\n",
              "\n",
              "<style>\n",
              "  .colab-df-quickchart {\n",
              "      --bg-color: #E8F0FE;\n",
              "      --fill-color: #1967D2;\n",
              "      --hover-bg-color: #E2EBFA;\n",
              "      --hover-fill-color: #174EA6;\n",
              "      --disabled-fill-color: #AAA;\n",
              "      --disabled-bg-color: #DDD;\n",
              "  }\n",
              "\n",
              "  [theme=dark] .colab-df-quickchart {\n",
              "      --bg-color: #3B4455;\n",
              "      --fill-color: #D2E3FC;\n",
              "      --hover-bg-color: #434B5C;\n",
              "      --hover-fill-color: #FFFFFF;\n",
              "      --disabled-bg-color: #3B4455;\n",
              "      --disabled-fill-color: #666;\n",
              "  }\n",
              "\n",
              "  .colab-df-quickchart {\n",
              "    background-color: var(--bg-color);\n",
              "    border: none;\n",
              "    border-radius: 50%;\n",
              "    cursor: pointer;\n",
              "    display: none;\n",
              "    fill: var(--fill-color);\n",
              "    height: 32px;\n",
              "    padding: 0;\n",
              "    width: 32px;\n",
              "  }\n",
              "\n",
              "  .colab-df-quickchart:hover {\n",
              "    background-color: var(--hover-bg-color);\n",
              "    box-shadow: 0 1px 2px rgba(60, 64, 67, 0.3), 0 1px 3px 1px rgba(60, 64, 67, 0.15);\n",
              "    fill: var(--button-hover-fill-color);\n",
              "  }\n",
              "\n",
              "  .colab-df-quickchart-complete:disabled,\n",
              "  .colab-df-quickchart-complete:disabled:hover {\n",
              "    background-color: var(--disabled-bg-color);\n",
              "    fill: var(--disabled-fill-color);\n",
              "    box-shadow: none;\n",
              "  }\n",
              "\n",
              "  .colab-df-spinner {\n",
              "    border: 2px solid var(--fill-color);\n",
              "    border-color: transparent;\n",
              "    border-bottom-color: var(--fill-color);\n",
              "    animation:\n",
              "      spin 1s steps(1) infinite;\n",
              "  }\n",
              "\n",
              "  @keyframes spin {\n",
              "    0% {\n",
              "      border-color: transparent;\n",
              "      border-bottom-color: var(--fill-color);\n",
              "      border-left-color: var(--fill-color);\n",
              "    }\n",
              "    20% {\n",
              "      border-color: transparent;\n",
              "      border-left-color: var(--fill-color);\n",
              "      border-top-color: var(--fill-color);\n",
              "    }\n",
              "    30% {\n",
              "      border-color: transparent;\n",
              "      border-left-color: var(--fill-color);\n",
              "      border-top-color: var(--fill-color);\n",
              "      border-right-color: var(--fill-color);\n",
              "    }\n",
              "    40% {\n",
              "      border-color: transparent;\n",
              "      border-right-color: var(--fill-color);\n",
              "      border-top-color: var(--fill-color);\n",
              "    }\n",
              "    60% {\n",
              "      border-color: transparent;\n",
              "      border-right-color: var(--fill-color);\n",
              "    }\n",
              "    80% {\n",
              "      border-color: transparent;\n",
              "      border-right-color: var(--fill-color);\n",
              "      border-bottom-color: var(--fill-color);\n",
              "    }\n",
              "    90% {\n",
              "      border-color: transparent;\n",
              "      border-bottom-color: var(--fill-color);\n",
              "    }\n",
              "  }\n",
              "</style>\n",
              "\n",
              "  <script>\n",
              "    async function quickchart(key) {\n",
              "      const quickchartButtonEl =\n",
              "        document.querySelector('#' + key + ' button');\n",
              "      quickchartButtonEl.disabled = true;  // To prevent multiple clicks.\n",
              "      quickchartButtonEl.classList.add('colab-df-spinner');\n",
              "      try {\n",
              "        const charts = await google.colab.kernel.invokeFunction(\n",
              "            'suggestCharts', [key], {});\n",
              "      } catch (error) {\n",
              "        console.error('Error during call to suggestCharts:', error);\n",
              "      }\n",
              "      quickchartButtonEl.classList.remove('colab-df-spinner');\n",
              "      quickchartButtonEl.classList.add('colab-df-quickchart-complete');\n",
              "    }\n",
              "    (() => {\n",
              "      let quickchartButtonEl =\n",
              "        document.querySelector('#df-3c115f58-a723-4633-8e33-72b89fbb3e7c button');\n",
              "      quickchartButtonEl.style.display =\n",
              "        google.colab.kernel.accessAllowed ? 'block' : 'none';\n",
              "    })();\n",
              "  </script>\n",
              "</div>\n",
              "\n",
              "    </div>\n",
              "  </div>\n"
            ],
            "application/vnd.google.colaboratory.intrinsic+json": {
              "type": "dataframe",
              "variable_name": "gdf",
              "summary": "{\n  \"name\": \"gdf\",\n  \"rows\": 84,\n  \"fields\": [\n    {\n      \"column\": \"HEIGHT\",\n      \"properties\": {\n        \"dtype\": \"number\",\n        \"std\": 2.116394660676837,\n        \"min\": 3.859999895095825,\n        \"max\": 17.530000686645508,\n        \"num_unique_values\": 76,\n        \"samples\": [\n          6.340000152587892,\n          5.489999771118164,\n          6.369999885559082\n        ],\n        \"semantic_type\": \"\",\n        \"description\": \"\"\n      }\n    },\n    {\n      \"column\": \"SQMETERS\",\n      \"properties\": {\n        \"dtype\": \"number\",\n        \"std\": 610.7168072717682,\n        \"min\": 41.90424346923828,\n        \"max\": 3525.11328125,\n        \"num_unique_values\": 81,\n        \"samples\": [\n          178.0210418701172,\n          3525.11328125,\n          81.98997497558594\n        ],\n        \"semantic_type\": \"\",\n        \"description\": \"\"\n      }\n    },\n    {\n      \"column\": \"geometry\",\n      \"properties\": {\n        \"dtype\": \"geometry\",\n        \"num_unique_values\": 84,\n        \"samples\": [\n          \"MULTIPOLYGON (((-77.054107 38.810063, -77.054096 38.810116, -77.054054 38.810111, -77.054046 38.81015, -77.053884 38.81013, -77.053903 38.810037, -77.054107 38.810063)))\",\n          \"MULTIPOLYGON (((-77.051213 38.812148, -77.05132 38.811558, -77.051575 38.811586, -77.051504 38.811979, -77.05183 38.812015, -77.051888 38.811697, -77.052127 38.811724, -77.052062 38.812084, -77.052093 38.812088, -77.052065 38.812241, -77.051213 38.812148)))\",\n          \"MULTIPOLYGON (((-77.05287 38.809584, -77.052886 38.80949, -77.052925 38.809493, -77.052935 38.809434, -77.053067 38.809447, -77.053042 38.809601, -77.05287 38.809584)))\"\n        ],\n        \"semantic_type\": \"\",\n        \"description\": \"\"\n      }\n    }\n  ]\n}"
            }
          },
          "metadata": {},
          "execution_count": 7
        }
      ],
      "source": [
        "gdf.head()"
      ]
    },
    {
      "cell_type": "markdown",
      "id": "8",
      "metadata": {
        "id": "8"
      },
      "source": [
        "The `leafmap.zonal_stats()` function wraps the [`rasterstats.zonal_stats()`](https://pythonhosted.org/rasterstats/index.html) function and performs reprojection if necessary.\n",
        "\n",
        "By default, the zonal_stats function will return the following [statistics](https://pythonhosted.org/rasterstats/manual.html#statistics):\n",
        "\n",
        "* min\n",
        "* max\n",
        "* mean\n",
        "* count\n",
        "*\n",
        "Optionally, these statistics are also available.\n",
        "\n",
        "* sum\n",
        "* std\n",
        "* median\n",
        "* majority\n",
        "* minority\n",
        "* unique\n",
        "* range\n",
        "* nodata"
      ]
    },
    {
      "cell_type": "code",
      "execution_count": 8,
      "id": "9",
      "metadata": {
        "id": "9",
        "colab": {
          "base_uri": "https://localhost:8080/"
        },
        "outputId": "33376f3f-daf5-4480-e87c-8eb322de66b0"
      },
      "outputs": [
        {
          "output_type": "execute_result",
          "data": {
            "text/plain": [
              "84"
            ]
          },
          "metadata": {},
          "execution_count": 8
        }
      ],
      "source": [
        "stats = leafmap.zonal_stats(gdf, hag, stats=[\"min\", \"max\", \"mean\", \"count\"])\n",
        "len(stats)"
      ]
    },
    {
      "cell_type": "code",
      "execution_count": 9,
      "id": "10",
      "metadata": {
        "id": "10",
        "colab": {
          "base_uri": "https://localhost:8080/"
        },
        "outputId": "79b7dc9c-bf78-4c0c-d4a1-709a7f8ef664"
      },
      "outputs": [
        {
          "output_type": "execute_result",
          "data": {
            "text/plain": [
              "[{'min': 10.539999961853027,\n",
              "  'max': 24.950000762939453,\n",
              "  'mean': 19.82754578143535,\n",
              "  'count': 843},\n",
              " {'min': 6.880000114440918,\n",
              "  'max': 10.819999694824219,\n",
              "  'mean': 8.442221747504341,\n",
              "  'count': 18},\n",
              " {'min': 6.079999923706055,\n",
              "  'max': 19.959999084472656,\n",
              "  'mean': 9.612962510850695,\n",
              "  'count': 54},\n",
              " {'min': 7.300000190734863,\n",
              "  'max': 18.920000076293945,\n",
              "  'mean': 11.190888129340278,\n",
              "  'count': 90},\n",
              " {'min': 5.929999828338623,\n",
              "  'max': 18.399999618530273,\n",
              "  'mean': 12.659524100167411,\n",
              "  'count': 21}]"
            ]
          },
          "metadata": {},
          "execution_count": 9
        }
      ],
      "source": [
        "stats[:5]"
      ]
    },
    {
      "cell_type": "code",
      "execution_count": 10,
      "id": "11",
      "metadata": {
        "id": "11",
        "colab": {
          "base_uri": "https://localhost:8080/"
        },
        "outputId": "7fea09ce-efea-45a5-f53a-6bd2348d6d66"
      },
      "outputs": [
        {
          "output_type": "execute_result",
          "data": {
            "text/plain": [
              "84"
            ]
          },
          "metadata": {},
          "execution_count": 10
        }
      ],
      "source": [
        "stats_geojson = leafmap.zonal_stats(gdf, hag, stats=[\"mean\", \"count\"], geojson_out=True)\n",
        "len(stats_geojson)"
      ]
    },
    {
      "cell_type": "code",
      "execution_count": 11,
      "id": "12",
      "metadata": {
        "id": "12",
        "colab": {
          "base_uri": "https://localhost:8080/"
        },
        "outputId": "3f7fec34-1279-4158-ba7c-7d59e2ebdc4a"
      },
      "outputs": [
        {
          "output_type": "execute_result",
          "data": {
            "text/plain": [
              "{'id': '0',\n",
              " 'type': 'Feature',\n",
              " 'properties': {'HEIGHT': 17.530000686645508,\n",
              "  'SQMETERS': 3525.11328125,\n",
              "  'mean': 19.82754578143535,\n",
              "  'count': 843},\n",
              " 'geometry': {'type': 'MultiPolygon',\n",
              "  'coordinates': [(((321904.9249656575, 4297929.359149771),\n",
              "     (321894.1639320927, 4297864.087817658),\n",
              "     (321872.0912812228, 4297867.69244786),\n",
              "     (321879.23566416965, 4297911.170307515),\n",
              "     (321851.01798099, 4297915.801282184),\n",
              "     (321845.1891851835, 4297880.621811273),\n",
              "     (321824.5034280424, 4297884.084395529),\n",
              "     (321831.04482289474, 4297923.911486235),\n",
              "     (321828.3629885514, 4297924.415869579),\n",
              "     (321831.17563400406, 4297941.341652784),\n",
              "     (321904.9249656575, 4297929.359149771)),)]},\n",
              " 'bbox': (321824.5034280424,\n",
              "  4297864.087817658,\n",
              "  321904.9249656575,\n",
              "  4297941.341652784)}"
            ]
          },
          "metadata": {},
          "execution_count": 11
        }
      ],
      "source": [
        "stats_geojson[0]"
      ]
    },
    {
      "cell_type": "code",
      "execution_count": 12,
      "id": "13",
      "metadata": {
        "id": "13",
        "colab": {
          "base_uri": "https://localhost:8080/"
        },
        "outputId": "8058f4b0-1f97-4af2-97b0-95bbe3a0192c"
      },
      "outputs": [
        {
          "output_type": "execute_result",
          "data": {
            "text/plain": [
              "84"
            ]
          },
          "metadata": {},
          "execution_count": 12
        }
      ],
      "source": [
        "stats_gdf = leafmap.zonal_stats(gdf, hag, stats=[\"mean\", \"count\"], gdf_out=True)\n",
        "len(stats_gdf)"
      ]
    },
    {
      "cell_type": "code",
      "execution_count": 13,
      "id": "14",
      "metadata": {
        "id": "14",
        "colab": {
          "base_uri": "https://localhost:8080/",
          "height": 206
        },
        "outputId": "b97c92ec-8bfb-4538-b699-40d05af89c80"
      },
      "outputs": [
        {
          "output_type": "execute_result",
          "data": {
            "text/plain": [
              "                                            geometry     HEIGHT     SQMETERS  \\\n",
              "0  MULTIPOLYGON (((-77.05121 38.81215, -77.05132 ...  17.530001  3525.113281   \n",
              "1  MULTIPOLYGON (((-77.05339 38.80930, -77.05341 ...   6.620000    51.499035   \n",
              "2  MULTIPOLYGON (((-77.05272 38.81064, -77.05282 ...   5.970000   233.687225   \n",
              "3  MULTIPOLYGON (((-77.05211 38.81024, -77.05213 ...   7.190000   320.350342   \n",
              "4  MULTIPOLYGON (((-77.05285 38.81006, -77.05303 ...   6.340000    85.387062   \n",
              "\n",
              "        mean  count  \n",
              "0  19.827546    843  \n",
              "1   8.442222     18  \n",
              "2   9.612963     54  \n",
              "3  11.190888     90  \n",
              "4  12.659524     21  "
            ],
            "text/html": [
              "\n",
              "  <div id=\"df-260d4df4-2141-4f75-9e45-fb9238210898\" class=\"colab-df-container\">\n",
              "    <div>\n",
              "<style scoped>\n",
              "    .dataframe tbody tr th:only-of-type {\n",
              "        vertical-align: middle;\n",
              "    }\n",
              "\n",
              "    .dataframe tbody tr th {\n",
              "        vertical-align: top;\n",
              "    }\n",
              "\n",
              "    .dataframe thead th {\n",
              "        text-align: right;\n",
              "    }\n",
              "</style>\n",
              "<table border=\"1\" class=\"dataframe\">\n",
              "  <thead>\n",
              "    <tr style=\"text-align: right;\">\n",
              "      <th></th>\n",
              "      <th>geometry</th>\n",
              "      <th>HEIGHT</th>\n",
              "      <th>SQMETERS</th>\n",
              "      <th>mean</th>\n",
              "      <th>count</th>\n",
              "    </tr>\n",
              "  </thead>\n",
              "  <tbody>\n",
              "    <tr>\n",
              "      <th>0</th>\n",
              "      <td>MULTIPOLYGON (((-77.05121 38.81215, -77.05132 ...</td>\n",
              "      <td>17.530001</td>\n",
              "      <td>3525.113281</td>\n",
              "      <td>19.827546</td>\n",
              "      <td>843</td>\n",
              "    </tr>\n",
              "    <tr>\n",
              "      <th>1</th>\n",
              "      <td>MULTIPOLYGON (((-77.05339 38.80930, -77.05341 ...</td>\n",
              "      <td>6.620000</td>\n",
              "      <td>51.499035</td>\n",
              "      <td>8.442222</td>\n",
              "      <td>18</td>\n",
              "    </tr>\n",
              "    <tr>\n",
              "      <th>2</th>\n",
              "      <td>MULTIPOLYGON (((-77.05272 38.81064, -77.05282 ...</td>\n",
              "      <td>5.970000</td>\n",
              "      <td>233.687225</td>\n",
              "      <td>9.612963</td>\n",
              "      <td>54</td>\n",
              "    </tr>\n",
              "    <tr>\n",
              "      <th>3</th>\n",
              "      <td>MULTIPOLYGON (((-77.05211 38.81024, -77.05213 ...</td>\n",
              "      <td>7.190000</td>\n",
              "      <td>320.350342</td>\n",
              "      <td>11.190888</td>\n",
              "      <td>90</td>\n",
              "    </tr>\n",
              "    <tr>\n",
              "      <th>4</th>\n",
              "      <td>MULTIPOLYGON (((-77.05285 38.81006, -77.05303 ...</td>\n",
              "      <td>6.340000</td>\n",
              "      <td>85.387062</td>\n",
              "      <td>12.659524</td>\n",
              "      <td>21</td>\n",
              "    </tr>\n",
              "  </tbody>\n",
              "</table>\n",
              "</div>\n",
              "    <div class=\"colab-df-buttons\">\n",
              "\n",
              "  <div class=\"colab-df-container\">\n",
              "    <button class=\"colab-df-convert\" onclick=\"convertToInteractive('df-260d4df4-2141-4f75-9e45-fb9238210898')\"\n",
              "            title=\"Convert this dataframe to an interactive table.\"\n",
              "            style=\"display:none;\">\n",
              "\n",
              "  <svg xmlns=\"http://www.w3.org/2000/svg\" height=\"24px\" viewBox=\"0 -960 960 960\">\n",
              "    <path d=\"M120-120v-720h720v720H120Zm60-500h600v-160H180v160Zm220 220h160v-160H400v160Zm0 220h160v-160H400v160ZM180-400h160v-160H180v160Zm440 0h160v-160H620v160ZM180-180h160v-160H180v160Zm440 0h160v-160H620v160Z\"/>\n",
              "  </svg>\n",
              "    </button>\n",
              "\n",
              "  <style>\n",
              "    .colab-df-container {\n",
              "      display:flex;\n",
              "      gap: 12px;\n",
              "    }\n",
              "\n",
              "    .colab-df-convert {\n",
              "      background-color: #E8F0FE;\n",
              "      border: none;\n",
              "      border-radius: 50%;\n",
              "      cursor: pointer;\n",
              "      display: none;\n",
              "      fill: #1967D2;\n",
              "      height: 32px;\n",
              "      padding: 0 0 0 0;\n",
              "      width: 32px;\n",
              "    }\n",
              "\n",
              "    .colab-df-convert:hover {\n",
              "      background-color: #E2EBFA;\n",
              "      box-shadow: 0px 1px 2px rgba(60, 64, 67, 0.3), 0px 1px 3px 1px rgba(60, 64, 67, 0.15);\n",
              "      fill: #174EA6;\n",
              "    }\n",
              "\n",
              "    .colab-df-buttons div {\n",
              "      margin-bottom: 4px;\n",
              "    }\n",
              "\n",
              "    [theme=dark] .colab-df-convert {\n",
              "      background-color: #3B4455;\n",
              "      fill: #D2E3FC;\n",
              "    }\n",
              "\n",
              "    [theme=dark] .colab-df-convert:hover {\n",
              "      background-color: #434B5C;\n",
              "      box-shadow: 0px 1px 3px 1px rgba(0, 0, 0, 0.15);\n",
              "      filter: drop-shadow(0px 1px 2px rgba(0, 0, 0, 0.3));\n",
              "      fill: #FFFFFF;\n",
              "    }\n",
              "  </style>\n",
              "\n",
              "    <script>\n",
              "      const buttonEl =\n",
              "        document.querySelector('#df-260d4df4-2141-4f75-9e45-fb9238210898 button.colab-df-convert');\n",
              "      buttonEl.style.display =\n",
              "        google.colab.kernel.accessAllowed ? 'block' : 'none';\n",
              "\n",
              "      async function convertToInteractive(key) {\n",
              "        const element = document.querySelector('#df-260d4df4-2141-4f75-9e45-fb9238210898');\n",
              "        const dataTable =\n",
              "          await google.colab.kernel.invokeFunction('convertToInteractive',\n",
              "                                                    [key], {});\n",
              "        if (!dataTable) return;\n",
              "\n",
              "        const docLinkHtml = 'Like what you see? Visit the ' +\n",
              "          '<a target=\"_blank\" href=https://colab.research.google.com/notebooks/data_table.ipynb>data table notebook</a>'\n",
              "          + ' to learn more about interactive tables.';\n",
              "        element.innerHTML = '';\n",
              "        dataTable['output_type'] = 'display_data';\n",
              "        await google.colab.output.renderOutput(dataTable, element);\n",
              "        const docLink = document.createElement('div');\n",
              "        docLink.innerHTML = docLinkHtml;\n",
              "        element.appendChild(docLink);\n",
              "      }\n",
              "    </script>\n",
              "  </div>\n",
              "\n",
              "\n",
              "<div id=\"df-b0d6fbe2-11bd-47b0-a012-b3e865d9b298\">\n",
              "  <button class=\"colab-df-quickchart\" onclick=\"quickchart('df-b0d6fbe2-11bd-47b0-a012-b3e865d9b298')\"\n",
              "            title=\"Suggest charts\"\n",
              "            style=\"display:none;\">\n",
              "\n",
              "<svg xmlns=\"http://www.w3.org/2000/svg\" height=\"24px\"viewBox=\"0 0 24 24\"\n",
              "     width=\"24px\">\n",
              "    <g>\n",
              "        <path d=\"M19 3H5c-1.1 0-2 .9-2 2v14c0 1.1.9 2 2 2h14c1.1 0 2-.9 2-2V5c0-1.1-.9-2-2-2zM9 17H7v-7h2v7zm4 0h-2V7h2v10zm4 0h-2v-4h2v4z\"/>\n",
              "    </g>\n",
              "</svg>\n",
              "  </button>\n",
              "\n",
              "<style>\n",
              "  .colab-df-quickchart {\n",
              "      --bg-color: #E8F0FE;\n",
              "      --fill-color: #1967D2;\n",
              "      --hover-bg-color: #E2EBFA;\n",
              "      --hover-fill-color: #174EA6;\n",
              "      --disabled-fill-color: #AAA;\n",
              "      --disabled-bg-color: #DDD;\n",
              "  }\n",
              "\n",
              "  [theme=dark] .colab-df-quickchart {\n",
              "      --bg-color: #3B4455;\n",
              "      --fill-color: #D2E3FC;\n",
              "      --hover-bg-color: #434B5C;\n",
              "      --hover-fill-color: #FFFFFF;\n",
              "      --disabled-bg-color: #3B4455;\n",
              "      --disabled-fill-color: #666;\n",
              "  }\n",
              "\n",
              "  .colab-df-quickchart {\n",
              "    background-color: var(--bg-color);\n",
              "    border: none;\n",
              "    border-radius: 50%;\n",
              "    cursor: pointer;\n",
              "    display: none;\n",
              "    fill: var(--fill-color);\n",
              "    height: 32px;\n",
              "    padding: 0;\n",
              "    width: 32px;\n",
              "  }\n",
              "\n",
              "  .colab-df-quickchart:hover {\n",
              "    background-color: var(--hover-bg-color);\n",
              "    box-shadow: 0 1px 2px rgba(60, 64, 67, 0.3), 0 1px 3px 1px rgba(60, 64, 67, 0.15);\n",
              "    fill: var(--button-hover-fill-color);\n",
              "  }\n",
              "\n",
              "  .colab-df-quickchart-complete:disabled,\n",
              "  .colab-df-quickchart-complete:disabled:hover {\n",
              "    background-color: var(--disabled-bg-color);\n",
              "    fill: var(--disabled-fill-color);\n",
              "    box-shadow: none;\n",
              "  }\n",
              "\n",
              "  .colab-df-spinner {\n",
              "    border: 2px solid var(--fill-color);\n",
              "    border-color: transparent;\n",
              "    border-bottom-color: var(--fill-color);\n",
              "    animation:\n",
              "      spin 1s steps(1) infinite;\n",
              "  }\n",
              "\n",
              "  @keyframes spin {\n",
              "    0% {\n",
              "      border-color: transparent;\n",
              "      border-bottom-color: var(--fill-color);\n",
              "      border-left-color: var(--fill-color);\n",
              "    }\n",
              "    20% {\n",
              "      border-color: transparent;\n",
              "      border-left-color: var(--fill-color);\n",
              "      border-top-color: var(--fill-color);\n",
              "    }\n",
              "    30% {\n",
              "      border-color: transparent;\n",
              "      border-left-color: var(--fill-color);\n",
              "      border-top-color: var(--fill-color);\n",
              "      border-right-color: var(--fill-color);\n",
              "    }\n",
              "    40% {\n",
              "      border-color: transparent;\n",
              "      border-right-color: var(--fill-color);\n",
              "      border-top-color: var(--fill-color);\n",
              "    }\n",
              "    60% {\n",
              "      border-color: transparent;\n",
              "      border-right-color: var(--fill-color);\n",
              "    }\n",
              "    80% {\n",
              "      border-color: transparent;\n",
              "      border-right-color: var(--fill-color);\n",
              "      border-bottom-color: var(--fill-color);\n",
              "    }\n",
              "    90% {\n",
              "      border-color: transparent;\n",
              "      border-bottom-color: var(--fill-color);\n",
              "    }\n",
              "  }\n",
              "</style>\n",
              "\n",
              "  <script>\n",
              "    async function quickchart(key) {\n",
              "      const quickchartButtonEl =\n",
              "        document.querySelector('#' + key + ' button');\n",
              "      quickchartButtonEl.disabled = true;  // To prevent multiple clicks.\n",
              "      quickchartButtonEl.classList.add('colab-df-spinner');\n",
              "      try {\n",
              "        const charts = await google.colab.kernel.invokeFunction(\n",
              "            'suggestCharts', [key], {});\n",
              "      } catch (error) {\n",
              "        console.error('Error during call to suggestCharts:', error);\n",
              "      }\n",
              "      quickchartButtonEl.classList.remove('colab-df-spinner');\n",
              "      quickchartButtonEl.classList.add('colab-df-quickchart-complete');\n",
              "    }\n",
              "    (() => {\n",
              "      let quickchartButtonEl =\n",
              "        document.querySelector('#df-b0d6fbe2-11bd-47b0-a012-b3e865d9b298 button');\n",
              "      quickchartButtonEl.style.display =\n",
              "        google.colab.kernel.accessAllowed ? 'block' : 'none';\n",
              "    })();\n",
              "  </script>\n",
              "</div>\n",
              "\n",
              "    </div>\n",
              "  </div>\n"
            ],
            "application/vnd.google.colaboratory.intrinsic+json": {
              "type": "dataframe",
              "variable_name": "stats_gdf",
              "summary": "{\n  \"name\": \"stats_gdf\",\n  \"rows\": 84,\n  \"fields\": [\n    {\n      \"column\": \"geometry\",\n      \"properties\": {\n        \"dtype\": \"geometry\",\n        \"num_unique_values\": 84,\n        \"samples\": [\n          \"MULTIPOLYGON (((-77.05410700000002 38.810063, -77.054096 38.810116, -77.054054 38.81011099999999, -77.054046 38.81015, -77.053884 38.810129999999994, -77.053903 38.810036999999994, -77.05410700000002 38.810063)))\",\n          \"MULTIPOLYGON (((-77.051213 38.812148, -77.05132 38.81155799999999, -77.051575 38.811586000000005, -77.051504 38.811979, -77.05183 38.812015, -77.051888 38.811696999999995, -77.052127 38.811724000000005, -77.052062 38.81208399999999, -77.052093 38.812087999999996, -77.052065 38.812241, -77.051213 38.812148)))\",\n          \"MULTIPOLYGON (((-77.05287 38.809583999999994, -77.052886 38.80949, -77.052925 38.809493, -77.052935 38.80943400000001, -77.05306700000001 38.809446999999984, -77.053042 38.809600999999994, -77.05287 38.809583999999994)))\"\n        ],\n        \"semantic_type\": \"\",\n        \"description\": \"\"\n      }\n    },\n    {\n      \"column\": \"HEIGHT\",\n      \"properties\": {\n        \"dtype\": \"number\",\n        \"std\": 2.116394660676837,\n        \"min\": 3.859999895095825,\n        \"max\": 17.530000686645508,\n        \"num_unique_values\": 76,\n        \"samples\": [\n          6.340000152587892,\n          5.489999771118164,\n          6.369999885559082\n        ],\n        \"semantic_type\": \"\",\n        \"description\": \"\"\n      }\n    },\n    {\n      \"column\": \"SQMETERS\",\n      \"properties\": {\n        \"dtype\": \"number\",\n        \"std\": 610.7168072717682,\n        \"min\": 41.90424346923828,\n        \"max\": 3525.11328125,\n        \"num_unique_values\": 81,\n        \"samples\": [\n          178.0210418701172,\n          3525.11328125,\n          81.98997497558594\n        ],\n        \"semantic_type\": \"\",\n        \"description\": \"\"\n      }\n    },\n    {\n      \"column\": \"mean\",\n      \"properties\": {\n        \"dtype\": \"number\",\n        \"std\": 2.371254627604378,\n        \"min\": 5.886519237231183,\n        \"max\": 19.82754578143535,\n        \"num_unique_values\": 84,\n        \"samples\": [\n          7.707804610089558,\n          19.82754578143535,\n          9.57449951171875\n        ],\n        \"semantic_type\": \"\",\n        \"description\": \"\"\n      }\n    },\n    {\n      \"column\": \"count\",\n      \"properties\": {\n        \"dtype\": \"number\",\n        \"std\": 134,\n        \"min\": 6,\n        \"max\": 843,\n        \"num_unique_values\": 54,\n        \"samples\": [\n          61,\n          9,\n          6\n        ],\n        \"semantic_type\": \"\",\n        \"description\": \"\"\n      }\n    }\n  ]\n}"
            }
          },
          "metadata": {},
          "execution_count": 13
        }
      ],
      "source": [
        "stats_gdf.head()"
      ]
    },
    {
      "cell_type": "code",
      "execution_count": 14,
      "id": "15",
      "metadata": {
        "id": "15",
        "colab": {
          "base_uri": "https://localhost:8080/",
          "height": 621,
          "referenced_widgets": [
            "af126efb0e1d4ed783868a37da282a25",
            "0fc21aeca9824847adb300bec120760d",
            "ef11ef34b1b04baca95d8c45edcd083a",
            "68a89873327749afae0a61dde85227cc",
            "2e670e28ea3c45959cc1494fdd54635c",
            "58525b1c542f4444a5fb9ed30175b40d",
            "6e679d6107ca476d8c3618d95ea19a93",
            "d8c58e02e19f43dd9b0f46a630bd6d3b",
            "4135334b4b094b6788e87ed90a412673",
            "47249e8065b247f59172553ad1df9433",
            "b34eff76b02142dbb710b4b26bd28ed5",
            "d6278a1866b14ea48c2f1b8e055c4eac",
            "99c6dc28364d46ff93e56ceff4e9afc2",
            "d66d456edc1448b68fa185c70c6a13a0",
            "0f127a53609e4d82b42ac40490f03216",
            "822009681a2342b394d6d4df77e08f7f",
            "4562bff90e0948fc99611c0da9180d30",
            "ec2d828e0f564d1184a83c28645811eb",
            "c9c344d09c0043969883f16c593d3239",
            "c77b212302a74117a0da084ab2b95047",
            "f717490c14a64e9d8dac9d88161ad488",
            "684c79a7cdd54769a4010f520707257d",
            "72ca2e05d2004d96bd15b7ac77e56cd9",
            "116de084960a40bc886ef4f45303de2d",
            "3e8707c7fdc44b87a3b5da8ddbf87d0b",
            "5dfe91564b9944ba9ca7a2bcf0dabdd5",
            "2e50148ec9634834a10237aa6655b576",
            "8959fce476a14ad693be4616b4f8da05",
            "c958d60bfcd64c1db27b8cbad0bcd31b",
            "464d77b32859478bb914943c894a6750",
            "4568fa5b2f594ba98faec64c82aafdea",
            "30b103ba45b941859c2adf64a2ee4b40"
          ]
        },
        "outputId": "988dae3a-083b-4711-fbf8-18d31d191670"
      },
      "outputs": [
        {
          "output_type": "display_data",
          "data": {
            "text/plain": [
              "Map(center=[20, 0], controls=(ZoomControl(options=['position', 'zoom_in_text', 'zoom_in_title', 'zoom_out_text…"
            ],
            "application/vnd.jupyter.widget-view+json": {
              "version_major": 2,
              "version_minor": 0,
              "model_id": "af126efb0e1d4ed783868a37da282a25"
            }
          },
          "metadata": {
            "application/vnd.jupyter.widget-view+json": {
              "colab": {
                "custom_widget_manager": {
                  "url": "https://ssl.gstatic.com/colaboratory-static/widgets/colab-cdn-widget-manager/2b70e893a8ba7c0f/manager.min.js"
                }
              }
            }
          }
        }
      ],
      "source": [
        "m = leafmap.Map()\n",
        "m.add_gdf(stats_gdf, layer_name=\"Zonal Stats\")\n",
        "m"
      ]
    }
  ],
  "metadata": {
    "kernelspec": {
      "display_name": "Python 3",
      "language": "python",
      "name": "python3"
    },
    "colab": {
      "provenance": [],
      "include_colab_link": true
    },
    "widgets": {
      "application/vnd.jupyter.widget-state+json": {
        "9868faf2af77488aa7d0dbadd41acc18": {
          "model_module": "jupyter-leaflet",
          "model_name": "LeafletMapModel",
          "model_module_version": "^0.18",
          "state": {
            "_dom_classes": [],
            "_model_module": "jupyter-leaflet",
            "_model_module_version": "^0.18",
            "_model_name": "LeafletMapModel",
            "_view_count": null,
            "_view_module": "jupyter-leaflet",
            "_view_module_version": "^0.18",
            "_view_name": "LeafletMapView",
            "bottom": 401708,
            "bounce_at_zoom_limits": true,
            "box_zoom": true,
            "center": [
              38.82259097617713,
              -76.99218750000001
            ],
            "close_popup_on_click": true,
            "controls": [
              "IPY_MODEL_1b4e50150fc940a881b416d692e9dd6e",
              "IPY_MODEL_611ee5ae03484b7ab4623a6504cb03b2",
              "IPY_MODEL_fd830322216e4561a9709ce6f0413cf8",
              "IPY_MODEL_9374f02db2ca4dc5a560718faa92b15e",
              "IPY_MODEL_5850ada2a470401d983ff8a8a4ebb98a",
              "IPY_MODEL_84f30a43e3ba4aa9b041a22ad313dbea",
              "IPY_MODEL_6c5aba1431a0436f9c0fb57750628418"
            ],
            "crs": {
              "name": "EPSG3857",
              "custom": false
            },
            "default_style": "IPY_MODEL_3c91fd20abed4779bc5842d755e4c253",
            "double_click_zoom": true,
            "dragging": true,
            "dragging_style": "IPY_MODEL_0de7e889cb9b4575a9a5dd63b5aa6927",
            "east": -76.7669677734375,
            "fullscreen": false,
            "inertia": true,
            "inertia_deceleration": 3000,
            "inertia_max_speed": 1500,
            "interpolation": "bilinear",
            "keyboard": true,
            "keyboard_pan_offset": 80,
            "keyboard_zoom_offset": 1,
            "layers": [
              "IPY_MODEL_48573dc8c103412484f8124bf5a25835",
              "IPY_MODEL_25effeff5b044acbbc75b3c7c0f1ffa4",
              "IPY_MODEL_06b9eebc3fe446e2ac8e89b2cec25f30",
              "IPY_MODEL_25a68f39721f442d8514dd4c7735f01f"
            ],
            "layout": "IPY_MODEL_4c3b481ac3f242dfa007d7e1b0f514af",
            "left": 299376,
            "max_zoom": 24,
            "min_zoom": null,
            "modisdate": "2024-05-23",
            "north": 38.90278963537611,
            "options": [
              "bounce_at_zoom_limits",
              "box_zoom",
              "center",
              "close_popup_on_click",
              "double_click_zoom",
              "dragging",
              "fullscreen",
              "inertia",
              "inertia_deceleration",
              "inertia_max_speed",
              "interpolation",
              "keyboard",
              "keyboard_pan_offset",
              "keyboard_zoom_offset",
              "max_zoom",
              "min_zoom",
              "prefer_canvas",
              "scroll_wheel_zoom",
              "tap",
              "tap_tolerance",
              "touch_zoom",
              "world_copy_jump",
              "zoom",
              "zoom_animation_threshold",
              "zoom_delta",
              "zoom_snap"
            ],
            "panes": {},
            "prefer_canvas": false,
            "right": 300688,
            "scroll_wheel_zoom": true,
            "south": 38.742301885680156,
            "style": "IPY_MODEL_3c91fd20abed4779bc5842d755e4c253",
            "tap": true,
            "tap_tolerance": 15,
            "top": 401108,
            "touch_zoom": true,
            "west": -77.21740722656251,
            "window_url": "https://l191srh9l8l-496ff2e9c6d22116-0-colab.googleusercontent.com/outputframe.html?vrz=colab_20240522-060111_RC00_636113202",
            "world_copy_jump": false,
            "zoom": 12,
            "zoom_animation_threshold": 4,
            "zoom_delta": 1,
            "zoom_snap": 1
          }
        },
        "1b4e50150fc940a881b416d692e9dd6e": {
          "model_module": "jupyter-leaflet",
          "model_name": "LeafletZoomControlModel",
          "model_module_version": "^0.18",
          "state": {
            "_model_module": "jupyter-leaflet",
            "_model_module_version": "^0.18",
            "_model_name": "LeafletZoomControlModel",
            "_view_count": null,
            "_view_module": "jupyter-leaflet",
            "_view_module_version": "^0.18",
            "_view_name": "LeafletZoomControlView",
            "options": [
              "position",
              "zoom_in_text",
              "zoom_in_title",
              "zoom_out_text",
              "zoom_out_title"
            ],
            "position": "topleft",
            "zoom_in_text": "+",
            "zoom_in_title": "Zoom in",
            "zoom_out_text": "-",
            "zoom_out_title": "Zoom out"
          }
        },
        "611ee5ae03484b7ab4623a6504cb03b2": {
          "model_module": "jupyter-leaflet",
          "model_name": "LeafletAttributionControlModel",
          "model_module_version": "^0.18",
          "state": {
            "_model_module": "jupyter-leaflet",
            "_model_module_version": "^0.18",
            "_model_name": "LeafletAttributionControlModel",
            "_view_count": null,
            "_view_module": "jupyter-leaflet",
            "_view_module_version": "^0.18",
            "_view_name": "LeafletAttributionControlView",
            "options": [
              "position",
              "prefix"
            ],
            "position": "bottomright",
            "prefix": "ipyleaflet"
          }
        },
        "fd830322216e4561a9709ce6f0413cf8": {
          "model_module": "jupyter-leaflet",
          "model_name": "LeafletFullScreenControlModel",
          "model_module_version": "^0.18",
          "state": {
            "_model_module": "jupyter-leaflet",
            "_model_module_version": "^0.18",
            "_model_name": "LeafletFullScreenControlModel",
            "_view_count": null,
            "_view_module": "jupyter-leaflet",
            "_view_module_version": "^0.18",
            "_view_name": "LeafletFullScreenControlView",
            "options": [
              "position"
            ],
            "position": "topleft"
          }
        },
        "9374f02db2ca4dc5a560718faa92b15e": {
          "model_module": "jupyter-leaflet",
          "model_name": "LeafletDrawControlModel",
          "model_module_version": "^0.18",
          "state": {
            "_model_module": "jupyter-leaflet",
            "_model_module_version": "^0.18",
            "_model_name": "LeafletDrawControlModel",
            "_view_count": null,
            "_view_module": "jupyter-leaflet",
            "_view_module_version": "^0.18",
            "_view_name": "LeafletDrawControlView",
            "circle": {
              "shapeOptions": {
                "color": "#3388ff"
              },
              "repeatMode": false
            },
            "circlemarker": {},
            "data": [],
            "edit": true,
            "marker": {
              "shapeOptions": {
                "color": "#3388ff"
              },
              "repeatMode": false
            },
            "options": [
              "position"
            ],
            "polygon": {
              "repeatMode": false
            },
            "polyline": {
              "repeatMode": false
            },
            "position": "topleft",
            "rectangle": {
              "shapeOptions": {
                "color": "#3388ff"
              },
              "repeatMode": false
            },
            "remove": true
          }
        },
        "5850ada2a470401d983ff8a8a4ebb98a": {
          "model_module": "jupyter-leaflet",
          "model_name": "LeafletScaleControlModel",
          "model_module_version": "^0.18",
          "state": {
            "_model_module": "jupyter-leaflet",
            "_model_module_version": "^0.18",
            "_model_name": "LeafletScaleControlModel",
            "_view_count": null,
            "_view_module": "jupyter-leaflet",
            "_view_module_version": "^0.18",
            "_view_name": "LeafletScaleControlView",
            "imperial": true,
            "max_width": 100,
            "metric": true,
            "options": [
              "imperial",
              "max_width",
              "metric",
              "position",
              "update_when_idle"
            ],
            "position": "bottomleft",
            "update_when_idle": false
          }
        },
        "84f30a43e3ba4aa9b041a22ad313dbea": {
          "model_module": "jupyter-leaflet",
          "model_name": "LeafletWidgetControlModel",
          "model_module_version": "^0.18",
          "state": {
            "_model_module": "jupyter-leaflet",
            "_model_module_version": "^0.18",
            "_model_name": "LeafletWidgetControlModel",
            "_view_count": null,
            "_view_module": "jupyter-leaflet",
            "_view_module_version": "^0.18",
            "_view_name": "LeafletWidgetControlView",
            "max_height": null,
            "max_width": null,
            "min_height": null,
            "min_width": null,
            "options": [
              "position",
              "transparent_bg"
            ],
            "position": "topright",
            "transparent_bg": false,
            "widget": "IPY_MODEL_a969877d6626444ea704b8d28c9ac6b6"
          }
        },
        "6c5aba1431a0436f9c0fb57750628418": {
          "model_module": "jupyter-leaflet",
          "model_name": "LeafletWidgetControlModel",
          "model_module_version": "^0.18",
          "state": {
            "_model_module": "jupyter-leaflet",
            "_model_module_version": "^0.18",
            "_model_name": "LeafletWidgetControlModel",
            "_view_count": null,
            "_view_module": "jupyter-leaflet",
            "_view_module_version": "^0.18",
            "_view_name": "LeafletWidgetControlView",
            "max_height": null,
            "max_width": null,
            "min_height": null,
            "min_width": null,
            "options": [
              "position",
              "transparent_bg"
            ],
            "position": "bottomright",
            "transparent_bg": false,
            "widget": "IPY_MODEL_244d850115d145628fecd74d289f3d80"
          }
        },
        "3c91fd20abed4779bc5842d755e4c253": {
          "model_module": "jupyter-leaflet",
          "model_name": "LeafletMapStyleModel",
          "model_module_version": "^0.18",
          "state": {
            "_model_module": "jupyter-leaflet",
            "_model_module_version": "^0.18",
            "_model_name": "LeafletMapStyleModel",
            "_view_count": null,
            "_view_module": "@jupyter-widgets/base",
            "_view_module_version": "1.2.0",
            "_view_name": "StyleView",
            "cursor": "grab"
          }
        },
        "0de7e889cb9b4575a9a5dd63b5aa6927": {
          "model_module": "jupyter-leaflet",
          "model_name": "LeafletMapStyleModel",
          "model_module_version": "^0.18",
          "state": {
            "_model_module": "jupyter-leaflet",
            "_model_module_version": "^0.18",
            "_model_name": "LeafletMapStyleModel",
            "_view_count": null,
            "_view_module": "@jupyter-widgets/base",
            "_view_module_version": "1.2.0",
            "_view_name": "StyleView",
            "cursor": "move"
          }
        },
        "48573dc8c103412484f8124bf5a25835": {
          "model_module": "jupyter-leaflet",
          "model_name": "LeafletTileLayerModel",
          "model_module_version": "^0.18",
          "state": {
            "_model_module": "jupyter-leaflet",
            "_model_module_version": "^0.18",
            "_model_name": "LeafletTileLayerModel",
            "_view_count": null,
            "_view_module": "jupyter-leaflet",
            "_view_module_version": "^0.18",
            "_view_name": "LeafletTileLayerView",
            "attribution": "&copy; <a href=\"https://www.openstreetmap.org/copyright\">OpenStreetMap</a> contributors",
            "base": true,
            "bottom": true,
            "bounds": null,
            "detect_retina": false,
            "loading": false,
            "max_native_zoom": null,
            "max_zoom": 19,
            "min_native_zoom": null,
            "min_zoom": 1,
            "name": "OpenStreetMap",
            "no_wrap": false,
            "opacity": 1,
            "options": [
              "attribution",
              "bounds",
              "detect_retina",
              "max_native_zoom",
              "max_zoom",
              "min_native_zoom",
              "min_zoom",
              "no_wrap",
              "tile_size",
              "tms",
              "zoom_offset"
            ],
            "pane": "",
            "popup": null,
            "popup_max_height": null,
            "popup_max_width": 300,
            "popup_min_width": 50,
            "show_loading": false,
            "subitems": [],
            "tile_size": 256,
            "tms": false,
            "url": "https://tile.openstreetmap.org/{z}/{x}/{y}.png",
            "visible": true,
            "zoom_offset": 0
          }
        },
        "25effeff5b044acbbc75b3c7c0f1ffa4": {
          "model_module": "jupyter-leaflet",
          "model_name": "LeafletTileLayerModel",
          "model_module_version": "^0.18",
          "state": {
            "_model_module": "jupyter-leaflet",
            "_model_module_version": "^0.18",
            "_model_name": "LeafletTileLayerModel",
            "_view_count": null,
            "_view_module": "jupyter-leaflet",
            "_view_module_version": "^0.18",
            "_view_name": "LeafletTileLayerView",
            "attribution": "",
            "base": false,
            "bottom": true,
            "bounds": null,
            "detect_retina": false,
            "loading": false,
            "max_native_zoom": 30,
            "max_zoom": 30,
            "min_native_zoom": null,
            "min_zoom": 0,
            "name": "DSM",
            "no_wrap": false,
            "opacity": 1,
            "options": [
              "attribution",
              "bounds",
              "detect_retina",
              "max_native_zoom",
              "max_zoom",
              "min_native_zoom",
              "min_zoom",
              "no_wrap",
              "tile_size",
              "tms",
              "zoom_offset"
            ],
            "pane": "",
            "popup": null,
            "popup_max_height": null,
            "popup_max_width": 300,
            "popup_min_width": 50,
            "show_loading": false,
            "subitems": [],
            "tile_size": 256,
            "tms": false,
            "url": "https://titiler.xyz/cog/tiles/WebMercatorQuad/{z}/{x}/{y}@1x?url=https%3A%2F%2Fopen.gishub.org%2Fdata%2Felevation%2Fdsm.tif&colormap_name=terrain&bidx=1&rescale=8.639184951782227%2C29.528831481933594",
            "visible": true,
            "zoom_offset": 0
          }
        },
        "06b9eebc3fe446e2ac8e89b2cec25f30": {
          "model_module": "jupyter-leaflet",
          "model_name": "LeafletTileLayerModel",
          "model_module_version": "^0.18",
          "state": {
            "_model_module": "jupyter-leaflet",
            "_model_module_version": "^0.18",
            "_model_name": "LeafletTileLayerModel",
            "_view_count": null,
            "_view_module": "jupyter-leaflet",
            "_view_module_version": "^0.18",
            "_view_name": "LeafletTileLayerView",
            "attribution": "",
            "base": false,
            "bottom": true,
            "bounds": null,
            "detect_retina": false,
            "loading": false,
            "max_native_zoom": 30,
            "max_zoom": 30,
            "min_native_zoom": null,
            "min_zoom": 0,
            "name": "Height Above Ground",
            "no_wrap": false,
            "opacity": 1,
            "options": [
              "attribution",
              "bounds",
              "detect_retina",
              "max_native_zoom",
              "max_zoom",
              "min_native_zoom",
              "min_zoom",
              "no_wrap",
              "tile_size",
              "tms",
              "zoom_offset"
            ],
            "pane": "",
            "popup": null,
            "popup_max_height": null,
            "popup_max_width": 300,
            "popup_min_width": 50,
            "show_loading": false,
            "subitems": [],
            "tile_size": 256,
            "tms": false,
            "url": "https://titiler.xyz/cog/tiles/WebMercatorQuad/{z}/{x}/{y}@1x?url=https%3A%2F%2Fopen.gishub.org%2Fdata%2Felevation%2Fhag.tif&colormap_name=magma&bidx=1&rescale=0.0%2C21.200000762939453",
            "visible": true,
            "zoom_offset": 0
          }
        },
        "25a68f39721f442d8514dd4c7735f01f": {
          "model_module": "jupyter-leaflet",
          "model_name": "LeafletGeoJSONModel",
          "model_module_version": "^0.18",
          "state": {
            "_model_module": "jupyter-leaflet",
            "_model_module_version": "^0.18",
            "_model_name": "LeafletGeoJSONModel",
            "_view_count": null,
            "_view_module": "jupyter-leaflet",
            "_view_module_version": "^0.18",
            "_view_name": "LeafletGeoJSONView",
            "base": false,
            "bottom": false,
            "data": {
              "type": "FeatureCollection",
              "name": "buildings",
              "crs": {
                "type": "name",
                "properties": {
                  "name": "urn:ogc:def:crs:OGC:1.3:CRS84"
                }
              },
              "features": [
                {
                  "type": "Feature",
                  "properties": {
                    "HEIGHT": 17.530000686645508,
                    "SQMETERS": 3525.11328125,
                    "style": {
                      "color": "black",
                      "fillColor": "black"
                    }
                  },
                  "geometry": {
                    "type": "MultiPolygon",
                    "coordinates": [
                      [
                        [
                          [
                            -77.051213,
                            38.812148
                          ],
                          [
                            -77.05132,
                            38.811558
                          ],
                          [
                            -77.051575,
                            38.811586
                          ],
                          [
                            -77.051504,
                            38.811979
                          ],
                          [
                            -77.05183,
                            38.812015
                          ],
                          [
                            -77.051888,
                            38.811697
                          ],
                          [
                            -77.052127,
                            38.811724
                          ],
                          [
                            -77.052062,
                            38.812084
                          ],
                          [
                            -77.052093,
                            38.812088
                          ],
                          [
                            -77.052065,
                            38.812241
                          ],
                          [
                            -77.051213,
                            38.812148
                          ]
                        ]
                      ]
                    ]
                  }
                },
                {
                  "type": "Feature",
                  "properties": {
                    "HEIGHT": 6.619999885559082,
                    "SQMETERS": 51.4990348815918,
                    "style": {
                      "color": "black",
                      "fillColor": "black"
                    }
                  },
                  "geometry": {
                    "type": "MultiPolygon",
                    "coordinates": [
                      [
                        [
                          [
                            -77.053394,
                            38.809303
                          ],
                          [
                            -77.053409,
                            38.809174
                          ],
                          [
                            -77.053465,
                            38.809178
                          ],
                          [
                            -77.05345,
                            38.809307
                          ],
                          [
                            -77.053394,
                            38.809303
                          ]
                        ]
                      ]
                    ]
                  }
                },
                {
                  "type": "Feature",
                  "properties": {
                    "HEIGHT": 5.96999979019165,
                    "SQMETERS": 233.68722534179688,
                    "style": {
                      "color": "black",
                      "fillColor": "black"
                    }
                  },
                  "geometry": {
                    "type": "MultiPolygon",
                    "coordinates": [
                      [
                        [
                          [
                            -77.052724,
                            38.810644
                          ],
                          [
                            -77.05282,
                            38.810653
                          ],
                          [
                            -77.052784,
                            38.810879
                          ],
                          [
                            -77.052689,
                            38.81087
                          ],
                          [
                            -77.052724,
                            38.810644
                          ]
                        ]
                      ]
                    ]
                  }
                },
                {
                  "type": "Feature",
                  "properties": {
                    "HEIGHT": 7.19000005722046,
                    "SQMETERS": 320.350341796875,
                    "style": {
                      "color": "black",
                      "fillColor": "black"
                    }
                  },
                  "geometry": {
                    "type": "MultiPolygon",
                    "coordinates": [
                      [
                        [
                          [
                            -77.05211,
                            38.810242
                          ],
                          [
                            -77.052132,
                            38.810111
                          ],
                          [
                            -77.052235,
                            38.810121
                          ],
                          [
                            -77.052231,
                            38.810144
                          ],
                          [
                            -77.052291,
                            38.81015
                          ],
                          [
                            -77.052289,
                            38.810161
                          ],
                          [
                            -77.052364,
                            38.810169
                          ],
                          [
                            -77.052367,
                            38.810149
                          ],
                          [
                            -77.052456,
                            38.810158
                          ],
                          [
                            -77.052435,
                            38.810276
                          ],
                          [
                            -77.05211,
                            38.810242
                          ]
                        ]
                      ]
                    ]
                  }
                },
                {
                  "type": "Feature",
                  "properties": {
                    "HEIGHT": 6.340000152587892,
                    "SQMETERS": 85.3870620727539,
                    "style": {
                      "color": "black",
                      "fillColor": "black"
                    }
                  },
                  "geometry": {
                    "type": "MultiPolygon",
                    "coordinates": [
                      [
                        [
                          [
                            -77.05285,
                            38.81006
                          ],
                          [
                            -77.053034,
                            38.810073
                          ],
                          [
                            -77.05303,
                            38.810106
                          ],
                          [
                            -77.053011,
                            38.810105
                          ],
                          [
                            -77.05301,
                            38.810121
                          ],
                          [
                            -77.052845,
                            38.81011
                          ],
                          [
                            -77.05285,
                            38.81006
                          ]
                        ]
                      ]
                    ]
                  }
                },
                {
                  "type": "Feature",
                  "properties": {
                    "HEIGHT": 6.590000152587892,
                    "SQMETERS": 116.73389434814453,
                    "style": {
                      "color": "black",
                      "fillColor": "black"
                    }
                  },
                  "geometry": {
                    "type": "MultiPolygon",
                    "coordinates": [
                      [
                        [
                          [
                            -77.053242,
                            38.809599
                          ],
                          [
                            -77.053257,
                            38.809476
                          ],
                          [
                            -77.053363,
                            38.809483
                          ],
                          [
                            -77.053348,
                            38.809607
                          ],
                          [
                            -77.053242,
                            38.809599
                          ]
                        ]
                      ]
                    ]
                  }
                },
                {
                  "type": "Feature",
                  "properties": {
                    "HEIGHT": 5.920000076293946,
                    "SQMETERS": 100.89398193359375,
                    "style": {
                      "color": "black",
                      "fillColor": "black"
                    }
                  },
                  "geometry": {
                    "type": "MultiPolygon",
                    "coordinates": [
                      [
                        [
                          [
                            -77.053962,
                            38.809843
                          ],
                          [
                            -77.054086,
                            38.809851
                          ],
                          [
                            -77.054078,
                            38.80993
                          ],
                          [
                            -77.053954,
                            38.809922
                          ],
                          [
                            -77.053962,
                            38.809843
                          ]
                        ]
                      ]
                    ]
                  }
                },
                {
                  "type": "Feature",
                  "properties": {
                    "HEIGHT": 9.470000267028809,
                    "SQMETERS": 594.9000854492186,
                    "style": {
                      "color": "black",
                      "fillColor": "black"
                    }
                  },
                  "geometry": {
                    "type": "MultiPolygon",
                    "coordinates": [
                      [
                        [
                          [
                            -77.053628,
                            38.811296
                          ],
                          [
                            -77.053711,
                            38.810863
                          ],
                          [
                            -77.053854,
                            38.810879
                          ],
                          [
                            -77.053817,
                            38.811072
                          ],
                          [
                            -77.053835,
                            38.811074
                          ],
                          [
                            -77.053803,
                            38.81124
                          ],
                          [
                            -77.053772,
                            38.811237
                          ],
                          [
                            -77.053757,
                            38.811311
                          ],
                          [
                            -77.053628,
                            38.811296
                          ]
                        ]
                      ]
                    ]
                  }
                },
                {
                  "type": "Feature",
                  "properties": {
                    "HEIGHT": 10.460000038146973,
                    "SQMETERS": 363.05828857421875,
                    "style": {
                      "color": "black",
                      "fillColor": "black"
                    }
                  },
                  "geometry": {
                    "type": "MultiPolygon",
                    "coordinates": [
                      [
                        [
                          [
                            -77.053869,
                            38.811579
                          ],
                          [
                            -77.053858,
                            38.811641
                          ],
                          [
                            -77.053904,
                            38.811645
                          ],
                          [
                            -77.053886,
                            38.811748
                          ],
                          [
                            -77.05383,
                            38.811742
                          ],
                          [
                            -77.053836,
                            38.811705
                          ],
                          [
                            -77.053632,
                            38.811684
                          ],
                          [
                            -77.053635,
                            38.811665
                          ],
                          [
                            -77.053546,
                            38.811656
                          ],
                          [
                            -77.053565,
                            38.811547
                          ],
                          [
                            -77.053869,
                            38.811579
                          ]
                        ]
                      ]
                    ]
                  }
                },
                {
                  "type": "Feature",
                  "properties": {
                    "HEIGHT": 6.920000076293946,
                    "SQMETERS": 65.7232437133789,
                    "style": {
                      "color": "black",
                      "fillColor": "black"
                    }
                  },
                  "geometry": {
                    "type": "MultiPolygon",
                    "coordinates": [
                      [
                        [
                          [
                            -77.051207,
                            38.80993
                          ],
                          [
                            -77.051213,
                            38.809884
                          ],
                          [
                            -77.05137,
                            38.809896
                          ],
                          [
                            -77.051364,
                            38.809943
                          ],
                          [
                            -77.051207,
                            38.80993
                          ]
                        ]
                      ]
                    ]
                  }
                },
                {
                  "type": "Feature",
                  "properties": {
                    "HEIGHT": 6.369999885559082,
                    "SQMETERS": 99.35841369628906,
                    "style": {
                      "color": "black",
                      "fillColor": "black"
                    }
                  },
                  "geometry": {
                    "type": "MultiPolygon",
                    "coordinates": [
                      [
                        [
                          [
                            -77.051337,
                            38.809603
                          ],
                          [
                            -77.051275,
                            38.809597
                          ],
                          [
                            -77.051281,
                            38.809558
                          ],
                          [
                            -77.051435,
                            38.809572
                          ],
                          [
                            -77.051423,
                            38.809655
                          ],
                          [
                            -77.051331,
                            38.809646
                          ],
                          [
                            -77.051337,
                            38.809603
                          ]
                        ]
                      ]
                    ]
                  }
                },
                {
                  "type": "Feature",
                  "properties": {
                    "HEIGHT": 5.900000095367432,
                    "SQMETERS": 187.36326599121094,
                    "style": {
                      "color": "black",
                      "fillColor": "black"
                    }
                  },
                  "geometry": {
                    "type": "MultiPolygon",
                    "coordinates": [
                      [
                        [
                          [
                            -77.052601,
                            38.811227
                          ],
                          [
                            -77.052693,
                            38.811237
                          ],
                          [
                            -77.052658,
                            38.811428
                          ],
                          [
                            -77.052724,
                            38.811435
                          ],
                          [
                            -77.052715,
                            38.811484
                          ],
                          [
                            -77.052552,
                            38.811466
                          ],
                          [
                            -77.052562,
                            38.811415
                          ],
                          [
                            -77.052542,
                            38.811413
                          ],
                          [
                            -77.052551,
                            38.811366
                          ],
                          [
                            -77.052575,
                            38.811369
                          ],
                          [
                            -77.052601,
                            38.811227
                          ]
                        ]
                      ]
                    ]
                  }
                },
                {
                  "type": "Feature",
                  "properties": {
                    "HEIGHT": 5.349999904632568,
                    "SQMETERS": 66.61397552490234,
                    "style": {
                      "color": "black",
                      "fillColor": "black"
                    }
                  },
                  "geometry": {
                    "type": "MultiPolygon",
                    "coordinates": [
                      [
                        [
                          [
                            -77.052828,
                            38.810185
                          ],
                          [
                            -77.052835,
                            38.810133
                          ],
                          [
                            -77.052961,
                            38.810144
                          ],
                          [
                            -77.052954,
                            38.810196
                          ],
                          [
                            -77.052828,
                            38.810185
                          ]
                        ]
                      ]
                    ]
                  }
                },
                {
                  "type": "Feature",
                  "properties": {
                    "HEIGHT": 6.94000005722046,
                    "SQMETERS": 189.03309631347656,
                    "style": {
                      "color": "black",
                      "fillColor": "black"
                    }
                  },
                  "geometry": {
                    "type": "MultiPolygon",
                    "coordinates": [
                      [
                        [
                          [
                            -77.05377,
                            38.810722
                          ],
                          [
                            -77.053937,
                            38.810733
                          ],
                          [
                            -77.053926,
                            38.810837
                          ],
                          [
                            -77.053759,
                            38.810826
                          ],
                          [
                            -77.05377,
                            38.810722
                          ]
                        ]
                      ]
                    ]
                  }
                },
                {
                  "type": "Feature",
                  "properties": {
                    "HEIGHT": 5.539999961853028,
                    "SQMETERS": 150.42425537109375,
                    "style": {
                      "color": "black",
                      "fillColor": "black"
                    }
                  },
                  "geometry": {
                    "type": "MultiPolygon",
                    "coordinates": [
                      [
                        [
                          [
                            -77.052884,
                            38.811437
                          ],
                          [
                            -77.052992,
                            38.811445
                          ],
                          [
                            -77.052983,
                            38.811515
                          ],
                          [
                            -77.052812,
                            38.811502
                          ],
                          [
                            -77.052828,
                            38.811374
                          ],
                          [
                            -77.052891,
                            38.811379
                          ],
                          [
                            -77.052884,
                            38.811437
                          ]
                        ]
                      ]
                    ]
                  }
                },
                {
                  "type": "Feature",
                  "properties": {
                    "HEIGHT": 6.630000114440918,
                    "SQMETERS": 402.5047912597656,
                    "style": {
                      "color": "black",
                      "fillColor": "black"
                    }
                  },
                  "geometry": {
                    "type": "MultiPolygon",
                    "coordinates": [
                      [
                        [
                          [
                            -77.051678,
                            38.810189
                          ],
                          [
                            -77.051698,
                            38.810061
                          ],
                          [
                            -77.051846,
                            38.810075
                          ],
                          [
                            -77.051839,
                            38.810119
                          ],
                          [
                            -77.051874,
                            38.810122
                          ],
                          [
                            -77.051878,
                            38.810097
                          ],
                          [
                            -77.051952,
                            38.810104
                          ],
                          [
                            -77.051947,
                            38.810135
                          ],
                          [
                            -77.051981,
                            38.810138
                          ],
                          [
                            -77.051988,
                            38.810092
                          ],
                          [
                            -77.052075,
                            38.8101
                          ],
                          [
                            -77.052056,
                            38.810225
                          ],
                          [
                            -77.051678,
                            38.810189
                          ]
                        ]
                      ]
                    ]
                  }
                },
                {
                  "type": "Feature",
                  "properties": {
                    "HEIGHT": 6.829999923706056,
                    "SQMETERS": 46.15605545043945,
                    "style": {
                      "color": "black",
                      "fillColor": "black"
                    }
                  },
                  "geometry": {
                    "type": "MultiPolygon",
                    "coordinates": [
                      [
                        [
                          [
                            -77.054254,
                            38.810507
                          ],
                          [
                            -77.054403,
                            38.810521
                          ],
                          [
                            -77.054394,
                            38.810583
                          ],
                          [
                            -77.054245,
                            38.810569
                          ],
                          [
                            -77.054254,
                            38.810507
                          ]
                        ]
                      ]
                    ]
                  }
                },
                {
                  "type": "Feature",
                  "properties": {
                    "HEIGHT": 6.369999885559082,
                    "SQMETERS": 246.4384765625,
                    "style": {
                      "color": "black",
                      "fillColor": "black"
                    }
                  },
                  "geometry": {
                    "type": "MultiPolygon",
                    "coordinates": [
                      [
                        [
                          [
                            -77.052633,
                            38.811124
                          ],
                          [
                            -77.052653,
                            38.810988
                          ],
                          [
                            -77.05279,
                            38.811
                          ],
                          [
                            -77.052778,
                            38.811085
                          ],
                          [
                            -77.052726,
                            38.811081
                          ],
                          [
                            -77.052718,
                            38.811139
                          ],
                          [
                            -77.052771,
                            38.811143
                          ],
                          [
                            -77.052764,
                            38.811187
                          ],
                          [
                            -77.05259,
                            38.811171
                          ],
                          [
                            -77.052597,
                            38.811121
                          ],
                          [
                            -77.052633,
                            38.811124
                          ]
                        ]
                      ]
                    ]
                  }
                },
                {
                  "type": "Feature",
                  "properties": {
                    "HEIGHT": 5.480000019073486,
                    "SQMETERS": 91.9062271118164,
                    "style": {
                      "color": "black",
                      "fillColor": "black"
                    }
                  },
                  "geometry": {
                    "type": "MultiPolygon",
                    "coordinates": [
                      [
                        [
                          [
                            -77.05425,
                            38.81042
                          ],
                          [
                            -77.054423,
                            38.810432
                          ],
                          [
                            -77.054416,
                            38.810494
                          ],
                          [
                            -77.054243,
                            38.810482
                          ],
                          [
                            -77.05425,
                            38.81042
                          ]
                        ]
                      ]
                    ]
                  }
                },
                {
                  "type": "Feature",
                  "properties": {
                    "HEIGHT": 5.340000152587892,
                    "SQMETERS": 41.90424346923828,
                    "style": {
                      "color": "black",
                      "fillColor": "black"
                    }
                  },
                  "geometry": {
                    "type": "MultiPolygon",
                    "coordinates": [
                      [
                        [
                          [
                            -77.052466,
                            38.809043
                          ],
                          [
                            -77.052446,
                            38.809186
                          ],
                          [
                            -77.052396,
                            38.809182
                          ],
                          [
                            -77.052416,
                            38.809038
                          ],
                          [
                            -77.052466,
                            38.809043
                          ]
                        ]
                      ]
                    ]
                  }
                },
                {
                  "type": "Feature",
                  "properties": {
                    "HEIGHT": 5.21999979019165,
                    "SQMETERS": 128.04364013671875,
                    "style": {
                      "color": "black",
                      "fillColor": "black"
                    }
                  },
                  "geometry": {
                    "type": "MultiPolygon",
                    "coordinates": [
                      [
                        [
                          [
                            -77.053149,
                            38.810688
                          ],
                          [
                            -77.053142,
                            38.810759
                          ],
                          [
                            -77.052972,
                            38.81075
                          ],
                          [
                            -77.052978,
                            38.810679
                          ],
                          [
                            -77.053149,
                            38.810688
                          ]
                        ]
                      ]
                    ]
                  }
                },
                {
                  "type": "Feature",
                  "properties": {
                    "HEIGHT": 5.699999809265138,
                    "SQMETERS": 101.71824645996094,
                    "style": {
                      "color": "black",
                      "fillColor": "black"
                    }
                  },
                  "geometry": {
                    "type": "MultiPolygon",
                    "coordinates": [
                      [
                        [
                          [
                            -77.053417,
                            38.810722
                          ],
                          [
                            -77.0534,
                            38.810802
                          ],
                          [
                            -77.053267,
                            38.810784
                          ],
                          [
                            -77.053284,
                            38.810705
                          ],
                          [
                            -77.053417,
                            38.810722
                          ]
                        ]
                      ]
                    ]
                  }
                },
                {
                  "type": "Feature",
                  "properties": {
                    "HEIGHT": 8.010000228881836,
                    "SQMETERS": 81.98997497558594,
                    "style": {
                      "color": "black",
                      "fillColor": "black"
                    }
                  },
                  "geometry": {
                    "type": "MultiPolygon",
                    "coordinates": [
                      [
                        [
                          [
                            -77.053525,
                            38.809317
                          ],
                          [
                            -77.053553,
                            38.809208
                          ],
                          [
                            -77.053665,
                            38.809226
                          ],
                          [
                            -77.053638,
                            38.809334
                          ],
                          [
                            -77.053525,
                            38.809317
                          ]
                        ]
                      ]
                    ]
                  }
                },
                {
                  "type": "Feature",
                  "properties": {
                    "HEIGHT": 7.119999885559082,
                    "SQMETERS": 247.78138732910156,
                    "style": {
                      "color": "black",
                      "fillColor": "black"
                    }
                  },
                  "geometry": {
                    "type": "MultiPolygon",
                    "coordinates": [
                      [
                        [
                          [
                            -77.052337,
                            38.810557
                          ],
                          [
                            -77.052321,
                            38.81065
                          ],
                          [
                            -77.052057,
                            38.810624
                          ],
                          [
                            -77.052073,
                            38.81053
                          ],
                          [
                            -77.052337,
                            38.810557
                          ]
                        ]
                      ]
                    ]
                  }
                },
                {
                  "type": "Feature",
                  "properties": {
                    "HEIGHT": 6.059999942779542,
                    "SQMETERS": 157.24124145507812,
                    "style": {
                      "color": "black",
                      "fillColor": "black"
                    }
                  },
                  "geometry": {
                    "type": "MultiPolygon",
                    "coordinates": [
                      [
                        [
                          [
                            -77.053861,
                            38.810217
                          ],
                          [
                            -77.054025,
                            38.810231
                          ],
                          [
                            -77.054013,
                            38.81032
                          ],
                          [
                            -77.053849,
                            38.810306
                          ],
                          [
                            -77.053861,
                            38.810217
                          ]
                        ]
                      ]
                    ]
                  }
                },
                {
                  "type": "Feature",
                  "properties": {
                    "HEIGHT": 6.289999961853028,
                    "SQMETERS": 95.56697082519531,
                    "style": {
                      "color": "black",
                      "fillColor": "black"
                    }
                  },
                  "geometry": {
                    "type": "MultiPolygon",
                    "coordinates": [
                      [
                        [
                          [
                            -77.05125,
                            38.809738
                          ],
                          [
                            -77.051268,
                            38.809667
                          ],
                          [
                            -77.051395,
                            38.809687
                          ],
                          [
                            -77.051377,
                            38.809757
                          ],
                          [
                            -77.05125,
                            38.809738
                          ]
                        ]
                      ]
                    ]
                  }
                },
                {
                  "type": "Feature",
                  "properties": {
                    "HEIGHT": 6.900000095367432,
                    "SQMETERS": 340.0948791503907,
                    "style": {
                      "color": "black",
                      "fillColor": "black"
                    }
                  },
                  "geometry": {
                    "type": "MultiPolygon",
                    "coordinates": [
                      [
                        [
                          [
                            -77.051981,
                            38.809334
                          ],
                          [
                            -77.051949,
                            38.809519
                          ],
                          [
                            -77.051984,
                            38.809522
                          ],
                          [
                            -77.051977,
                            38.80956
                          ],
                          [
                            -77.051998,
                            38.809563
                          ],
                          [
                            -77.051991,
                            38.809605
                          ],
                          [
                            -77.051943,
                            38.8096
                          ],
                          [
                            -77.051934,
                            38.809655
                          ],
                          [
                            -77.051815,
                            38.809643
                          ],
                          [
                            -77.05187,
                            38.809323
                          ],
                          [
                            -77.051981,
                            38.809334
                          ]
                        ]
                      ]
                    ]
                  }
                },
                {
                  "type": "Feature",
                  "properties": {
                    "HEIGHT": 5.269999980926514,
                    "SQMETERS": 71.801513671875,
                    "style": {
                      "color": "black",
                      "fillColor": "black"
                    }
                  },
                  "geometry": {
                    "type": "MultiPolygon",
                    "coordinates": [
                      [
                        [
                          [
                            -77.053383,
                            38.810093
                          ],
                          [
                            -77.053604,
                            38.810105
                          ],
                          [
                            -77.053601,
                            38.810144
                          ],
                          [
                            -77.053379,
                            38.810132
                          ],
                          [
                            -77.053383,
                            38.810093
                          ]
                        ]
                      ]
                    ]
                  }
                },
                {
                  "type": "Feature",
                  "properties": {
                    "HEIGHT": 6.769999980926514,
                    "SQMETERS": 58.50389099121094,
                    "style": {
                      "color": "black",
                      "fillColor": "black"
                    }
                  },
                  "geometry": {
                    "type": "MultiPolygon",
                    "coordinates": [
                      [
                        [
                          [
                            -77.0534,
                            38.810084
                          ],
                          [
                            -77.053406,
                            38.810043
                          ],
                          [
                            -77.053616,
                            38.810061
                          ],
                          [
                            -77.05361,
                            38.810102
                          ],
                          [
                            -77.0534,
                            38.810084
                          ]
                        ]
                      ]
                    ]
                  }
                },
                {
                  "type": "Feature",
                  "properties": {
                    "HEIGHT": 6.90999984741211,
                    "SQMETERS": 172.29965209960938,
                    "style": {
                      "color": "black",
                      "fillColor": "black"
                    }
                  },
                  "geometry": {
                    "type": "MultiPolygon",
                    "coordinates": [
                      [
                        [
                          [
                            -77.053659,
                            38.809337
                          ],
                          [
                            -77.053673,
                            38.80923
                          ],
                          [
                            -77.053834,
                            38.809243
                          ],
                          [
                            -77.053819,
                            38.80935
                          ],
                          [
                            -77.053659,
                            38.809337
                          ]
                        ]
                      ]
                    ]
                  }
                },
                {
                  "type": "Feature",
                  "properties": {
                    "HEIGHT": 6.599999904632568,
                    "SQMETERS": 178.0210418701172,
                    "style": {
                      "color": "black",
                      "fillColor": "black"
                    }
                  },
                  "geometry": {
                    "type": "MultiPolygon",
                    "coordinates": [
                      [
                        [
                          [
                            -77.051063,
                            38.809195
                          ],
                          [
                            -77.051254,
                            38.80921
                          ],
                          [
                            -77.051241,
                            38.809305
                          ],
                          [
                            -77.05105,
                            38.80929
                          ],
                          [
                            -77.051063,
                            38.809195
                          ]
                        ]
                      ]
                    ]
                  }
                },
                {
                  "type": "Feature",
                  "properties": {
                    "HEIGHT": 14.180000305175781,
                    "SQMETERS": 2188.783935546875,
                    "style": {
                      "color": "black",
                      "fillColor": "black"
                    }
                  },
                  "geometry": {
                    "type": "MultiPolygon",
                    "coordinates": [
                      [
                        [
                          [
                            -77.051341,
                            38.810446
                          ],
                          [
                            -77.051312,
                            38.810598
                          ],
                          [
                            -77.05129,
                            38.810595
                          ],
                          [
                            -77.051251,
                            38.810799
                          ],
                          [
                            -77.051085,
                            38.81078
                          ],
                          [
                            -77.05109,
                            38.810758
                          ],
                          [
                            -77.05103,
                            38.810751
                          ],
                          [
                            -77.051064,
                            38.810577
                          ],
                          [
                            -77.051097,
                            38.81058
                          ],
                          [
                            -77.051105,
                            38.810536
                          ],
                          [
                            -77.051035,
                            38.810528
                          ],
                          [
                            -77.051032,
                            38.810548
                          ],
                          [
                            -77.050824,
                            38.810524
                          ],
                          [
                            -77.05086,
                            38.810338
                          ],
                          [
                            -77.051115,
                            38.810367
                          ],
                          [
                            -77.051097,
                            38.810457
                          ],
                          [
                            -77.05115,
                            38.810463
                          ],
                          [
                            -77.051157,
                            38.810424
                          ],
                          [
                            -77.051341,
                            38.810446
                          ]
                        ]
                      ]
                    ]
                  }
                },
                {
                  "type": "Feature",
                  "properties": {
                    "HEIGHT": 5.789999961853028,
                    "SQMETERS": 183.733642578125,
                    "style": {
                      "color": "black",
                      "fillColor": "black"
                    }
                  },
                  "geometry": {
                    "type": "MultiPolygon",
                    "coordinates": [
                      [
                        [
                          [
                            -77.051485,
                            38.80926
                          ],
                          [
                            -77.051469,
                            38.809402
                          ],
                          [
                            -77.051341,
                            38.809393
                          ],
                          [
                            -77.051357,
                            38.809252
                          ],
                          [
                            -77.051485,
                            38.80926
                          ]
                        ]
                      ]
                    ]
                  }
                },
                {
                  "type": "Feature",
                  "properties": {
                    "HEIGHT": 5.820000171661378,
                    "SQMETERS": 325.9065246582031,
                    "style": {
                      "color": "black",
                      "fillColor": "black"
                    }
                  },
                  "geometry": {
                    "type": "MultiPolygon",
                    "coordinates": [
                      [
                        [
                          [
                            -77.052295,
                            38.81073
                          ],
                          [
                            -77.052272,
                            38.810875
                          ],
                          [
                            -77.052295,
                            38.810877
                          ],
                          [
                            -77.052289,
                            38.81092
                          ],
                          [
                            -77.052257,
                            38.810917
                          ],
                          [
                            -77.052249,
                            38.810967
                          ],
                          [
                            -77.052272,
                            38.810969
                          ],
                          [
                            -77.052257,
                            38.811064
                          ],
                          [
                            -77.052068,
                            38.811045
                          ],
                          [
                            -77.052076,
                            38.810994
                          ],
                          [
                            -77.05211,
                            38.810997
                          ],
                          [
                            -77.052118,
                            38.81095
                          ],
                          [
                            -77.052074,
                            38.810946
                          ],
                          [
                            -77.052089,
                            38.810853
                          ],
                          [
                            -77.052177,
                            38.810862
                          ],
                          [
                            -77.0522,
                            38.810721
                          ],
                          [
                            -77.052295,
                            38.81073
                          ]
                        ]
                      ]
                    ]
                  }
                },
                {
                  "type": "Feature",
                  "properties": {
                    "HEIGHT": 6.480000019073486,
                    "SQMETERS": 326.73858642578125,
                    "style": {
                      "color": "black",
                      "fillColor": "black"
                    }
                  },
                  "geometry": {
                    "type": "MultiPolygon",
                    "coordinates": [
                      [
                        [
                          [
                            -77.052539,
                            38.809735
                          ],
                          [
                            -77.05248,
                            38.810076
                          ],
                          [
                            -77.052338,
                            38.810061
                          ],
                          [
                            -77.052354,
                            38.809966
                          ],
                          [
                            -77.052357,
                            38.809967
                          ],
                          [
                            -77.052365,
                            38.809917
                          ],
                          [
                            -77.052401,
                            38.809921
                          ],
                          [
                            -77.05241,
                            38.809869
                          ],
                          [
                            -77.052375,
                            38.809865
                          ],
                          [
                            -77.052392,
                            38.809771
                          ],
                          [
                            -77.052398,
                            38.809771
                          ],
                          [
                            -77.052407,
                            38.809721
                          ],
                          [
                            -77.052539,
                            38.809735
                          ]
                        ]
                      ]
                    ]
                  }
                },
                {
                  "type": "Feature",
                  "properties": {
                    "HEIGHT": 10.510000228881836,
                    "SQMETERS": 416.22308349609375,
                    "style": {
                      "color": "black",
                      "fillColor": "black"
                    }
                  },
                  "geometry": {
                    "type": "MultiPolygon",
                    "coordinates": [
                      [
                        [
                          [
                            -77.053984,
                            38.810751
                          ],
                          [
                            -77.054394,
                            38.81079
                          ],
                          [
                            -77.054377,
                            38.810899
                          ],
                          [
                            -77.054274,
                            38.810889
                          ],
                          [
                            -77.054272,
                            38.810899
                          ],
                          [
                            -77.053965,
                            38.810871
                          ],
                          [
                            -77.053984,
                            38.810751
                          ]
                        ]
                      ]
                    ]
                  }
                },
                {
                  "type": "Feature",
                  "properties": {
                    "HEIGHT": 5.489999771118164,
                    "SQMETERS": 356.73065185546875,
                    "style": {
                      "color": "black",
                      "fillColor": "black"
                    }
                  },
                  "geometry": {
                    "type": "MultiPolygon",
                    "coordinates": [
                      [
                        [
                          [
                            -77.052209,
                            38.811104
                          ],
                          [
                            -77.052163,
                            38.811439
                          ],
                          [
                            -77.05202,
                            38.811427
                          ],
                          [
                            -77.052026,
                            38.811377
                          ],
                          [
                            -77.052069,
                            38.811381
                          ],
                          [
                            -77.052076,
                            38.811329
                          ],
                          [
                            -77.052057,
                            38.811328
                          ],
                          [
                            -77.052064,
                            38.811282
                          ],
                          [
                            -77.052089,
                            38.811284
                          ],
                          [
                            -77.052095,
                            38.811235
                          ],
                          [
                            -77.052018,
                            38.811228
                          ],
                          [
                            -77.052025,
                            38.811179
                          ],
                          [
                            -77.052107,
                            38.811185
                          ],
                          [
                            -77.05212,
                            38.811097
                          ],
                          [
                            -77.052209,
                            38.811104
                          ]
                        ]
                      ]
                    ]
                  }
                },
                {
                  "type": "Feature",
                  "properties": {
                    "HEIGHT": 6.449999809265138,
                    "SQMETERS": 121.29930114746094,
                    "style": {
                      "color": "black",
                      "fillColor": "black"
                    }
                  },
                  "geometry": {
                    "type": "MultiPolygon",
                    "coordinates": [
                      [
                        [
                          [
                            -77.053526,
                            38.809707
                          ],
                          [
                            -77.053536,
                            38.809622
                          ],
                          [
                            -77.053687,
                            38.809632
                          ],
                          [
                            -77.053678,
                            38.809717
                          ],
                          [
                            -77.053526,
                            38.809707
                          ]
                        ]
                      ]
                    ]
                  }
                },
                {
                  "type": "Feature",
                  "properties": {
                    "HEIGHT": 6.349999904632568,
                    "SQMETERS": 53.9584846496582,
                    "style": {
                      "color": "black",
                      "fillColor": "black"
                    }
                  },
                  "geometry": {
                    "type": "MultiPolygon",
                    "coordinates": [
                      [
                        [
                          [
                            -77.053413,
                            38.81048
                          ],
                          [
                            -77.053422,
                            38.810424
                          ],
                          [
                            -77.053562,
                            38.810439
                          ],
                          [
                            -77.053552,
                            38.810494
                          ],
                          [
                            -77.053413,
                            38.81048
                          ]
                        ]
                      ]
                    ]
                  }
                },
                {
                  "type": "Feature",
                  "properties": {
                    "HEIGHT": 8.229999542236328,
                    "SQMETERS": 407.0516052246093,
                    "style": {
                      "color": "black",
                      "fillColor": "black"
                    }
                  },
                  "geometry": {
                    "type": "MultiPolygon",
                    "coordinates": [
                      [
                        [
                          [
                            -77.054143,
                            38.811371
                          ],
                          [
                            -77.054198,
                            38.81105
                          ],
                          [
                            -77.054331,
                            38.811064
                          ],
                          [
                            -77.054277,
                            38.811384
                          ],
                          [
                            -77.054143,
                            38.811371
                          ]
                        ]
                      ]
                    ]
                  }
                },
                {
                  "type": "Feature",
                  "properties": {
                    "HEIGHT": 8.210000038146974,
                    "SQMETERS": 91.19441986083984,
                    "style": {
                      "color": "black",
                      "fillColor": "black"
                    }
                  },
                  "geometry": {
                    "type": "MultiPolygon",
                    "coordinates": [
                      [
                        [
                          [
                            -77.053965,
                            38.810502
                          ],
                          [
                            -77.053953,
                            38.810547
                          ],
                          [
                            -77.053791,
                            38.810523
                          ],
                          [
                            -77.053802,
                            38.810477
                          ],
                          [
                            -77.053965,
                            38.810502
                          ]
                        ]
                      ]
                    ]
                  }
                },
                {
                  "type": "Feature",
                  "properties": {
                    "HEIGHT": 7.889999866485596,
                    "SQMETERS": 205.98622131347656,
                    "style": {
                      "color": "black",
                      "fillColor": "black"
                    }
                  },
                  "geometry": {
                    "type": "MultiPolygon",
                    "coordinates": [
                      [
                        [
                          [
                            -77.053398,
                            38.81027
                          ],
                          [
                            -77.053562,
                            38.810283
                          ],
                          [
                            -77.053544,
                            38.810429
                          ],
                          [
                            -77.053381,
                            38.810416
                          ],
                          [
                            -77.053398,
                            38.81027
                          ]
                        ]
                      ]
                    ]
                  }
                },
                {
                  "type": "Feature",
                  "properties": {
                    "HEIGHT": 6.65999984741211,
                    "SQMETERS": 220.46697998046875,
                    "style": {
                      "color": "black",
                      "fillColor": "black"
                    }
                  },
                  "geometry": {
                    "type": "MultiPolygon",
                    "coordinates": [
                      [
                        [
                          [
                            -77.053959,
                            38.809741
                          ],
                          [
                            -77.053974,
                            38.809621
                          ],
                          [
                            -77.05404,
                            38.809626
                          ],
                          [
                            -77.054044,
                            38.809599
                          ],
                          [
                            -77.054142,
                            38.809607
                          ],
                          [
                            -77.054138,
                            38.809642
                          ],
                          [
                            -77.054189,
                            38.809646
                          ],
                          [
                            -77.054174,
                            38.809764
                          ],
                          [
                            -77.054107,
                            38.809758
                          ],
                          [
                            -77.05411,
                            38.809735
                          ],
                          [
                            -77.054019,
                            38.809728
                          ],
                          [
                            -77.054017,
                            38.809745
                          ],
                          [
                            -77.053959,
                            38.809741
                          ]
                        ]
                      ]
                    ]
                  }
                },
                {
                  "type": "Feature",
                  "properties": {
                    "HEIGHT": 5.489999771118164,
                    "SQMETERS": 142.0164337158203,
                    "style": {
                      "color": "black",
                      "fillColor": "black"
                    }
                  },
                  "geometry": {
                    "type": "MultiPolygon",
                    "coordinates": [
                      [
                        [
                          [
                            -77.051348,
                            38.809433
                          ],
                          [
                            -77.051455,
                            38.809441
                          ],
                          [
                            -77.051445,
                            38.809528
                          ],
                          [
                            -77.051337,
                            38.80952
                          ],
                          [
                            -77.051348,
                            38.809433
                          ]
                        ]
                      ]
                    ]
                  }
                },
                {
                  "type": "Feature",
                  "properties": {
                    "HEIGHT": 5.69000005722046,
                    "SQMETERS": 263.5922546386719,
                    "style": {
                      "color": "black",
                      "fillColor": "black"
                    }
                  },
                  "geometry": {
                    "type": "MultiPolygon",
                    "coordinates": [
                      [
                        [
                          [
                            -77.05276,
                            38.810242
                          ],
                          [
                            -77.053056,
                            38.810275
                          ],
                          [
                            -77.053048,
                            38.810313
                          ],
                          [
                            -77.053064,
                            38.810315
                          ],
                          [
                            -77.053056,
                            38.810358
                          ],
                          [
                            -77.052745,
                            38.810324
                          ],
                          [
                            -77.05276,
                            38.810242
                          ]
                        ]
                      ]
                    ]
                  }
                },
                {
                  "type": "Feature",
                  "properties": {
                    "HEIGHT": 5.889999866485596,
                    "SQMETERS": 332.92144775390625,
                    "style": {
                      "color": "black",
                      "fillColor": "black"
                    }
                  },
                  "geometry": {
                    "type": "MultiPolygon",
                    "coordinates": [
                      [
                        [
                          [
                            -77.053296,
                            38.811215
                          ],
                          [
                            -77.053248,
                            38.811551
                          ],
                          [
                            -77.053153,
                            38.811543
                          ],
                          [
                            -77.053202,
                            38.811207
                          ],
                          [
                            -77.053296,
                            38.811215
                          ]
                        ]
                      ]
                    ]
                  }
                },
                {
                  "type": "Feature",
                  "properties": {
                    "HEIGHT": 6.869999885559082,
                    "SQMETERS": 135.1007080078125,
                    "style": {
                      "color": "black",
                      "fillColor": "black"
                    }
                  },
                  "geometry": {
                    "type": "MultiPolygon",
                    "coordinates": [
                      [
                        [
                          [
                            -77.05442,
                            38.809732
                          ],
                          [
                            -77.054424,
                            38.809674
                          ],
                          [
                            -77.054484,
                            38.809676
                          ],
                          [
                            -77.054486,
                            38.809655
                          ],
                          [
                            -77.054599,
                            38.80966
                          ],
                          [
                            -77.054592,
                            38.80976
                          ],
                          [
                            -77.054477,
                            38.809755
                          ],
                          [
                            -77.054479,
                            38.809735
                          ],
                          [
                            -77.05442,
                            38.809732
                          ]
                        ]
                      ]
                    ]
                  }
                },
                {
                  "type": "Feature",
                  "properties": {
                    "HEIGHT": 5.199999809265138,
                    "SQMETERS": 2957.642822265625,
                    "style": {
                      "color": "black",
                      "fillColor": "black"
                    }
                  },
                  "geometry": {
                    "type": "MultiPolygon",
                    "coordinates": [
                      [
                        [
                          [
                            -77.051389,
                            38.811389
                          ],
                          [
                            -77.051551,
                            38.810425
                          ],
                          [
                            -77.051854,
                            38.810456
                          ],
                          [
                            -77.051823,
                            38.810641
                          ],
                          [
                            -77.051752,
                            38.810634
                          ],
                          [
                            -77.051724,
                            38.8108
                          ],
                          [
                            -77.051832,
                            38.810811
                          ],
                          [
                            -77.05173,
                            38.811424
                          ],
                          [
                            -77.051389,
                            38.811389
                          ]
                        ]
                      ]
                    ]
                  }
                },
                {
                  "type": "Feature",
                  "properties": {
                    "HEIGHT": 5.90999984741211,
                    "SQMETERS": 410.49005126953125,
                    "style": {
                      "color": "black",
                      "fillColor": "black"
                    }
                  },
                  "geometry": {
                    "type": "MultiPolygon",
                    "coordinates": [
                      [
                        [
                          [
                            -77.052774,
                            38.808951
                          ],
                          [
                            -77.052741,
                            38.809214
                          ],
                          [
                            -77.052526,
                            38.809198
                          ],
                          [
                            -77.052535,
                            38.809124
                          ],
                          [
                            -77.052622,
                            38.809131
                          ],
                          [
                            -77.052625,
                            38.809104
                          ],
                          [
                            -77.052571,
                            38.8091
                          ],
                          [
                            -77.052577,
                            38.809049
                          ],
                          [
                            -77.052614,
                            38.809052
                          ],
                          [
                            -77.052621,
                            38.808995
                          ],
                          [
                            -77.052611,
                            38.808994
                          ],
                          [
                            -77.052618,
                            38.808939
                          ],
                          [
                            -77.052774,
                            38.808951
                          ]
                        ]
                      ]
                    ]
                  }
                },
                {
                  "type": "Feature",
                  "properties": {
                    "HEIGHT": 5.449999809265138,
                    "SQMETERS": 101.89395904541016,
                    "style": {
                      "color": "black",
                      "fillColor": "black"
                    }
                  },
                  "geometry": {
                    "type": "MultiPolygon",
                    "coordinates": [
                      [
                        [
                          [
                            -77.052899,
                            38.809819
                          ],
                          [
                            -77.053024,
                            38.809827
                          ],
                          [
                            -77.053013,
                            38.809927
                          ],
                          [
                            -77.052888,
                            38.809919
                          ],
                          [
                            -77.052899,
                            38.809819
                          ]
                        ]
                      ]
                    ]
                  }
                },
                {
                  "type": "Feature",
                  "properties": {
                    "HEIGHT": 5.489999771118164,
                    "SQMETERS": 142.0164337158203,
                    "style": {
                      "color": "black",
                      "fillColor": "black"
                    }
                  },
                  "geometry": {
                    "type": "MultiPolygon",
                    "coordinates": [
                      [
                        [
                          [
                            -77.051327,
                            38.809476
                          ],
                          [
                            -77.051319,
                            38.809536
                          ],
                          [
                            -77.051225,
                            38.809527
                          ],
                          [
                            -77.051233,
                            38.809468
                          ],
                          [
                            -77.051327,
                            38.809476
                          ]
                        ]
                      ]
                    ]
                  }
                },
                {
                  "type": "Feature",
                  "properties": {
                    "HEIGHT": 5.5,
                    "SQMETERS": 246.53485107421875,
                    "style": {
                      "color": "black",
                      "fillColor": "black"
                    }
                  },
                  "geometry": {
                    "type": "MultiPolygon",
                    "coordinates": [
                      [
                        [
                          [
                            -77.053354,
                            38.809917
                          ],
                          [
                            -77.053375,
                            38.809815
                          ],
                          [
                            -77.053639,
                            38.809849
                          ],
                          [
                            -77.053617,
                            38.809951
                          ],
                          [
                            -77.053354,
                            38.809917
                          ]
                        ]
                      ]
                    ]
                  }
                },
                {
                  "type": "Feature",
                  "properties": {
                    "HEIGHT": 7.619999885559082,
                    "SQMETERS": 106.19251251220702,
                    "style": {
                      "color": "black",
                      "fillColor": "black"
                    }
                  },
                  "geometry": {
                    "type": "MultiPolygon",
                    "coordinates": [
                      [
                        [
                          [
                            -77.053887,
                            38.811512
                          ],
                          [
                            -77.054023,
                            38.811521
                          ],
                          [
                            -77.054013,
                            38.811606
                          ],
                          [
                            -77.053878,
                            38.811597
                          ],
                          [
                            -77.053887,
                            38.811512
                          ]
                        ]
                      ]
                    ]
                  }
                },
                {
                  "type": "Feature",
                  "properties": {
                    "HEIGHT": 6.170000076293946,
                    "SQMETERS": 443.689208984375,
                    "style": {
                      "color": "black",
                      "fillColor": "black"
                    }
                  },
                  "geometry": {
                    "type": "MultiPolygon",
                    "coordinates": [
                      [
                        [
                          [
                            -77.054314,
                            38.809371
                          ],
                          [
                            -77.054377,
                            38.808974
                          ],
                          [
                            -77.054509,
                            38.808987
                          ],
                          [
                            -77.054446,
                            38.809384
                          ],
                          [
                            -77.054314,
                            38.809371
                          ]
                        ]
                      ]
                    ]
                  }
                },
                {
                  "type": "Feature",
                  "properties": {
                    "HEIGHT": 7.340000152587892,
                    "SQMETERS": 131.39846801757812,
                    "style": {
                      "color": "black",
                      "fillColor": "black"
                    }
                  },
                  "geometry": {
                    "type": "MultiPolygon",
                    "coordinates": [
                      [
                        [
                          [
                            -77.054353,
                            38.810016
                          ],
                          [
                            -77.054364,
                            38.809933
                          ],
                          [
                            -77.054552,
                            38.809948
                          ],
                          [
                            -77.054541,
                            38.810031
                          ],
                          [
                            -77.054353,
                            38.810016
                          ]
                        ]
                      ]
                    ]
                  }
                },
                {
                  "type": "Feature",
                  "properties": {
                    "HEIGHT": 6.099999904632568,
                    "SQMETERS": 296.74270629882807,
                    "style": {
                      "color": "black",
                      "fillColor": "black"
                    }
                  },
                  "geometry": {
                    "type": "MultiPolygon",
                    "coordinates": [
                      [
                        [
                          [
                            -77.053381,
                            38.810842
                          ],
                          [
                            -77.053322,
                            38.811177
                          ],
                          [
                            -77.053222,
                            38.811166
                          ],
                          [
                            -77.053281,
                            38.810832
                          ],
                          [
                            -77.053381,
                            38.810842
                          ]
                        ]
                      ]
                    ]
                  }
                },
                {
                  "type": "Feature",
                  "properties": {
                    "HEIGHT": 6.639999866485596,
                    "SQMETERS": 137.33001708984375,
                    "style": {
                      "color": "black",
                      "fillColor": "black"
                    }
                  },
                  "geometry": {
                    "type": "MultiPolygon",
                    "coordinates": [
                      [
                        [
                          [
                            -77.053487,
                            38.809809
                          ],
                          [
                            -77.053501,
                            38.809721
                          ],
                          [
                            -77.05367,
                            38.809737
                          ],
                          [
                            -77.053657,
                            38.809824
                          ],
                          [
                            -77.053487,
                            38.809809
                          ]
                        ]
                      ]
                    ]
                  }
                },
                {
                  "type": "Feature",
                  "properties": {
                    "HEIGHT": 7.150000095367432,
                    "SQMETERS": 292.4849548339844,
                    "style": {
                      "color": "black",
                      "fillColor": "black"
                    }
                  },
                  "geometry": {
                    "type": "MultiPolygon",
                    "coordinates": [
                      [
                        [
                          [
                            -77.053586,
                            38.811459
                          ],
                          [
                            -77.0536,
                            38.811353
                          ],
                          [
                            -77.053866,
                            38.811374
                          ],
                          [
                            -77.053852,
                            38.811489
                          ],
                          [
                            -77.053792,
                            38.811485
                          ],
                          [
                            -77.053795,
                            38.811467
                          ],
                          [
                            -77.053705,
                            38.811461
                          ],
                          [
                            -77.053704,
                            38.811468
                          ],
                          [
                            -77.053586,
                            38.811459
                          ]
                        ]
                      ]
                    ]
                  }
                },
                {
                  "type": "Feature",
                  "properties": {
                    "HEIGHT": 7.545000076293946,
                    "SQMETERS": 90.58223724365233,
                    "style": {
                      "color": "black",
                      "fillColor": "black"
                    }
                  },
                  "geometry": {
                    "type": "MultiPolygon",
                    "coordinates": [
                      [
                        [
                          [
                            -77.05287,
                            38.809584
                          ],
                          [
                            -77.052886,
                            38.80949
                          ],
                          [
                            -77.052925,
                            38.809493
                          ],
                          [
                            -77.052935,
                            38.809434
                          ],
                          [
                            -77.053067,
                            38.809447
                          ],
                          [
                            -77.053042,
                            38.809601
                          ],
                          [
                            -77.05287,
                            38.809584
                          ]
                        ]
                      ]
                    ]
                  }
                },
                {
                  "type": "Feature",
                  "properties": {
                    "HEIGHT": null,
                    "SQMETERS": 113.8727798461914,
                    "style": {
                      "color": "black",
                      "fillColor": "black"
                    }
                  },
                  "geometry": {
                    "type": "MultiPolygon",
                    "coordinates": [
                      [
                        [
                          [
                            -77.05402,
                            38.810377
                          ],
                          [
                            -77.05401,
                            38.810459
                          ],
                          [
                            -77.053846,
                            38.810447
                          ],
                          [
                            -77.053856,
                            38.810365
                          ],
                          [
                            -77.05402,
                            38.810377
                          ]
                        ]
                      ]
                    ]
                  }
                },
                {
                  "type": "Feature",
                  "properties": {
                    "HEIGHT": 7.46999979019165,
                    "SQMETERS": 208.48204040527344,
                    "style": {
                      "color": "black",
                      "fillColor": "black"
                    }
                  },
                  "geometry": {
                    "type": "MultiPolygon",
                    "coordinates": [
                      [
                        [
                          [
                            -77.054478,
                            38.811084
                          ],
                          [
                            -77.05462,
                            38.811099
                          ],
                          [
                            -77.05459,
                            38.811265
                          ],
                          [
                            -77.054448,
                            38.811249
                          ],
                          [
                            -77.054478,
                            38.811084
                          ]
                        ]
                      ]
                    ]
                  }
                },
                {
                  "type": "Feature",
                  "properties": {
                    "HEIGHT": 7.429999828338624,
                    "SQMETERS": 134.11863708496094,
                    "style": {
                      "color": "black",
                      "fillColor": "black"
                    }
                  },
                  "geometry": {
                    "type": "MultiPolygon",
                    "coordinates": [
                      [
                        [
                          [
                            -77.053109,
                            38.809085
                          ],
                          [
                            -77.053078,
                            38.80924
                          ],
                          [
                            -77.052989,
                            38.809229
                          ],
                          [
                            -77.05302,
                            38.809074
                          ],
                          [
                            -77.053109,
                            38.809085
                          ]
                        ]
                      ]
                    ]
                  }
                },
                {
                  "type": "Feature",
                  "properties": {
                    "HEIGHT": 6.44000005722046,
                    "SQMETERS": 182.52552795410156,
                    "style": {
                      "color": "black",
                      "fillColor": "black"
                    }
                  },
                  "geometry": {
                    "type": "MultiPolygon",
                    "coordinates": [
                      [
                        [
                          [
                            -77.053215,
                            38.809178
                          ],
                          [
                            -77.053205,
                            38.809236
                          ],
                          [
                            -77.053164,
                            38.809232
                          ],
                          [
                            -77.053174,
                            38.809174
                          ],
                          [
                            -77.053215,
                            38.809178
                          ]
                        ]
                      ]
                    ]
                  }
                },
                {
                  "type": "Feature",
                  "properties": {
                    "HEIGHT": 6.929999828338624,
                    "SQMETERS": 154.23980712890625,
                    "style": {
                      "color": "black",
                      "fillColor": "black"
                    }
                  },
                  "geometry": {
                    "type": "MultiPolygon",
                    "coordinates": [
                      [
                        [
                          [
                            -77.051772,
                            38.809835
                          ],
                          [
                            -77.05178,
                            38.809745
                          ],
                          [
                            -77.051905,
                            38.809752
                          ],
                          [
                            -77.051904,
                            38.809771
                          ],
                          [
                            -77.051953,
                            38.809774
                          ],
                          [
                            -77.051947,
                            38.809844
                          ],
                          [
                            -77.051772,
                            38.809835
                          ]
                        ]
                      ]
                    ]
                  }
                },
                {
                  "type": "Feature",
                  "properties": {
                    "HEIGHT": 5.360000133514404,
                    "SQMETERS": 83.64308166503906,
                    "style": {
                      "color": "black",
                      "fillColor": "black"
                    }
                  },
                  "geometry": {
                    "type": "MultiPolygon",
                    "coordinates": [
                      [
                        [
                          [
                            -77.051251,
                            38.809962
                          ],
                          [
                            -77.051412,
                            38.809981
                          ],
                          [
                            -77.051403,
                            38.810032
                          ],
                          [
                            -77.051241,
                            38.810013
                          ],
                          [
                            -77.051251,
                            38.809962
                          ]
                        ]
                      ]
                    ]
                  }
                },
                {
                  "type": "Feature",
                  "properties": {
                    "HEIGHT": null,
                    "SQMETERS": null,
                    "style": {
                      "color": "black",
                      "fillColor": "black"
                    }
                  },
                  "geometry": {
                    "type": "MultiPolygon",
                    "coordinates": [
                      [
                        [
                          [
                            -77.05406,
                            38.810381
                          ],
                          [
                            -77.054067,
                            38.810324
                          ],
                          [
                            -77.054122,
                            38.810328
                          ],
                          [
                            -77.054114,
                            38.810385
                          ],
                          [
                            -77.05406,
                            38.810381
                          ]
                        ]
                      ]
                    ]
                  }
                },
                {
                  "type": "Feature",
                  "properties": {
                    "HEIGHT": 5.610000133514404,
                    "SQMETERS": 112.74609375,
                    "style": {
                      "color": "black",
                      "fillColor": "black"
                    }
                  },
                  "geometry": {
                    "type": "MultiPolygon",
                    "coordinates": [
                      [
                        [
                          [
                            -77.05433,
                            38.81012
                          ],
                          [
                            -77.054478,
                            38.810142
                          ],
                          [
                            -77.054457,
                            38.810226
                          ],
                          [
                            -77.05431,
                            38.810205
                          ],
                          [
                            -77.05433,
                            38.81012
                          ]
                        ]
                      ]
                    ]
                  }
                },
                {
                  "type": "Feature",
                  "properties": {
                    "HEIGHT": 6.570000171661378,
                    "SQMETERS": 61.594337463378906,
                    "style": {
                      "color": "black",
                      "fillColor": "black"
                    }
                  },
                  "geometry": {
                    "type": "MultiPolygon",
                    "coordinates": [
                      [
                        [
                          [
                            -77.053492,
                            38.809162
                          ],
                          [
                            -77.053547,
                            38.809169
                          ],
                          [
                            -77.053517,
                            38.809316
                          ],
                          [
                            -77.053462,
                            38.809309
                          ],
                          [
                            -77.053492,
                            38.809162
                          ]
                        ]
                      ]
                    ]
                  }
                },
                {
                  "type": "Feature",
                  "properties": {
                    "HEIGHT": 7.550000190734864,
                    "SQMETERS": 63.72998809814453,
                    "style": {
                      "color": "black",
                      "fillColor": "black"
                    }
                  },
                  "geometry": {
                    "type": "MultiPolygon",
                    "coordinates": [
                      [
                        [
                          [
                            -77.054452,
                            38.810311
                          ],
                          [
                            -77.054437,
                            38.81038
                          ],
                          [
                            -77.054258,
                            38.810356
                          ],
                          [
                            -77.05428,
                            38.810256
                          ],
                          [
                            -77.054397,
                            38.810272
                          ],
                          [
                            -77.054391,
                            38.810302
                          ],
                          [
                            -77.054452,
                            38.810311
                          ]
                        ]
                      ]
                    ]
                  }
                },
                {
                  "type": "Feature",
                  "properties": {
                    "HEIGHT": 6.360000133514404,
                    "SQMETERS": 145.26126098632812,
                    "style": {
                      "color": "black",
                      "fillColor": "black"
                    }
                  },
                  "geometry": {
                    "type": "MultiPolygon",
                    "coordinates": [
                      [
                        [
                          [
                            -77.05352,
                            38.809595
                          ],
                          [
                            -77.053528,
                            38.809556
                          ],
                          [
                            -77.053549,
                            38.809559
                          ],
                          [
                            -77.053558,
                            38.809515
                          ],
                          [
                            -77.053716,
                            38.809535
                          ],
                          [
                            -77.053699,
                            38.809617
                          ],
                          [
                            -77.05352,
                            38.809595
                          ]
                        ]
                      ]
                    ]
                  }
                },
                {
                  "type": "Feature",
                  "properties": {
                    "HEIGHT": 5.840000152587892,
                    "SQMETERS": 126.23876953125,
                    "style": {
                      "color": "black",
                      "fillColor": "black"
                    }
                  },
                  "geometry": {
                    "type": "MultiPolygon",
                    "coordinates": [
                      [
                        [
                          [
                            -77.053366,
                            38.810251
                          ],
                          [
                            -77.053374,
                            38.810182
                          ],
                          [
                            -77.053444,
                            38.810188
                          ],
                          [
                            -77.053446,
                            38.810165
                          ],
                          [
                            -77.05359,
                            38.810176
                          ],
                          [
                            -77.053583,
                            38.81023
                          ],
                          [
                            -77.053477,
                            38.810222
                          ],
                          [
                            -77.053472,
                            38.810259
                          ],
                          [
                            -77.053366,
                            38.810251
                          ]
                        ]
                      ]
                    ]
                  }
                },
                {
                  "type": "Feature",
                  "properties": {
                    "HEIGHT": 6.94000005722046,
                    "SQMETERS": 72.98778533935547,
                    "style": {
                      "color": "black",
                      "fillColor": "black"
                    }
                  },
                  "geometry": {
                    "type": "MultiPolygon",
                    "coordinates": [
                      [
                        [
                          [
                            -77.051792,
                            38.809724
                          ],
                          [
                            -77.051798,
                            38.809666
                          ],
                          [
                            -77.051993,
                            38.809678
                          ],
                          [
                            -77.051987,
                            38.809737
                          ],
                          [
                            -77.051792,
                            38.809724
                          ]
                        ]
                      ]
                    ]
                  }
                },
                {
                  "type": "Feature",
                  "properties": {
                    "HEIGHT": 6.329999923706056,
                    "SQMETERS": 172.19761657714844,
                    "style": {
                      "color": "black",
                      "fillColor": "black"
                    }
                  },
                  "geometry": {
                    "type": "MultiPolygon",
                    "coordinates": [
                      [
                        [
                          [
                            -77.053032,
                            38.809629
                          ],
                          [
                            -77.053014,
                            38.809713
                          ],
                          [
                            -77.052847,
                            38.809692
                          ],
                          [
                            -77.052868,
                            38.809593
                          ],
                          [
                            -77.052984,
                            38.809608
                          ],
                          [
                            -77.052981,
                            38.809622
                          ],
                          [
                            -77.053032,
                            38.809629
                          ]
                        ]
                      ]
                    ]
                  }
                },
                {
                  "type": "Feature",
                  "properties": {
                    "HEIGHT": 6.300000190734864,
                    "SQMETERS": 151.07479858398438,
                    "style": {
                      "color": "black",
                      "fillColor": "black"
                    }
                  },
                  "geometry": {
                    "type": "MultiPolygon",
                    "coordinates": [
                      [
                        [
                          [
                            -77.054107,
                            38.810063
                          ],
                          [
                            -77.054096,
                            38.810116
                          ],
                          [
                            -77.054054,
                            38.810111
                          ],
                          [
                            -77.054046,
                            38.81015
                          ],
                          [
                            -77.053884,
                            38.81013
                          ],
                          [
                            -77.053903,
                            38.810037
                          ],
                          [
                            -77.054107,
                            38.810063
                          ]
                        ]
                      ]
                    ]
                  }
                },
                {
                  "type": "Feature",
                  "properties": {
                    "HEIGHT": 8.3100004196167,
                    "SQMETERS": 489.966796875,
                    "style": {
                      "color": "black",
                      "fillColor": "black"
                    }
                  },
                  "geometry": {
                    "type": "MultiPolygon",
                    "coordinates": [
                      [
                        [
                          [
                            -77.052262,
                            38.809383
                          ],
                          [
                            -77.052636,
                            38.809416
                          ],
                          [
                            -77.052615,
                            38.809558
                          ],
                          [
                            -77.052241,
                            38.809524
                          ],
                          [
                            -77.052262,
                            38.809383
                          ]
                        ]
                      ]
                    ]
                  }
                },
                {
                  "type": "Feature",
                  "properties": {
                    "HEIGHT": 5.960000038146974,
                    "SQMETERS": 119.14112854003906,
                    "style": {
                      "color": "black",
                      "fillColor": "black"
                    }
                  },
                  "geometry": {
                    "type": "MultiPolygon",
                    "coordinates": [
                      [
                        [
                          [
                            -77.053416,
                            38.809967
                          ],
                          [
                            -77.053616,
                            38.809994
                          ],
                          [
                            -77.053605,
                            38.810045
                          ],
                          [
                            -77.053535,
                            38.810035
                          ],
                          [
                            -77.053531,
                            38.810054
                          ],
                          [
                            -77.053459,
                            38.810044
                          ],
                          [
                            -77.053462,
                            38.81003
                          ],
                          [
                            -77.053404,
                            38.810022
                          ],
                          [
                            -77.053416,
                            38.809967
                          ]
                        ]
                      ]
                    ]
                  }
                },
                {
                  "type": "Feature",
                  "properties": {
                    "HEIGHT": 7.210000038146974,
                    "SQMETERS": 147.00982666015625,
                    "style": {
                      "color": "black",
                      "fillColor": "black"
                    }
                  },
                  "geometry": {
                    "type": "MultiPolygon",
                    "coordinates": [
                      [
                        [
                          [
                            -77.052787,
                            38.80993
                          ],
                          [
                            -77.05295,
                            38.809949
                          ],
                          [
                            -77.052932,
                            38.810037
                          ],
                          [
                            -77.05277,
                            38.810017
                          ],
                          [
                            -77.052787,
                            38.80993
                          ]
                        ]
                      ]
                    ]
                  }
                },
                {
                  "type": "Feature",
                  "properties": {
                    "HEIGHT": 6.44000005722046,
                    "SQMETERS": 182.52552795410156,
                    "style": {
                      "color": "black",
                      "fillColor": "black"
                    }
                  },
                  "geometry": {
                    "type": "MultiPolygon",
                    "coordinates": [
                      [
                        [
                          [
                            -77.053204,
                            38.809254
                          ],
                          [
                            -77.053222,
                            38.80917
                          ],
                          [
                            -77.053284,
                            38.809178
                          ],
                          [
                            -77.053282,
                            38.809186
                          ],
                          [
                            -77.05338,
                            38.809199
                          ],
                          [
                            -77.053364,
                            38.809275
                          ],
                          [
                            -77.053204,
                            38.809254
                          ]
                        ]
                      ]
                    ]
                  }
                },
                {
                  "type": "Feature",
                  "properties": {
                    "HEIGHT": 8.729999542236328,
                    "SQMETERS": 308.94366455078125,
                    "style": {
                      "color": "black",
                      "fillColor": "black"
                    }
                  },
                  "geometry": {
                    "type": "MultiPolygon",
                    "coordinates": [
                      [
                        [
                          [
                            -77.05424,
                            38.811607
                          ],
                          [
                            -77.05409,
                            38.811865
                          ],
                          [
                            -77.053966,
                            38.811821
                          ],
                          [
                            -77.054117,
                            38.811563
                          ],
                          [
                            -77.05424,
                            38.811607
                          ]
                        ]
                      ]
                    ]
                  }
                },
                {
                  "type": "Feature",
                  "properties": {
                    "HEIGHT": 7.699999809265138,
                    "SQMETERS": 210.20501708984375,
                    "style": {
                      "color": "black",
                      "fillColor": "black"
                    }
                  },
                  "geometry": {
                    "type": "MultiPolygon",
                    "coordinates": [
                      [
                        [
                          [
                            -77.054569,
                            38.811309
                          ],
                          [
                            -77.054546,
                            38.811479
                          ],
                          [
                            -77.054409,
                            38.811468
                          ],
                          [
                            -77.054431,
                            38.811298
                          ],
                          [
                            -77.054569,
                            38.811309
                          ]
                        ]
                      ]
                    ]
                  }
                },
                {
                  "type": "Feature",
                  "properties": {
                    "HEIGHT": 16.440000534057617,
                    "SQMETERS": 3019.87060546875,
                    "style": {
                      "color": "black",
                      "fillColor": "black"
                    }
                  },
                  "geometry": {
                    "type": "MultiPolygon",
                    "coordinates": [
                      [
                        [
                          [
                            -77.050588,
                            38.811103
                          ],
                          [
                            -77.050947,
                            38.811141
                          ],
                          [
                            -77.05099,
                            38.810892
                          ],
                          [
                            -77.051047,
                            38.810898
                          ],
                          [
                            -77.051052,
                            38.810868
                          ],
                          [
                            -77.051231,
                            38.810887
                          ],
                          [
                            -77.051181,
                            38.811177
                          ],
                          [
                            -77.051149,
                            38.811174
                          ],
                          [
                            -77.051138,
                            38.81124
                          ],
                          [
                            -77.051159,
                            38.811242
                          ],
                          [
                            -77.051142,
                            38.811339
                          ],
                          [
                            -77.05065,
                            38.811288
                          ],
                          [
                            -77.050665,
                            38.811197
                          ],
                          [
                            -77.050562,
                            38.811186
                          ],
                          [
                            -77.050548,
                            38.811269
                          ],
                          [
                            -77.050455,
                            38.81126
                          ],
                          [
                            -77.050459,
                            38.811237
                          ],
                          [
                            -77.050426,
                            38.811234
                          ],
                          [
                            -77.050473,
                            38.81096
                          ],
                          [
                            -77.050441,
                            38.810956
                          ],
                          [
                            -77.050432,
                            38.811013
                          ],
                          [
                            -77.050371,
                            38.811006
                          ],
                          [
                            -77.050415,
                            38.810752
                          ],
                          [
                            -77.050644,
                            38.810776
                          ],
                          [
                            -77.050588,
                            38.811103
                          ]
                        ]
                      ]
                    ]
                  }
                },
                {
                  "type": "Feature",
                  "properties": {
                    "HEIGHT": 7.920000076293946,
                    "SQMETERS": 113.59303283691406,
                    "style": {
                      "color": "black",
                      "fillColor": "black"
                    }
                  },
                  "geometry": {
                    "type": "MultiPolygon",
                    "coordinates": [
                      [
                        [
                          [
                            -77.051385,
                            38.809796
                          ],
                          [
                            -77.051376,
                            38.80987
                          ],
                          [
                            -77.051235,
                            38.80986
                          ],
                          [
                            -77.051247,
                            38.809766
                          ],
                          [
                            -77.051326,
                            38.809771
                          ],
                          [
                            -77.051324,
                            38.809791
                          ],
                          [
                            -77.051385,
                            38.809796
                          ]
                        ]
                      ]
                    ]
                  }
                },
                {
                  "type": "Feature",
                  "properties": {
                    "HEIGHT": 6.340000152587892,
                    "SQMETERS": 74.95829772949219,
                    "style": {
                      "color": "black",
                      "fillColor": "black"
                    }
                  },
                  "geometry": {
                    "type": "MultiPolygon",
                    "coordinates": [
                      [
                        [
                          [
                            -77.052832,
                            38.809739
                          ],
                          [
                            -77.053027,
                            38.809749
                          ],
                          [
                            -77.053022,
                            38.809804
                          ],
                          [
                            -77.052827,
                            38.809794
                          ],
                          [
                            -77.052832,
                            38.809739
                          ]
                        ]
                      ]
                    ]
                  }
                },
                {
                  "type": "Feature",
                  "properties": {
                    "HEIGHT": 3.859999895095825,
                    "SQMETERS": 52.96455764770508,
                    "style": {
                      "color": "black",
                      "fillColor": "black"
                    }
                  },
                  "geometry": {
                    "type": "MultiPolygon",
                    "coordinates": [
                      [
                        [
                          [
                            -77.051384,
                            38.810215
                          ],
                          [
                            -77.051314,
                            38.81021
                          ],
                          [
                            -77.051332,
                            38.810061
                          ],
                          [
                            -77.051403,
                            38.810066
                          ],
                          [
                            -77.051384,
                            38.810215
                          ]
                        ]
                      ]
                    ]
                  }
                }
              ]
            },
            "hover_style": {
              "weight": 4,
              "fillOpacity": 0
            },
            "layers": [],
            "name": "Buildings",
            "options": [],
            "pane": "",
            "point_style": {},
            "popup": null,
            "popup_max_height": null,
            "popup_max_width": 300,
            "popup_min_width": 50,
            "style": {
              "color": "#3388ff",
              "weight": 2,
              "opacity": 1,
              "fill": true,
              "fillColor": "#3388ff",
              "fillOpacity": 0.2
            },
            "subitems": [],
            "visible": true
          }
        },
        "4c3b481ac3f242dfa007d7e1b0f514af": {
          "model_module": "@jupyter-widgets/base",
          "model_name": "LayoutModel",
          "model_module_version": "1.2.0",
          "state": {
            "_model_module": "@jupyter-widgets/base",
            "_model_module_version": "1.2.0",
            "_model_name": "LayoutModel",
            "_view_count": null,
            "_view_module": "@jupyter-widgets/base",
            "_view_module_version": "1.2.0",
            "_view_name": "LayoutView",
            "align_content": null,
            "align_items": null,
            "align_self": null,
            "border": null,
            "bottom": null,
            "display": null,
            "flex": null,
            "flex_flow": null,
            "grid_area": null,
            "grid_auto_columns": null,
            "grid_auto_flow": null,
            "grid_auto_rows": null,
            "grid_column": null,
            "grid_gap": null,
            "grid_row": null,
            "grid_template_areas": null,
            "grid_template_columns": null,
            "grid_template_rows": null,
            "height": "600px",
            "justify_content": null,
            "justify_items": null,
            "left": null,
            "margin": null,
            "max_height": null,
            "max_width": null,
            "min_height": null,
            "min_width": null,
            "object_fit": null,
            "object_position": null,
            "order": null,
            "overflow": null,
            "overflow_x": null,
            "overflow_y": null,
            "padding": null,
            "right": null,
            "top": null,
            "visibility": null,
            "width": null
          }
        },
        "a0031f3e475c47fd8b7f9b1390fd0464": {
          "model_module": "jupyter-leaflet",
          "model_name": "LeafletMapStyleModel",
          "model_module_version": "^0.18",
          "state": {
            "_model_module": "jupyter-leaflet",
            "_model_module_version": "^0.18",
            "_model_name": "LeafletMapStyleModel",
            "_view_count": null,
            "_view_module": "@jupyter-widgets/base",
            "_view_module_version": "1.2.0",
            "_view_name": "StyleView",
            "cursor": "grab"
          }
        },
        "a969877d6626444ea704b8d28c9ac6b6": {
          "model_module": "@jupyter-widgets/controls",
          "model_name": "VBoxModel",
          "model_module_version": "1.5.0",
          "state": {
            "_dom_classes": [],
            "_model_module": "@jupyter-widgets/controls",
            "_model_module_version": "1.5.0",
            "_model_name": "VBoxModel",
            "_view_count": null,
            "_view_module": "@jupyter-widgets/controls",
            "_view_module_version": "1.5.0",
            "_view_name": "VBoxView",
            "box_style": "",
            "children": [
              "IPY_MODEL_15385470a35944d0b5f8a74521a9c6ba"
            ],
            "layout": "IPY_MODEL_2e56e57d3f39405ca1d116217682c934"
          }
        },
        "244d850115d145628fecd74d289f3d80": {
          "model_module": "@jupyter-widgets/controls",
          "model_name": "VBoxModel",
          "model_module_version": "1.5.0",
          "state": {
            "_dom_classes": [],
            "_model_module": "@jupyter-widgets/controls",
            "_model_module_version": "1.5.0",
            "_model_name": "VBoxModel",
            "_view_count": null,
            "_view_module": "@jupyter-widgets/controls",
            "_view_module_version": "1.5.0",
            "_view_name": "VBoxView",
            "box_style": "",
            "children": [
              "IPY_MODEL_a343e2d80ebb4355814398bfb5a4565c",
              "IPY_MODEL_0f6d39f47f3b4d8198d304a4cedb1fb7"
            ],
            "layout": "IPY_MODEL_75755887def4456d884d898ed5a2756e"
          }
        },
        "15385470a35944d0b5f8a74521a9c6ba": {
          "model_module": "@jupyter-widgets/controls",
          "model_name": "ToggleButtonModel",
          "model_module_version": "1.5.0",
          "state": {
            "_dom_classes": [],
            "_model_module": "@jupyter-widgets/controls",
            "_model_module_version": "1.5.0",
            "_model_name": "ToggleButtonModel",
            "_view_count": null,
            "_view_module": "@jupyter-widgets/controls",
            "_view_module_version": "1.5.0",
            "_view_name": "ToggleButtonView",
            "button_style": "",
            "description": "",
            "description_tooltip": null,
            "disabled": false,
            "icon": "wrench",
            "layout": "IPY_MODEL_8357d8e32b4242dea38a7a7429b9c327",
            "style": "IPY_MODEL_251bf194cfcc4d35a5e490624bd78df9",
            "tooltip": "Toolbar",
            "value": false
          }
        },
        "2e56e57d3f39405ca1d116217682c934": {
          "model_module": "@jupyter-widgets/base",
          "model_name": "LayoutModel",
          "model_module_version": "1.2.0",
          "state": {
            "_model_module": "@jupyter-widgets/base",
            "_model_module_version": "1.2.0",
            "_model_name": "LayoutModel",
            "_view_count": null,
            "_view_module": "@jupyter-widgets/base",
            "_view_module_version": "1.2.0",
            "_view_name": "LayoutView",
            "align_content": null,
            "align_items": null,
            "align_self": null,
            "border": null,
            "bottom": null,
            "display": null,
            "flex": null,
            "flex_flow": null,
            "grid_area": null,
            "grid_auto_columns": null,
            "grid_auto_flow": null,
            "grid_auto_rows": null,
            "grid_column": null,
            "grid_gap": null,
            "grid_row": null,
            "grid_template_areas": null,
            "grid_template_columns": null,
            "grid_template_rows": null,
            "height": null,
            "justify_content": null,
            "justify_items": null,
            "left": null,
            "margin": null,
            "max_height": null,
            "max_width": null,
            "min_height": null,
            "min_width": null,
            "object_fit": null,
            "object_position": null,
            "order": null,
            "overflow": null,
            "overflow_x": null,
            "overflow_y": null,
            "padding": null,
            "right": null,
            "top": null,
            "visibility": null,
            "width": null
          }
        },
        "a343e2d80ebb4355814398bfb5a4565c": {
          "model_module": "@jupyter-widgets/controls",
          "model_name": "HBoxModel",
          "model_module_version": "1.5.0",
          "state": {
            "_dom_classes": [],
            "_model_module": "@jupyter-widgets/controls",
            "_model_module_version": "1.5.0",
            "_model_name": "HBoxModel",
            "_view_count": null,
            "_view_module": "@jupyter-widgets/controls",
            "_view_module_version": "1.5.0",
            "_view_name": "HBoxView",
            "box_style": "",
            "children": [
              "IPY_MODEL_acad036c53e1441a898e52907789134c",
              "IPY_MODEL_cac9ab5b4aa84cd2933da1ef424220c8"
            ],
            "layout": "IPY_MODEL_6fc97c3b6e0c45e390ab900c329d2831"
          }
        },
        "0f6d39f47f3b4d8198d304a4cedb1fb7": {
          "model_module": "@jupyter-widgets/controls",
          "model_name": "HTMLModel",
          "model_module_version": "1.5.0",
          "state": {
            "_dom_classes": [],
            "_model_module": "@jupyter-widgets/controls",
            "_model_module_version": "1.5.0",
            "_model_name": "HTMLModel",
            "_view_count": null,
            "_view_module": "@jupyter-widgets/controls",
            "_view_module_version": "1.5.0",
            "_view_name": "HTMLView",
            "description": "",
            "description_tooltip": null,
            "layout": "IPY_MODEL_d96fade3faa04160a178559aab312271",
            "placeholder": "​",
            "style": "IPY_MODEL_cfc1abf7d850483880341e0c5938d549",
            "value": ""
          }
        },
        "75755887def4456d884d898ed5a2756e": {
          "model_module": "@jupyter-widgets/base",
          "model_name": "LayoutModel",
          "model_module_version": "1.2.0",
          "state": {
            "_model_module": "@jupyter-widgets/base",
            "_model_module_version": "1.2.0",
            "_model_name": "LayoutModel",
            "_view_count": null,
            "_view_module": "@jupyter-widgets/base",
            "_view_module_version": "1.2.0",
            "_view_name": "LayoutView",
            "align_content": null,
            "align_items": null,
            "align_self": null,
            "border": null,
            "bottom": null,
            "display": null,
            "flex": null,
            "flex_flow": null,
            "grid_area": null,
            "grid_auto_columns": null,
            "grid_auto_flow": null,
            "grid_auto_rows": null,
            "grid_column": null,
            "grid_gap": null,
            "grid_row": null,
            "grid_template_areas": null,
            "grid_template_columns": null,
            "grid_template_rows": null,
            "height": null,
            "justify_content": null,
            "justify_items": null,
            "left": null,
            "margin": null,
            "max_height": null,
            "max_width": null,
            "min_height": null,
            "min_width": null,
            "object_fit": null,
            "object_position": null,
            "order": null,
            "overflow": null,
            "overflow_x": null,
            "overflow_y": null,
            "padding": null,
            "right": null,
            "top": null,
            "visibility": null,
            "width": null
          }
        },
        "8357d8e32b4242dea38a7a7429b9c327": {
          "model_module": "@jupyter-widgets/base",
          "model_name": "LayoutModel",
          "model_module_version": "1.2.0",
          "state": {
            "_model_module": "@jupyter-widgets/base",
            "_model_module_version": "1.2.0",
            "_model_name": "LayoutModel",
            "_view_count": null,
            "_view_module": "@jupyter-widgets/base",
            "_view_module_version": "1.2.0",
            "_view_name": "LayoutView",
            "align_content": null,
            "align_items": null,
            "align_self": null,
            "border": null,
            "bottom": null,
            "display": null,
            "flex": null,
            "flex_flow": null,
            "grid_area": null,
            "grid_auto_columns": null,
            "grid_auto_flow": null,
            "grid_auto_rows": null,
            "grid_column": null,
            "grid_gap": null,
            "grid_row": null,
            "grid_template_areas": null,
            "grid_template_columns": null,
            "grid_template_rows": null,
            "height": "28px",
            "justify_content": null,
            "justify_items": null,
            "left": null,
            "margin": null,
            "max_height": null,
            "max_width": null,
            "min_height": null,
            "min_width": null,
            "object_fit": null,
            "object_position": null,
            "order": null,
            "overflow": null,
            "overflow_x": null,
            "overflow_y": null,
            "padding": "0px 0px 0px 4px",
            "right": null,
            "top": null,
            "visibility": null,
            "width": "28px"
          }
        },
        "251bf194cfcc4d35a5e490624bd78df9": {
          "model_module": "@jupyter-widgets/controls",
          "model_name": "DescriptionStyleModel",
          "model_module_version": "1.5.0",
          "state": {
            "_model_module": "@jupyter-widgets/controls",
            "_model_module_version": "1.5.0",
            "_model_name": "DescriptionStyleModel",
            "_view_count": null,
            "_view_module": "@jupyter-widgets/base",
            "_view_module_version": "1.2.0",
            "_view_name": "StyleView",
            "description_width": ""
          }
        },
        "acad036c53e1441a898e52907789134c": {
          "model_module": "@jupyter-widgets/controls",
          "model_name": "ToggleButtonModel",
          "model_module_version": "1.5.0",
          "state": {
            "_dom_classes": [],
            "_model_module": "@jupyter-widgets/controls",
            "_model_module_version": "1.5.0",
            "_model_name": "ToggleButtonModel",
            "_view_count": null,
            "_view_module": "@jupyter-widgets/controls",
            "_view_module_version": "1.5.0",
            "_view_name": "ToggleButtonView",
            "button_style": "",
            "description": "",
            "description_tooltip": null,
            "disabled": false,
            "icon": "info",
            "layout": "IPY_MODEL_c0d9572c24d94fbe92d8ae7577f65bb8",
            "style": "IPY_MODEL_4d5ecc6564c044f2b7da8aae84270a02",
            "tooltip": "Toolbar",
            "value": true
          }
        },
        "cac9ab5b4aa84cd2933da1ef424220c8": {
          "model_module": "@jupyter-widgets/controls",
          "model_name": "ToggleButtonModel",
          "model_module_version": "1.5.0",
          "state": {
            "_dom_classes": [],
            "_model_module": "@jupyter-widgets/controls",
            "_model_module_version": "1.5.0",
            "_model_name": "ToggleButtonModel",
            "_view_count": null,
            "_view_module": "@jupyter-widgets/controls",
            "_view_module_version": "1.5.0",
            "_view_name": "ToggleButtonView",
            "button_style": "",
            "description": "",
            "description_tooltip": null,
            "disabled": false,
            "icon": "times",
            "layout": "IPY_MODEL_e626027aa75649a0bd6f74950cff1aa2",
            "style": "IPY_MODEL_77a85761977343cca39bbadc7c93c19a",
            "tooltip": "Close the tool",
            "value": false
          }
        },
        "6fc97c3b6e0c45e390ab900c329d2831": {
          "model_module": "@jupyter-widgets/base",
          "model_name": "LayoutModel",
          "model_module_version": "1.2.0",
          "state": {
            "_model_module": "@jupyter-widgets/base",
            "_model_module_version": "1.2.0",
            "_model_name": "LayoutModel",
            "_view_count": null,
            "_view_module": "@jupyter-widgets/base",
            "_view_module_version": "1.2.0",
            "_view_name": "LayoutView",
            "align_content": null,
            "align_items": null,
            "align_self": null,
            "border": null,
            "bottom": null,
            "display": null,
            "flex": null,
            "flex_flow": null,
            "grid_area": null,
            "grid_auto_columns": null,
            "grid_auto_flow": null,
            "grid_auto_rows": null,
            "grid_column": null,
            "grid_gap": null,
            "grid_row": null,
            "grid_template_areas": null,
            "grid_template_columns": null,
            "grid_template_rows": null,
            "height": null,
            "justify_content": null,
            "justify_items": null,
            "left": null,
            "margin": null,
            "max_height": null,
            "max_width": null,
            "min_height": null,
            "min_width": null,
            "object_fit": null,
            "object_position": null,
            "order": null,
            "overflow": null,
            "overflow_x": null,
            "overflow_y": null,
            "padding": null,
            "right": null,
            "top": null,
            "visibility": null,
            "width": null
          }
        },
        "d96fade3faa04160a178559aab312271": {
          "model_module": "@jupyter-widgets/base",
          "model_name": "LayoutModel",
          "model_module_version": "1.2.0",
          "state": {
            "_model_module": "@jupyter-widgets/base",
            "_model_module_version": "1.2.0",
            "_model_name": "LayoutModel",
            "_view_count": null,
            "_view_module": "@jupyter-widgets/base",
            "_view_module_version": "1.2.0",
            "_view_name": "LayoutView",
            "align_content": null,
            "align_items": null,
            "align_self": null,
            "border": null,
            "bottom": null,
            "display": null,
            "flex": null,
            "flex_flow": null,
            "grid_area": null,
            "grid_auto_columns": null,
            "grid_auto_flow": null,
            "grid_auto_rows": null,
            "grid_column": null,
            "grid_gap": null,
            "grid_row": null,
            "grid_template_areas": null,
            "grid_template_columns": null,
            "grid_template_rows": null,
            "height": null,
            "justify_content": null,
            "justify_items": null,
            "left": null,
            "margin": "0px 10px 0px 10px",
            "max_height": "250px",
            "max_width": "250px",
            "min_height": null,
            "min_width": null,
            "object_fit": null,
            "object_position": null,
            "order": null,
            "overflow": null,
            "overflow_x": null,
            "overflow_y": null,
            "padding": null,
            "right": null,
            "top": null,
            "visibility": null,
            "width": null
          }
        },
        "cfc1abf7d850483880341e0c5938d549": {
          "model_module": "@jupyter-widgets/controls",
          "model_name": "DescriptionStyleModel",
          "model_module_version": "1.5.0",
          "state": {
            "_model_module": "@jupyter-widgets/controls",
            "_model_module_version": "1.5.0",
            "_model_name": "DescriptionStyleModel",
            "_view_count": null,
            "_view_module": "@jupyter-widgets/base",
            "_view_module_version": "1.2.0",
            "_view_name": "StyleView",
            "description_width": ""
          }
        },
        "c0d9572c24d94fbe92d8ae7577f65bb8": {
          "model_module": "@jupyter-widgets/base",
          "model_name": "LayoutModel",
          "model_module_version": "1.2.0",
          "state": {
            "_model_module": "@jupyter-widgets/base",
            "_model_module_version": "1.2.0",
            "_model_name": "LayoutModel",
            "_view_count": null,
            "_view_module": "@jupyter-widgets/base",
            "_view_module_version": "1.2.0",
            "_view_name": "LayoutView",
            "align_content": null,
            "align_items": null,
            "align_self": null,
            "border": null,
            "bottom": null,
            "display": null,
            "flex": null,
            "flex_flow": null,
            "grid_area": null,
            "grid_auto_columns": null,
            "grid_auto_flow": null,
            "grid_auto_rows": null,
            "grid_column": null,
            "grid_gap": null,
            "grid_row": null,
            "grid_template_areas": null,
            "grid_template_columns": null,
            "grid_template_rows": null,
            "height": "28px",
            "justify_content": null,
            "justify_items": null,
            "left": null,
            "margin": null,
            "max_height": null,
            "max_width": null,
            "min_height": null,
            "min_width": null,
            "object_fit": null,
            "object_position": null,
            "order": null,
            "overflow": null,
            "overflow_x": null,
            "overflow_y": null,
            "padding": "0px 0px 0px 4px",
            "right": null,
            "top": null,
            "visibility": null,
            "width": "28px"
          }
        },
        "4d5ecc6564c044f2b7da8aae84270a02": {
          "model_module": "@jupyter-widgets/controls",
          "model_name": "DescriptionStyleModel",
          "model_module_version": "1.5.0",
          "state": {
            "_model_module": "@jupyter-widgets/controls",
            "_model_module_version": "1.5.0",
            "_model_name": "DescriptionStyleModel",
            "_view_count": null,
            "_view_module": "@jupyter-widgets/base",
            "_view_module_version": "1.2.0",
            "_view_name": "StyleView",
            "description_width": ""
          }
        },
        "e626027aa75649a0bd6f74950cff1aa2": {
          "model_module": "@jupyter-widgets/base",
          "model_name": "LayoutModel",
          "model_module_version": "1.2.0",
          "state": {
            "_model_module": "@jupyter-widgets/base",
            "_model_module_version": "1.2.0",
            "_model_name": "LayoutModel",
            "_view_count": null,
            "_view_module": "@jupyter-widgets/base",
            "_view_module_version": "1.2.0",
            "_view_name": "LayoutView",
            "align_content": null,
            "align_items": null,
            "align_self": null,
            "border": null,
            "bottom": null,
            "display": null,
            "flex": null,
            "flex_flow": null,
            "grid_area": null,
            "grid_auto_columns": null,
            "grid_auto_flow": null,
            "grid_auto_rows": null,
            "grid_column": null,
            "grid_gap": null,
            "grid_row": null,
            "grid_template_areas": null,
            "grid_template_columns": null,
            "grid_template_rows": null,
            "height": "28px",
            "justify_content": null,
            "justify_items": null,
            "left": null,
            "margin": null,
            "max_height": null,
            "max_width": null,
            "min_height": null,
            "min_width": null,
            "object_fit": null,
            "object_position": null,
            "order": null,
            "overflow": null,
            "overflow_x": null,
            "overflow_y": null,
            "padding": "0px 0px 0px 4px",
            "right": null,
            "top": null,
            "visibility": null,
            "width": "28px"
          }
        },
        "77a85761977343cca39bbadc7c93c19a": {
          "model_module": "@jupyter-widgets/controls",
          "model_name": "DescriptionStyleModel",
          "model_module_version": "1.5.0",
          "state": {
            "_model_module": "@jupyter-widgets/controls",
            "_model_module_version": "1.5.0",
            "_model_name": "DescriptionStyleModel",
            "_view_count": null,
            "_view_module": "@jupyter-widgets/base",
            "_view_module_version": "1.2.0",
            "_view_name": "StyleView",
            "description_width": ""
          }
        },
        "af126efb0e1d4ed783868a37da282a25": {
          "model_module": "jupyter-leaflet",
          "model_name": "LeafletMapModel",
          "model_module_version": "^0.18",
          "state": {
            "_dom_classes": [],
            "_model_module": "jupyter-leaflet",
            "_model_module_version": "^0.18",
            "_model_name": "LeafletMapModel",
            "_view_count": null,
            "_view_module": "jupyter-leaflet",
            "_view_module_version": "^0.18",
            "_view_name": "LeafletMapView",
            "bottom": 754,
            "bounce_at_zoom_limits": true,
            "box_zoom": true,
            "center": [
              20,
              0
            ],
            "close_popup_on_click": true,
            "controls": [
              "IPY_MODEL_0fc21aeca9824847adb300bec120760d",
              "IPY_MODEL_ef11ef34b1b04baca95d8c45edcd083a",
              "IPY_MODEL_68a89873327749afae0a61dde85227cc",
              "IPY_MODEL_2e670e28ea3c45959cc1494fdd54635c",
              "IPY_MODEL_58525b1c542f4444a5fb9ed30175b40d",
              "IPY_MODEL_6e679d6107ca476d8c3618d95ea19a93",
              "IPY_MODEL_d8c58e02e19f43dd9b0f46a630bd6d3b"
            ],
            "crs": {
              "name": "EPSG3857",
              "custom": false
            },
            "default_style": "IPY_MODEL_4135334b4b094b6788e87ed90a412673",
            "double_click_zoom": true,
            "dragging": true,
            "dragging_style": "IPY_MODEL_47249e8065b247f59172553ad1df9433",
            "east": 230.62500000000003,
            "fullscreen": false,
            "inertia": true,
            "inertia_deceleration": 3000,
            "inertia_max_speed": 1500,
            "interpolation": "bilinear",
            "keyboard": true,
            "keyboard_pan_offset": 80,
            "keyboard_zoom_offset": 1,
            "layers": [
              "IPY_MODEL_b34eff76b02142dbb710b4b26bd28ed5",
              "IPY_MODEL_d6278a1866b14ea48c2f1b8e055c4eac"
            ],
            "layout": "IPY_MODEL_99c6dc28364d46ff93e56ceff4e9afc2",
            "left": -144,
            "max_zoom": 24,
            "min_zoom": null,
            "modisdate": "2024-05-23",
            "north": 77.31251993823143,
            "options": [
              "bounce_at_zoom_limits",
              "box_zoom",
              "center",
              "close_popup_on_click",
              "double_click_zoom",
              "dragging",
              "fullscreen",
              "inertia",
              "inertia_deceleration",
              "inertia_max_speed",
              "interpolation",
              "keyboard",
              "keyboard_pan_offset",
              "keyboard_zoom_offset",
              "max_zoom",
              "min_zoom",
              "prefer_canvas",
              "scroll_wheel_zoom",
              "tap",
              "tap_tolerance",
              "touch_zoom",
              "world_copy_jump",
              "zoom",
              "zoom_animation_threshold",
              "zoom_delta",
              "zoom_snap"
            ],
            "panes": {},
            "prefer_canvas": false,
            "right": 1168,
            "scroll_wheel_zoom": true,
            "south": -64.47279382008165,
            "style": "IPY_MODEL_d66d456edc1448b68fa185c70c6a13a0",
            "tap": true,
            "tap_tolerance": 15,
            "top": 154,
            "touch_zoom": true,
            "west": -230.62500000000003,
            "window_url": "https://l191srh9l8l-496ff2e9c6d22116-0-colab.googleusercontent.com/outputframe.html?vrz=colab_20240522-060111_RC00_636113202",
            "world_copy_jump": false,
            "zoom": 2,
            "zoom_animation_threshold": 4,
            "zoom_delta": 1,
            "zoom_snap": 1
          }
        },
        "0fc21aeca9824847adb300bec120760d": {
          "model_module": "jupyter-leaflet",
          "model_name": "LeafletZoomControlModel",
          "model_module_version": "^0.18",
          "state": {
            "_model_module": "jupyter-leaflet",
            "_model_module_version": "^0.18",
            "_model_name": "LeafletZoomControlModel",
            "_view_count": null,
            "_view_module": "jupyter-leaflet",
            "_view_module_version": "^0.18",
            "_view_name": "LeafletZoomControlView",
            "options": [
              "position",
              "zoom_in_text",
              "zoom_in_title",
              "zoom_out_text",
              "zoom_out_title"
            ],
            "position": "topleft",
            "zoom_in_text": "+",
            "zoom_in_title": "Zoom in",
            "zoom_out_text": "-",
            "zoom_out_title": "Zoom out"
          }
        },
        "ef11ef34b1b04baca95d8c45edcd083a": {
          "model_module": "jupyter-leaflet",
          "model_name": "LeafletAttributionControlModel",
          "model_module_version": "^0.18",
          "state": {
            "_model_module": "jupyter-leaflet",
            "_model_module_version": "^0.18",
            "_model_name": "LeafletAttributionControlModel",
            "_view_count": null,
            "_view_module": "jupyter-leaflet",
            "_view_module_version": "^0.18",
            "_view_name": "LeafletAttributionControlView",
            "options": [
              "position",
              "prefix"
            ],
            "position": "bottomright",
            "prefix": "ipyleaflet"
          }
        },
        "68a89873327749afae0a61dde85227cc": {
          "model_module": "jupyter-leaflet",
          "model_name": "LeafletFullScreenControlModel",
          "model_module_version": "^0.18",
          "state": {
            "_model_module": "jupyter-leaflet",
            "_model_module_version": "^0.18",
            "_model_name": "LeafletFullScreenControlModel",
            "_view_count": null,
            "_view_module": "jupyter-leaflet",
            "_view_module_version": "^0.18",
            "_view_name": "LeafletFullScreenControlView",
            "options": [
              "position"
            ],
            "position": "topleft"
          }
        },
        "2e670e28ea3c45959cc1494fdd54635c": {
          "model_module": "jupyter-leaflet",
          "model_name": "LeafletDrawControlModel",
          "model_module_version": "^0.18",
          "state": {
            "_model_module": "jupyter-leaflet",
            "_model_module_version": "^0.18",
            "_model_name": "LeafletDrawControlModel",
            "_view_count": null,
            "_view_module": "jupyter-leaflet",
            "_view_module_version": "^0.18",
            "_view_name": "LeafletDrawControlView",
            "circle": {
              "shapeOptions": {
                "color": "#3388ff"
              },
              "repeatMode": false
            },
            "circlemarker": {},
            "data": [],
            "edit": true,
            "marker": {
              "shapeOptions": {
                "color": "#3388ff"
              },
              "repeatMode": false
            },
            "options": [
              "position"
            ],
            "polygon": {
              "repeatMode": false
            },
            "polyline": {
              "repeatMode": false
            },
            "position": "topleft",
            "rectangle": {
              "shapeOptions": {
                "color": "#3388ff"
              },
              "repeatMode": false
            },
            "remove": true
          }
        },
        "58525b1c542f4444a5fb9ed30175b40d": {
          "model_module": "jupyter-leaflet",
          "model_name": "LeafletScaleControlModel",
          "model_module_version": "^0.18",
          "state": {
            "_model_module": "jupyter-leaflet",
            "_model_module_version": "^0.18",
            "_model_name": "LeafletScaleControlModel",
            "_view_count": null,
            "_view_module": "jupyter-leaflet",
            "_view_module_version": "^0.18",
            "_view_name": "LeafletScaleControlView",
            "imperial": true,
            "max_width": 100,
            "metric": true,
            "options": [
              "imperial",
              "max_width",
              "metric",
              "position",
              "update_when_idle"
            ],
            "position": "bottomleft",
            "update_when_idle": false
          }
        },
        "6e679d6107ca476d8c3618d95ea19a93": {
          "model_module": "jupyter-leaflet",
          "model_name": "LeafletWidgetControlModel",
          "model_module_version": "^0.18",
          "state": {
            "_model_module": "jupyter-leaflet",
            "_model_module_version": "^0.18",
            "_model_name": "LeafletWidgetControlModel",
            "_view_count": null,
            "_view_module": "jupyter-leaflet",
            "_view_module_version": "^0.18",
            "_view_name": "LeafletWidgetControlView",
            "max_height": null,
            "max_width": null,
            "min_height": null,
            "min_width": null,
            "options": [
              "position",
              "transparent_bg"
            ],
            "position": "topright",
            "transparent_bg": false,
            "widget": "IPY_MODEL_0f127a53609e4d82b42ac40490f03216"
          }
        },
        "d8c58e02e19f43dd9b0f46a630bd6d3b": {
          "model_module": "jupyter-leaflet",
          "model_name": "LeafletWidgetControlModel",
          "model_module_version": "^0.18",
          "state": {
            "_model_module": "jupyter-leaflet",
            "_model_module_version": "^0.18",
            "_model_name": "LeafletWidgetControlModel",
            "_view_count": null,
            "_view_module": "jupyter-leaflet",
            "_view_module_version": "^0.18",
            "_view_name": "LeafletWidgetControlView",
            "max_height": null,
            "max_width": null,
            "min_height": null,
            "min_width": null,
            "options": [
              "position",
              "transparent_bg"
            ],
            "position": "bottomright",
            "transparent_bg": false,
            "widget": "IPY_MODEL_822009681a2342b394d6d4df77e08f7f"
          }
        },
        "4135334b4b094b6788e87ed90a412673": {
          "model_module": "jupyter-leaflet",
          "model_name": "LeafletMapStyleModel",
          "model_module_version": "^0.18",
          "state": {
            "_model_module": "jupyter-leaflet",
            "_model_module_version": "^0.18",
            "_model_name": "LeafletMapStyleModel",
            "_view_count": null,
            "_view_module": "@jupyter-widgets/base",
            "_view_module_version": "1.2.0",
            "_view_name": "StyleView",
            "cursor": "grab"
          }
        },
        "47249e8065b247f59172553ad1df9433": {
          "model_module": "jupyter-leaflet",
          "model_name": "LeafletMapStyleModel",
          "model_module_version": "^0.18",
          "state": {
            "_model_module": "jupyter-leaflet",
            "_model_module_version": "^0.18",
            "_model_name": "LeafletMapStyleModel",
            "_view_count": null,
            "_view_module": "@jupyter-widgets/base",
            "_view_module_version": "1.2.0",
            "_view_name": "StyleView",
            "cursor": "move"
          }
        },
        "b34eff76b02142dbb710b4b26bd28ed5": {
          "model_module": "jupyter-leaflet",
          "model_name": "LeafletTileLayerModel",
          "model_module_version": "^0.18",
          "state": {
            "_model_module": "jupyter-leaflet",
            "_model_module_version": "^0.18",
            "_model_name": "LeafletTileLayerModel",
            "_view_count": null,
            "_view_module": "jupyter-leaflet",
            "_view_module_version": "^0.18",
            "_view_name": "LeafletTileLayerView",
            "attribution": "&copy; <a href=\"https://www.openstreetmap.org/copyright\">OpenStreetMap</a> contributors",
            "base": true,
            "bottom": true,
            "bounds": null,
            "detect_retina": false,
            "loading": false,
            "max_native_zoom": null,
            "max_zoom": 19,
            "min_native_zoom": null,
            "min_zoom": 1,
            "name": "OpenStreetMap",
            "no_wrap": false,
            "opacity": 1,
            "options": [
              "attribution",
              "bounds",
              "detect_retina",
              "max_native_zoom",
              "max_zoom",
              "min_native_zoom",
              "min_zoom",
              "no_wrap",
              "tile_size",
              "tms",
              "zoom_offset"
            ],
            "pane": "",
            "popup": null,
            "popup_max_height": null,
            "popup_max_width": 300,
            "popup_min_width": 50,
            "show_loading": false,
            "subitems": [],
            "tile_size": 256,
            "tms": false,
            "url": "https://tile.openstreetmap.org/{z}/{x}/{y}.png",
            "visible": true,
            "zoom_offset": 0
          }
        },
        "d6278a1866b14ea48c2f1b8e055c4eac": {
          "model_module": "jupyter-leaflet",
          "model_name": "LeafletGeoJSONModel",
          "model_module_version": "^0.18",
          "state": {
            "_model_module": "jupyter-leaflet",
            "_model_module_version": "^0.18",
            "_model_name": "LeafletGeoJSONModel",
            "_view_count": null,
            "_view_module": "jupyter-leaflet",
            "_view_module_version": "^0.18",
            "_view_name": "LeafletGeoJSONView",
            "base": false,
            "bottom": false,
            "data": {
              "type": "FeatureCollection",
              "features": [
                {
                  "id": "0",
                  "type": "Feature",
                  "properties": {
                    "HEIGHT": 17.530000686645508,
                    "SQMETERS": 3525.11328125,
                    "mean": 19.82754578143535,
                    "count": 843,
                    "style": {
                      "color": "black",
                      "fillColor": "black"
                    }
                  },
                  "geometry": {
                    "type": "MultiPolygon",
                    "coordinates": [
                      [
                        [
                          [
                            -77.051213,
                            38.812148
                          ],
                          [
                            -77.05132,
                            38.81155799999999
                          ],
                          [
                            -77.051575,
                            38.811586000000005
                          ],
                          [
                            -77.051504,
                            38.811979
                          ],
                          [
                            -77.05183,
                            38.812015
                          ],
                          [
                            -77.051888,
                            38.811696999999995
                          ],
                          [
                            -77.052127,
                            38.811724000000005
                          ],
                          [
                            -77.052062,
                            38.81208399999999
                          ],
                          [
                            -77.052093,
                            38.812087999999996
                          ],
                          [
                            -77.052065,
                            38.812241
                          ],
                          [
                            -77.051213,
                            38.812148
                          ]
                        ]
                      ]
                    ]
                  },
                  "bbox": [
                    -77.052127,
                    38.81155799999999,
                    -77.051213,
                    38.812241
                  ]
                },
                {
                  "id": "1",
                  "type": "Feature",
                  "properties": {
                    "HEIGHT": 6.619999885559082,
                    "SQMETERS": 51.4990348815918,
                    "mean": 8.442221747504341,
                    "count": 18,
                    "style": {
                      "color": "black",
                      "fillColor": "black"
                    }
                  },
                  "geometry": {
                    "type": "MultiPolygon",
                    "coordinates": [
                      [
                        [
                          [
                            -77.053394,
                            38.809303
                          ],
                          [
                            -77.053409,
                            38.809174000000006
                          ],
                          [
                            -77.053465,
                            38.809178
                          ],
                          [
                            -77.05345,
                            38.809307000000004
                          ],
                          [
                            -77.053394,
                            38.809303
                          ]
                        ]
                      ]
                    ]
                  },
                  "bbox": [
                    -77.053465,
                    38.809174000000006,
                    -77.053394,
                    38.809307000000004
                  ]
                },
                {
                  "id": "2",
                  "type": "Feature",
                  "properties": {
                    "HEIGHT": 5.96999979019165,
                    "SQMETERS": 233.68722534179688,
                    "mean": 9.612962510850695,
                    "count": 54,
                    "style": {
                      "color": "black",
                      "fillColor": "black"
                    }
                  },
                  "geometry": {
                    "type": "MultiPolygon",
                    "coordinates": [
                      [
                        [
                          [
                            -77.052724,
                            38.810644
                          ],
                          [
                            -77.05282,
                            38.810653
                          ],
                          [
                            -77.052784,
                            38.810879
                          ],
                          [
                            -77.052689,
                            38.810869999999994
                          ],
                          [
                            -77.052724,
                            38.810644
                          ]
                        ]
                      ]
                    ]
                  },
                  "bbox": [
                    -77.05282,
                    38.810644,
                    -77.052689,
                    38.810879
                  ]
                },
                {
                  "id": "3",
                  "type": "Feature",
                  "properties": {
                    "HEIGHT": 7.19000005722046,
                    "SQMETERS": 320.350341796875,
                    "mean": 11.190888129340278,
                    "count": 90,
                    "style": {
                      "color": "black",
                      "fillColor": "black"
                    }
                  },
                  "geometry": {
                    "type": "MultiPolygon",
                    "coordinates": [
                      [
                        [
                          [
                            -77.05211,
                            38.810242
                          ],
                          [
                            -77.052132,
                            38.810111
                          ],
                          [
                            -77.052235,
                            38.810120999999995
                          ],
                          [
                            -77.052231,
                            38.81014400000001
                          ],
                          [
                            -77.05229100000001,
                            38.81015
                          ],
                          [
                            -77.052289,
                            38.810161
                          ],
                          [
                            -77.052364,
                            38.810168999999995
                          ],
                          [
                            -77.052367,
                            38.810148999999996
                          ],
                          [
                            -77.052456,
                            38.810157999999994
                          ],
                          [
                            -77.052435,
                            38.810275999999995
                          ],
                          [
                            -77.05211,
                            38.810242
                          ]
                        ]
                      ]
                    ]
                  },
                  "bbox": [
                    -77.052456,
                    38.810111,
                    -77.05211,
                    38.810275999999995
                  ]
                },
                {
                  "id": "4",
                  "type": "Feature",
                  "properties": {
                    "HEIGHT": 6.340000152587892,
                    "SQMETERS": 85.3870620727539,
                    "mean": 12.659524100167411,
                    "count": 21,
                    "style": {
                      "color": "black",
                      "fillColor": "black"
                    }
                  },
                  "geometry": {
                    "type": "MultiPolygon",
                    "coordinates": [
                      [
                        [
                          [
                            -77.05285,
                            38.81005999999999
                          ],
                          [
                            -77.053034,
                            38.810073
                          ],
                          [
                            -77.05303,
                            38.810106
                          ],
                          [
                            -77.053011,
                            38.81010499999999
                          ],
                          [
                            -77.05301,
                            38.810121
                          ],
                          [
                            -77.052845,
                            38.81011
                          ],
                          [
                            -77.05285,
                            38.81005999999999
                          ]
                        ]
                      ]
                    ]
                  },
                  "bbox": [
                    -77.053034,
                    38.81005999999999,
                    -77.052845,
                    38.810121
                  ]
                },
                {
                  "id": "5",
                  "type": "Feature",
                  "properties": {
                    "HEIGHT": 6.590000152587892,
                    "SQMETERS": 116.73389434814453,
                    "mean": 8.278788248697916,
                    "count": 33,
                    "style": {
                      "color": "black",
                      "fillColor": "black"
                    }
                  },
                  "geometry": {
                    "type": "MultiPolygon",
                    "coordinates": [
                      [
                        [
                          [
                            -77.053242,
                            38.809599
                          ],
                          [
                            -77.053257,
                            38.80947599999999
                          ],
                          [
                            -77.053363,
                            38.809482999999986
                          ],
                          [
                            -77.053348,
                            38.80960700000001
                          ],
                          [
                            -77.053242,
                            38.809599
                          ]
                        ]
                      ]
                    ]
                  },
                  "bbox": [
                    -77.053363,
                    38.80947599999999,
                    -77.053242,
                    38.80960700000001
                  ]
                },
                {
                  "id": "6",
                  "type": "Feature",
                  "properties": {
                    "HEIGHT": 5.920000076293946,
                    "SQMETERS": 100.89398193359375,
                    "mean": 10.084545482288707,
                    "count": 22,
                    "style": {
                      "color": "black",
                      "fillColor": "black"
                    }
                  },
                  "geometry": {
                    "type": "MultiPolygon",
                    "coordinates": [
                      [
                        [
                          [
                            -77.053962,
                            38.809842999999994
                          ],
                          [
                            -77.054086,
                            38.80985100000001
                          ],
                          [
                            -77.054078,
                            38.80993
                          ],
                          [
                            -77.053954,
                            38.80992199999999
                          ],
                          [
                            -77.053962,
                            38.809842999999994
                          ]
                        ]
                      ]
                    ]
                  },
                  "bbox": [
                    -77.054086,
                    38.809842999999994,
                    -77.053954,
                    38.80993
                  ]
                },
                {
                  "id": "7",
                  "type": "Feature",
                  "properties": {
                    "HEIGHT": 9.470000267028809,
                    "SQMETERS": 594.9000854492186,
                    "mean": 11.286432934414808,
                    "count": 157,
                    "style": {
                      "color": "black",
                      "fillColor": "black"
                    }
                  },
                  "geometry": {
                    "type": "MultiPolygon",
                    "coordinates": [
                      [
                        [
                          [
                            -77.05362800000002,
                            38.811295999999984
                          ],
                          [
                            -77.053711,
                            38.810863
                          ],
                          [
                            -77.053854,
                            38.810879000000014
                          ],
                          [
                            -77.053817,
                            38.81107200000001
                          ],
                          [
                            -77.053835,
                            38.811074
                          ],
                          [
                            -77.053803,
                            38.811240000000005
                          ],
                          [
                            -77.053772,
                            38.811237
                          ],
                          [
                            -77.05375700000002,
                            38.811311
                          ],
                          [
                            -77.05362800000002,
                            38.811295999999984
                          ]
                        ]
                      ]
                    ]
                  },
                  "bbox": [
                    -77.053854,
                    38.810863,
                    -77.05362800000002,
                    38.811311
                  ]
                },
                {
                  "id": "8",
                  "type": "Feature",
                  "properties": {
                    "HEIGHT": 10.460000038146973,
                    "SQMETERS": 363.05828857421875,
                    "mean": 12.149327204777645,
                    "count": 104,
                    "style": {
                      "color": "black",
                      "fillColor": "black"
                    }
                  },
                  "geometry": {
                    "type": "MultiPolygon",
                    "coordinates": [
                      [
                        [
                          [
                            -77.053869,
                            38.811578999999995
                          ],
                          [
                            -77.053858,
                            38.811641
                          ],
                          [
                            -77.053904,
                            38.81164499999999
                          ],
                          [
                            -77.05388600000002,
                            38.811748
                          ],
                          [
                            -77.05383,
                            38.811741999999995
                          ],
                          [
                            -77.053836,
                            38.811704999999996
                          ],
                          [
                            -77.053632,
                            38.811684
                          ],
                          [
                            -77.053635,
                            38.811665
                          ],
                          [
                            -77.05354600000001,
                            38.811656
                          ],
                          [
                            -77.053565,
                            38.811547
                          ],
                          [
                            -77.053869,
                            38.811578999999995
                          ]
                        ]
                      ]
                    ]
                  },
                  "bbox": [
                    -77.053904,
                    38.811547,
                    -77.05354600000001,
                    38.811748
                  ]
                },
                {
                  "id": "9",
                  "type": "Feature",
                  "properties": {
                    "HEIGHT": 6.920000076293946,
                    "SQMETERS": 65.7232437133789,
                    "mean": 8.428888956705729,
                    "count": 18,
                    "style": {
                      "color": "black",
                      "fillColor": "black"
                    }
                  },
                  "geometry": {
                    "type": "MultiPolygon",
                    "coordinates": [
                      [
                        [
                          [
                            -77.051207,
                            38.80993
                          ],
                          [
                            -77.051213,
                            38.80988399999999
                          ],
                          [
                            -77.05137,
                            38.809896
                          ],
                          [
                            -77.051364,
                            38.809943
                          ],
                          [
                            -77.051207,
                            38.80993
                          ]
                        ]
                      ]
                    ]
                  },
                  "bbox": [
                    -77.05137,
                    38.80988399999999,
                    -77.051207,
                    38.809943
                  ]
                },
                {
                  "id": "10",
                  "type": "Feature",
                  "properties": {
                    "HEIGHT": 6.369999885559082,
                    "SQMETERS": 99.35841369628906,
                    "mean": 8.318181818181818,
                    "count": 22,
                    "style": {
                      "color": "black",
                      "fillColor": "black"
                    }
                  },
                  "geometry": {
                    "type": "MultiPolygon",
                    "coordinates": [
                      [
                        [
                          [
                            -77.051337,
                            38.809603
                          ],
                          [
                            -77.051275,
                            38.809597
                          ],
                          [
                            -77.051281,
                            38.809557999999996
                          ],
                          [
                            -77.051435,
                            38.809572
                          ],
                          [
                            -77.05142300000001,
                            38.80965499999999
                          ],
                          [
                            -77.05133100000002,
                            38.809645999999994
                          ],
                          [
                            -77.051337,
                            38.809603
                          ]
                        ]
                      ]
                    ]
                  },
                  "bbox": [
                    -77.051435,
                    38.809557999999996,
                    -77.051275,
                    38.80965499999999
                  ]
                },
                {
                  "id": "11",
                  "type": "Feature",
                  "properties": {
                    "HEIGHT": 5.900000095367432,
                    "SQMETERS": 187.36326599121094,
                    "mean": 7.623281002044678,
                    "count": 64,
                    "style": {
                      "color": "black",
                      "fillColor": "black"
                    }
                  },
                  "geometry": {
                    "type": "MultiPolygon",
                    "coordinates": [
                      [
                        [
                          [
                            -77.052601,
                            38.811226999999995
                          ],
                          [
                            -77.052693,
                            38.811237
                          ],
                          [
                            -77.052658,
                            38.811428
                          ],
                          [
                            -77.052724,
                            38.811434999999996
                          ],
                          [
                            -77.05271500000002,
                            38.811484
                          ],
                          [
                            -77.052552,
                            38.811465999999996
                          ],
                          [
                            -77.052562,
                            38.811415000000004
                          ],
                          [
                            -77.052542,
                            38.811413
                          ],
                          [
                            -77.05255100000001,
                            38.81136599999999
                          ],
                          [
                            -77.052575,
                            38.811369000000006
                          ],
                          [
                            -77.052601,
                            38.811226999999995
                          ]
                        ]
                      ]
                    ]
                  },
                  "bbox": [
                    -77.052724,
                    38.811226999999995,
                    -77.052542,
                    38.811484
                  ]
                },
                {
                  "id": "12",
                  "type": "Feature",
                  "properties": {
                    "HEIGHT": 5.349999904632568,
                    "SQMETERS": 66.61397552490234,
                    "mean": 9.616666158040365,
                    "count": 18,
                    "style": {
                      "color": "black",
                      "fillColor": "black"
                    }
                  },
                  "geometry": {
                    "type": "MultiPolygon",
                    "coordinates": [
                      [
                        [
                          [
                            -77.052828,
                            38.81018499999998
                          ],
                          [
                            -77.052835,
                            38.81013299999999
                          ],
                          [
                            -77.052961,
                            38.810144
                          ],
                          [
                            -77.052954,
                            38.81019599999999
                          ],
                          [
                            -77.052828,
                            38.81018499999998
                          ]
                        ]
                      ]
                    ]
                  },
                  "bbox": [
                    -77.052961,
                    38.81013299999999,
                    -77.052828,
                    38.81019599999999
                  ]
                },
                {
                  "id": "13",
                  "type": "Feature",
                  "properties": {
                    "HEIGHT": 6.94000005722046,
                    "SQMETERS": 189.03309631347656,
                    "mean": 10.470732153915778,
                    "count": 41,
                    "style": {
                      "color": "black",
                      "fillColor": "black"
                    }
                  },
                  "geometry": {
                    "type": "MultiPolygon",
                    "coordinates": [
                      [
                        [
                          [
                            -77.05377,
                            38.810722000000005
                          ],
                          [
                            -77.053937,
                            38.81073299999999
                          ],
                          [
                            -77.053926,
                            38.810837
                          ],
                          [
                            -77.05375900000001,
                            38.810826
                          ],
                          [
                            -77.05377,
                            38.810722000000005
                          ]
                        ]
                      ]
                    ]
                  },
                  "bbox": [
                    -77.053937,
                    38.810722000000005,
                    -77.05375900000001,
                    38.810837
                  ]
                },
                {
                  "id": "14",
                  "type": "Feature",
                  "properties": {
                    "HEIGHT": 5.539999961853028,
                    "SQMETERS": 150.42425537109375,
                    "mean": 7.236154409555288,
                    "count": 39,
                    "style": {
                      "color": "black",
                      "fillColor": "black"
                    }
                  },
                  "geometry": {
                    "type": "MultiPolygon",
                    "coordinates": [
                      [
                        [
                          [
                            -77.052884,
                            38.811437
                          ],
                          [
                            -77.052992,
                            38.811445000000006
                          ],
                          [
                            -77.05298300000001,
                            38.811515
                          ],
                          [
                            -77.052812,
                            38.811502
                          ],
                          [
                            -77.052828,
                            38.811374
                          ],
                          [
                            -77.05289100000002,
                            38.811379
                          ],
                          [
                            -77.052884,
                            38.811437
                          ]
                        ]
                      ]
                    ]
                  },
                  "bbox": [
                    -77.052992,
                    38.811374,
                    -77.052812,
                    38.811515
                  ]
                },
                {
                  "id": "15",
                  "type": "Feature",
                  "properties": {
                    "HEIGHT": 6.630000114440918,
                    "SQMETERS": 402.5047912597656,
                    "mean": 8.639902651888653,
                    "count": 103,
                    "style": {
                      "color": "black",
                      "fillColor": "black"
                    }
                  },
                  "geometry": {
                    "type": "MultiPolygon",
                    "coordinates": [
                      [
                        [
                          [
                            -77.051678,
                            38.810189
                          ],
                          [
                            -77.051698,
                            38.810061
                          ],
                          [
                            -77.051846,
                            38.810075
                          ],
                          [
                            -77.051839,
                            38.810119
                          ],
                          [
                            -77.051874,
                            38.81012199999999
                          ],
                          [
                            -77.051878,
                            38.810097
                          ],
                          [
                            -77.051952,
                            38.810104
                          ],
                          [
                            -77.051947,
                            38.810135
                          ],
                          [
                            -77.051981,
                            38.810138
                          ],
                          [
                            -77.05198800000001,
                            38.810092
                          ],
                          [
                            -77.052075,
                            38.810099999999984
                          ],
                          [
                            -77.052056,
                            38.81022499999999
                          ],
                          [
                            -77.051678,
                            38.810189
                          ]
                        ]
                      ]
                    ]
                  },
                  "bbox": [
                    -77.052075,
                    38.810061,
                    -77.051678,
                    38.81022499999999
                  ]
                },
                {
                  "id": "16",
                  "type": "Feature",
                  "properties": {
                    "HEIGHT": 6.829999923706056,
                    "SQMETERS": 46.15605545043945,
                    "mean": 7.59083366394043,
                    "count": 24,
                    "style": {
                      "color": "black",
                      "fillColor": "black"
                    }
                  },
                  "geometry": {
                    "type": "MultiPolygon",
                    "coordinates": [
                      [
                        [
                          [
                            -77.054254,
                            38.81050700000001
                          ],
                          [
                            -77.054403,
                            38.810521
                          ],
                          [
                            -77.054394,
                            38.810583
                          ],
                          [
                            -77.054245,
                            38.810568999999994
                          ],
                          [
                            -77.054254,
                            38.81050700000001
                          ]
                        ]
                      ]
                    ]
                  },
                  "bbox": [
                    -77.054403,
                    38.81050700000001,
                    -77.054245,
                    38.810583
                  ]
                },
                {
                  "id": "17",
                  "type": "Feature",
                  "properties": {
                    "HEIGHT": 6.369999885559082,
                    "SQMETERS": 246.4384765625,
                    "mean": 8.08069005505792,
                    "count": 58,
                    "style": {
                      "color": "black",
                      "fillColor": "black"
                    }
                  },
                  "geometry": {
                    "type": "MultiPolygon",
                    "coordinates": [
                      [
                        [
                          [
                            -77.05263300000001,
                            38.811124
                          ],
                          [
                            -77.052653,
                            38.810987999999995
                          ],
                          [
                            -77.05279,
                            38.81099999999999
                          ],
                          [
                            -77.052778,
                            38.81108499999999
                          ],
                          [
                            -77.052726,
                            38.811081
                          ],
                          [
                            -77.052718,
                            38.81113900000001
                          ],
                          [
                            -77.052771,
                            38.81114299999999
                          ],
                          [
                            -77.052764,
                            38.81118699999999
                          ],
                          [
                            -77.05259,
                            38.811171
                          ],
                          [
                            -77.052597,
                            38.811121
                          ],
                          [
                            -77.05263300000001,
                            38.811124
                          ]
                        ]
                      ]
                    ]
                  },
                  "bbox": [
                    -77.05279,
                    38.810987999999995,
                    -77.05259,
                    38.81118699999999
                  ]
                },
                {
                  "id": "18",
                  "type": "Feature",
                  "properties": {
                    "HEIGHT": 5.480000019073486,
                    "SQMETERS": 91.9062271118164,
                    "mean": 7.691428593226841,
                    "count": 28,
                    "style": {
                      "color": "black",
                      "fillColor": "black"
                    }
                  },
                  "geometry": {
                    "type": "MultiPolygon",
                    "coordinates": [
                      [
                        [
                          [
                            -77.05425,
                            38.81042
                          ],
                          [
                            -77.054423,
                            38.810432000000006
                          ],
                          [
                            -77.054416,
                            38.810494000000006
                          ],
                          [
                            -77.054243,
                            38.810482
                          ],
                          [
                            -77.05425,
                            38.81042
                          ]
                        ]
                      ]
                    ]
                  },
                  "bbox": [
                    -77.054423,
                    38.81042,
                    -77.054243,
                    38.810494000000006
                  ]
                },
                {
                  "id": "19",
                  "type": "Feature",
                  "properties": {
                    "HEIGHT": 5.340000152587892,
                    "SQMETERS": 41.90424346923828,
                    "mean": 7.19941172880285,
                    "count": 17,
                    "style": {
                      "color": "black",
                      "fillColor": "black"
                    }
                  },
                  "geometry": {
                    "type": "MultiPolygon",
                    "coordinates": [
                      [
                        [
                          [
                            -77.052466,
                            38.80904299999999
                          ],
                          [
                            -77.052446,
                            38.809186
                          ],
                          [
                            -77.052396,
                            38.809182
                          ],
                          [
                            -77.052416,
                            38.809037999999994
                          ],
                          [
                            -77.052466,
                            38.80904299999999
                          ]
                        ]
                      ]
                    ]
                  },
                  "bbox": [
                    -77.052466,
                    38.809037999999994,
                    -77.052396,
                    38.809186
                  ]
                },
                {
                  "id": "20",
                  "type": "Feature",
                  "properties": {
                    "HEIGHT": 5.21999979019165,
                    "SQMETERS": 128.04364013671875,
                    "mean": 7.1892852783203125,
                    "count": 28,
                    "style": {
                      "color": "black",
                      "fillColor": "black"
                    }
                  },
                  "geometry": {
                    "type": "MultiPolygon",
                    "coordinates": [
                      [
                        [
                          [
                            -77.05314900000002,
                            38.810688000000006
                          ],
                          [
                            -77.053142,
                            38.810759
                          ],
                          [
                            -77.052972,
                            38.81074999999999
                          ],
                          [
                            -77.052978,
                            38.810679
                          ],
                          [
                            -77.05314900000002,
                            38.810688000000006
                          ]
                        ]
                      ]
                    ]
                  },
                  "bbox": [
                    -77.05314900000002,
                    38.810679,
                    -77.052972,
                    38.810759
                  ]
                },
                {
                  "id": "21",
                  "type": "Feature",
                  "properties": {
                    "HEIGHT": 5.699999809265138,
                    "SQMETERS": 101.71824645996094,
                    "mean": 7.08,
                    "count": 25,
                    "style": {
                      "color": "black",
                      "fillColor": "black"
                    }
                  },
                  "geometry": {
                    "type": "MultiPolygon",
                    "coordinates": [
                      [
                        [
                          [
                            -77.05341700000001,
                            38.810722000000005
                          ],
                          [
                            -77.0534,
                            38.81080200000001
                          ],
                          [
                            -77.053267,
                            38.810784
                          ],
                          [
                            -77.053284,
                            38.810705
                          ],
                          [
                            -77.05341700000001,
                            38.810722000000005
                          ]
                        ]
                      ]
                    ]
                  },
                  "bbox": [
                    -77.05341700000001,
                    38.810705,
                    -77.053267,
                    38.81080200000001
                  ]
                },
                {
                  "id": "22",
                  "type": "Feature",
                  "properties": {
                    "HEIGHT": 8.010000228881836,
                    "SQMETERS": 81.98997497558594,
                    "mean": 9.9586669921875,
                    "count": 30,
                    "style": {
                      "color": "black",
                      "fillColor": "black"
                    }
                  },
                  "geometry": {
                    "type": "MultiPolygon",
                    "coordinates": [
                      [
                        [
                          [
                            -77.053525,
                            38.809317
                          ],
                          [
                            -77.053553,
                            38.809208
                          ],
                          [
                            -77.053665,
                            38.809226
                          ],
                          [
                            -77.053638,
                            38.80933400000001
                          ],
                          [
                            -77.053525,
                            38.809317
                          ]
                        ]
                      ]
                    ]
                  },
                  "bbox": [
                    -77.053665,
                    38.809208,
                    -77.053525,
                    38.80933400000001
                  ]
                },
                {
                  "id": "23",
                  "type": "Feature",
                  "properties": {
                    "HEIGHT": 7.119999885559082,
                    "SQMETERS": 247.78138732910156,
                    "mean": 8.364590003842213,
                    "count": 61,
                    "style": {
                      "color": "black",
                      "fillColor": "black"
                    }
                  },
                  "geometry": {
                    "type": "MultiPolygon",
                    "coordinates": [
                      [
                        [
                          [
                            -77.052337,
                            38.810556999999996
                          ],
                          [
                            -77.052321,
                            38.81065
                          ],
                          [
                            -77.052057,
                            38.810624
                          ],
                          [
                            -77.052073,
                            38.81053000000001
                          ],
                          [
                            -77.052337,
                            38.810556999999996
                          ]
                        ]
                      ]
                    ]
                  },
                  "bbox": [
                    -77.052337,
                    38.81053000000001,
                    -77.052057,
                    38.81065
                  ]
                },
                {
                  "id": "24",
                  "type": "Feature",
                  "properties": {
                    "HEIGHT": 6.059999942779542,
                    "SQMETERS": 157.24124145507812,
                    "mean": 9.879721747504341,
                    "count": 36,
                    "style": {
                      "color": "black",
                      "fillColor": "black"
                    }
                  },
                  "geometry": {
                    "type": "MultiPolygon",
                    "coordinates": [
                      [
                        [
                          [
                            -77.053861,
                            38.810216999999994
                          ],
                          [
                            -77.05402500000001,
                            38.810230999999995
                          ],
                          [
                            -77.054013,
                            38.810320000000004
                          ],
                          [
                            -77.05384900000001,
                            38.810306000000004
                          ],
                          [
                            -77.053861,
                            38.810216999999994
                          ]
                        ]
                      ]
                    ]
                  },
                  "bbox": [
                    -77.05402500000001,
                    38.810216999999994,
                    -77.05384900000001,
                    38.810320000000004
                  ]
                },
                {
                  "id": "25",
                  "type": "Feature",
                  "properties": {
                    "HEIGHT": 6.289999961853028,
                    "SQMETERS": 95.56697082519531,
                    "mean": 9.57318184592507,
                    "count": 22,
                    "style": {
                      "color": "black",
                      "fillColor": "black"
                    }
                  },
                  "geometry": {
                    "type": "MultiPolygon",
                    "coordinates": [
                      [
                        [
                          [
                            -77.05125,
                            38.809737999999996
                          ],
                          [
                            -77.051268,
                            38.809667
                          ],
                          [
                            -77.051395,
                            38.809687000000004
                          ],
                          [
                            -77.051377,
                            38.80975699999998
                          ],
                          [
                            -77.05125,
                            38.809737999999996
                          ]
                        ]
                      ]
                    ]
                  },
                  "bbox": [
                    -77.051395,
                    38.809667,
                    -77.05125,
                    38.80975699999998
                  ]
                },
                {
                  "id": "26",
                  "type": "Feature",
                  "properties": {
                    "HEIGHT": 6.900000095367432,
                    "SQMETERS": 340.0948791503907,
                    "mean": 8.187113024524807,
                    "count": 97,
                    "style": {
                      "color": "black",
                      "fillColor": "black"
                    }
                  },
                  "geometry": {
                    "type": "MultiPolygon",
                    "coordinates": [
                      [
                        [
                          [
                            -77.051981,
                            38.809334000000014
                          ],
                          [
                            -77.051949,
                            38.809518999999995
                          ],
                          [
                            -77.051984,
                            38.809521999999994
                          ],
                          [
                            -77.051977,
                            38.80956
                          ],
                          [
                            -77.051998,
                            38.809563
                          ],
                          [
                            -77.051991,
                            38.80960499999999
                          ],
                          [
                            -77.051943,
                            38.8096
                          ],
                          [
                            -77.051934,
                            38.809655
                          ],
                          [
                            -77.051815,
                            38.809643
                          ],
                          [
                            -77.05187,
                            38.809323000000006
                          ],
                          [
                            -77.051981,
                            38.809334000000014
                          ]
                        ]
                      ]
                    ]
                  },
                  "bbox": [
                    -77.051998,
                    38.809323000000006,
                    -77.051815,
                    38.809655
                  ]
                },
                {
                  "id": "27",
                  "type": "Feature",
                  "properties": {
                    "HEIGHT": 5.269999980926514,
                    "SQMETERS": 71.801513671875,
                    "mean": 9.51727225563743,
                    "count": 22,
                    "style": {
                      "color": "black",
                      "fillColor": "black"
                    }
                  },
                  "geometry": {
                    "type": "MultiPolygon",
                    "coordinates": [
                      [
                        [
                          [
                            -77.053383,
                            38.810093
                          ],
                          [
                            -77.053604,
                            38.81010499999999
                          ],
                          [
                            -77.053601,
                            38.810144
                          ],
                          [
                            -77.053379,
                            38.810131999999996
                          ],
                          [
                            -77.053383,
                            38.810093
                          ]
                        ]
                      ]
                    ]
                  },
                  "bbox": [
                    -77.053604,
                    38.810093,
                    -77.053379,
                    38.810144
                  ]
                },
                {
                  "id": "28",
                  "type": "Feature",
                  "properties": {
                    "HEIGHT": 6.769999980926514,
                    "SQMETERS": 58.50389099121094,
                    "mean": 8.682000732421875,
                    "count": 20,
                    "style": {
                      "color": "black",
                      "fillColor": "black"
                    }
                  },
                  "geometry": {
                    "type": "MultiPolygon",
                    "coordinates": [
                      [
                        [
                          [
                            -77.0534,
                            38.810084
                          ],
                          [
                            -77.053406,
                            38.81004299999999
                          ],
                          [
                            -77.053616,
                            38.81006099999998
                          ],
                          [
                            -77.05361,
                            38.810102
                          ],
                          [
                            -77.0534,
                            38.810084
                          ]
                        ]
                      ]
                    ]
                  },
                  "bbox": [
                    -77.053616,
                    38.81004299999999,
                    -77.0534,
                    38.810102
                  ]
                },
                {
                  "id": "29",
                  "type": "Feature",
                  "properties": {
                    "HEIGHT": 6.90999984741211,
                    "SQMETERS": 172.29965209960938,
                    "mean": 8.860000238185975,
                    "count": 41,
                    "style": {
                      "color": "black",
                      "fillColor": "black"
                    }
                  },
                  "geometry": {
                    "type": "MultiPolygon",
                    "coordinates": [
                      [
                        [
                          [
                            -77.053659,
                            38.809337
                          ],
                          [
                            -77.05367300000002,
                            38.80922999999999
                          ],
                          [
                            -77.053834,
                            38.809243
                          ],
                          [
                            -77.053819,
                            38.809349999999995
                          ],
                          [
                            -77.053659,
                            38.809337
                          ]
                        ]
                      ]
                    ]
                  },
                  "bbox": [
                    -77.053834,
                    38.80922999999999,
                    -77.053659,
                    38.809349999999995
                  ]
                },
                {
                  "id": "30",
                  "type": "Feature",
                  "properties": {
                    "HEIGHT": 6.599999904632568,
                    "SQMETERS": 178.0210418701172,
                    "mean": 7.8793182373046875,
                    "count": 44,
                    "style": {
                      "color": "black",
                      "fillColor": "black"
                    }
                  },
                  "geometry": {
                    "type": "MultiPolygon",
                    "coordinates": [
                      [
                        [
                          [
                            -77.051063,
                            38.809194999999995
                          ],
                          [
                            -77.051254,
                            38.80921
                          ],
                          [
                            -77.051241,
                            38.809304999999995
                          ],
                          [
                            -77.05105,
                            38.80928999999999
                          ],
                          [
                            -77.051063,
                            38.809194999999995
                          ]
                        ]
                      ]
                    ]
                  },
                  "bbox": [
                    -77.051254,
                    38.809194999999995,
                    -77.05105,
                    38.809304999999995
                  ]
                },
                {
                  "id": "31",
                  "type": "Feature",
                  "properties": {
                    "HEIGHT": 14.180000305175781,
                    "SQMETERS": 2188.783935546875,
                    "mean": 16.476241766237745,
                    "count": 306,
                    "style": {
                      "color": "black",
                      "fillColor": "black"
                    }
                  },
                  "geometry": {
                    "type": "MultiPolygon",
                    "coordinates": [
                      [
                        [
                          [
                            -77.05134100000001,
                            38.810446000000006
                          ],
                          [
                            -77.051312,
                            38.810598
                          ],
                          [
                            -77.05129,
                            38.810595
                          ],
                          [
                            -77.05125100000001,
                            38.810798999999996
                          ],
                          [
                            -77.051085,
                            38.81078
                          ],
                          [
                            -77.05109,
                            38.810758
                          ],
                          [
                            -77.05103,
                            38.81075100000001
                          ],
                          [
                            -77.051064,
                            38.810577
                          ],
                          [
                            -77.051097,
                            38.810579999999995
                          ],
                          [
                            -77.051105,
                            38.810536000000006
                          ],
                          [
                            -77.051035,
                            38.810527999999984
                          ],
                          [
                            -77.051032,
                            38.810548
                          ],
                          [
                            -77.050824,
                            38.810524
                          ],
                          [
                            -77.05086000000001,
                            38.810337999999994
                          ],
                          [
                            -77.051115,
                            38.81036699999999
                          ],
                          [
                            -77.051097,
                            38.81045699999999
                          ],
                          [
                            -77.05115,
                            38.810463
                          ],
                          [
                            -77.05115700000002,
                            38.81042399999999
                          ],
                          [
                            -77.05134100000001,
                            38.810446000000006
                          ]
                        ]
                      ]
                    ]
                  },
                  "bbox": [
                    -77.05134100000001,
                    38.810337999999994,
                    -77.050824,
                    38.810798999999996
                  ]
                },
                {
                  "id": "32",
                  "type": "Feature",
                  "properties": {
                    "HEIGHT": 5.789999961853028,
                    "SQMETERS": 183.733642578125,
                    "mean": 7.433023142260175,
                    "count": 43,
                    "style": {
                      "color": "black",
                      "fillColor": "black"
                    }
                  },
                  "geometry": {
                    "type": "MultiPolygon",
                    "coordinates": [
                      [
                        [
                          [
                            -77.051485,
                            38.809259999999995
                          ],
                          [
                            -77.051469,
                            38.80940199999999
                          ],
                          [
                            -77.05134100000001,
                            38.809393
                          ],
                          [
                            -77.051357,
                            38.809252
                          ],
                          [
                            -77.051485,
                            38.809259999999995
                          ]
                        ]
                      ]
                    ]
                  },
                  "bbox": [
                    -77.051485,
                    38.809252,
                    -77.05134100000001,
                    38.80940199999999
                  ]
                },
                {
                  "id": "33",
                  "type": "Feature",
                  "properties": {
                    "HEIGHT": 5.820000171661378,
                    "SQMETERS": 325.9065246582031,
                    "mean": 6.47837633964343,
                    "count": 117,
                    "style": {
                      "color": "black",
                      "fillColor": "black"
                    }
                  },
                  "geometry": {
                    "type": "MultiPolygon",
                    "coordinates": [
                      [
                        [
                          [
                            -77.052295,
                            38.81072999999999
                          ],
                          [
                            -77.052272,
                            38.810874999999996
                          ],
                          [
                            -77.052295,
                            38.81087699999999
                          ],
                          [
                            -77.052289,
                            38.81092
                          ],
                          [
                            -77.052257,
                            38.810916999999996
                          ],
                          [
                            -77.052249,
                            38.810967000000005
                          ],
                          [
                            -77.052272,
                            38.81096899999999
                          ],
                          [
                            -77.052257,
                            38.81106400000001
                          ],
                          [
                            -77.05206800000002,
                            38.811045
                          ],
                          [
                            -77.052076,
                            38.810994
                          ],
                          [
                            -77.05211,
                            38.81099700000001
                          ],
                          [
                            -77.052118,
                            38.81095
                          ],
                          [
                            -77.052074,
                            38.810945999999994
                          ],
                          [
                            -77.052089,
                            38.810853
                          ],
                          [
                            -77.052177,
                            38.810862
                          ],
                          [
                            -77.0522,
                            38.810721
                          ],
                          [
                            -77.052295,
                            38.81072999999999
                          ]
                        ]
                      ]
                    ]
                  },
                  "bbox": [
                    -77.052295,
                    38.810721,
                    -77.05206800000002,
                    38.81106400000001
                  ]
                },
                {
                  "id": "34",
                  "type": "Feature",
                  "properties": {
                    "HEIGHT": 6.480000019073486,
                    "SQMETERS": 326.73858642578125,
                    "mean": 8.444122849849233,
                    "count": 114,
                    "style": {
                      "color": "black",
                      "fillColor": "black"
                    }
                  },
                  "geometry": {
                    "type": "MultiPolygon",
                    "coordinates": [
                      [
                        [
                          [
                            -77.052539,
                            38.809734999999996
                          ],
                          [
                            -77.05248,
                            38.810075999999995
                          ],
                          [
                            -77.052338,
                            38.81006099999998
                          ],
                          [
                            -77.052354,
                            38.809965999999996
                          ],
                          [
                            -77.052357,
                            38.80996700000001
                          ],
                          [
                            -77.052365,
                            38.809917
                          ],
                          [
                            -77.052401,
                            38.809920999999996
                          ],
                          [
                            -77.05241,
                            38.809869000000006
                          ],
                          [
                            -77.05237500000001,
                            38.809865
                          ],
                          [
                            -77.052392,
                            38.809771
                          ],
                          [
                            -77.052398,
                            38.809771
                          ],
                          [
                            -77.052407,
                            38.80972100000001
                          ],
                          [
                            -77.052539,
                            38.809734999999996
                          ]
                        ]
                      ]
                    ]
                  },
                  "bbox": [
                    -77.052539,
                    38.80972100000001,
                    -77.052338,
                    38.810075999999995
                  ]
                },
                {
                  "id": "35",
                  "type": "Feature",
                  "properties": {
                    "HEIGHT": 10.510000228881836,
                    "SQMETERS": 416.22308349609375,
                    "mean": 13.189236915717691,
                    "count": 118,
                    "style": {
                      "color": "black",
                      "fillColor": "black"
                    }
                  },
                  "geometry": {
                    "type": "MultiPolygon",
                    "coordinates": [
                      [
                        [
                          [
                            -77.053984,
                            38.810750999999996
                          ],
                          [
                            -77.054394,
                            38.81078999999998
                          ],
                          [
                            -77.054377,
                            38.810899
                          ],
                          [
                            -77.054274,
                            38.810888999999996
                          ],
                          [
                            -77.054272,
                            38.810899
                          ],
                          [
                            -77.053965,
                            38.810871
                          ],
                          [
                            -77.053984,
                            38.810750999999996
                          ]
                        ]
                      ]
                    ]
                  },
                  "bbox": [
                    -77.054394,
                    38.810750999999996,
                    -77.053965,
                    38.810899
                  ]
                },
                {
                  "id": "36",
                  "type": "Feature",
                  "properties": {
                    "HEIGHT": 5.489999771118164,
                    "SQMETERS": 356.73065185546875,
                    "mean": 7.077526461693548,
                    "count": 93,
                    "style": {
                      "color": "black",
                      "fillColor": "black"
                    }
                  },
                  "geometry": {
                    "type": "MultiPolygon",
                    "coordinates": [
                      [
                        [
                          [
                            -77.052209,
                            38.811103999999986
                          ],
                          [
                            -77.052163,
                            38.811439
                          ],
                          [
                            -77.05202,
                            38.81142700000001
                          ],
                          [
                            -77.052026,
                            38.81137699999999
                          ],
                          [
                            -77.052069,
                            38.81138099999999
                          ],
                          [
                            -77.052076,
                            38.81132900000001
                          ],
                          [
                            -77.052057,
                            38.811328
                          ],
                          [
                            -77.052064,
                            38.81128199999999
                          ],
                          [
                            -77.052089,
                            38.811284
                          ],
                          [
                            -77.052095,
                            38.811235
                          ],
                          [
                            -77.052018,
                            38.81122800000001
                          ],
                          [
                            -77.052025,
                            38.811178999999996
                          ],
                          [
                            -77.052107,
                            38.811185
                          ],
                          [
                            -77.05212,
                            38.811097
                          ],
                          [
                            -77.052209,
                            38.811103999999986
                          ]
                        ]
                      ]
                    ]
                  },
                  "bbox": [
                    -77.052209,
                    38.811097,
                    -77.052018,
                    38.811439
                  ]
                },
                {
                  "id": "37",
                  "type": "Feature",
                  "properties": {
                    "HEIGHT": 6.449999809265138,
                    "SQMETERS": 121.29930114746094,
                    "mean": 7.621428571428571,
                    "count": 35,
                    "style": {
                      "color": "black",
                      "fillColor": "black"
                    }
                  },
                  "geometry": {
                    "type": "MultiPolygon",
                    "coordinates": [
                      [
                        [
                          [
                            -77.053526,
                            38.809707
                          ],
                          [
                            -77.053536,
                            38.80962199999998
                          ],
                          [
                            -77.053687,
                            38.809632
                          ],
                          [
                            -77.053678,
                            38.80971699999999
                          ],
                          [
                            -77.053526,
                            38.809707
                          ]
                        ]
                      ]
                    ]
                  },
                  "bbox": [
                    -77.053687,
                    38.80962199999998,
                    -77.053526,
                    38.80971699999999
                  ]
                },
                {
                  "id": "38",
                  "type": "Feature",
                  "properties": {
                    "HEIGHT": 6.349999904632568,
                    "SQMETERS": 53.9584846496582,
                    "mean": 8.713158858449836,
                    "count": 19,
                    "style": {
                      "color": "black",
                      "fillColor": "black"
                    }
                  },
                  "geometry": {
                    "type": "MultiPolygon",
                    "coordinates": [
                      [
                        [
                          [
                            -77.053413,
                            38.81048
                          ],
                          [
                            -77.053422,
                            38.81042399999999
                          ],
                          [
                            -77.053562,
                            38.810439
                          ],
                          [
                            -77.053552,
                            38.810494
                          ],
                          [
                            -77.053413,
                            38.81048
                          ]
                        ]
                      ]
                    ]
                  },
                  "bbox": [
                    -77.053562,
                    38.81042399999999,
                    -77.053413,
                    38.810494
                  ]
                },
                {
                  "id": "39",
                  "type": "Feature",
                  "properties": {
                    "HEIGHT": 8.229999542236328,
                    "SQMETERS": 407.0516052246093,
                    "mean": 10.573644905446846,
                    "count": 107,
                    "style": {
                      "color": "black",
                      "fillColor": "black"
                    }
                  },
                  "geometry": {
                    "type": "MultiPolygon",
                    "coordinates": [
                      [
                        [
                          [
                            -77.054143,
                            38.811371
                          ],
                          [
                            -77.054198,
                            38.81105
                          ],
                          [
                            -77.054331,
                            38.81106400000001
                          ],
                          [
                            -77.054277,
                            38.811384
                          ],
                          [
                            -77.054143,
                            38.811371
                          ]
                        ]
                      ]
                    ]
                  },
                  "bbox": [
                    -77.054331,
                    38.81105,
                    -77.054143,
                    38.811384
                  ]
                },
                {
                  "id": "40",
                  "type": "Feature",
                  "properties": {
                    "HEIGHT": 8.210000038146974,
                    "SQMETERS": 91.19441986083984,
                    "mean": 11.022352330824909,
                    "count": 17,
                    "style": {
                      "color": "black",
                      "fillColor": "black"
                    }
                  },
                  "geometry": {
                    "type": "MultiPolygon",
                    "coordinates": [
                      [
                        [
                          [
                            -77.053965,
                            38.81050200000001
                          ],
                          [
                            -77.053953,
                            38.810547
                          ],
                          [
                            -77.053791,
                            38.810522999999996
                          ],
                          [
                            -77.05380200000002,
                            38.810477
                          ],
                          [
                            -77.053965,
                            38.81050200000001
                          ]
                        ]
                      ]
                    ]
                  },
                  "bbox": [
                    -77.053965,
                    38.810477,
                    -77.053791,
                    38.810547
                  ]
                },
                {
                  "id": "41",
                  "type": "Feature",
                  "properties": {
                    "HEIGHT": 7.889999866485596,
                    "SQMETERS": 205.98622131347656,
                    "mean": 9.709999873720367,
                    "count": 58,
                    "style": {
                      "color": "black",
                      "fillColor": "black"
                    }
                  },
                  "geometry": {
                    "type": "MultiPolygon",
                    "coordinates": [
                      [
                        [
                          [
                            -77.053398,
                            38.81027000000001
                          ],
                          [
                            -77.053562,
                            38.810282999999984
                          ],
                          [
                            -77.05354400000002,
                            38.81042899999999
                          ],
                          [
                            -77.053381,
                            38.81041599999999
                          ],
                          [
                            -77.053398,
                            38.81027000000001
                          ]
                        ]
                      ]
                    ]
                  },
                  "bbox": [
                    -77.053562,
                    38.81027000000001,
                    -77.053381,
                    38.81042899999999
                  ]
                },
                {
                  "id": "42",
                  "type": "Feature",
                  "properties": {
                    "HEIGHT": 6.65999984741211,
                    "SQMETERS": 220.46697998046875,
                    "mean": 8.232389079990671,
                    "count": 67,
                    "style": {
                      "color": "black",
                      "fillColor": "black"
                    }
                  },
                  "geometry": {
                    "type": "MultiPolygon",
                    "coordinates": [
                      [
                        [
                          [
                            -77.053959,
                            38.809741
                          ],
                          [
                            -77.053974,
                            38.809621
                          ],
                          [
                            -77.05404,
                            38.809626
                          ],
                          [
                            -77.054044,
                            38.809599
                          ],
                          [
                            -77.054142,
                            38.80960699999999
                          ],
                          [
                            -77.054138,
                            38.809642
                          ],
                          [
                            -77.054189,
                            38.809645999999994
                          ],
                          [
                            -77.054174,
                            38.809764
                          ],
                          [
                            -77.05410700000002,
                            38.809757999999995
                          ],
                          [
                            -77.05411,
                            38.809735
                          ],
                          [
                            -77.054019,
                            38.809728
                          ],
                          [
                            -77.054017,
                            38.809745
                          ],
                          [
                            -77.053959,
                            38.809741
                          ]
                        ]
                      ]
                    ]
                  },
                  "bbox": [
                    -77.054189,
                    38.809599,
                    -77.053959,
                    38.809764
                  ]
                },
                {
                  "id": "43",
                  "type": "Feature",
                  "properties": {
                    "HEIGHT": 5.489999771118164,
                    "SQMETERS": 142.0164337158203,
                    "mean": 9.884545759721236,
                    "count": 22,
                    "style": {
                      "color": "black",
                      "fillColor": "black"
                    }
                  },
                  "geometry": {
                    "type": "MultiPolygon",
                    "coordinates": [
                      [
                        [
                          [
                            -77.051348,
                            38.80943299999999
                          ],
                          [
                            -77.051455,
                            38.80944099999999
                          ],
                          [
                            -77.051445,
                            38.809528
                          ],
                          [
                            -77.051337,
                            38.80952
                          ],
                          [
                            -77.051348,
                            38.80943299999999
                          ]
                        ]
                      ]
                    ]
                  },
                  "bbox": [
                    -77.051455,
                    38.80943299999999,
                    -77.051337,
                    38.809528
                  ]
                },
                {
                  "id": "44",
                  "type": "Feature",
                  "properties": {
                    "HEIGHT": 5.69000005722046,
                    "SQMETERS": 263.5922546386719,
                    "mean": 9.212257631363407,
                    "count": 62,
                    "style": {
                      "color": "black",
                      "fillColor": "black"
                    }
                  },
                  "geometry": {
                    "type": "MultiPolygon",
                    "coordinates": [
                      [
                        [
                          [
                            -77.05276000000002,
                            38.810241999999995
                          ],
                          [
                            -77.053056,
                            38.810275000000004
                          ],
                          [
                            -77.053048,
                            38.810312999999994
                          ],
                          [
                            -77.053064,
                            38.81031500000001
                          ],
                          [
                            -77.053056,
                            38.810358
                          ],
                          [
                            -77.052745,
                            38.810324
                          ],
                          [
                            -77.05276000000002,
                            38.810241999999995
                          ]
                        ]
                      ]
                    ]
                  },
                  "bbox": [
                    -77.053064,
                    38.810241999999995,
                    -77.052745,
                    38.810358
                  ]
                },
                {
                  "id": "45",
                  "type": "Feature",
                  "properties": {
                    "HEIGHT": 5.889999866485596,
                    "SQMETERS": 332.92144775390625,
                    "mean": 7.84131582159745,
                    "count": 76,
                    "style": {
                      "color": "black",
                      "fillColor": "black"
                    }
                  },
                  "geometry": {
                    "type": "MultiPolygon",
                    "coordinates": [
                      [
                        [
                          [
                            -77.053296,
                            38.811215000000004
                          ],
                          [
                            -77.053248,
                            38.811550999999994
                          ],
                          [
                            -77.053153,
                            38.811543
                          ],
                          [
                            -77.053202,
                            38.811207
                          ],
                          [
                            -77.053296,
                            38.811215000000004
                          ]
                        ]
                      ]
                    ]
                  },
                  "bbox": [
                    -77.053296,
                    38.811207,
                    -77.053153,
                    38.811550999999994
                  ]
                },
                {
                  "id": "46",
                  "type": "Feature",
                  "properties": {
                    "HEIGHT": 6.869999885559082,
                    "SQMETERS": 135.1007080078125,
                    "mean": 9.984999656677246,
                    "count": 32,
                    "style": {
                      "color": "black",
                      "fillColor": "black"
                    }
                  },
                  "geometry": {
                    "type": "MultiPolygon",
                    "coordinates": [
                      [
                        [
                          [
                            -77.05442,
                            38.809732
                          ],
                          [
                            -77.054424,
                            38.809673999999994
                          ],
                          [
                            -77.054484,
                            38.809676
                          ],
                          [
                            -77.054486,
                            38.809655
                          ],
                          [
                            -77.054599,
                            38.80966
                          ],
                          [
                            -77.054592,
                            38.80976
                          ],
                          [
                            -77.054477,
                            38.809755
                          ],
                          [
                            -77.054479,
                            38.809735
                          ],
                          [
                            -77.05442,
                            38.809732
                          ]
                        ]
                      ]
                    ]
                  },
                  "bbox": [
                    -77.054599,
                    38.809655,
                    -77.05442,
                    38.80976
                  ]
                },
                {
                  "id": "47",
                  "type": "Feature",
                  "properties": {
                    "HEIGHT": 5.199999809265138,
                    "SQMETERS": 2957.642822265625,
                    "mean": 5.886519237231183,
                    "count": 744,
                    "style": {
                      "color": "black",
                      "fillColor": "black"
                    }
                  },
                  "geometry": {
                    "type": "MultiPolygon",
                    "coordinates": [
                      [
                        [
                          [
                            -77.051389,
                            38.81138899999999
                          ],
                          [
                            -77.051551,
                            38.810425
                          ],
                          [
                            -77.051854,
                            38.81045599999999
                          ],
                          [
                            -77.051823,
                            38.810641
                          ],
                          [
                            -77.051752,
                            38.810634
                          ],
                          [
                            -77.051724,
                            38.81079999999999
                          ],
                          [
                            -77.051832,
                            38.810810999999994
                          ],
                          [
                            -77.05173,
                            38.811424
                          ],
                          [
                            -77.051389,
                            38.81138899999999
                          ]
                        ]
                      ]
                    ]
                  },
                  "bbox": [
                    -77.051854,
                    38.810425,
                    -77.051389,
                    38.811424
                  ]
                },
                {
                  "id": "48",
                  "type": "Feature",
                  "properties": {
                    "HEIGHT": 5.90999984741211,
                    "SQMETERS": 410.49005126953125,
                    "mean": 8.28000012963219,
                    "count": 113,
                    "style": {
                      "color": "black",
                      "fillColor": "black"
                    }
                  },
                  "geometry": {
                    "type": "MultiPolygon",
                    "coordinates": [
                      [
                        [
                          [
                            -77.052774,
                            38.808951000000015
                          ],
                          [
                            -77.052741,
                            38.809214
                          ],
                          [
                            -77.052526,
                            38.809197999999995
                          ],
                          [
                            -77.052535,
                            38.809124
                          ],
                          [
                            -77.052622,
                            38.809130999999994
                          ],
                          [
                            -77.052625,
                            38.80910400000001
                          ],
                          [
                            -77.052571,
                            38.809099999999994
                          ],
                          [
                            -77.052577,
                            38.809048999999995
                          ],
                          [
                            -77.052614,
                            38.809051999999994
                          ],
                          [
                            -77.052621,
                            38.808994999999996
                          ],
                          [
                            -77.052611,
                            38.808994
                          ],
                          [
                            -77.052618,
                            38.808938999999995
                          ],
                          [
                            -77.052774,
                            38.808951000000015
                          ]
                        ]
                      ]
                    ]
                  },
                  "bbox": [
                    -77.052774,
                    38.808938999999995,
                    -77.052526,
                    38.809214
                  ]
                },
                {
                  "id": "49",
                  "type": "Feature",
                  "properties": {
                    "HEIGHT": 5.449999809265138,
                    "SQMETERS": 101.89395904541016,
                    "mean": 9.227058859432445,
                    "count": 34,
                    "style": {
                      "color": "black",
                      "fillColor": "black"
                    }
                  },
                  "geometry": {
                    "type": "MultiPolygon",
                    "coordinates": [
                      [
                        [
                          [
                            -77.052899,
                            38.80981899999999
                          ],
                          [
                            -77.053024,
                            38.809827
                          ],
                          [
                            -77.053013,
                            38.80992699999999
                          ],
                          [
                            -77.052888,
                            38.809919000000015
                          ],
                          [
                            -77.052899,
                            38.80981899999999
                          ]
                        ]
                      ]
                    ]
                  },
                  "bbox": [
                    -77.053024,
                    38.80981899999999,
                    -77.052888,
                    38.80992699999999
                  ]
                },
                {
                  "id": "50",
                  "type": "Feature",
                  "properties": {
                    "HEIGHT": 5.489999771118164,
                    "SQMETERS": 142.0164337158203,
                    "mean": 7.097333272298177,
                    "count": 15,
                    "style": {
                      "color": "black",
                      "fillColor": "black"
                    }
                  },
                  "geometry": {
                    "type": "MultiPolygon",
                    "coordinates": [
                      [
                        [
                          [
                            -77.051327,
                            38.80947599999999
                          ],
                          [
                            -77.051319,
                            38.809536
                          ],
                          [
                            -77.051225,
                            38.809527
                          ],
                          [
                            -77.051233,
                            38.809468
                          ],
                          [
                            -77.051327,
                            38.80947599999999
                          ]
                        ]
                      ]
                    ]
                  },
                  "bbox": [
                    -77.051327,
                    38.809468,
                    -77.051225,
                    38.809536
                  ]
                },
                {
                  "id": "51",
                  "type": "Feature",
                  "properties": {
                    "HEIGHT": 5.5,
                    "SQMETERS": 246.53485107421875,
                    "mean": 8.17029436896829,
                    "count": 68,
                    "style": {
                      "color": "black",
                      "fillColor": "black"
                    }
                  },
                  "geometry": {
                    "type": "MultiPolygon",
                    "coordinates": [
                      [
                        [
                          [
                            -77.053354,
                            38.809917
                          ],
                          [
                            -77.053375,
                            38.80981499999999
                          ],
                          [
                            -77.053639,
                            38.809849
                          ],
                          [
                            -77.053617,
                            38.809951
                          ],
                          [
                            -77.053354,
                            38.809917
                          ]
                        ]
                      ]
                    ]
                  },
                  "bbox": [
                    -77.053639,
                    38.80981499999999,
                    -77.053354,
                    38.809951
                  ]
                },
                {
                  "id": "52",
                  "type": "Feature",
                  "properties": {
                    "HEIGHT": 7.619999885559082,
                    "SQMETERS": 106.19251251220702,
                    "mean": 9.493793356007544,
                    "count": 29,
                    "style": {
                      "color": "black",
                      "fillColor": "black"
                    }
                  },
                  "geometry": {
                    "type": "MultiPolygon",
                    "coordinates": [
                      [
                        [
                          [
                            -77.053887,
                            38.81151199999999
                          ],
                          [
                            -77.054023,
                            38.81152099999999
                          ],
                          [
                            -77.054013,
                            38.81160599999999
                          ],
                          [
                            -77.053878,
                            38.811597
                          ],
                          [
                            -77.053887,
                            38.81151199999999
                          ]
                        ]
                      ]
                    ]
                  },
                  "bbox": [
                    -77.054023,
                    38.81151199999999,
                    -77.053878,
                    38.81160599999999
                  ]
                },
                {
                  "id": "53",
                  "type": "Feature",
                  "properties": {
                    "HEIGHT": 6.170000076293946,
                    "SQMETERS": 443.689208984375,
                    "mean": 7.882734298706055,
                    "count": 128,
                    "style": {
                      "color": "black",
                      "fillColor": "black"
                    }
                  },
                  "geometry": {
                    "type": "MultiPolygon",
                    "coordinates": [
                      [
                        [
                          [
                            -77.054314,
                            38.809371
                          ],
                          [
                            -77.054377,
                            38.808974000000006
                          ],
                          [
                            -77.054509,
                            38.808987
                          ],
                          [
                            -77.054446,
                            38.809383999999994
                          ],
                          [
                            -77.054314,
                            38.809371
                          ]
                        ]
                      ]
                    ]
                  },
                  "bbox": [
                    -77.054509,
                    38.808974000000006,
                    -77.054314,
                    38.809383999999994
                  ]
                },
                {
                  "id": "54",
                  "type": "Feature",
                  "properties": {
                    "HEIGHT": 7.340000152587892,
                    "SQMETERS": 131.39846801757812,
                    "mean": 8.93216189822635,
                    "count": 37,
                    "style": {
                      "color": "black",
                      "fillColor": "black"
                    }
                  },
                  "geometry": {
                    "type": "MultiPolygon",
                    "coordinates": [
                      [
                        [
                          [
                            -77.054353,
                            38.810016
                          ],
                          [
                            -77.054364,
                            38.809932999999994
                          ],
                          [
                            -77.054552,
                            38.809948000000006
                          ],
                          [
                            -77.05454100000001,
                            38.810030999999995
                          ],
                          [
                            -77.054353,
                            38.810016
                          ]
                        ]
                      ]
                    ]
                  },
                  "bbox": [
                    -77.054552,
                    38.809932999999994,
                    -77.054353,
                    38.810030999999995
                  ]
                },
                {
                  "id": "55",
                  "type": "Feature",
                  "properties": {
                    "HEIGHT": 6.099999904632568,
                    "SQMETERS": 296.74270629882807,
                    "mean": 7.652592411747685,
                    "count": 81,
                    "style": {
                      "color": "black",
                      "fillColor": "black"
                    }
                  },
                  "geometry": {
                    "type": "MultiPolygon",
                    "coordinates": [
                      [
                        [
                          [
                            -77.053381,
                            38.81084200000001
                          ],
                          [
                            -77.053322,
                            38.811177
                          ],
                          [
                            -77.053222,
                            38.811165999999986
                          ],
                          [
                            -77.053281,
                            38.810832000000005
                          ],
                          [
                            -77.053381,
                            38.81084200000001
                          ]
                        ]
                      ]
                    ]
                  },
                  "bbox": [
                    -77.053381,
                    38.810832000000005,
                    -77.053222,
                    38.811177
                  ]
                },
                {
                  "id": "56",
                  "type": "Feature",
                  "properties": {
                    "HEIGHT": 6.639999866485596,
                    "SQMETERS": 137.33001708984375,
                    "mean": 8.022702603726774,
                    "count": 37,
                    "style": {
                      "color": "black",
                      "fillColor": "black"
                    }
                  },
                  "geometry": {
                    "type": "MultiPolygon",
                    "coordinates": [
                      [
                        [
                          [
                            -77.053487,
                            38.80980900000001
                          ],
                          [
                            -77.05350100000001,
                            38.80972100000001
                          ],
                          [
                            -77.05367,
                            38.809737
                          ],
                          [
                            -77.053657,
                            38.80982399999999
                          ],
                          [
                            -77.053487,
                            38.80980900000001
                          ]
                        ]
                      ]
                    ]
                  },
                  "bbox": [
                    -77.05367,
                    38.80972100000001,
                    -77.053487,
                    38.80982399999999
                  ]
                },
                {
                  "id": "57",
                  "type": "Feature",
                  "properties": {
                    "HEIGHT": 7.150000095367432,
                    "SQMETERS": 292.4849548339844,
                    "mean": 9.0760300580193,
                    "count": 68,
                    "style": {
                      "color": "black",
                      "fillColor": "black"
                    }
                  },
                  "geometry": {
                    "type": "MultiPolygon",
                    "coordinates": [
                      [
                        [
                          [
                            -77.053586,
                            38.811459
                          ],
                          [
                            -77.0536,
                            38.811353
                          ],
                          [
                            -77.053866,
                            38.811374
                          ],
                          [
                            -77.053852,
                            38.811489
                          ],
                          [
                            -77.053792,
                            38.811485000000005
                          ],
                          [
                            -77.053795,
                            38.81146699999999
                          ],
                          [
                            -77.053705,
                            38.811461
                          ],
                          [
                            -77.053704,
                            38.81146799999999
                          ],
                          [
                            -77.053586,
                            38.811459
                          ]
                        ]
                      ]
                    ]
                  },
                  "bbox": [
                    -77.053866,
                    38.811353,
                    -77.053586,
                    38.811489
                  ]
                },
                {
                  "id": "58",
                  "type": "Feature",
                  "properties": {
                    "HEIGHT": 7.545000076293946,
                    "SQMETERS": 90.58223724365233,
                    "mean": 9.57449951171875,
                    "count": 60,
                    "style": {
                      "color": "black",
                      "fillColor": "black"
                    }
                  },
                  "geometry": {
                    "type": "MultiPolygon",
                    "coordinates": [
                      [
                        [
                          [
                            -77.05287,
                            38.809583999999994
                          ],
                          [
                            -77.052886,
                            38.80949
                          ],
                          [
                            -77.052925,
                            38.809493
                          ],
                          [
                            -77.052935,
                            38.80943400000001
                          ],
                          [
                            -77.05306700000001,
                            38.809446999999984
                          ],
                          [
                            -77.053042,
                            38.809600999999994
                          ],
                          [
                            -77.05287,
                            38.809583999999994
                          ]
                        ]
                      ]
                    ]
                  },
                  "bbox": [
                    -77.05306700000001,
                    38.80943400000001,
                    -77.05287,
                    38.809600999999994
                  ]
                },
                {
                  "id": "59",
                  "type": "Feature",
                  "properties": {
                    "HEIGHT": null,
                    "SQMETERS": 113.8727798461914,
                    "mean": 12.424373626708984,
                    "count": 32,
                    "style": {
                      "color": "black",
                      "fillColor": "black"
                    }
                  },
                  "geometry": {
                    "type": "MultiPolygon",
                    "coordinates": [
                      [
                        [
                          [
                            -77.05402,
                            38.810377
                          ],
                          [
                            -77.05401,
                            38.810459
                          ],
                          [
                            -77.053846,
                            38.810446999999996
                          ],
                          [
                            -77.053856,
                            38.81036499999999
                          ],
                          [
                            -77.05402,
                            38.810377
                          ]
                        ]
                      ]
                    ]
                  },
                  "bbox": [
                    -77.05402,
                    38.81036499999999,
                    -77.053846,
                    38.810459
                  ]
                },
                {
                  "id": "60",
                  "type": "Feature",
                  "properties": {
                    "HEIGHT": 7.46999979019165,
                    "SQMETERS": 208.48204040527344,
                    "mean": 10.291403251781798,
                    "count": 57,
                    "style": {
                      "color": "black",
                      "fillColor": "black"
                    }
                  },
                  "geometry": {
                    "type": "MultiPolygon",
                    "coordinates": [
                      [
                        [
                          [
                            -77.054478,
                            38.811084
                          ],
                          [
                            -77.05462,
                            38.811098999999984
                          ],
                          [
                            -77.05459,
                            38.81126499999999
                          ],
                          [
                            -77.054448,
                            38.81124899999999
                          ],
                          [
                            -77.054478,
                            38.811084
                          ]
                        ]
                      ]
                    ]
                  },
                  "bbox": [
                    -77.05462,
                    38.811084,
                    -77.054448,
                    38.81126499999999
                  ]
                },
                {
                  "id": "61",
                  "type": "Feature",
                  "properties": {
                    "HEIGHT": 7.429999828338624,
                    "SQMETERS": 134.11863708496094,
                    "mean": 11.423235724954043,
                    "count": 34,
                    "style": {
                      "color": "black",
                      "fillColor": "black"
                    }
                  },
                  "geometry": {
                    "type": "MultiPolygon",
                    "coordinates": [
                      [
                        [
                          [
                            -77.053109,
                            38.80908500000001
                          ],
                          [
                            -77.053078,
                            38.80924
                          ],
                          [
                            -77.052989,
                            38.809228999999995
                          ],
                          [
                            -77.05302000000002,
                            38.809074
                          ],
                          [
                            -77.053109,
                            38.80908500000001
                          ]
                        ]
                      ]
                    ]
                  },
                  "bbox": [
                    -77.053109,
                    38.809074,
                    -77.052989,
                    38.80924
                  ]
                },
                {
                  "id": "62",
                  "type": "Feature",
                  "properties": {
                    "HEIGHT": 6.44000005722046,
                    "SQMETERS": 182.52552795410156,
                    "mean": 12.356666564941406,
                    "count": 6,
                    "style": {
                      "color": "black",
                      "fillColor": "black"
                    }
                  },
                  "geometry": {
                    "type": "MultiPolygon",
                    "coordinates": [
                      [
                        [
                          [
                            -77.053215,
                            38.809177999999996
                          ],
                          [
                            -77.053205,
                            38.80923599999999
                          ],
                          [
                            -77.053164,
                            38.809232
                          ],
                          [
                            -77.053174,
                            38.809173999999985
                          ],
                          [
                            -77.053215,
                            38.809177999999996
                          ]
                        ]
                      ]
                    ]
                  },
                  "bbox": [
                    -77.053215,
                    38.809173999999985,
                    -77.053164,
                    38.80923599999999
                  ]
                },
                {
                  "id": "63",
                  "type": "Feature",
                  "properties": {
                    "HEIGHT": 6.929999828338624,
                    "SQMETERS": 154.23980712890625,
                    "mean": 9.449705236098346,
                    "count": 34,
                    "style": {
                      "color": "black",
                      "fillColor": "black"
                    }
                  },
                  "geometry": {
                    "type": "MultiPolygon",
                    "coordinates": [
                      [
                        [
                          [
                            -77.051772,
                            38.809835
                          ],
                          [
                            -77.05178,
                            38.80974499999999
                          ],
                          [
                            -77.051905,
                            38.809751999999996
                          ],
                          [
                            -77.05190400000001,
                            38.809771
                          ],
                          [
                            -77.051953,
                            38.809774
                          ],
                          [
                            -77.051947,
                            38.809844
                          ],
                          [
                            -77.051772,
                            38.809835
                          ]
                        ]
                      ]
                    ]
                  },
                  "bbox": [
                    -77.051953,
                    38.80974499999999,
                    -77.051772,
                    38.809844
                  ]
                },
                {
                  "id": "64",
                  "type": "Feature",
                  "properties": {
                    "HEIGHT": 5.360000133514404,
                    "SQMETERS": 83.64308166503906,
                    "mean": 6.651579204358552,
                    "count": 19,
                    "style": {
                      "color": "black",
                      "fillColor": "black"
                    }
                  },
                  "geometry": {
                    "type": "MultiPolygon",
                    "coordinates": [
                      [
                        [
                          [
                            -77.05125100000001,
                            38.809962000000006
                          ],
                          [
                            -77.051412,
                            38.80998100000001
                          ],
                          [
                            -77.051403,
                            38.810032
                          ],
                          [
                            -77.051241,
                            38.81001299999999
                          ],
                          [
                            -77.05125100000001,
                            38.809962000000006
                          ]
                        ]
                      ]
                    ]
                  },
                  "bbox": [
                    -77.051412,
                    38.809962000000006,
                    -77.051241,
                    38.810032
                  ]
                },
                {
                  "id": "65",
                  "type": "Feature",
                  "properties": {
                    "HEIGHT": null,
                    "SQMETERS": null,
                    "mean": 6.5,
                    "count": 9,
                    "style": {
                      "color": "black",
                      "fillColor": "black"
                    }
                  },
                  "geometry": {
                    "type": "MultiPolygon",
                    "coordinates": [
                      [
                        [
                          [
                            -77.05406000000002,
                            38.810381
                          ],
                          [
                            -77.054067,
                            38.810323999999994
                          ],
                          [
                            -77.054122,
                            38.81032799999999
                          ],
                          [
                            -77.054114,
                            38.810385
                          ],
                          [
                            -77.05406000000002,
                            38.810381
                          ]
                        ]
                      ]
                    ]
                  },
                  "bbox": [
                    -77.054122,
                    38.810323999999994,
                    -77.05406000000002,
                    38.810385
                  ]
                },
                {
                  "id": "66",
                  "type": "Feature",
                  "properties": {
                    "HEIGHT": 5.610000133514404,
                    "SQMETERS": 112.74609375,
                    "mean": 9.063750267028809,
                    "count": 32,
                    "style": {
                      "color": "black",
                      "fillColor": "black"
                    }
                  },
                  "geometry": {
                    "type": "MultiPolygon",
                    "coordinates": [
                      [
                        [
                          [
                            -77.05433000000001,
                            38.81012
                          ],
                          [
                            -77.054478,
                            38.810142
                          ],
                          [
                            -77.054457,
                            38.810225999999986
                          ],
                          [
                            -77.05431,
                            38.810205
                          ],
                          [
                            -77.05433000000001,
                            38.81012
                          ]
                        ]
                      ]
                    ]
                  },
                  "bbox": [
                    -77.054478,
                    38.81012,
                    -77.05431,
                    38.810225999999986
                  ]
                },
                {
                  "id": "67",
                  "type": "Feature",
                  "properties": {
                    "HEIGHT": 6.570000171661378,
                    "SQMETERS": 61.594337463378906,
                    "mean": 8.456999969482421,
                    "count": 20,
                    "style": {
                      "color": "black",
                      "fillColor": "black"
                    }
                  },
                  "geometry": {
                    "type": "MultiPolygon",
                    "coordinates": [
                      [
                        [
                          [
                            -77.053492,
                            38.809162
                          ],
                          [
                            -77.053547,
                            38.80916899999999
                          ],
                          [
                            -77.053517,
                            38.80931600000001
                          ],
                          [
                            -77.05346200000001,
                            38.809308999999985
                          ],
                          [
                            -77.053492,
                            38.809162
                          ]
                        ]
                      ]
                    ]
                  },
                  "bbox": [
                    -77.053547,
                    38.809162,
                    -77.05346200000001,
                    38.80931600000001
                  ]
                },
                {
                  "id": "68",
                  "type": "Feature",
                  "properties": {
                    "HEIGHT": 7.550000190734864,
                    "SQMETERS": 63.72998809814453,
                    "mean": 10.529487805488783,
                    "count": 39,
                    "style": {
                      "color": "black",
                      "fillColor": "black"
                    }
                  },
                  "geometry": {
                    "type": "MultiPolygon",
                    "coordinates": [
                      [
                        [
                          [
                            -77.054452,
                            38.81031099999999
                          ],
                          [
                            -77.054437,
                            38.81038
                          ],
                          [
                            -77.054258,
                            38.810355999999985
                          ],
                          [
                            -77.05428,
                            38.81025600000001
                          ],
                          [
                            -77.054397,
                            38.810272000000005
                          ],
                          [
                            -77.054391,
                            38.810302
                          ],
                          [
                            -77.054452,
                            38.81031099999999
                          ]
                        ]
                      ]
                    ]
                  },
                  "bbox": [
                    -77.054452,
                    38.81025600000001,
                    -77.054258,
                    38.81038
                  ]
                },
                {
                  "id": "69",
                  "type": "Feature",
                  "properties": {
                    "HEIGHT": 6.360000133514404,
                    "SQMETERS": 145.26126098632812,
                    "mean": 8.251470229204964,
                    "count": 34,
                    "style": {
                      "color": "black",
                      "fillColor": "black"
                    }
                  },
                  "geometry": {
                    "type": "MultiPolygon",
                    "coordinates": [
                      [
                        [
                          [
                            -77.05352,
                            38.809595
                          ],
                          [
                            -77.053528,
                            38.809556
                          ],
                          [
                            -77.053549,
                            38.809559
                          ],
                          [
                            -77.053558,
                            38.80951499999999
                          ],
                          [
                            -77.053716,
                            38.809535
                          ],
                          [
                            -77.053699,
                            38.809616999999996
                          ],
                          [
                            -77.05352,
                            38.809595
                          ]
                        ]
                      ]
                    ]
                  },
                  "bbox": [
                    -77.053716,
                    38.80951499999999,
                    -77.05352,
                    38.809616999999996
                  ]
                },
                {
                  "id": "70",
                  "type": "Feature",
                  "properties": {
                    "HEIGHT": 5.840000152587892,
                    "SQMETERS": 126.23876953125,
                    "mean": 9.9,
                    "count": 35,
                    "style": {
                      "color": "black",
                      "fillColor": "black"
                    }
                  },
                  "geometry": {
                    "type": "MultiPolygon",
                    "coordinates": [
                      [
                        [
                          [
                            -77.053366,
                            38.810250999999994
                          ],
                          [
                            -77.053374,
                            38.81018200000001
                          ],
                          [
                            -77.053444,
                            38.810188
                          ],
                          [
                            -77.053446,
                            38.81016499999999
                          ],
                          [
                            -77.05359,
                            38.810176
                          ],
                          [
                            -77.05358300000002,
                            38.81023
                          ],
                          [
                            -77.053477,
                            38.810221999999996
                          ],
                          [
                            -77.053472,
                            38.810259
                          ],
                          [
                            -77.053366,
                            38.810250999999994
                          ]
                        ]
                      ]
                    ]
                  },
                  "bbox": [
                    -77.05359,
                    38.81016499999999,
                    -77.053366,
                    38.810259
                  ]
                },
                {
                  "id": "71",
                  "type": "Feature",
                  "properties": {
                    "HEIGHT": 6.94000005722046,
                    "SQMETERS": 72.98778533935547,
                    "mean": 8.350799560546875,
                    "count": 25,
                    "style": {
                      "color": "black",
                      "fillColor": "black"
                    }
                  },
                  "geometry": {
                    "type": "MultiPolygon",
                    "coordinates": [
                      [
                        [
                          [
                            -77.051792,
                            38.809724
                          ],
                          [
                            -77.051798,
                            38.809666
                          ],
                          [
                            -77.051993,
                            38.80967799999999
                          ],
                          [
                            -77.051987,
                            38.809737
                          ],
                          [
                            -77.051792,
                            38.809724
                          ]
                        ]
                      ]
                    ]
                  },
                  "bbox": [
                    -77.051993,
                    38.809666,
                    -77.051792,
                    38.809737
                  ]
                },
                {
                  "id": "72",
                  "type": "Feature",
                  "properties": {
                    "HEIGHT": 6.329999923706056,
                    "SQMETERS": 172.19761657714844,
                    "mean": 7.33076907426883,
                    "count": 39,
                    "style": {
                      "color": "black",
                      "fillColor": "black"
                    }
                  },
                  "geometry": {
                    "type": "MultiPolygon",
                    "coordinates": [
                      [
                        [
                          [
                            -77.053032,
                            38.809629
                          ],
                          [
                            -77.053014,
                            38.809713
                          ],
                          [
                            -77.052847,
                            38.80969199999999
                          ],
                          [
                            -77.052868,
                            38.80959300000001
                          ],
                          [
                            -77.052984,
                            38.80960799999999
                          ],
                          [
                            -77.05298100000002,
                            38.809622
                          ],
                          [
                            -77.053032,
                            38.809629
                          ]
                        ]
                      ]
                    ]
                  },
                  "bbox": [
                    -77.053032,
                    38.80959300000001,
                    -77.052847,
                    38.809713
                  ]
                },
                {
                  "id": "73",
                  "type": "Feature",
                  "properties": {
                    "HEIGHT": 6.300000190734864,
                    "SQMETERS": 151.07479858398438,
                    "mean": 7.707804610089558,
                    "count": 41,
                    "style": {
                      "color": "black",
                      "fillColor": "black"
                    }
                  },
                  "geometry": {
                    "type": "MultiPolygon",
                    "coordinates": [
                      [
                        [
                          [
                            -77.05410700000002,
                            38.810063
                          ],
                          [
                            -77.054096,
                            38.810116
                          ],
                          [
                            -77.054054,
                            38.81011099999999
                          ],
                          [
                            -77.054046,
                            38.81015
                          ],
                          [
                            -77.053884,
                            38.810129999999994
                          ],
                          [
                            -77.053903,
                            38.810036999999994
                          ],
                          [
                            -77.05410700000002,
                            38.810063
                          ]
                        ]
                      ]
                    ]
                  },
                  "bbox": [
                    -77.05410700000002,
                    38.810036999999994,
                    -77.053884,
                    38.81015
                  ]
                },
                {
                  "id": "74",
                  "type": "Feature",
                  "properties": {
                    "HEIGHT": 8.3100004196167,
                    "SQMETERS": 489.966796875,
                    "mean": 9.696589033733042,
                    "count": 129,
                    "style": {
                      "color": "black",
                      "fillColor": "black"
                    }
                  },
                  "geometry": {
                    "type": "MultiPolygon",
                    "coordinates": [
                      [
                        [
                          [
                            -77.052262,
                            38.809383
                          ],
                          [
                            -77.052636,
                            38.80941599999999
                          ],
                          [
                            -77.052615,
                            38.809557999999996
                          ],
                          [
                            -77.052241,
                            38.809524
                          ],
                          [
                            -77.052262,
                            38.809383
                          ]
                        ]
                      ]
                    ]
                  },
                  "bbox": [
                    -77.052636,
                    38.809383,
                    -77.052241,
                    38.809557999999996
                  ]
                },
                {
                  "id": "75",
                  "type": "Feature",
                  "properties": {
                    "HEIGHT": 5.960000038146974,
                    "SQMETERS": 119.14112854003906,
                    "mean": 9.799285888671875,
                    "count": 28,
                    "style": {
                      "color": "black",
                      "fillColor": "black"
                    }
                  },
                  "geometry": {
                    "type": "MultiPolygon",
                    "coordinates": [
                      [
                        [
                          [
                            -77.053416,
                            38.80996700000001
                          ],
                          [
                            -77.053616,
                            38.80999399999999
                          ],
                          [
                            -77.053605,
                            38.810044999999995
                          ],
                          [
                            -77.053535,
                            38.810035
                          ],
                          [
                            -77.053531,
                            38.81005400000001
                          ],
                          [
                            -77.053459,
                            38.810044
                          ],
                          [
                            -77.05346200000001,
                            38.81003
                          ],
                          [
                            -77.053404,
                            38.81002199999999
                          ],
                          [
                            -77.053416,
                            38.80996700000001
                          ]
                        ]
                      ]
                    ]
                  },
                  "bbox": [
                    -77.053616,
                    38.80996700000001,
                    -77.053404,
                    38.81005400000001
                  ]
                },
                {
                  "id": "76",
                  "type": "Feature",
                  "properties": {
                    "HEIGHT": 7.210000038146974,
                    "SQMETERS": 147.00982666015625,
                    "mean": 9.64942888532366,
                    "count": 35,
                    "style": {
                      "color": "black",
                      "fillColor": "black"
                    }
                  },
                  "geometry": {
                    "type": "MultiPolygon",
                    "coordinates": [
                      [
                        [
                          [
                            -77.052787,
                            38.809929999999994
                          ],
                          [
                            -77.05295,
                            38.809949
                          ],
                          [
                            -77.052932,
                            38.81003700000001
                          ],
                          [
                            -77.05277,
                            38.810016999999995
                          ],
                          [
                            -77.052787,
                            38.809929999999994
                          ]
                        ]
                      ]
                    ]
                  },
                  "bbox": [
                    -77.05295,
                    38.809929999999994,
                    -77.05277,
                    38.81003700000001
                  ]
                },
                {
                  "id": "77",
                  "type": "Feature",
                  "properties": {
                    "HEIGHT": 6.44000005722046,
                    "SQMETERS": 182.52552795410156,
                    "mean": 9.756772933467742,
                    "count": 31,
                    "style": {
                      "color": "black",
                      "fillColor": "black"
                    }
                  },
                  "geometry": {
                    "type": "MultiPolygon",
                    "coordinates": [
                      [
                        [
                          [
                            -77.05320400000001,
                            38.80925400000001
                          ],
                          [
                            -77.053222,
                            38.809169999999995
                          ],
                          [
                            -77.053284,
                            38.80917800000001
                          ],
                          [
                            -77.053282,
                            38.809186
                          ],
                          [
                            -77.05338,
                            38.80919900000001
                          ],
                          [
                            -77.053364,
                            38.809275
                          ],
                          [
                            -77.05320400000001,
                            38.80925400000001
                          ]
                        ]
                      ]
                    ]
                  },
                  "bbox": [
                    -77.05338,
                    38.809169999999995,
                    -77.05320400000001,
                    38.809275
                  ]
                },
                {
                  "id": "78",
                  "type": "Feature",
                  "properties": {
                    "HEIGHT": 8.729999542236328,
                    "SQMETERS": 308.94366455078125,
                    "mean": 10.433845939217033,
                    "count": 91,
                    "style": {
                      "color": "black",
                      "fillColor": "black"
                    }
                  },
                  "geometry": {
                    "type": "MultiPolygon",
                    "coordinates": [
                      [
                        [
                          [
                            -77.05424,
                            38.81160700000001
                          ],
                          [
                            -77.05409,
                            38.811865
                          ],
                          [
                            -77.053966,
                            38.811820999999995
                          ],
                          [
                            -77.054117,
                            38.81156299999999
                          ],
                          [
                            -77.05424,
                            38.81160700000001
                          ]
                        ]
                      ]
                    ]
                  },
                  "bbox": [
                    -77.05424,
                    38.81156299999999,
                    -77.053966,
                    38.811865
                  ]
                },
                {
                  "id": "79",
                  "type": "Feature",
                  "properties": {
                    "HEIGHT": 7.699999809265138,
                    "SQMETERS": 210.20501708984375,
                    "mean": 9.552280359100877,
                    "count": 57,
                    "style": {
                      "color": "black",
                      "fillColor": "black"
                    }
                  },
                  "geometry": {
                    "type": "MultiPolygon",
                    "coordinates": [
                      [
                        [
                          [
                            -77.054569,
                            38.81130900000001
                          ],
                          [
                            -77.054546,
                            38.811478999999984
                          ],
                          [
                            -77.054409,
                            38.81146799999999
                          ],
                          [
                            -77.054431,
                            38.811298
                          ],
                          [
                            -77.054569,
                            38.81130900000001
                          ]
                        ]
                      ]
                    ]
                  },
                  "bbox": [
                    -77.054569,
                    38.811298,
                    -77.054409,
                    38.811478999999984
                  ]
                },
                {
                  "id": "80",
                  "type": "Feature",
                  "properties": {
                    "HEIGHT": 16.440000534057617,
                    "SQMETERS": 3019.87060546875,
                    "mean": 19.653937002721943,
                    "count": 597,
                    "style": {
                      "color": "black",
                      "fillColor": "black"
                    }
                  },
                  "geometry": {
                    "type": "MultiPolygon",
                    "coordinates": [
                      [
                        [
                          [
                            -77.050588,
                            38.81110300000001
                          ],
                          [
                            -77.050947,
                            38.811141
                          ],
                          [
                            -77.05099,
                            38.810892
                          ],
                          [
                            -77.051047,
                            38.810897999999995
                          ],
                          [
                            -77.051052,
                            38.810867999999985
                          ],
                          [
                            -77.051231,
                            38.810886999999994
                          ],
                          [
                            -77.051181,
                            38.811177
                          ],
                          [
                            -77.051149,
                            38.811174
                          ],
                          [
                            -77.051138,
                            38.811240000000005
                          ],
                          [
                            -77.051159,
                            38.81124200000001
                          ],
                          [
                            -77.051142,
                            38.811339
                          ],
                          [
                            -77.05065,
                            38.811288
                          ],
                          [
                            -77.050665,
                            38.811197
                          ],
                          [
                            -77.050562,
                            38.811186
                          ],
                          [
                            -77.050548,
                            38.811269
                          ],
                          [
                            -77.050455,
                            38.81125999999999
                          ],
                          [
                            -77.050459,
                            38.81123699999999
                          ],
                          [
                            -77.050426,
                            38.81123399999999
                          ],
                          [
                            -77.050473,
                            38.81096
                          ],
                          [
                            -77.050441,
                            38.81095599999999
                          ],
                          [
                            -77.050432,
                            38.811013
                          ],
                          [
                            -77.050371,
                            38.811006
                          ],
                          [
                            -77.050415,
                            38.810752
                          ],
                          [
                            -77.050644,
                            38.810776
                          ],
                          [
                            -77.050588,
                            38.81110300000001
                          ]
                        ]
                      ]
                    ]
                  },
                  "bbox": [
                    -77.051231,
                    38.810752,
                    -77.050371,
                    38.811339
                  ]
                },
                {
                  "id": "81",
                  "type": "Feature",
                  "properties": {
                    "HEIGHT": 7.920000076293946,
                    "SQMETERS": 113.59303283691406,
                    "mean": 10.182758199757544,
                    "count": 29,
                    "style": {
                      "color": "black",
                      "fillColor": "black"
                    }
                  },
                  "geometry": {
                    "type": "MultiPolygon",
                    "coordinates": [
                      [
                        [
                          [
                            -77.051385,
                            38.809796000000006
                          ],
                          [
                            -77.05137600000002,
                            38.80986999999999
                          ],
                          [
                            -77.051235,
                            38.80985999999999
                          ],
                          [
                            -77.05124700000002,
                            38.809766
                          ],
                          [
                            -77.051326,
                            38.809771
                          ],
                          [
                            -77.051324,
                            38.809791000000004
                          ],
                          [
                            -77.051385,
                            38.809796000000006
                          ]
                        ]
                      ]
                    ]
                  },
                  "bbox": [
                    -77.051385,
                    38.809766,
                    -77.051235,
                    38.80986999999999
                  ]
                },
                {
                  "id": "82",
                  "type": "Feature",
                  "properties": {
                    "HEIGHT": 6.340000152587892,
                    "SQMETERS": 74.95829772949219,
                    "mean": 7.1858336130778,
                    "count": 24,
                    "style": {
                      "color": "black",
                      "fillColor": "black"
                    }
                  },
                  "geometry": {
                    "type": "MultiPolygon",
                    "coordinates": [
                      [
                        [
                          [
                            -77.052832,
                            38.809739
                          ],
                          [
                            -77.053027,
                            38.80974899999999
                          ],
                          [
                            -77.053022,
                            38.809804
                          ],
                          [
                            -77.052827,
                            38.80979399999998
                          ],
                          [
                            -77.052832,
                            38.809739
                          ]
                        ]
                      ]
                    ]
                  },
                  "bbox": [
                    -77.053027,
                    38.809739,
                    -77.052827,
                    38.809804
                  ]
                },
                {
                  "id": "83",
                  "type": "Feature",
                  "properties": {
                    "HEIGHT": 3.859999895095825,
                    "SQMETERS": 52.96455764770508,
                    "mean": 7.538400268554687,
                    "count": 25,
                    "style": {
                      "color": "black",
                      "fillColor": "black"
                    }
                  },
                  "geometry": {
                    "type": "MultiPolygon",
                    "coordinates": [
                      [
                        [
                          [
                            -77.051384,
                            38.81021499999999
                          ],
                          [
                            -77.051314,
                            38.810210000000005
                          ],
                          [
                            -77.051332,
                            38.810061
                          ],
                          [
                            -77.051403,
                            38.810066
                          ],
                          [
                            -77.051384,
                            38.81021499999999
                          ]
                        ]
                      ]
                    ]
                  },
                  "bbox": [
                    -77.051403,
                    38.810061,
                    -77.051314,
                    38.81021499999999
                  ]
                }
              ],
              "bbox": [
                -77.05462,
                38.808938999999995,
                -77.050371,
                38.812241
              ]
            },
            "hover_style": {
              "weight": 4,
              "fillOpacity": 0
            },
            "layers": [],
            "name": "Zonal Stats",
            "options": [],
            "pane": "",
            "point_style": {},
            "popup": null,
            "popup_max_height": null,
            "popup_max_width": 300,
            "popup_min_width": 50,
            "style": {
              "color": "#3388ff",
              "weight": 2,
              "opacity": 1,
              "fill": true,
              "fillColor": "#3388ff",
              "fillOpacity": 0.2
            },
            "subitems": [],
            "visible": true
          }
        },
        "99c6dc28364d46ff93e56ceff4e9afc2": {
          "model_module": "@jupyter-widgets/base",
          "model_name": "LayoutModel",
          "model_module_version": "1.2.0",
          "state": {
            "_model_module": "@jupyter-widgets/base",
            "_model_module_version": "1.2.0",
            "_model_name": "LayoutModel",
            "_view_count": null,
            "_view_module": "@jupyter-widgets/base",
            "_view_module_version": "1.2.0",
            "_view_name": "LayoutView",
            "align_content": null,
            "align_items": null,
            "align_self": null,
            "border": null,
            "bottom": null,
            "display": null,
            "flex": null,
            "flex_flow": null,
            "grid_area": null,
            "grid_auto_columns": null,
            "grid_auto_flow": null,
            "grid_auto_rows": null,
            "grid_column": null,
            "grid_gap": null,
            "grid_row": null,
            "grid_template_areas": null,
            "grid_template_columns": null,
            "grid_template_rows": null,
            "height": "600px",
            "justify_content": null,
            "justify_items": null,
            "left": null,
            "margin": null,
            "max_height": null,
            "max_width": null,
            "min_height": null,
            "min_width": null,
            "object_fit": null,
            "object_position": null,
            "order": null,
            "overflow": null,
            "overflow_x": null,
            "overflow_y": null,
            "padding": null,
            "right": null,
            "top": null,
            "visibility": null,
            "width": null
          }
        },
        "d66d456edc1448b68fa185c70c6a13a0": {
          "model_module": "jupyter-leaflet",
          "model_name": "LeafletMapStyleModel",
          "model_module_version": "^0.18",
          "state": {
            "_model_module": "jupyter-leaflet",
            "_model_module_version": "^0.18",
            "_model_name": "LeafletMapStyleModel",
            "_view_count": null,
            "_view_module": "@jupyter-widgets/base",
            "_view_module_version": "1.2.0",
            "_view_name": "StyleView",
            "cursor": "grab"
          }
        },
        "0f127a53609e4d82b42ac40490f03216": {
          "model_module": "@jupyter-widgets/controls",
          "model_name": "VBoxModel",
          "model_module_version": "1.5.0",
          "state": {
            "_dom_classes": [],
            "_model_module": "@jupyter-widgets/controls",
            "_model_module_version": "1.5.0",
            "_model_name": "VBoxModel",
            "_view_count": null,
            "_view_module": "@jupyter-widgets/controls",
            "_view_module_version": "1.5.0",
            "_view_name": "VBoxView",
            "box_style": "",
            "children": [
              "IPY_MODEL_4562bff90e0948fc99611c0da9180d30"
            ],
            "layout": "IPY_MODEL_ec2d828e0f564d1184a83c28645811eb"
          }
        },
        "822009681a2342b394d6d4df77e08f7f": {
          "model_module": "@jupyter-widgets/controls",
          "model_name": "VBoxModel",
          "model_module_version": "1.5.0",
          "state": {
            "_dom_classes": [],
            "_model_module": "@jupyter-widgets/controls",
            "_model_module_version": "1.5.0",
            "_model_name": "VBoxModel",
            "_view_count": null,
            "_view_module": "@jupyter-widgets/controls",
            "_view_module_version": "1.5.0",
            "_view_name": "VBoxView",
            "box_style": "",
            "children": [
              "IPY_MODEL_c9c344d09c0043969883f16c593d3239",
              "IPY_MODEL_c77b212302a74117a0da084ab2b95047"
            ],
            "layout": "IPY_MODEL_f717490c14a64e9d8dac9d88161ad488"
          }
        },
        "4562bff90e0948fc99611c0da9180d30": {
          "model_module": "@jupyter-widgets/controls",
          "model_name": "ToggleButtonModel",
          "model_module_version": "1.5.0",
          "state": {
            "_dom_classes": [],
            "_model_module": "@jupyter-widgets/controls",
            "_model_module_version": "1.5.0",
            "_model_name": "ToggleButtonModel",
            "_view_count": null,
            "_view_module": "@jupyter-widgets/controls",
            "_view_module_version": "1.5.0",
            "_view_name": "ToggleButtonView",
            "button_style": "",
            "description": "",
            "description_tooltip": null,
            "disabled": false,
            "icon": "wrench",
            "layout": "IPY_MODEL_684c79a7cdd54769a4010f520707257d",
            "style": "IPY_MODEL_72ca2e05d2004d96bd15b7ac77e56cd9",
            "tooltip": "Toolbar",
            "value": false
          }
        },
        "ec2d828e0f564d1184a83c28645811eb": {
          "model_module": "@jupyter-widgets/base",
          "model_name": "LayoutModel",
          "model_module_version": "1.2.0",
          "state": {
            "_model_module": "@jupyter-widgets/base",
            "_model_module_version": "1.2.0",
            "_model_name": "LayoutModel",
            "_view_count": null,
            "_view_module": "@jupyter-widgets/base",
            "_view_module_version": "1.2.0",
            "_view_name": "LayoutView",
            "align_content": null,
            "align_items": null,
            "align_self": null,
            "border": null,
            "bottom": null,
            "display": null,
            "flex": null,
            "flex_flow": null,
            "grid_area": null,
            "grid_auto_columns": null,
            "grid_auto_flow": null,
            "grid_auto_rows": null,
            "grid_column": null,
            "grid_gap": null,
            "grid_row": null,
            "grid_template_areas": null,
            "grid_template_columns": null,
            "grid_template_rows": null,
            "height": null,
            "justify_content": null,
            "justify_items": null,
            "left": null,
            "margin": null,
            "max_height": null,
            "max_width": null,
            "min_height": null,
            "min_width": null,
            "object_fit": null,
            "object_position": null,
            "order": null,
            "overflow": null,
            "overflow_x": null,
            "overflow_y": null,
            "padding": null,
            "right": null,
            "top": null,
            "visibility": null,
            "width": null
          }
        },
        "c9c344d09c0043969883f16c593d3239": {
          "model_module": "@jupyter-widgets/controls",
          "model_name": "HBoxModel",
          "model_module_version": "1.5.0",
          "state": {
            "_dom_classes": [],
            "_model_module": "@jupyter-widgets/controls",
            "_model_module_version": "1.5.0",
            "_model_name": "HBoxModel",
            "_view_count": null,
            "_view_module": "@jupyter-widgets/controls",
            "_view_module_version": "1.5.0",
            "_view_name": "HBoxView",
            "box_style": "",
            "children": [
              "IPY_MODEL_116de084960a40bc886ef4f45303de2d",
              "IPY_MODEL_3e8707c7fdc44b87a3b5da8ddbf87d0b"
            ],
            "layout": "IPY_MODEL_5dfe91564b9944ba9ca7a2bcf0dabdd5"
          }
        },
        "c77b212302a74117a0da084ab2b95047": {
          "model_module": "@jupyter-widgets/controls",
          "model_name": "HTMLModel",
          "model_module_version": "1.5.0",
          "state": {
            "_dom_classes": [],
            "_model_module": "@jupyter-widgets/controls",
            "_model_module_version": "1.5.0",
            "_model_name": "HTMLModel",
            "_view_count": null,
            "_view_module": "@jupyter-widgets/controls",
            "_view_module_version": "1.5.0",
            "_view_name": "HTMLView",
            "description": "",
            "description_tooltip": null,
            "layout": "IPY_MODEL_2e50148ec9634834a10237aa6655b576",
            "placeholder": "​",
            "style": "IPY_MODEL_8959fce476a14ad693be4616b4f8da05",
            "value": ""
          }
        },
        "f717490c14a64e9d8dac9d88161ad488": {
          "model_module": "@jupyter-widgets/base",
          "model_name": "LayoutModel",
          "model_module_version": "1.2.0",
          "state": {
            "_model_module": "@jupyter-widgets/base",
            "_model_module_version": "1.2.0",
            "_model_name": "LayoutModel",
            "_view_count": null,
            "_view_module": "@jupyter-widgets/base",
            "_view_module_version": "1.2.0",
            "_view_name": "LayoutView",
            "align_content": null,
            "align_items": null,
            "align_self": null,
            "border": null,
            "bottom": null,
            "display": null,
            "flex": null,
            "flex_flow": null,
            "grid_area": null,
            "grid_auto_columns": null,
            "grid_auto_flow": null,
            "grid_auto_rows": null,
            "grid_column": null,
            "grid_gap": null,
            "grid_row": null,
            "grid_template_areas": null,
            "grid_template_columns": null,
            "grid_template_rows": null,
            "height": null,
            "justify_content": null,
            "justify_items": null,
            "left": null,
            "margin": null,
            "max_height": null,
            "max_width": null,
            "min_height": null,
            "min_width": null,
            "object_fit": null,
            "object_position": null,
            "order": null,
            "overflow": null,
            "overflow_x": null,
            "overflow_y": null,
            "padding": null,
            "right": null,
            "top": null,
            "visibility": null,
            "width": null
          }
        },
        "684c79a7cdd54769a4010f520707257d": {
          "model_module": "@jupyter-widgets/base",
          "model_name": "LayoutModel",
          "model_module_version": "1.2.0",
          "state": {
            "_model_module": "@jupyter-widgets/base",
            "_model_module_version": "1.2.0",
            "_model_name": "LayoutModel",
            "_view_count": null,
            "_view_module": "@jupyter-widgets/base",
            "_view_module_version": "1.2.0",
            "_view_name": "LayoutView",
            "align_content": null,
            "align_items": null,
            "align_self": null,
            "border": null,
            "bottom": null,
            "display": null,
            "flex": null,
            "flex_flow": null,
            "grid_area": null,
            "grid_auto_columns": null,
            "grid_auto_flow": null,
            "grid_auto_rows": null,
            "grid_column": null,
            "grid_gap": null,
            "grid_row": null,
            "grid_template_areas": null,
            "grid_template_columns": null,
            "grid_template_rows": null,
            "height": "28px",
            "justify_content": null,
            "justify_items": null,
            "left": null,
            "margin": null,
            "max_height": null,
            "max_width": null,
            "min_height": null,
            "min_width": null,
            "object_fit": null,
            "object_position": null,
            "order": null,
            "overflow": null,
            "overflow_x": null,
            "overflow_y": null,
            "padding": "0px 0px 0px 4px",
            "right": null,
            "top": null,
            "visibility": null,
            "width": "28px"
          }
        },
        "72ca2e05d2004d96bd15b7ac77e56cd9": {
          "model_module": "@jupyter-widgets/controls",
          "model_name": "DescriptionStyleModel",
          "model_module_version": "1.5.0",
          "state": {
            "_model_module": "@jupyter-widgets/controls",
            "_model_module_version": "1.5.0",
            "_model_name": "DescriptionStyleModel",
            "_view_count": null,
            "_view_module": "@jupyter-widgets/base",
            "_view_module_version": "1.2.0",
            "_view_name": "StyleView",
            "description_width": ""
          }
        },
        "116de084960a40bc886ef4f45303de2d": {
          "model_module": "@jupyter-widgets/controls",
          "model_name": "ToggleButtonModel",
          "model_module_version": "1.5.0",
          "state": {
            "_dom_classes": [],
            "_model_module": "@jupyter-widgets/controls",
            "_model_module_version": "1.5.0",
            "_model_name": "ToggleButtonModel",
            "_view_count": null,
            "_view_module": "@jupyter-widgets/controls",
            "_view_module_version": "1.5.0",
            "_view_name": "ToggleButtonView",
            "button_style": "",
            "description": "",
            "description_tooltip": null,
            "disabled": false,
            "icon": "info",
            "layout": "IPY_MODEL_c958d60bfcd64c1db27b8cbad0bcd31b",
            "style": "IPY_MODEL_464d77b32859478bb914943c894a6750",
            "tooltip": "Toolbar",
            "value": true
          }
        },
        "3e8707c7fdc44b87a3b5da8ddbf87d0b": {
          "model_module": "@jupyter-widgets/controls",
          "model_name": "ToggleButtonModel",
          "model_module_version": "1.5.0",
          "state": {
            "_dom_classes": [],
            "_model_module": "@jupyter-widgets/controls",
            "_model_module_version": "1.5.0",
            "_model_name": "ToggleButtonModel",
            "_view_count": null,
            "_view_module": "@jupyter-widgets/controls",
            "_view_module_version": "1.5.0",
            "_view_name": "ToggleButtonView",
            "button_style": "",
            "description": "",
            "description_tooltip": null,
            "disabled": false,
            "icon": "times",
            "layout": "IPY_MODEL_4568fa5b2f594ba98faec64c82aafdea",
            "style": "IPY_MODEL_30b103ba45b941859c2adf64a2ee4b40",
            "tooltip": "Close the tool",
            "value": false
          }
        },
        "5dfe91564b9944ba9ca7a2bcf0dabdd5": {
          "model_module": "@jupyter-widgets/base",
          "model_name": "LayoutModel",
          "model_module_version": "1.2.0",
          "state": {
            "_model_module": "@jupyter-widgets/base",
            "_model_module_version": "1.2.0",
            "_model_name": "LayoutModel",
            "_view_count": null,
            "_view_module": "@jupyter-widgets/base",
            "_view_module_version": "1.2.0",
            "_view_name": "LayoutView",
            "align_content": null,
            "align_items": null,
            "align_self": null,
            "border": null,
            "bottom": null,
            "display": null,
            "flex": null,
            "flex_flow": null,
            "grid_area": null,
            "grid_auto_columns": null,
            "grid_auto_flow": null,
            "grid_auto_rows": null,
            "grid_column": null,
            "grid_gap": null,
            "grid_row": null,
            "grid_template_areas": null,
            "grid_template_columns": null,
            "grid_template_rows": null,
            "height": null,
            "justify_content": null,
            "justify_items": null,
            "left": null,
            "margin": null,
            "max_height": null,
            "max_width": null,
            "min_height": null,
            "min_width": null,
            "object_fit": null,
            "object_position": null,
            "order": null,
            "overflow": null,
            "overflow_x": null,
            "overflow_y": null,
            "padding": null,
            "right": null,
            "top": null,
            "visibility": null,
            "width": null
          }
        },
        "2e50148ec9634834a10237aa6655b576": {
          "model_module": "@jupyter-widgets/base",
          "model_name": "LayoutModel",
          "model_module_version": "1.2.0",
          "state": {
            "_model_module": "@jupyter-widgets/base",
            "_model_module_version": "1.2.0",
            "_model_name": "LayoutModel",
            "_view_count": null,
            "_view_module": "@jupyter-widgets/base",
            "_view_module_version": "1.2.0",
            "_view_name": "LayoutView",
            "align_content": null,
            "align_items": null,
            "align_self": null,
            "border": null,
            "bottom": null,
            "display": null,
            "flex": null,
            "flex_flow": null,
            "grid_area": null,
            "grid_auto_columns": null,
            "grid_auto_flow": null,
            "grid_auto_rows": null,
            "grid_column": null,
            "grid_gap": null,
            "grid_row": null,
            "grid_template_areas": null,
            "grid_template_columns": null,
            "grid_template_rows": null,
            "height": null,
            "justify_content": null,
            "justify_items": null,
            "left": null,
            "margin": "0px 10px 0px 10px",
            "max_height": "250px",
            "max_width": "250px",
            "min_height": null,
            "min_width": null,
            "object_fit": null,
            "object_position": null,
            "order": null,
            "overflow": null,
            "overflow_x": null,
            "overflow_y": null,
            "padding": null,
            "right": null,
            "top": null,
            "visibility": null,
            "width": null
          }
        },
        "8959fce476a14ad693be4616b4f8da05": {
          "model_module": "@jupyter-widgets/controls",
          "model_name": "DescriptionStyleModel",
          "model_module_version": "1.5.0",
          "state": {
            "_model_module": "@jupyter-widgets/controls",
            "_model_module_version": "1.5.0",
            "_model_name": "DescriptionStyleModel",
            "_view_count": null,
            "_view_module": "@jupyter-widgets/base",
            "_view_module_version": "1.2.0",
            "_view_name": "StyleView",
            "description_width": ""
          }
        },
        "c958d60bfcd64c1db27b8cbad0bcd31b": {
          "model_module": "@jupyter-widgets/base",
          "model_name": "LayoutModel",
          "model_module_version": "1.2.0",
          "state": {
            "_model_module": "@jupyter-widgets/base",
            "_model_module_version": "1.2.0",
            "_model_name": "LayoutModel",
            "_view_count": null,
            "_view_module": "@jupyter-widgets/base",
            "_view_module_version": "1.2.0",
            "_view_name": "LayoutView",
            "align_content": null,
            "align_items": null,
            "align_self": null,
            "border": null,
            "bottom": null,
            "display": null,
            "flex": null,
            "flex_flow": null,
            "grid_area": null,
            "grid_auto_columns": null,
            "grid_auto_flow": null,
            "grid_auto_rows": null,
            "grid_column": null,
            "grid_gap": null,
            "grid_row": null,
            "grid_template_areas": null,
            "grid_template_columns": null,
            "grid_template_rows": null,
            "height": "28px",
            "justify_content": null,
            "justify_items": null,
            "left": null,
            "margin": null,
            "max_height": null,
            "max_width": null,
            "min_height": null,
            "min_width": null,
            "object_fit": null,
            "object_position": null,
            "order": null,
            "overflow": null,
            "overflow_x": null,
            "overflow_y": null,
            "padding": "0px 0px 0px 4px",
            "right": null,
            "top": null,
            "visibility": null,
            "width": "28px"
          }
        },
        "464d77b32859478bb914943c894a6750": {
          "model_module": "@jupyter-widgets/controls",
          "model_name": "DescriptionStyleModel",
          "model_module_version": "1.5.0",
          "state": {
            "_model_module": "@jupyter-widgets/controls",
            "_model_module_version": "1.5.0",
            "_model_name": "DescriptionStyleModel",
            "_view_count": null,
            "_view_module": "@jupyter-widgets/base",
            "_view_module_version": "1.2.0",
            "_view_name": "StyleView",
            "description_width": ""
          }
        },
        "4568fa5b2f594ba98faec64c82aafdea": {
          "model_module": "@jupyter-widgets/base",
          "model_name": "LayoutModel",
          "model_module_version": "1.2.0",
          "state": {
            "_model_module": "@jupyter-widgets/base",
            "_model_module_version": "1.2.0",
            "_model_name": "LayoutModel",
            "_view_count": null,
            "_view_module": "@jupyter-widgets/base",
            "_view_module_version": "1.2.0",
            "_view_name": "LayoutView",
            "align_content": null,
            "align_items": null,
            "align_self": null,
            "border": null,
            "bottom": null,
            "display": null,
            "flex": null,
            "flex_flow": null,
            "grid_area": null,
            "grid_auto_columns": null,
            "grid_auto_flow": null,
            "grid_auto_rows": null,
            "grid_column": null,
            "grid_gap": null,
            "grid_row": null,
            "grid_template_areas": null,
            "grid_template_columns": null,
            "grid_template_rows": null,
            "height": "28px",
            "justify_content": null,
            "justify_items": null,
            "left": null,
            "margin": null,
            "max_height": null,
            "max_width": null,
            "min_height": null,
            "min_width": null,
            "object_fit": null,
            "object_position": null,
            "order": null,
            "overflow": null,
            "overflow_x": null,
            "overflow_y": null,
            "padding": "0px 0px 0px 4px",
            "right": null,
            "top": null,
            "visibility": null,
            "width": "28px"
          }
        },
        "30b103ba45b941859c2adf64a2ee4b40": {
          "model_module": "@jupyter-widgets/controls",
          "model_name": "DescriptionStyleModel",
          "model_module_version": "1.5.0",
          "state": {
            "_model_module": "@jupyter-widgets/controls",
            "_model_module_version": "1.5.0",
            "_model_name": "DescriptionStyleModel",
            "_view_count": null,
            "_view_module": "@jupyter-widgets/base",
            "_view_module_version": "1.2.0",
            "_view_name": "StyleView",
            "description_width": ""
          }
        }
      }
    }
  },
  "nbformat": 4,
  "nbformat_minor": 5
}