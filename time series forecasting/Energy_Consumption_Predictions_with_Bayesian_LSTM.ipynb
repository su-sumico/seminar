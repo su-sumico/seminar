{
  "nbformat": 4,
  "nbformat_minor": 0,
  "metadata": {
    "colab": {
      "provenance": [],
      "include_colab_link": true
    },
    "kernelspec": {
      "name": "python3",
      "display_name": "Python 3"
    }
  },
  "cells": [
    {
      "cell_type": "markdown",
      "metadata": {
        "id": "view-in-github",
        "colab_type": "text"
      },
      "source": [
        "<a href=\"https://colab.research.google.com/github/su-sumico/seminar/blob/main/Energy_Consumption_Predictions_with_Bayesian_LSTM.ipynb\" target=\"_parent\"><img src=\"https://colab.research.google.com/assets/colab-badge.svg\" alt=\"Open In Colab\"/></a>"
      ]
    },
    {
      "cell_type": "markdown",
      "metadata": {
        "id": "VHRshe9Y-Q0Q"
      },
      "source": [
        "# Energy Consumption Predictions with Bayesian LSTMs in PyTorch"
      ]
    },
    {
      "cell_type": "markdown",
      "metadata": {
        "id": "3FQQioKQ-Tkr"
      },
      "source": [
        "* energydata_complete.csvとBayesian LSTMs (Long Short-Term Memory) networks を用いてEnergy Consumptionを予測"
      ]
    },
    {
      "cell_type": "markdown",
      "metadata": {
        "id": "OFY02qDSAbqI"
      },
      "source": [
        "**Selected Columns:**\n",
        "\n",
        "For simplicity and speed when running this notebook, only temporal and autoregressive features are used.\n",
        "\n",
        "- date time year-month-day hour:minute:second, sampled every 10 minutes \\\n",
        "- Appliances, energy use in Wh for the corresponding 10-minute timestamp \\\n",
        "- day_of_week, where Monday corresponds to 0 \\\n",
        "- hour_of_day\n"
      ]
    },
    {
      "cell_type": "code",
      "source": [
        "from google.colab import drive\n",
        "drive.mount('/content/drive')"
      ],
      "metadata": {
        "colab": {
          "base_uri": "https://localhost:8080/"
        },
        "id": "NSFSEvzXGFlm",
        "outputId": "5113ce0d-3edd-42b1-c764-7d6772b18af4"
      },
      "execution_count": 1,
      "outputs": [
        {
          "output_type": "stream",
          "name": "stdout",
          "text": [
            "Mounted at /content/drive\n"
          ]
        }
      ]
    },
    {
      "cell_type": "code",
      "metadata": {
        "id": "uWNK0BtB2W0E"
      },
      "source": [
        "import pandas as pd"
      ],
      "execution_count": 2,
      "outputs": []
    },
    {
      "cell_type": "code",
      "metadata": {
        "id": "WDYp3nRh-Bpv"
      },
      "source": [
        "energy_df = pd.read_csv('/content/drive/MyDrive/transformer/energydata_complete.csv')\n",
        "\n",
        "energy_df['date'] = pd.to_datetime(energy_df['date'])\n",
        "\n",
        "energy_df['month'] = energy_df['date'].dt.month.astype(int)\n",
        "energy_df['day_of_month'] = energy_df['date'].dt.day.astype(int)\n",
        "\n",
        "# day_of_week=0 corresponds to Monday\n",
        "energy_df['day_of_week'] = energy_df['date'].dt.dayofweek.astype(int)\n",
        "energy_df['hour_of_day'] = energy_df['date'].dt.hour.astype(int)\n",
        "\n",
        "selected_columns = ['date', 'day_of_week', 'hour_of_day', 'Appliances']\n",
        "energy_df = energy_df[selected_columns]"
      ],
      "execution_count": 3,
      "outputs": []
    },
    {
      "cell_type": "code",
      "metadata": {
        "id": "vv4cV2qr-E-8",
        "colab": {
          "base_uri": "https://localhost:8080/",
          "height": 206
        },
        "outputId": "dba0fa10-28e7-408e-b43c-e43360652fb7"
      },
      "source": [
        "energy_df.head()"
      ],
      "execution_count": 4,
      "outputs": [
        {
          "output_type": "execute_result",
          "data": {
            "text/plain": [
              "                 date  day_of_week  hour_of_day  Appliances\n",
              "0 2016-01-11 17:00:00            0           17          60\n",
              "1 2016-01-11 17:10:00            0           17          60\n",
              "2 2016-01-11 17:20:00            0           17          50\n",
              "3 2016-01-11 17:30:00            0           17          50\n",
              "4 2016-01-11 17:40:00            0           17          60"
            ],
            "text/html": [
              "\n",
              "  <div id=\"df-0495fc25-4906-4388-8923-173495a9d14b\" class=\"colab-df-container\">\n",
              "    <div>\n",
              "<style scoped>\n",
              "    .dataframe tbody tr th:only-of-type {\n",
              "        vertical-align: middle;\n",
              "    }\n",
              "\n",
              "    .dataframe tbody tr th {\n",
              "        vertical-align: top;\n",
              "    }\n",
              "\n",
              "    .dataframe thead th {\n",
              "        text-align: right;\n",
              "    }\n",
              "</style>\n",
              "<table border=\"1\" class=\"dataframe\">\n",
              "  <thead>\n",
              "    <tr style=\"text-align: right;\">\n",
              "      <th></th>\n",
              "      <th>date</th>\n",
              "      <th>day_of_week</th>\n",
              "      <th>hour_of_day</th>\n",
              "      <th>Appliances</th>\n",
              "    </tr>\n",
              "  </thead>\n",
              "  <tbody>\n",
              "    <tr>\n",
              "      <th>0</th>\n",
              "      <td>2016-01-11 17:00:00</td>\n",
              "      <td>0</td>\n",
              "      <td>17</td>\n",
              "      <td>60</td>\n",
              "    </tr>\n",
              "    <tr>\n",
              "      <th>1</th>\n",
              "      <td>2016-01-11 17:10:00</td>\n",
              "      <td>0</td>\n",
              "      <td>17</td>\n",
              "      <td>60</td>\n",
              "    </tr>\n",
              "    <tr>\n",
              "      <th>2</th>\n",
              "      <td>2016-01-11 17:20:00</td>\n",
              "      <td>0</td>\n",
              "      <td>17</td>\n",
              "      <td>50</td>\n",
              "    </tr>\n",
              "    <tr>\n",
              "      <th>3</th>\n",
              "      <td>2016-01-11 17:30:00</td>\n",
              "      <td>0</td>\n",
              "      <td>17</td>\n",
              "      <td>50</td>\n",
              "    </tr>\n",
              "    <tr>\n",
              "      <th>4</th>\n",
              "      <td>2016-01-11 17:40:00</td>\n",
              "      <td>0</td>\n",
              "      <td>17</td>\n",
              "      <td>60</td>\n",
              "    </tr>\n",
              "  </tbody>\n",
              "</table>\n",
              "</div>\n",
              "    <div class=\"colab-df-buttons\">\n",
              "\n",
              "  <div class=\"colab-df-container\">\n",
              "    <button class=\"colab-df-convert\" onclick=\"convertToInteractive('df-0495fc25-4906-4388-8923-173495a9d14b')\"\n",
              "            title=\"Convert this dataframe to an interactive table.\"\n",
              "            style=\"display:none;\">\n",
              "\n",
              "  <svg xmlns=\"http://www.w3.org/2000/svg\" height=\"24px\" viewBox=\"0 -960 960 960\">\n",
              "    <path d=\"M120-120v-720h720v720H120Zm60-500h600v-160H180v160Zm220 220h160v-160H400v160Zm0 220h160v-160H400v160ZM180-400h160v-160H180v160Zm440 0h160v-160H620v160ZM180-180h160v-160H180v160Zm440 0h160v-160H620v160Z\"/>\n",
              "  </svg>\n",
              "    </button>\n",
              "\n",
              "  <style>\n",
              "    .colab-df-container {\n",
              "      display:flex;\n",
              "      gap: 12px;\n",
              "    }\n",
              "\n",
              "    .colab-df-convert {\n",
              "      background-color: #E8F0FE;\n",
              "      border: none;\n",
              "      border-radius: 50%;\n",
              "      cursor: pointer;\n",
              "      display: none;\n",
              "      fill: #1967D2;\n",
              "      height: 32px;\n",
              "      padding: 0 0 0 0;\n",
              "      width: 32px;\n",
              "    }\n",
              "\n",
              "    .colab-df-convert:hover {\n",
              "      background-color: #E2EBFA;\n",
              "      box-shadow: 0px 1px 2px rgba(60, 64, 67, 0.3), 0px 1px 3px 1px rgba(60, 64, 67, 0.15);\n",
              "      fill: #174EA6;\n",
              "    }\n",
              "\n",
              "    .colab-df-buttons div {\n",
              "      margin-bottom: 4px;\n",
              "    }\n",
              "\n",
              "    [theme=dark] .colab-df-convert {\n",
              "      background-color: #3B4455;\n",
              "      fill: #D2E3FC;\n",
              "    }\n",
              "\n",
              "    [theme=dark] .colab-df-convert:hover {\n",
              "      background-color: #434B5C;\n",
              "      box-shadow: 0px 1px 3px 1px rgba(0, 0, 0, 0.15);\n",
              "      filter: drop-shadow(0px 1px 2px rgba(0, 0, 0, 0.3));\n",
              "      fill: #FFFFFF;\n",
              "    }\n",
              "  </style>\n",
              "\n",
              "    <script>\n",
              "      const buttonEl =\n",
              "        document.querySelector('#df-0495fc25-4906-4388-8923-173495a9d14b button.colab-df-convert');\n",
              "      buttonEl.style.display =\n",
              "        google.colab.kernel.accessAllowed ? 'block' : 'none';\n",
              "\n",
              "      async function convertToInteractive(key) {\n",
              "        const element = document.querySelector('#df-0495fc25-4906-4388-8923-173495a9d14b');\n",
              "        const dataTable =\n",
              "          await google.colab.kernel.invokeFunction('convertToInteractive',\n",
              "                                                    [key], {});\n",
              "        if (!dataTable) return;\n",
              "\n",
              "        const docLinkHtml = 'Like what you see? Visit the ' +\n",
              "          '<a target=\"_blank\" href=https://colab.research.google.com/notebooks/data_table.ipynb>data table notebook</a>'\n",
              "          + ' to learn more about interactive tables.';\n",
              "        element.innerHTML = '';\n",
              "        dataTable['output_type'] = 'display_data';\n",
              "        await google.colab.output.renderOutput(dataTable, element);\n",
              "        const docLink = document.createElement('div');\n",
              "        docLink.innerHTML = docLinkHtml;\n",
              "        element.appendChild(docLink);\n",
              "      }\n",
              "    </script>\n",
              "  </div>\n",
              "\n",
              "\n",
              "<div id=\"df-791a2fba-5048-453c-94eb-b2cf80663d94\">\n",
              "  <button class=\"colab-df-quickchart\" onclick=\"quickchart('df-791a2fba-5048-453c-94eb-b2cf80663d94')\"\n",
              "            title=\"Suggest charts\"\n",
              "            style=\"display:none;\">\n",
              "\n",
              "<svg xmlns=\"http://www.w3.org/2000/svg\" height=\"24px\"viewBox=\"0 0 24 24\"\n",
              "     width=\"24px\">\n",
              "    <g>\n",
              "        <path d=\"M19 3H5c-1.1 0-2 .9-2 2v14c0 1.1.9 2 2 2h14c1.1 0 2-.9 2-2V5c0-1.1-.9-2-2-2zM9 17H7v-7h2v7zm4 0h-2V7h2v10zm4 0h-2v-4h2v4z\"/>\n",
              "    </g>\n",
              "</svg>\n",
              "  </button>\n",
              "\n",
              "<style>\n",
              "  .colab-df-quickchart {\n",
              "      --bg-color: #E8F0FE;\n",
              "      --fill-color: #1967D2;\n",
              "      --hover-bg-color: #E2EBFA;\n",
              "      --hover-fill-color: #174EA6;\n",
              "      --disabled-fill-color: #AAA;\n",
              "      --disabled-bg-color: #DDD;\n",
              "  }\n",
              "\n",
              "  [theme=dark] .colab-df-quickchart {\n",
              "      --bg-color: #3B4455;\n",
              "      --fill-color: #D2E3FC;\n",
              "      --hover-bg-color: #434B5C;\n",
              "      --hover-fill-color: #FFFFFF;\n",
              "      --disabled-bg-color: #3B4455;\n",
              "      --disabled-fill-color: #666;\n",
              "  }\n",
              "\n",
              "  .colab-df-quickchart {\n",
              "    background-color: var(--bg-color);\n",
              "    border: none;\n",
              "    border-radius: 50%;\n",
              "    cursor: pointer;\n",
              "    display: none;\n",
              "    fill: var(--fill-color);\n",
              "    height: 32px;\n",
              "    padding: 0;\n",
              "    width: 32px;\n",
              "  }\n",
              "\n",
              "  .colab-df-quickchart:hover {\n",
              "    background-color: var(--hover-bg-color);\n",
              "    box-shadow: 0 1px 2px rgba(60, 64, 67, 0.3), 0 1px 3px 1px rgba(60, 64, 67, 0.15);\n",
              "    fill: var(--button-hover-fill-color);\n",
              "  }\n",
              "\n",
              "  .colab-df-quickchart-complete:disabled,\n",
              "  .colab-df-quickchart-complete:disabled:hover {\n",
              "    background-color: var(--disabled-bg-color);\n",
              "    fill: var(--disabled-fill-color);\n",
              "    box-shadow: none;\n",
              "  }\n",
              "\n",
              "  .colab-df-spinner {\n",
              "    border: 2px solid var(--fill-color);\n",
              "    border-color: transparent;\n",
              "    border-bottom-color: var(--fill-color);\n",
              "    animation:\n",
              "      spin 1s steps(1) infinite;\n",
              "  }\n",
              "\n",
              "  @keyframes spin {\n",
              "    0% {\n",
              "      border-color: transparent;\n",
              "      border-bottom-color: var(--fill-color);\n",
              "      border-left-color: var(--fill-color);\n",
              "    }\n",
              "    20% {\n",
              "      border-color: transparent;\n",
              "      border-left-color: var(--fill-color);\n",
              "      border-top-color: var(--fill-color);\n",
              "    }\n",
              "    30% {\n",
              "      border-color: transparent;\n",
              "      border-left-color: var(--fill-color);\n",
              "      border-top-color: var(--fill-color);\n",
              "      border-right-color: var(--fill-color);\n",
              "    }\n",
              "    40% {\n",
              "      border-color: transparent;\n",
              "      border-right-color: var(--fill-color);\n",
              "      border-top-color: var(--fill-color);\n",
              "    }\n",
              "    60% {\n",
              "      border-color: transparent;\n",
              "      border-right-color: var(--fill-color);\n",
              "    }\n",
              "    80% {\n",
              "      border-color: transparent;\n",
              "      border-right-color: var(--fill-color);\n",
              "      border-bottom-color: var(--fill-color);\n",
              "    }\n",
              "    90% {\n",
              "      border-color: transparent;\n",
              "      border-bottom-color: var(--fill-color);\n",
              "    }\n",
              "  }\n",
              "</style>\n",
              "\n",
              "  <script>\n",
              "    async function quickchart(key) {\n",
              "      const quickchartButtonEl =\n",
              "        document.querySelector('#' + key + ' button');\n",
              "      quickchartButtonEl.disabled = true;  // To prevent multiple clicks.\n",
              "      quickchartButtonEl.classList.add('colab-df-spinner');\n",
              "      try {\n",
              "        const charts = await google.colab.kernel.invokeFunction(\n",
              "            'suggestCharts', [key], {});\n",
              "      } catch (error) {\n",
              "        console.error('Error during call to suggestCharts:', error);\n",
              "      }\n",
              "      quickchartButtonEl.classList.remove('colab-df-spinner');\n",
              "      quickchartButtonEl.classList.add('colab-df-quickchart-complete');\n",
              "    }\n",
              "    (() => {\n",
              "      let quickchartButtonEl =\n",
              "        document.querySelector('#df-791a2fba-5048-453c-94eb-b2cf80663d94 button');\n",
              "      quickchartButtonEl.style.display =\n",
              "        google.colab.kernel.accessAllowed ? 'block' : 'none';\n",
              "    })();\n",
              "  </script>\n",
              "</div>\n",
              "\n",
              "    </div>\n",
              "  </div>\n"
            ],
            "application/vnd.google.colaboratory.intrinsic+json": {
              "type": "dataframe",
              "variable_name": "energy_df",
              "summary": "{\n  \"name\": \"energy_df\",\n  \"rows\": 19735,\n  \"fields\": [\n    {\n      \"column\": \"date\",\n      \"properties\": {\n        \"dtype\": \"date\",\n        \"min\": \"2016-01-11 17:00:00\",\n        \"max\": \"2016-05-27 18:00:00\",\n        \"num_unique_values\": 19735,\n        \"samples\": [\n          \"2016-03-14 01:40:00\",\n          \"2016-01-30 20:00:00\",\n          \"2016-03-15 03:00:00\"\n        ],\n        \"semantic_type\": \"\",\n        \"description\": \"\"\n      }\n    },\n    {\n      \"column\": \"day_of_week\",\n      \"properties\": {\n        \"dtype\": \"number\",\n        \"std\": 1,\n        \"min\": 0,\n        \"max\": 6,\n        \"num_unique_values\": 7,\n        \"samples\": [\n          0,\n          1,\n          5\n        ],\n        \"semantic_type\": \"\",\n        \"description\": \"\"\n      }\n    },\n    {\n      \"column\": \"hour_of_day\",\n      \"properties\": {\n        \"dtype\": \"number\",\n        \"std\": 6,\n        \"min\": 0,\n        \"max\": 23,\n        \"num_unique_values\": 24,\n        \"samples\": [\n          1,\n          9,\n          17\n        ],\n        \"semantic_type\": \"\",\n        \"description\": \"\"\n      }\n    },\n    {\n      \"column\": \"Appliances\",\n      \"properties\": {\n        \"dtype\": \"number\",\n        \"std\": 102,\n        \"min\": 10,\n        \"max\": 1080,\n        \"num_unique_values\": 92,\n        \"samples\": [\n          360,\n          20,\n          480\n        ],\n        \"semantic_type\": \"\",\n        \"description\": \"\"\n      }\n    }\n  ]\n}"
            }
          },
          "metadata": {},
          "execution_count": 4
        }
      ]
    },
    {
      "cell_type": "markdown",
      "metadata": {
        "id": "d8BJQAqaJqv7"
      },
      "source": [
        "## Time Series Transformations\n",
        "\n",
        "1. The dataset is to be re-sampled at an hourly rate for more meaningful analytics.\n",
        "\n",
        "2. To alleviate exponential effects, the target variable is log-transformed as per the Uber paper.\n",
        "\n",
        "3. For simplicity and speed when running this notebook, only temporal and autoregressive features, namely `day_of_week`, `hour_of_day`, \\\n",
        "and previous values of `Appliances` are used as features"
      ]
    },
    {
      "cell_type": "code",
      "metadata": {
        "id": "LcXp9XEaJqXO"
      },
      "source": [
        "import numpy as np\n",
        "\n",
        "resample_df = energy_df.set_index('date').resample('1H').mean()\n",
        "resample_df['date'] = resample_df.index\n",
        "resample_df['log_energy_consumption'] = np.log(resample_df['Appliances'])\n",
        "\n",
        "datetime_columns = ['date', 'day_of_week', 'hour_of_day']\n",
        "target_column = 'log_energy_consumption'\n",
        "\n",
        "feature_columns = datetime_columns + ['log_energy_consumption']\n",
        "\n",
        "# For clarity in visualization and presentation,\n",
        "# only consider the first 150 hours of data.\n",
        "resample_df = resample_df[feature_columns]"
      ],
      "execution_count": 5,
      "outputs": []
    },
    {
      "cell_type": "code",
      "metadata": {
        "id": "tY1pfEIGDvvc",
        "colab": {
          "base_uri": "https://localhost:8080/",
          "height": 542
        },
        "outputId": "3602f52c-272e-4afc-bf96-fbded7065d49"
      },
      "source": [
        "import plotly.express as px\n",
        "\n",
        "plot_length = 150\n",
        "plot_df = resample_df.copy(deep=True).iloc[:plot_length]\n",
        "plot_df['weekday'] = plot_df['date'].dt.day_name()\n",
        "\n",
        "fig = px.line(plot_df,\n",
        "              x=\"date\",\n",
        "              y=\"log_energy_consumption\",\n",
        "              color=\"weekday\",\n",
        "              title=\"Log of Appliance Energy Consumption vs Time\")\n",
        "fig.show()"
      ],
      "execution_count": 6,
      "outputs": [
        {
          "output_type": "display_data",
          "data": {
            "text/html": [
              "<html>\n",
              "<head><meta charset=\"utf-8\" /></head>\n",
              "<body>\n",
              "    <div>            <script src=\"https://cdnjs.cloudflare.com/ajax/libs/mathjax/2.7.5/MathJax.js?config=TeX-AMS-MML_SVG\"></script><script type=\"text/javascript\">if (window.MathJax && window.MathJax.Hub && window.MathJax.Hub.Config) {window.MathJax.Hub.Config({SVG: {font: \"STIX-Web\"}});}</script>                <script type=\"text/javascript\">window.PlotlyConfig = {MathJaxConfig: 'local'};</script>\n",
              "        <script charset=\"utf-8\" src=\"https://cdn.plot.ly/plotly-2.24.1.min.js\"></script>                <div id=\"4037e40a-1d44-435d-b606-96638fb2f3e5\" class=\"plotly-graph-div\" style=\"height:525px; width:100%;\"></div>            <script type=\"text/javascript\">                                    window.PLOTLYENV=window.PLOTLYENV || {};                                    if (document.getElementById(\"4037e40a-1d44-435d-b606-96638fb2f3e5\")) {                    Plotly.newPlot(                        \"4037e40a-1d44-435d-b606-96638fb2f3e5\",                        [{\"hovertemplate\":\"weekday=Monday\\u003cbr\\u003edate=%{x}\\u003cbr\\u003elog_energy_consumption=%{y}\\u003cextra\\u003e\\u003c\\u002fextra\\u003e\",\"legendgroup\":\"Monday\",\"line\":{\"color\":\"#636efa\",\"dash\":\"solid\"},\"marker\":{\"symbol\":\"circle\"},\"mode\":\"lines\",\"name\":\"Monday\",\"orientation\":\"v\",\"showlegend\":true,\"x\":[\"2016-01-11T17:00:00\",\"2016-01-11T18:00:00\",\"2016-01-11T19:00:00\",\"2016-01-11T20:00:00\",\"2016-01-11T21:00:00\",\"2016-01-11T22:00:00\",\"2016-01-11T23:00:00\"],\"xaxis\":\"x\",\"y\":[4.007333185232471,5.174264717878057,5.155216522907363,4.8283137373023015,4.637960008811082,5.585999438999818,4.037186148382152],\"yaxis\":\"y\",\"type\":\"scatter\"},{\"hovertemplate\":\"weekday=Tuesday\\u003cbr\\u003edate=%{x}\\u003cbr\\u003elog_energy_consumption=%{y}\\u003cextra\\u003e\\u003c\\u002fextra\\u003e\",\"legendgroup\":\"Tuesday\",\"line\":{\"color\":\"#EF553B\",\"dash\":\"solid\"},\"marker\":{\"symbol\":\"circle\"},\"mode\":\"lines\",\"name\":\"Tuesday\",\"orientation\":\"v\",\"showlegend\":true,\"x\":[\"2016-01-12T00:00:00\",\"2016-01-12T01:00:00\",\"2016-01-12T02:00:00\",\"2016-01-12T03:00:00\",\"2016-01-12T04:00:00\",\"2016-01-12T05:00:00\",\"2016-01-12T06:00:00\",\"2016-01-12T07:00:00\",\"2016-01-12T08:00:00\",\"2016-01-12T09:00:00\",\"2016-01-12T10:00:00\",\"2016-01-12T11:00:00\",\"2016-01-12T12:00:00\",\"2016-01-12T13:00:00\",\"2016-01-12T14:00:00\",\"2016-01-12T15:00:00\",\"2016-01-12T16:00:00\",\"2016-01-12T17:00:00\",\"2016-01-12T18:00:00\",\"2016-01-12T19:00:00\",\"2016-01-12T20:00:00\",\"2016-01-12T21:00:00\",\"2016-01-12T22:00:00\",\"2016-01-12T23:00:00\"],\"xaxis\":\"x\",\"y\":[4.953476880256307,5.12594614060725,3.8066624897703196,3.5553480614894135,3.8066624897703196,3.7689221617874726,3.6888794541139363,4.037186148382152,4.4620693423474185,3.7689221617874726,5.438079308923196,4.007333185232471,5.2293244950610855,5.02168513028284,4.917544871030244,3.6018680771243066,3.6888794541139363,5.386022946967143,4.0661736852554045,4.007333185232471,3.9448128282511368,3.7297014486341915,3.8430301339411947,3.7689221617874726],\"yaxis\":\"y\",\"type\":\"scatter\"},{\"hovertemplate\":\"weekday=Wednesday\\u003cbr\\u003edate=%{x}\\u003cbr\\u003elog_energy_consumption=%{y}\\u003cextra\\u003e\\u003c\\u002fextra\\u003e\",\"legendgroup\":\"Wednesday\",\"line\":{\"color\":\"#00cc96\",\"dash\":\"solid\"},\"marker\":{\"symbol\":\"circle\"},\"mode\":\"lines\",\"name\":\"Wednesday\",\"orientation\":\"v\",\"showlegend\":true,\"x\":[\"2016-01-13T00:00:00\",\"2016-01-13T01:00:00\",\"2016-01-13T02:00:00\",\"2016-01-13T03:00:00\",\"2016-01-13T04:00:00\",\"2016-01-13T05:00:00\",\"2016-01-13T06:00:00\",\"2016-01-13T07:00:00\",\"2016-01-13T08:00:00\",\"2016-01-13T09:00:00\",\"2016-01-13T10:00:00\",\"2016-01-13T11:00:00\",\"2016-01-13T12:00:00\",\"2016-01-13T13:00:00\",\"2016-01-13T14:00:00\",\"2016-01-13T15:00:00\",\"2016-01-13T16:00:00\",\"2016-01-13T17:00:00\",\"2016-01-13T18:00:00\",\"2016-01-13T19:00:00\",\"2016-01-13T20:00:00\",\"2016-01-13T21:00:00\",\"2016-01-13T22:00:00\",\"2016-01-13T23:00:00\"],\"xaxis\":\"x\",\"y\":[3.455264602932431,3.8781214537524646,3.8066624897703196,3.455264602932431,3.8066624897703196,3.7297014486341915,4.199705077879927,4.148411783492376,5.339139361068292,5.393627546352362,4.199705077879927,4.0943445622221,3.7297014486341915,3.5553480614894135,3.8066624897703196,3.7297014486341915,4.382026634673881,4.5712686343124105,4.715518243156957,5.362855887685608,5.51477192971145,5.74726758659594,4.880273476233012,3.7297014486341915],\"yaxis\":\"y\",\"type\":\"scatter\"},{\"hovertemplate\":\"weekday=Thursday\\u003cbr\\u003edate=%{x}\\u003cbr\\u003elog_energy_consumption=%{y}\\u003cextra\\u003e\\u003c\\u002fextra\\u003e\",\"legendgroup\":\"Thursday\",\"line\":{\"color\":\"#ab63fa\",\"dash\":\"solid\"},\"marker\":{\"symbol\":\"circle\"},\"mode\":\"lines\",\"name\":\"Thursday\",\"orientation\":\"v\",\"showlegend\":true,\"x\":[\"2016-01-14T00:00:00\",\"2016-01-14T01:00:00\",\"2016-01-14T02:00:00\",\"2016-01-14T03:00:00\",\"2016-01-14T04:00:00\",\"2016-01-14T05:00:00\",\"2016-01-14T06:00:00\",\"2016-01-14T07:00:00\",\"2016-01-14T08:00:00\",\"2016-01-14T09:00:00\",\"2016-01-14T10:00:00\",\"2016-01-14T11:00:00\",\"2016-01-14T12:00:00\",\"2016-01-14T13:00:00\",\"2016-01-14T14:00:00\",\"2016-01-14T15:00:00\",\"2016-01-14T16:00:00\",\"2016-01-14T17:00:00\",\"2016-01-14T18:00:00\",\"2016-01-14T19:00:00\",\"2016-01-14T20:00:00\",\"2016-01-14T21:00:00\",\"2016-01-14T22:00:00\",\"2016-01-14T23:00:00\"],\"xaxis\":\"x\",\"y\":[3.8430301339411947,3.6018680771243066,3.7689221617874726,3.8066624897703196,3.5553480614894135,3.8066624897703196,3.6888794541139363,5.423480509502043,5.075173815233827,5.12594614060725,6.288477946988647,5.473670254025898,5.646624060816253,4.248495242049359,4.867534450455582,3.9448128282511368,5.731181448844316,6.003887067106539,5.378360074221573,5.445299556896682,4.700480365792417,4.75932086581535,3.8781214537524646,3.6463198396951406],\"yaxis\":\"y\",\"type\":\"scatter\"},{\"hovertemplate\":\"weekday=Friday\\u003cbr\\u003edate=%{x}\\u003cbr\\u003elog_energy_consumption=%{y}\\u003cextra\\u003e\\u003c\\u002fextra\\u003e\",\"legendgroup\":\"Friday\",\"line\":{\"color\":\"#FFA15A\",\"dash\":\"solid\"},\"marker\":{\"symbol\":\"circle\"},\"mode\":\"lines\",\"name\":\"Friday\",\"orientation\":\"v\",\"showlegend\":true,\"x\":[\"2016-01-15T00:00:00\",\"2016-01-15T01:00:00\",\"2016-01-15T02:00:00\",\"2016-01-15T03:00:00\",\"2016-01-15T04:00:00\",\"2016-01-15T05:00:00\",\"2016-01-15T06:00:00\",\"2016-01-15T07:00:00\",\"2016-01-15T08:00:00\",\"2016-01-15T09:00:00\",\"2016-01-15T10:00:00\",\"2016-01-15T11:00:00\",\"2016-01-15T12:00:00\",\"2016-01-15T13:00:00\",\"2016-01-15T14:00:00\",\"2016-01-15T15:00:00\",\"2016-01-15T16:00:00\",\"2016-01-15T17:00:00\",\"2016-01-15T18:00:00\",\"2016-01-15T19:00:00\",\"2016-01-15T20:00:00\",\"2016-01-15T21:00:00\",\"2016-01-15T22:00:00\",\"2016-01-15T23:00:00\"],\"xaxis\":\"x\",\"y\":[3.9765615265657175,3.9448128282511368,3.8430301339411947,3.7689221617874726,3.912023005428146,3.912023005428146,3.8066624897703196,3.9448128282511368,5.459585514144159,5.331107189371028,4.8283137373023015,4.8283137373023015,5.3471075307174685,5.281510248231656,4.148411783492376,4.037186148382152,4.037186148382152,4.58836306767171,5.628819436182746,5.393627546352362,5.452468046375295,5.438079308923196,5.386022946967143,4.148411783492376],\"yaxis\":\"y\",\"type\":\"scatter\"},{\"hovertemplate\":\"weekday=Saturday\\u003cbr\\u003edate=%{x}\\u003cbr\\u003elog_energy_consumption=%{y}\\u003cextra\\u003e\\u003c\\u002fextra\\u003e\",\"legendgroup\":\"Saturday\",\"line\":{\"color\":\"#19d3f3\",\"dash\":\"solid\"},\"marker\":{\"symbol\":\"circle\"},\"mode\":\"lines\",\"name\":\"Saturday\",\"orientation\":\"v\",\"showlegend\":true,\"x\":[\"2016-01-16T00:00:00\",\"2016-01-16T01:00:00\",\"2016-01-16T02:00:00\",\"2016-01-16T03:00:00\",\"2016-01-16T04:00:00\",\"2016-01-16T05:00:00\",\"2016-01-16T06:00:00\",\"2016-01-16T07:00:00\",\"2016-01-16T08:00:00\",\"2016-01-16T09:00:00\",\"2016-01-16T10:00:00\",\"2016-01-16T11:00:00\",\"2016-01-16T12:00:00\",\"2016-01-16T13:00:00\",\"2016-01-16T14:00:00\",\"2016-01-16T15:00:00\",\"2016-01-16T16:00:00\",\"2016-01-16T17:00:00\",\"2016-01-16T18:00:00\",\"2016-01-16T19:00:00\",\"2016-01-16T20:00:00\",\"2016-01-16T21:00:00\",\"2016-01-16T22:00:00\",\"2016-01-16T23:00:00\"],\"xaxis\":\"x\",\"y\":[3.6888794541139363,3.9765615265657175,3.8430301339411947,3.7297014486341915,3.912023005428146,3.6888794541139363,3.9448128282511368,5.508037897530106,4.941642422609304,4.121743536410215,4.272025739459553,3.9765615265657175,4.31748811353631,4.4620693423474185,4.272025739459553,5.339139361068292,4.31748811353631,5.579729825986222,6.159799861927197,5.970411137910149,4.773505500807306,4.787491742782046,5.135798437050262,4.007333185232471],\"yaxis\":\"y\",\"type\":\"scatter\"},{\"hovertemplate\":\"weekday=Sunday\\u003cbr\\u003edate=%{x}\\u003cbr\\u003elog_energy_consumption=%{y}\\u003cextra\\u003e\\u003c\\u002fextra\\u003e\",\"legendgroup\":\"Sunday\",\"line\":{\"color\":\"#FF6692\",\"dash\":\"solid\"},\"marker\":{\"symbol\":\"circle\"},\"mode\":\"lines\",\"name\":\"Sunday\",\"orientation\":\"v\",\"showlegend\":true,\"x\":[\"2016-01-17T00:00:00\",\"2016-01-17T01:00:00\",\"2016-01-17T02:00:00\",\"2016-01-17T03:00:00\",\"2016-01-17T04:00:00\",\"2016-01-17T05:00:00\",\"2016-01-17T06:00:00\",\"2016-01-17T07:00:00\",\"2016-01-17T08:00:00\",\"2016-01-17T09:00:00\",\"2016-01-17T10:00:00\",\"2016-01-17T11:00:00\",\"2016-01-17T12:00:00\",\"2016-01-17T13:00:00\",\"2016-01-17T14:00:00\",\"2016-01-17T15:00:00\",\"2016-01-17T16:00:00\",\"2016-01-17T17:00:00\",\"2016-01-17T18:00:00\",\"2016-01-17T19:00:00\",\"2016-01-17T20:00:00\",\"2016-01-17T21:00:00\",\"2016-01-17T22:00:00\"],\"xaxis\":\"x\",\"y\":[3.8430301339411947,3.9448128282511368,3.7689221617874726,3.912023005428146,3.9448128282511368,3.7689221617874726,3.8066624897703196,5.853159875730801,5.604575824572753,5.675611597689505,4.499809670330265,5.76309905181262,4.773505500807306,5.135798437050262,4.929666231562589,4.402645921876617,4.402645921876617,6.12029741895095,5.592229988750454,4.621699487939302,4.700480365792417,4.867534450455582,4.007333185232471],\"yaxis\":\"y\",\"type\":\"scatter\"}],                        {\"template\":{\"data\":{\"histogram2dcontour\":[{\"type\":\"histogram2dcontour\",\"colorbar\":{\"outlinewidth\":0,\"ticks\":\"\"},\"colorscale\":[[0.0,\"#0d0887\"],[0.1111111111111111,\"#46039f\"],[0.2222222222222222,\"#7201a8\"],[0.3333333333333333,\"#9c179e\"],[0.4444444444444444,\"#bd3786\"],[0.5555555555555556,\"#d8576b\"],[0.6666666666666666,\"#ed7953\"],[0.7777777777777778,\"#fb9f3a\"],[0.8888888888888888,\"#fdca26\"],[1.0,\"#f0f921\"]]}],\"choropleth\":[{\"type\":\"choropleth\",\"colorbar\":{\"outlinewidth\":0,\"ticks\":\"\"}}],\"histogram2d\":[{\"type\":\"histogram2d\",\"colorbar\":{\"outlinewidth\":0,\"ticks\":\"\"},\"colorscale\":[[0.0,\"#0d0887\"],[0.1111111111111111,\"#46039f\"],[0.2222222222222222,\"#7201a8\"],[0.3333333333333333,\"#9c179e\"],[0.4444444444444444,\"#bd3786\"],[0.5555555555555556,\"#d8576b\"],[0.6666666666666666,\"#ed7953\"],[0.7777777777777778,\"#fb9f3a\"],[0.8888888888888888,\"#fdca26\"],[1.0,\"#f0f921\"]]}],\"heatmap\":[{\"type\":\"heatmap\",\"colorbar\":{\"outlinewidth\":0,\"ticks\":\"\"},\"colorscale\":[[0.0,\"#0d0887\"],[0.1111111111111111,\"#46039f\"],[0.2222222222222222,\"#7201a8\"],[0.3333333333333333,\"#9c179e\"],[0.4444444444444444,\"#bd3786\"],[0.5555555555555556,\"#d8576b\"],[0.6666666666666666,\"#ed7953\"],[0.7777777777777778,\"#fb9f3a\"],[0.8888888888888888,\"#fdca26\"],[1.0,\"#f0f921\"]]}],\"heatmapgl\":[{\"type\":\"heatmapgl\",\"colorbar\":{\"outlinewidth\":0,\"ticks\":\"\"},\"colorscale\":[[0.0,\"#0d0887\"],[0.1111111111111111,\"#46039f\"],[0.2222222222222222,\"#7201a8\"],[0.3333333333333333,\"#9c179e\"],[0.4444444444444444,\"#bd3786\"],[0.5555555555555556,\"#d8576b\"],[0.6666666666666666,\"#ed7953\"],[0.7777777777777778,\"#fb9f3a\"],[0.8888888888888888,\"#fdca26\"],[1.0,\"#f0f921\"]]}],\"contourcarpet\":[{\"type\":\"contourcarpet\",\"colorbar\":{\"outlinewidth\":0,\"ticks\":\"\"}}],\"contour\":[{\"type\":\"contour\",\"colorbar\":{\"outlinewidth\":0,\"ticks\":\"\"},\"colorscale\":[[0.0,\"#0d0887\"],[0.1111111111111111,\"#46039f\"],[0.2222222222222222,\"#7201a8\"],[0.3333333333333333,\"#9c179e\"],[0.4444444444444444,\"#bd3786\"],[0.5555555555555556,\"#d8576b\"],[0.6666666666666666,\"#ed7953\"],[0.7777777777777778,\"#fb9f3a\"],[0.8888888888888888,\"#fdca26\"],[1.0,\"#f0f921\"]]}],\"surface\":[{\"type\":\"surface\",\"colorbar\":{\"outlinewidth\":0,\"ticks\":\"\"},\"colorscale\":[[0.0,\"#0d0887\"],[0.1111111111111111,\"#46039f\"],[0.2222222222222222,\"#7201a8\"],[0.3333333333333333,\"#9c179e\"],[0.4444444444444444,\"#bd3786\"],[0.5555555555555556,\"#d8576b\"],[0.6666666666666666,\"#ed7953\"],[0.7777777777777778,\"#fb9f3a\"],[0.8888888888888888,\"#fdca26\"],[1.0,\"#f0f921\"]]}],\"mesh3d\":[{\"type\":\"mesh3d\",\"colorbar\":{\"outlinewidth\":0,\"ticks\":\"\"}}],\"scatter\":[{\"fillpattern\":{\"fillmode\":\"overlay\",\"size\":10,\"solidity\":0.2},\"type\":\"scatter\"}],\"parcoords\":[{\"type\":\"parcoords\",\"line\":{\"colorbar\":{\"outlinewidth\":0,\"ticks\":\"\"}}}],\"scatterpolargl\":[{\"type\":\"scatterpolargl\",\"marker\":{\"colorbar\":{\"outlinewidth\":0,\"ticks\":\"\"}}}],\"bar\":[{\"error_x\":{\"color\":\"#2a3f5f\"},\"error_y\":{\"color\":\"#2a3f5f\"},\"marker\":{\"line\":{\"color\":\"#E5ECF6\",\"width\":0.5},\"pattern\":{\"fillmode\":\"overlay\",\"size\":10,\"solidity\":0.2}},\"type\":\"bar\"}],\"scattergeo\":[{\"type\":\"scattergeo\",\"marker\":{\"colorbar\":{\"outlinewidth\":0,\"ticks\":\"\"}}}],\"scatterpolar\":[{\"type\":\"scatterpolar\",\"marker\":{\"colorbar\":{\"outlinewidth\":0,\"ticks\":\"\"}}}],\"histogram\":[{\"marker\":{\"pattern\":{\"fillmode\":\"overlay\",\"size\":10,\"solidity\":0.2}},\"type\":\"histogram\"}],\"scattergl\":[{\"type\":\"scattergl\",\"marker\":{\"colorbar\":{\"outlinewidth\":0,\"ticks\":\"\"}}}],\"scatter3d\":[{\"type\":\"scatter3d\",\"line\":{\"colorbar\":{\"outlinewidth\":0,\"ticks\":\"\"}},\"marker\":{\"colorbar\":{\"outlinewidth\":0,\"ticks\":\"\"}}}],\"scattermapbox\":[{\"type\":\"scattermapbox\",\"marker\":{\"colorbar\":{\"outlinewidth\":0,\"ticks\":\"\"}}}],\"scatterternary\":[{\"type\":\"scatterternary\",\"marker\":{\"colorbar\":{\"outlinewidth\":0,\"ticks\":\"\"}}}],\"scattercarpet\":[{\"type\":\"scattercarpet\",\"marker\":{\"colorbar\":{\"outlinewidth\":0,\"ticks\":\"\"}}}],\"carpet\":[{\"aaxis\":{\"endlinecolor\":\"#2a3f5f\",\"gridcolor\":\"white\",\"linecolor\":\"white\",\"minorgridcolor\":\"white\",\"startlinecolor\":\"#2a3f5f\"},\"baxis\":{\"endlinecolor\":\"#2a3f5f\",\"gridcolor\":\"white\",\"linecolor\":\"white\",\"minorgridcolor\":\"white\",\"startlinecolor\":\"#2a3f5f\"},\"type\":\"carpet\"}],\"table\":[{\"cells\":{\"fill\":{\"color\":\"#EBF0F8\"},\"line\":{\"color\":\"white\"}},\"header\":{\"fill\":{\"color\":\"#C8D4E3\"},\"line\":{\"color\":\"white\"}},\"type\":\"table\"}],\"barpolar\":[{\"marker\":{\"line\":{\"color\":\"#E5ECF6\",\"width\":0.5},\"pattern\":{\"fillmode\":\"overlay\",\"size\":10,\"solidity\":0.2}},\"type\":\"barpolar\"}],\"pie\":[{\"automargin\":true,\"type\":\"pie\"}]},\"layout\":{\"autotypenumbers\":\"strict\",\"colorway\":[\"#636efa\",\"#EF553B\",\"#00cc96\",\"#ab63fa\",\"#FFA15A\",\"#19d3f3\",\"#FF6692\",\"#B6E880\",\"#FF97FF\",\"#FECB52\"],\"font\":{\"color\":\"#2a3f5f\"},\"hovermode\":\"closest\",\"hoverlabel\":{\"align\":\"left\"},\"paper_bgcolor\":\"white\",\"plot_bgcolor\":\"#E5ECF6\",\"polar\":{\"bgcolor\":\"#E5ECF6\",\"angularaxis\":{\"gridcolor\":\"white\",\"linecolor\":\"white\",\"ticks\":\"\"},\"radialaxis\":{\"gridcolor\":\"white\",\"linecolor\":\"white\",\"ticks\":\"\"}},\"ternary\":{\"bgcolor\":\"#E5ECF6\",\"aaxis\":{\"gridcolor\":\"white\",\"linecolor\":\"white\",\"ticks\":\"\"},\"baxis\":{\"gridcolor\":\"white\",\"linecolor\":\"white\",\"ticks\":\"\"},\"caxis\":{\"gridcolor\":\"white\",\"linecolor\":\"white\",\"ticks\":\"\"}},\"coloraxis\":{\"colorbar\":{\"outlinewidth\":0,\"ticks\":\"\"}},\"colorscale\":{\"sequential\":[[0.0,\"#0d0887\"],[0.1111111111111111,\"#46039f\"],[0.2222222222222222,\"#7201a8\"],[0.3333333333333333,\"#9c179e\"],[0.4444444444444444,\"#bd3786\"],[0.5555555555555556,\"#d8576b\"],[0.6666666666666666,\"#ed7953\"],[0.7777777777777778,\"#fb9f3a\"],[0.8888888888888888,\"#fdca26\"],[1.0,\"#f0f921\"]],\"sequentialminus\":[[0.0,\"#0d0887\"],[0.1111111111111111,\"#46039f\"],[0.2222222222222222,\"#7201a8\"],[0.3333333333333333,\"#9c179e\"],[0.4444444444444444,\"#bd3786\"],[0.5555555555555556,\"#d8576b\"],[0.6666666666666666,\"#ed7953\"],[0.7777777777777778,\"#fb9f3a\"],[0.8888888888888888,\"#fdca26\"],[1.0,\"#f0f921\"]],\"diverging\":[[0,\"#8e0152\"],[0.1,\"#c51b7d\"],[0.2,\"#de77ae\"],[0.3,\"#f1b6da\"],[0.4,\"#fde0ef\"],[0.5,\"#f7f7f7\"],[0.6,\"#e6f5d0\"],[0.7,\"#b8e186\"],[0.8,\"#7fbc41\"],[0.9,\"#4d9221\"],[1,\"#276419\"]]},\"xaxis\":{\"gridcolor\":\"white\",\"linecolor\":\"white\",\"ticks\":\"\",\"title\":{\"standoff\":15},\"zerolinecolor\":\"white\",\"automargin\":true,\"zerolinewidth\":2},\"yaxis\":{\"gridcolor\":\"white\",\"linecolor\":\"white\",\"ticks\":\"\",\"title\":{\"standoff\":15},\"zerolinecolor\":\"white\",\"automargin\":true,\"zerolinewidth\":2},\"scene\":{\"xaxis\":{\"backgroundcolor\":\"#E5ECF6\",\"gridcolor\":\"white\",\"linecolor\":\"white\",\"showbackground\":true,\"ticks\":\"\",\"zerolinecolor\":\"white\",\"gridwidth\":2},\"yaxis\":{\"backgroundcolor\":\"#E5ECF6\",\"gridcolor\":\"white\",\"linecolor\":\"white\",\"showbackground\":true,\"ticks\":\"\",\"zerolinecolor\":\"white\",\"gridwidth\":2},\"zaxis\":{\"backgroundcolor\":\"#E5ECF6\",\"gridcolor\":\"white\",\"linecolor\":\"white\",\"showbackground\":true,\"ticks\":\"\",\"zerolinecolor\":\"white\",\"gridwidth\":2}},\"shapedefaults\":{\"line\":{\"color\":\"#2a3f5f\"}},\"annotationdefaults\":{\"arrowcolor\":\"#2a3f5f\",\"arrowhead\":0,\"arrowwidth\":1},\"geo\":{\"bgcolor\":\"white\",\"landcolor\":\"#E5ECF6\",\"subunitcolor\":\"white\",\"showland\":true,\"showlakes\":true,\"lakecolor\":\"white\"},\"title\":{\"x\":0.05},\"mapbox\":{\"style\":\"light\"}}},\"xaxis\":{\"anchor\":\"y\",\"domain\":[0.0,1.0],\"title\":{\"text\":\"date\"}},\"yaxis\":{\"anchor\":\"x\",\"domain\":[0.0,1.0],\"title\":{\"text\":\"log_energy_consumption\"}},\"legend\":{\"title\":{\"text\":\"weekday\"},\"tracegroupgap\":0},\"title\":{\"text\":\"Log of Appliance Energy Consumption vs Time\"}},                        {\"responsive\": true}                    ).then(function(){\n",
              "                            \n",
              "var gd = document.getElementById('4037e40a-1d44-435d-b606-96638fb2f3e5');\n",
              "var x = new MutationObserver(function (mutations, observer) {{\n",
              "        var display = window.getComputedStyle(gd).display;\n",
              "        if (!display || display === 'none') {{\n",
              "            console.log([gd, 'removed!']);\n",
              "            Plotly.purge(gd);\n",
              "            observer.disconnect();\n",
              "        }}\n",
              "}});\n",
              "\n",
              "// Listen for the removal of the full notebook cells\n",
              "var notebookContainer = gd.closest('#notebook-container');\n",
              "if (notebookContainer) {{\n",
              "    x.observe(notebookContainer, {childList: true});\n",
              "}}\n",
              "\n",
              "// Listen for the clearing of the current output cell\n",
              "var outputEl = gd.closest('.output');\n",
              "if (outputEl) {{\n",
              "    x.observe(outputEl, {childList: true});\n",
              "}}\n",
              "\n",
              "                        })                };                            </script>        </div>\n",
              "</body>\n",
              "</html>"
            ]
          },
          "metadata": {}
        }
      ]
    },
    {
      "cell_type": "markdown",
      "metadata": {
        "id": "aFnQ3txg_2lj"
      },
      "source": [
        "# Prepare Training Data"
      ]
    },
    {
      "cell_type": "markdown",
      "metadata": {
        "id": "9gUa6m83NgDn"
      },
      "source": [
        "For this example, we will use sliding windows of 10 points per each window (equivalent to 10 hours) to predict each next point. The window size can be altered via the `sequence_length` variable.\n",
        "\n",
        "Min-Max scaling has also been fitted to the training data to aid the convergence of the neural network."
      ]
    },
    {
      "cell_type": "code",
      "metadata": {
        "id": "aKQHyh5rRVVj"
      },
      "source": [
        "from sklearn.preprocessing import MinMaxScaler\n",
        "\n",
        "def create_sliding_window(data, sequence_length, stride=1):\n",
        "    X_list, y_list = [], []\n",
        "    for i in range(len(data)):\n",
        "      if (i + sequence_length) < len(data):\n",
        "        X_list.append(data.iloc[i:i+sequence_length:stride, :].values)\n",
        "        y_list.append(data.iloc[i+sequence_length, -1])\n",
        "    return np.array(X_list), np.array(y_list)\n",
        "\n",
        "train_split = 0.7\n",
        "n_train = int(train_split * len(resample_df))\n",
        "n_test = len(resample_df) - n_train\n",
        "\n",
        "features = ['day_of_week', 'hour_of_day', 'log_energy_consumption']\n",
        "feature_array = resample_df[features].values\n",
        "\n",
        "# Fit Scaler only on Training features\n",
        "feature_scaler = MinMaxScaler()\n",
        "feature_scaler.fit(feature_array[:n_train])\n",
        "# Fit Scaler only on Training target values\n",
        "target_scaler = MinMaxScaler()\n",
        "target_scaler.fit(feature_array[:n_train, -1].reshape(-1, 1))\n",
        "\n",
        "# Transfom on both Training and Test data\n",
        "scaled_array = pd.DataFrame(feature_scaler.transform(feature_array),\n",
        "                            columns=features)\n",
        "\n",
        "sequence_length = 10\n",
        "X, y = create_sliding_window(scaled_array,\n",
        "                             sequence_length)\n",
        "\n",
        "X_train = X[:n_train]\n",
        "y_train = y[:n_train]\n",
        "\n",
        "X_test = X[n_train:]\n",
        "y_test = y[n_train:]"
      ],
      "execution_count": 7,
      "outputs": []
    },
    {
      "cell_type": "markdown",
      "metadata": {
        "id": "Ue1JcZm_bgsd"
      },
      "source": [
        "# Define Bayesian LSTM Architecture"
      ]
    },
    {
      "cell_type": "markdown",
      "metadata": {
        "id": "VNag-wa-04WZ"
      },
      "source": [
        "To demonstrate a simple working example of the Bayesian LSTM, a model with a similar architecture and size to that in Uber's paper has been used a starting point. The network architecture is as follows:\n",
        "\n",
        "Encoder-Decoder Stage:\n",
        " - A uni-directional LSTM with 2 stacked layers & 128 hidden units acting as an encoding layer to construct a fixed-dimension embedding state\n",
        " - A uni-directional LSTM with 2 stacked layers & 32 hidden units acting as a decoding layer to produce predictions at future steps\n",
        " - Dropout is applied at **both** training and inference for both LSTM layers\n",
        "\n",
        "\n",
        " Predictor Stage:\n",
        " - 1 fully-connected output layer with 1 output (for predicting the target value) to produce a single value for the target variable\n",
        "\n",
        "\n",
        "By allowing dropout at both training and testing time, the model simulates random sampling, thus allowing varying predictions that can be used to estimate the underlying distribution of the target value, enabling explicit model uncertainties.\n"
      ]
    },
    {
      "cell_type": "code",
      "metadata": {
        "id": "OgWyOffPbO0b"
      },
      "source": [
        "import torch\n",
        "import torch.nn as nn\n",
        "import torch.nn.functional as F\n",
        "from torch.autograd import Variable\n",
        "\n",
        "class BayesianLSTM(nn.Module):\n",
        "\n",
        "    def __init__(self, n_features, output_length, batch_size):\n",
        "\n",
        "        super(BayesianLSTM, self).__init__()\n",
        "\n",
        "        self.batch_size = batch_size # user-defined\n",
        "\n",
        "        self.hidden_size_1 = 128 # number of encoder cells (from paper)\n",
        "        self.hidden_size_2 = 32 # number of decoder cells (from paper)\n",
        "        self.stacked_layers = 2 # number of (stacked) LSTM layers for each stage\n",
        "        self.dropout_probability = 0.5 # arbitrary value (the paper suggests that performance is generally stable across all ranges)\n",
        "\n",
        "        self.lstm1 = nn.LSTM(n_features,\n",
        "                             self.hidden_size_1,\n",
        "                             num_layers=self.stacked_layers,\n",
        "                             batch_first=True)\n",
        "        self.lstm2 = nn.LSTM(self.hidden_size_1,\n",
        "                             self.hidden_size_2,\n",
        "                             num_layers=self.stacked_layers,\n",
        "                             batch_first=True)\n",
        "\n",
        "        self.fc = nn.Linear(self.hidden_size_2, output_length)\n",
        "        self.loss_fn = nn.MSELoss()\n",
        "\n",
        "    def forward(self, x):\n",
        "        batch_size, seq_len, _ = x.size()\n",
        "\n",
        "        hidden = self.init_hidden1(batch_size)\n",
        "        output, _ = self.lstm1(x, hidden)\n",
        "        output = F.dropout(output, p=self.dropout_probability, training=True)\n",
        "        state = self.init_hidden2(batch_size)\n",
        "        output, state = self.lstm2(output, state)\n",
        "        output = F.dropout(output, p=self.dropout_probability, training=True)\n",
        "        output = output[:, -1, :] # take the last decoder cell's outputs\n",
        "        y_pred = self.fc(output)\n",
        "        return y_pred\n",
        "\n",
        "    def init_hidden1(self, batch_size):\n",
        "        hidden_state = Variable(torch.zeros(self.stacked_layers, batch_size, self.hidden_size_1))\n",
        "        cell_state = Variable(torch.zeros(self.stacked_layers, batch_size, self.hidden_size_1))\n",
        "        return hidden_state, cell_state\n",
        "\n",
        "    def init_hidden2(self, batch_size):\n",
        "        hidden_state = Variable(torch.zeros(self.stacked_layers, batch_size, self.hidden_size_2))\n",
        "        cell_state = Variable(torch.zeros(self.stacked_layers, batch_size, self.hidden_size_2))\n",
        "        return hidden_state, cell_state\n",
        "\n",
        "    def loss(self, pred, truth):\n",
        "        return self.loss_fn(pred, truth)\n",
        "\n",
        "    def predict(self, X):\n",
        "        return self(torch.tensor(X, dtype=torch.float32)).view(-1).detach().numpy()"
      ],
      "execution_count": 8,
      "outputs": []
    },
    {
      "cell_type": "markdown",
      "metadata": {
        "id": "DQ8JLm-ShlaU"
      },
      "source": [
        "### Begin Training"
      ]
    },
    {
      "cell_type": "markdown",
      "metadata": {
        "id": "015pu48r3X1F"
      },
      "source": [
        "To train the Bayesian LSTM, we use the ADAM optimizer along with mini-batch gradient descent (`batch_size = 128`). For quick demonstration purposes, the model is trained for 150 epochs.\n",
        "\n",
        "The Bayesian LSTM is trained on the first 70% of data points, using the aforementioned sliding windows of size 10. The remaining 30% of the dataset is held out purely for testing."
      ]
    },
    {
      "cell_type": "code",
      "metadata": {
        "id": "47X-uO6UhbCy"
      },
      "source": [
        "n_features = scaled_array.shape[-1]\n",
        "sequence_length = 10\n",
        "output_length = 1\n",
        "\n",
        "batch_size = 128\n",
        "n_epochs = 150\n",
        "learning_rate = 0.01\n",
        "\n",
        "bayesian_lstm = BayesianLSTM(n_features=n_features,\n",
        "                             output_length=output_length,\n",
        "                             batch_size = batch_size)\n",
        "\n",
        "criterion = torch.nn.MSELoss()\n",
        "optimizer = torch.optim.Adam(bayesian_lstm.parameters(), lr=learning_rate)"
      ],
      "execution_count": 9,
      "outputs": []
    },
    {
      "cell_type": "code",
      "metadata": {
        "id": "7iZ__nxaCzZE",
        "colab": {
          "base_uri": "https://localhost:8080/"
        },
        "outputId": "696ef448-f0ab-44c0-e9bf-5f79e86fc1cf"
      },
      "source": [
        "bayesian_lstm.train()\n",
        "\n",
        "for e in range(1, n_epochs+1):\n",
        "    for b in range(0, len(X_train), batch_size):\n",
        "        features = X_train[b:b+batch_size,:,:]\n",
        "        target = y_train[b:b+batch_size]\n",
        "\n",
        "        X_batch = torch.tensor(features,dtype=torch.float32)\n",
        "        y_batch = torch.tensor(target,dtype=torch.float32)\n",
        "\n",
        "        output = bayesian_lstm(X_batch)\n",
        "        loss = criterion(output.view(-1), y_batch)\n",
        "\n",
        "        loss.backward()\n",
        "        optimizer.step()\n",
        "        optimizer.zero_grad()\n",
        "\n",
        "    if e % 10 == 0:\n",
        "      print('epoch', e, 'loss: ', loss.item())"
      ],
      "execution_count": 10,
      "outputs": [
        {
          "output_type": "stream",
          "name": "stdout",
          "text": [
            "epoch 10 loss:  0.031183160841464996\n",
            "epoch 20 loss:  0.030811162665486336\n",
            "epoch 30 loss:  0.028773287311196327\n",
            "epoch 40 loss:  0.0182355809956789\n",
            "epoch 50 loss:  0.0158598180860281\n",
            "epoch 60 loss:  0.015434651635587215\n",
            "epoch 70 loss:  0.015621649101376534\n",
            "epoch 80 loss:  0.014270661398768425\n",
            "epoch 90 loss:  0.01473749615252018\n",
            "epoch 100 loss:  0.011778386309742928\n",
            "epoch 110 loss:  0.014597381465137005\n",
            "epoch 120 loss:  0.012655799277126789\n",
            "epoch 130 loss:  0.009373961016535759\n",
            "epoch 140 loss:  0.009303005412220955\n",
            "epoch 150 loss:  0.00769053166732192\n"
          ]
        }
      ]
    },
    {
      "cell_type": "markdown",
      "metadata": {
        "id": "vUS459C6ro22"
      },
      "source": [
        "# Evaluating Model Performance"
      ]
    },
    {
      "cell_type": "markdown",
      "metadata": {
        "id": "iGYj2vTl311y"
      },
      "source": [
        "The Bayesian LSTM implemented is shown to produce reasonably accurate and sensible results on both the training and test sets, often comparable to other existing frequentist machine learning and deep learning methods.\n",
        "\n"
      ]
    },
    {
      "cell_type": "code",
      "metadata": {
        "id": "C-1VXE3_VH_0"
      },
      "source": [
        "offset = sequence_length\n",
        "\n",
        "def inverse_transform(y):\n",
        "  return target_scaler.inverse_transform(y.reshape(-1, 1))\n",
        "\n",
        "training_df = pd.DataFrame()\n",
        "training_df['date'] = resample_df['date'].iloc[offset:n_train + offset:1]\n",
        "training_predictions = bayesian_lstm.predict(X_train)\n",
        "training_df['log_energy_consumption'] = inverse_transform(training_predictions)\n",
        "training_df['source'] = 'Training Prediction'\n",
        "\n",
        "training_truth_df = pd.DataFrame()\n",
        "training_truth_df['date'] = training_df['date']\n",
        "training_truth_df['log_energy_consumption'] = resample_df['log_energy_consumption'].iloc[offset:n_train + offset:1]\n",
        "training_truth_df['source'] = 'True Values'\n",
        "\n",
        "testing_df = pd.DataFrame()\n",
        "testing_df['date'] = resample_df['date'].iloc[n_train + offset::1]\n",
        "testing_predictions = bayesian_lstm.predict(X_test)\n",
        "testing_df['log_energy_consumption'] = inverse_transform(testing_predictions)\n",
        "testing_df['source'] = 'Test Prediction'\n",
        "\n",
        "testing_truth_df = pd.DataFrame()\n",
        "testing_truth_df['date'] = testing_df['date']\n",
        "testing_truth_df['log_energy_consumption'] = resample_df['log_energy_consumption'].iloc[n_train + offset::1]\n",
        "testing_truth_df['source'] = 'True Values'\n",
        "\n",
        "evaluation = pd.concat([training_df,\n",
        "                        testing_df,\n",
        "                        training_truth_df,\n",
        "                        testing_truth_df\n",
        "                        ], axis=0)"
      ],
      "execution_count": 11,
      "outputs": []
    },
    {
      "cell_type": "code",
      "metadata": {
        "id": "uXQJwRO2FZio",
        "colab": {
          "base_uri": "https://localhost:8080/",
          "height": 542
        },
        "outputId": "bdc8e3df-48a2-4743-dc82-7f28231285bb"
      },
      "source": [
        "fig = px.line(evaluation.loc[evaluation['date'].between('2016-04-14', '2016-04-23')],\n",
        "                 x=\"date\",\n",
        "                 y=\"log_energy_consumption\",\n",
        "                 color=\"source\",\n",
        "                 title=\"Log of Appliance Energy Consumption in Wh vs Time\")\n",
        "fig.show()"
      ],
      "execution_count": 12,
      "outputs": [
        {
          "output_type": "display_data",
          "data": {
            "text/html": [
              "<html>\n",
              "<head><meta charset=\"utf-8\" /></head>\n",
              "<body>\n",
              "    <div>            <script src=\"https://cdnjs.cloudflare.com/ajax/libs/mathjax/2.7.5/MathJax.js?config=TeX-AMS-MML_SVG\"></script><script type=\"text/javascript\">if (window.MathJax && window.MathJax.Hub && window.MathJax.Hub.Config) {window.MathJax.Hub.Config({SVG: {font: \"STIX-Web\"}});}</script>                <script type=\"text/javascript\">window.PlotlyConfig = {MathJaxConfig: 'local'};</script>\n",
              "        <script charset=\"utf-8\" src=\"https://cdn.plot.ly/plotly-2.24.1.min.js\"></script>                <div id=\"ff3ebaf5-466b-45c8-9eb4-9275bfd4adf1\" class=\"plotly-graph-div\" style=\"height:525px; width:100%;\"></div>            <script type=\"text/javascript\">                                    window.PLOTLYENV=window.PLOTLYENV || {};                                    if (document.getElementById(\"ff3ebaf5-466b-45c8-9eb4-9275bfd4adf1\")) {                    Plotly.newPlot(                        \"ff3ebaf5-466b-45c8-9eb4-9275bfd4adf1\",                        [{\"hovertemplate\":\"source=Training Prediction\\u003cbr\\u003edate=%{x}\\u003cbr\\u003elog_energy_consumption=%{y}\\u003cextra\\u003e\\u003c\\u002fextra\\u003e\",\"legendgroup\":\"Training Prediction\",\"line\":{\"color\":\"#636efa\",\"dash\":\"solid\"},\"marker\":{\"symbol\":\"circle\"},\"mode\":\"lines\",\"name\":\"Training Prediction\",\"orientation\":\"v\",\"showlegend\":true,\"x\":[\"2016-04-14T00:00:00\",\"2016-04-14T01:00:00\",\"2016-04-14T02:00:00\",\"2016-04-14T03:00:00\",\"2016-04-14T04:00:00\",\"2016-04-14T05:00:00\",\"2016-04-14T06:00:00\",\"2016-04-14T07:00:00\",\"2016-04-14T08:00:00\",\"2016-04-14T09:00:00\",\"2016-04-14T10:00:00\",\"2016-04-14T11:00:00\",\"2016-04-14T12:00:00\",\"2016-04-14T13:00:00\",\"2016-04-14T14:00:00\",\"2016-04-14T15:00:00\",\"2016-04-14T16:00:00\",\"2016-04-14T17:00:00\",\"2016-04-14T18:00:00\",\"2016-04-14T19:00:00\",\"2016-04-14T20:00:00\",\"2016-04-14T21:00:00\",\"2016-04-14T22:00:00\",\"2016-04-14T23:00:00\",\"2016-04-15T00:00:00\",\"2016-04-15T01:00:00\",\"2016-04-15T02:00:00\",\"2016-04-15T03:00:00\",\"2016-04-15T04:00:00\",\"2016-04-15T05:00:00\",\"2016-04-15T06:00:00\",\"2016-04-15T07:00:00\",\"2016-04-15T08:00:00\",\"2016-04-15T09:00:00\",\"2016-04-15T10:00:00\",\"2016-04-15T11:00:00\",\"2016-04-15T12:00:00\",\"2016-04-15T13:00:00\",\"2016-04-15T14:00:00\",\"2016-04-15T15:00:00\",\"2016-04-15T16:00:00\",\"2016-04-15T17:00:00\",\"2016-04-15T18:00:00\",\"2016-04-15T19:00:00\",\"2016-04-15T20:00:00\",\"2016-04-15T21:00:00\",\"2016-04-15T22:00:00\",\"2016-04-15T23:00:00\",\"2016-04-16T00:00:00\",\"2016-04-16T01:00:00\",\"2016-04-16T02:00:00\",\"2016-04-16T03:00:00\",\"2016-04-16T04:00:00\",\"2016-04-16T05:00:00\",\"2016-04-16T06:00:00\",\"2016-04-16T07:00:00\",\"2016-04-16T08:00:00\",\"2016-04-16T09:00:00\",\"2016-04-16T10:00:00\",\"2016-04-16T11:00:00\",\"2016-04-16T12:00:00\",\"2016-04-16T13:00:00\",\"2016-04-16T14:00:00\",\"2016-04-16T15:00:00\",\"2016-04-16T16:00:00\",\"2016-04-16T17:00:00\",\"2016-04-16T18:00:00\",\"2016-04-16T19:00:00\",\"2016-04-16T20:00:00\",\"2016-04-16T21:00:00\",\"2016-04-16T22:00:00\",\"2016-04-16T23:00:00\",\"2016-04-17T00:00:00\",\"2016-04-17T01:00:00\"],\"xaxis\":\"x\",\"y\":[3.8915560245513916,4.0021443367004395,3.940459728240967,3.9366211891174316,4.150887966156006,4.050699234008789,3.8614654541015625,4.260439395904541,4.593127250671387,4.401543140411377,4.461135387420654,4.444149971008301,4.375043869018555,4.077983379364014,4.360256195068359,4.166048049926758,4.461400032043457,4.998459339141846,4.9560699462890625,4.825675964355469,4.902524948120117,4.193302154541016,4.06180477142334,3.8625574111938477,3.869765520095825,3.9971373081207275,3.8222548961639404,4.068803787231445,4.03257942199707,3.8634066581726074,4.030544281005859,5.539776802062988,5.573173999786377,5.8722243309021,6.120427131652832,5.209920883178711,4.443425178527832,4.188652038574219,4.465204238891602,4.1914896965026855,4.214505672454834,4.624783515930176,5.180533409118652,4.917490482330322,4.841736316680908,4.58899450302124,4.185493469238281,4.063539505004883,4.066827297210693,4.067183494567871,3.996073007583618,4.032003879547119,3.899196147918701,3.9849588871002197,3.9067955017089844,4.215693950653076,4.490432262420654,4.524362564086914,5.834530353546143,5.397032737731934,4.6559929847717285,5.586717128753662,5.492697715759277,4.67812442779541,5.8005876541137695,5.591405391693115,4.682636737823486,4.798409461975098,4.460226058959961,4.325307846069336,4.24409818649292,4.025425434112549,3.9319300651550293,3.9117274284362793],\"yaxis\":\"y\",\"type\":\"scatter\"},{\"hovertemplate\":\"source=Test Prediction\\u003cbr\\u003edate=%{x}\\u003cbr\\u003elog_energy_consumption=%{y}\\u003cextra\\u003e\\u003c\\u002fextra\\u003e\",\"legendgroup\":\"Test Prediction\",\"line\":{\"color\":\"#EF553B\",\"dash\":\"solid\"},\"marker\":{\"symbol\":\"circle\"},\"mode\":\"lines\",\"name\":\"Test Prediction\",\"orientation\":\"v\",\"showlegend\":true,\"x\":[\"2016-04-17T02:00:00\",\"2016-04-17T03:00:00\",\"2016-04-17T04:00:00\",\"2016-04-17T05:00:00\",\"2016-04-17T06:00:00\",\"2016-04-17T07:00:00\",\"2016-04-17T08:00:00\",\"2016-04-17T09:00:00\",\"2016-04-17T10:00:00\",\"2016-04-17T11:00:00\",\"2016-04-17T12:00:00\",\"2016-04-17T13:00:00\",\"2016-04-17T14:00:00\",\"2016-04-17T15:00:00\",\"2016-04-17T16:00:00\",\"2016-04-17T17:00:00\",\"2016-04-17T18:00:00\",\"2016-04-17T19:00:00\",\"2016-04-17T20:00:00\",\"2016-04-17T21:00:00\",\"2016-04-17T22:00:00\",\"2016-04-17T23:00:00\",\"2016-04-18T00:00:00\",\"2016-04-18T01:00:00\",\"2016-04-18T02:00:00\",\"2016-04-18T03:00:00\",\"2016-04-18T04:00:00\",\"2016-04-18T05:00:00\",\"2016-04-18T06:00:00\",\"2016-04-18T07:00:00\",\"2016-04-18T08:00:00\",\"2016-04-18T09:00:00\",\"2016-04-18T10:00:00\",\"2016-04-18T11:00:00\",\"2016-04-18T12:00:00\",\"2016-04-18T13:00:00\",\"2016-04-18T14:00:00\",\"2016-04-18T15:00:00\",\"2016-04-18T16:00:00\",\"2016-04-18T17:00:00\",\"2016-04-18T18:00:00\",\"2016-04-18T19:00:00\",\"2016-04-18T20:00:00\",\"2016-04-18T21:00:00\",\"2016-04-18T22:00:00\",\"2016-04-18T23:00:00\",\"2016-04-19T00:00:00\",\"2016-04-19T01:00:00\",\"2016-04-19T02:00:00\",\"2016-04-19T03:00:00\",\"2016-04-19T04:00:00\",\"2016-04-19T05:00:00\",\"2016-04-19T06:00:00\",\"2016-04-19T07:00:00\",\"2016-04-19T08:00:00\",\"2016-04-19T09:00:00\",\"2016-04-19T10:00:00\",\"2016-04-19T11:00:00\",\"2016-04-19T12:00:00\",\"2016-04-19T13:00:00\",\"2016-04-19T14:00:00\",\"2016-04-19T15:00:00\",\"2016-04-19T16:00:00\",\"2016-04-19T17:00:00\",\"2016-04-19T18:00:00\",\"2016-04-19T19:00:00\",\"2016-04-19T20:00:00\",\"2016-04-19T21:00:00\",\"2016-04-19T22:00:00\",\"2016-04-19T23:00:00\",\"2016-04-20T00:00:00\",\"2016-04-20T01:00:00\",\"2016-04-20T02:00:00\",\"2016-04-20T03:00:00\",\"2016-04-20T04:00:00\",\"2016-04-20T05:00:00\",\"2016-04-20T06:00:00\",\"2016-04-20T07:00:00\",\"2016-04-20T08:00:00\",\"2016-04-20T09:00:00\",\"2016-04-20T10:00:00\",\"2016-04-20T11:00:00\",\"2016-04-20T12:00:00\",\"2016-04-20T13:00:00\",\"2016-04-20T14:00:00\",\"2016-04-20T15:00:00\",\"2016-04-20T16:00:00\",\"2016-04-20T17:00:00\",\"2016-04-20T18:00:00\",\"2016-04-20T19:00:00\",\"2016-04-20T20:00:00\",\"2016-04-20T21:00:00\",\"2016-04-20T22:00:00\",\"2016-04-20T23:00:00\",\"2016-04-21T00:00:00\",\"2016-04-21T01:00:00\",\"2016-04-21T02:00:00\",\"2016-04-21T03:00:00\",\"2016-04-21T04:00:00\",\"2016-04-21T05:00:00\",\"2016-04-21T06:00:00\",\"2016-04-21T07:00:00\",\"2016-04-21T08:00:00\",\"2016-04-21T09:00:00\",\"2016-04-21T10:00:00\",\"2016-04-21T11:00:00\",\"2016-04-21T12:00:00\",\"2016-04-21T13:00:00\",\"2016-04-21T14:00:00\",\"2016-04-21T15:00:00\",\"2016-04-21T16:00:00\",\"2016-04-21T17:00:00\",\"2016-04-21T18:00:00\",\"2016-04-21T19:00:00\",\"2016-04-21T20:00:00\",\"2016-04-21T21:00:00\",\"2016-04-21T22:00:00\",\"2016-04-21T23:00:00\",\"2016-04-22T00:00:00\",\"2016-04-22T01:00:00\",\"2016-04-22T02:00:00\",\"2016-04-22T03:00:00\",\"2016-04-22T04:00:00\",\"2016-04-22T05:00:00\",\"2016-04-22T06:00:00\",\"2016-04-22T07:00:00\",\"2016-04-22T08:00:00\",\"2016-04-22T09:00:00\",\"2016-04-22T10:00:00\",\"2016-04-22T11:00:00\",\"2016-04-22T12:00:00\",\"2016-04-22T13:00:00\",\"2016-04-22T14:00:00\",\"2016-04-22T15:00:00\",\"2016-04-22T16:00:00\",\"2016-04-22T17:00:00\",\"2016-04-22T18:00:00\",\"2016-04-22T19:00:00\",\"2016-04-22T20:00:00\",\"2016-04-22T21:00:00\",\"2016-04-22T22:00:00\",\"2016-04-22T23:00:00\",\"2016-04-23T00:00:00\"],\"xaxis\":\"x\",\"y\":[4.077366828918457,3.8490631580352783,3.932084560394287,3.9107940196990967,3.9521515369415283,4.097509860992432,4.71272087097168,4.5578484535217285,5.056236267089844,5.676962375640869,4.790283203125,4.608159065246582,4.565775394439697,4.343450546264648,5.141848564147949,5.480645656585693,5.33090877532959,4.7516937255859375,4.275330066680908,4.229972839355469,4.061852931976318,4.027276039123535,3.9316751956939697,3.9614357948303223,3.9816248416900635,3.9846088886260986,4.13059663772583,3.94048810005188,4.078068256378174,4.285670757293701,4.126089096069336,4.140287399291992,3.919717788696289,3.942990779876709,4.501089572906494,3.929326295852661,4.189462661743164,4.031673908233643,3.8772330284118652,4.257491111755371,5.053518772125244,4.545639991760254,4.723896026611328,4.219290733337402,3.9083921909332275,3.9529078006744385,3.8830885887145996,3.7770798206329346,3.870830774307251,3.829791784286499,3.93377947807312,4.107832431793213,4.470378398895264,4.605668544769287,4.732978820800781,3.8749170303344727,3.8624801635742188,3.9348435401916504,3.873467206954956,3.9452831745147705,3.8725857734680176,3.927790880203247,3.8650472164154053,4.198568344116211,5.492473125457764,5.505558013916016,4.658328056335449,4.014960289001465,4.050169944763184,3.9798128604888916,3.914076566696167,3.9518609046936035,3.932818651199341,3.8898022174835205,3.8781304359436035,4.066918849945068,4.017159938812256,4.306361675262451,5.471018314361572,4.103398323059082,4.251301288604736,4.227285385131836,4.235500335693359,4.162578105926514,4.142016410827637,4.489254951477051,4.77399206161499,4.13516902923584,4.865879058837891,5.671822547912598,4.899913311004639,4.4907755851745605,4.154502868652344,3.9077677726745605,3.906259775161743,3.907597780227661,3.8808834552764893,3.740506172180176,3.8489882946014404,3.895374059677124,4.129371166229248,4.140046119689941,3.940197229385376,4.147847652435303,4.14658784866333,4.001896858215332,4.123944282531738,4.013804912567139,4.417059898376465,4.105825901031494,4.213535785675049,4.625884056091309,5.2954583168029785,4.844484329223633,4.864748954772949,4.289134979248047,3.989013671875,4.112717628479004,4.047543048858643,4.0451483726501465,3.99599289894104,4.011561393737793,4.20410680770874,4.051998615264893,4.193880081176758,4.264008045196533,4.584033966064453,4.774916172027588,5.062241077423096,5.348440647125244,4.968864440917969,4.747208118438721,5.3787665367126465,4.300442218780518,4.841222286224365,5.464603900909424,5.909757137298584,4.894379615783691,4.609958648681641,4.491367816925049,4.037529945373535,4.0106987953186035,4.074043273925781],\"yaxis\":\"y\",\"type\":\"scatter\"},{\"hovertemplate\":\"source=True Values\\u003cbr\\u003edate=%{x}\\u003cbr\\u003elog_energy_consumption=%{y}\\u003cextra\\u003e\\u003c\\u002fextra\\u003e\",\"legendgroup\":\"True Values\",\"line\":{\"color\":\"#00cc96\",\"dash\":\"solid\"},\"marker\":{\"symbol\":\"circle\"},\"mode\":\"lines\",\"name\":\"True Values\",\"orientation\":\"v\",\"showlegend\":true,\"x\":[\"2016-04-14T00:00:00\",\"2016-04-14T01:00:00\",\"2016-04-14T02:00:00\",\"2016-04-14T03:00:00\",\"2016-04-14T04:00:00\",\"2016-04-14T05:00:00\",\"2016-04-14T06:00:00\",\"2016-04-14T07:00:00\",\"2016-04-14T08:00:00\",\"2016-04-14T09:00:00\",\"2016-04-14T10:00:00\",\"2016-04-14T11:00:00\",\"2016-04-14T12:00:00\",\"2016-04-14T13:00:00\",\"2016-04-14T14:00:00\",\"2016-04-14T15:00:00\",\"2016-04-14T16:00:00\",\"2016-04-14T17:00:00\",\"2016-04-14T18:00:00\",\"2016-04-14T19:00:00\",\"2016-04-14T20:00:00\",\"2016-04-14T21:00:00\",\"2016-04-14T22:00:00\",\"2016-04-14T23:00:00\",\"2016-04-15T00:00:00\",\"2016-04-15T01:00:00\",\"2016-04-15T02:00:00\",\"2016-04-15T03:00:00\",\"2016-04-15T04:00:00\",\"2016-04-15T05:00:00\",\"2016-04-15T06:00:00\",\"2016-04-15T07:00:00\",\"2016-04-15T08:00:00\",\"2016-04-15T09:00:00\",\"2016-04-15T10:00:00\",\"2016-04-15T11:00:00\",\"2016-04-15T12:00:00\",\"2016-04-15T13:00:00\",\"2016-04-15T14:00:00\",\"2016-04-15T15:00:00\",\"2016-04-15T16:00:00\",\"2016-04-15T17:00:00\",\"2016-04-15T18:00:00\",\"2016-04-15T19:00:00\",\"2016-04-15T20:00:00\",\"2016-04-15T21:00:00\",\"2016-04-15T22:00:00\",\"2016-04-15T23:00:00\",\"2016-04-16T00:00:00\",\"2016-04-16T01:00:00\",\"2016-04-16T02:00:00\",\"2016-04-16T03:00:00\",\"2016-04-16T04:00:00\",\"2016-04-16T05:00:00\",\"2016-04-16T06:00:00\",\"2016-04-16T07:00:00\",\"2016-04-16T08:00:00\",\"2016-04-16T09:00:00\",\"2016-04-16T10:00:00\",\"2016-04-16T11:00:00\",\"2016-04-16T12:00:00\",\"2016-04-16T13:00:00\",\"2016-04-16T14:00:00\",\"2016-04-16T15:00:00\",\"2016-04-16T16:00:00\",\"2016-04-16T17:00:00\",\"2016-04-16T18:00:00\",\"2016-04-16T19:00:00\",\"2016-04-16T20:00:00\",\"2016-04-16T21:00:00\",\"2016-04-16T22:00:00\",\"2016-04-16T23:00:00\",\"2016-04-17T00:00:00\",\"2016-04-17T01:00:00\",\"2016-04-17T02:00:00\",\"2016-04-17T03:00:00\",\"2016-04-17T04:00:00\",\"2016-04-17T05:00:00\",\"2016-04-17T06:00:00\",\"2016-04-17T07:00:00\",\"2016-04-17T08:00:00\",\"2016-04-17T09:00:00\",\"2016-04-17T10:00:00\",\"2016-04-17T11:00:00\",\"2016-04-17T12:00:00\",\"2016-04-17T13:00:00\",\"2016-04-17T14:00:00\",\"2016-04-17T15:00:00\",\"2016-04-17T16:00:00\",\"2016-04-17T17:00:00\",\"2016-04-17T18:00:00\",\"2016-04-17T19:00:00\",\"2016-04-17T20:00:00\",\"2016-04-17T21:00:00\",\"2016-04-17T22:00:00\",\"2016-04-17T23:00:00\",\"2016-04-18T00:00:00\",\"2016-04-18T01:00:00\",\"2016-04-18T02:00:00\",\"2016-04-18T03:00:00\",\"2016-04-18T04:00:00\",\"2016-04-18T05:00:00\",\"2016-04-18T06:00:00\",\"2016-04-18T07:00:00\",\"2016-04-18T08:00:00\",\"2016-04-18T09:00:00\",\"2016-04-18T10:00:00\",\"2016-04-18T11:00:00\",\"2016-04-18T12:00:00\",\"2016-04-18T13:00:00\",\"2016-04-18T14:00:00\",\"2016-04-18T15:00:00\",\"2016-04-18T16:00:00\",\"2016-04-18T17:00:00\",\"2016-04-18T18:00:00\",\"2016-04-18T19:00:00\",\"2016-04-18T20:00:00\",\"2016-04-18T21:00:00\",\"2016-04-18T22:00:00\",\"2016-04-18T23:00:00\",\"2016-04-19T00:00:00\",\"2016-04-19T01:00:00\",\"2016-04-19T02:00:00\",\"2016-04-19T03:00:00\",\"2016-04-19T04:00:00\",\"2016-04-19T05:00:00\",\"2016-04-19T06:00:00\",\"2016-04-19T07:00:00\",\"2016-04-19T08:00:00\",\"2016-04-19T09:00:00\",\"2016-04-19T10:00:00\",\"2016-04-19T11:00:00\",\"2016-04-19T12:00:00\",\"2016-04-19T13:00:00\",\"2016-04-19T14:00:00\",\"2016-04-19T15:00:00\",\"2016-04-19T16:00:00\",\"2016-04-19T17:00:00\",\"2016-04-19T18:00:00\",\"2016-04-19T19:00:00\",\"2016-04-19T20:00:00\",\"2016-04-19T21:00:00\",\"2016-04-19T22:00:00\",\"2016-04-19T23:00:00\",\"2016-04-20T00:00:00\",\"2016-04-20T01:00:00\",\"2016-04-20T02:00:00\",\"2016-04-20T03:00:00\",\"2016-04-20T04:00:00\",\"2016-04-20T05:00:00\",\"2016-04-20T06:00:00\",\"2016-04-20T07:00:00\",\"2016-04-20T08:00:00\",\"2016-04-20T09:00:00\",\"2016-04-20T10:00:00\",\"2016-04-20T11:00:00\",\"2016-04-20T12:00:00\",\"2016-04-20T13:00:00\",\"2016-04-20T14:00:00\",\"2016-04-20T15:00:00\",\"2016-04-20T16:00:00\",\"2016-04-20T17:00:00\",\"2016-04-20T18:00:00\",\"2016-04-20T19:00:00\",\"2016-04-20T20:00:00\",\"2016-04-20T21:00:00\",\"2016-04-20T22:00:00\",\"2016-04-20T23:00:00\",\"2016-04-21T00:00:00\",\"2016-04-21T01:00:00\",\"2016-04-21T02:00:00\",\"2016-04-21T03:00:00\",\"2016-04-21T04:00:00\",\"2016-04-21T05:00:00\",\"2016-04-21T06:00:00\",\"2016-04-21T07:00:00\",\"2016-04-21T08:00:00\",\"2016-04-21T09:00:00\",\"2016-04-21T10:00:00\",\"2016-04-21T11:00:00\",\"2016-04-21T12:00:00\",\"2016-04-21T13:00:00\",\"2016-04-21T14:00:00\",\"2016-04-21T15:00:00\",\"2016-04-21T16:00:00\",\"2016-04-21T17:00:00\",\"2016-04-21T18:00:00\",\"2016-04-21T19:00:00\",\"2016-04-21T20:00:00\",\"2016-04-21T21:00:00\",\"2016-04-21T22:00:00\",\"2016-04-21T23:00:00\",\"2016-04-22T00:00:00\",\"2016-04-22T01:00:00\",\"2016-04-22T02:00:00\",\"2016-04-22T03:00:00\",\"2016-04-22T04:00:00\",\"2016-04-22T05:00:00\",\"2016-04-22T06:00:00\",\"2016-04-22T07:00:00\",\"2016-04-22T08:00:00\",\"2016-04-22T09:00:00\",\"2016-04-22T10:00:00\",\"2016-04-22T11:00:00\",\"2016-04-22T12:00:00\",\"2016-04-22T13:00:00\",\"2016-04-22T14:00:00\",\"2016-04-22T15:00:00\",\"2016-04-22T16:00:00\",\"2016-04-22T17:00:00\",\"2016-04-22T18:00:00\",\"2016-04-22T19:00:00\",\"2016-04-22T20:00:00\",\"2016-04-22T21:00:00\",\"2016-04-22T22:00:00\",\"2016-04-22T23:00:00\",\"2016-04-23T00:00:00\"],\"xaxis\":\"x\",\"y\":[4.007333185232471,3.9765615265657175,3.9765615265657175,3.9765615265657175,3.9765615265657175,3.912023005428146,4.148411783492376,4.360973225476049,4.382026634673881,4.174387269895637,4.360973225476049,4.402645921876617,4.121743536410215,3.9765615265657175,4.248495242049359,4.518158808998462,4.402645921876617,5.646624060816253,5.393627546352362,5.272999558563747,4.339467020255086,4.037186148382152,3.912023005428146,3.9765615265657175,3.9448128282511368,3.9448128282511368,4.037186148382152,3.8781214537524646,4.007333185232471,3.9765615265657175,5.917997395226109,5.501258210544727,5.794029352503979,5.501258210544727,5.862683757242057,5.12594614060725,4.339467020255086,4.148411783492376,4.272025739459553,4.199705077879927,4.422848629194137,4.382026634673881,5.3471075307174685,4.814890716970161,4.700480365792417,4.637960008811082,4.402645921876617,4.037186148382152,3.9765615265657175,4.007333185232471,3.912023005428146,4.037186148382152,3.8781214537524646,3.9765615265657175,3.9765615265657175,4.174387269895637,4.637960008811082,4.953476880256307,5.675611597689505,5.681309618804143,4.685212893661628,5.452468046375295,5.487559366186565,4.7303333289420975,6.0905554497522125,5.528105460580915,4.917544871030244,4.7303333289420975,4.621699487939302,4.553876891600541,4.148411783492376,4.007333185232471,3.9448128282511368,4.007333185232471,3.8781214537524646,4.0661736852554045,3.8781214537524646,3.9448128282511368,3.912023005428146,4.148411783492376,4.941642422609304,4.637960008811082,6.09807428216624,4.75932086581535,4.965172920019499,4.272025739459553,4.248495242049359,4.553876891600541,5.12594614060725,5.473670254025898,4.8012850649143815,4.814890716970161,4.499809670330265,4.360973225476049,3.9765615265657175,4.037186148382152,4.037186148382152,4.199705077879927,3.9765615265657175,3.8430301339411947,3.8430301339411947,3.9765615265657175,4.007333185232471,3.912023005428146,3.9765615265657175,3.912023005428146,3.9448128282511368,4.402645921876617,3.8781214537524646,3.9765615265657175,3.6888794541139363,4.007333185232471,4.248495242049359,5.573420656792957,4.880273476233012,4.75932086581535,4.8283137373023015,4.121743536410215,3.7297014486341915,3.9448128282511368,3.9765615265657175,3.6463198396951406,3.9765615265657175,3.9448128282511368,3.912023005428146,4.715518243156957,4.360973225476049,4.892852258439873,3.8781214537524646,3.9765615265657175,3.6463198396951406,3.9448128282511368,3.9448128282511368,3.8066624897703196,3.8781214537524646,3.912023005428146,3.9448128282511368,5.51477192971145,4.854631045619675,4.74493212836325,4.4620693423474185,4.0943445622221,3.9448128282511368,3.6888794541139363,4.007333185232471,3.912023005428146,3.8066624897703196,3.8781214537524646,3.9448128282511368,3.912023005428146,4.199705077879927,4.037186148382152,3.9765615265657175,4.148411783492376,4.174387269895637,3.8066624897703196,3.8430301339411947,3.9765615265657175,5.155216522907363,4.360973225476049,4.272025739459553,5.19295685089021,5.652489180268651,4.787491742782046,4.685212893661628,4.295015257684252,3.9765615265657175,3.7297014486341915,3.9448128282511368,3.9765615265657175,3.8781214537524646,3.6888794541139363,3.9765615265657175,4.2243976904702984,4.121743536410215,3.7689221617874726,3.9448128282511368,3.9448128282511368,3.9448128282511368,4.007333185232471,3.912023005428146,4.121743536410215,4.121743536410215,4.148411783492376,4.4620693423474185,5.306616169362732,5.19295685089021,4.854631045619675,5.1647859739235145,4.2243976904702984,4.248495242049359,4.2243976904702984,4.121743536410215,4.121743536410215,4.2243976904702984,4.199705077879927,4.199705077879927,4.248495242049359,4.199705077879927,5.145554611995626,5.12594614060725,5.9445476273202305,5.9872891756975015,5.579729825986222,5.84354441703136,5.634789603169249,4.481117537318112,5.622813412122534,5.675611597689505,5.9445476273202305,5.264415814872355,4.653960350157523,4.653960350157523,4.272025739459553,4.007333185232471,4.007333185232471,4.037186148382152],\"yaxis\":\"y\",\"type\":\"scatter\"}],                        {\"template\":{\"data\":{\"histogram2dcontour\":[{\"type\":\"histogram2dcontour\",\"colorbar\":{\"outlinewidth\":0,\"ticks\":\"\"},\"colorscale\":[[0.0,\"#0d0887\"],[0.1111111111111111,\"#46039f\"],[0.2222222222222222,\"#7201a8\"],[0.3333333333333333,\"#9c179e\"],[0.4444444444444444,\"#bd3786\"],[0.5555555555555556,\"#d8576b\"],[0.6666666666666666,\"#ed7953\"],[0.7777777777777778,\"#fb9f3a\"],[0.8888888888888888,\"#fdca26\"],[1.0,\"#f0f921\"]]}],\"choropleth\":[{\"type\":\"choropleth\",\"colorbar\":{\"outlinewidth\":0,\"ticks\":\"\"}}],\"histogram2d\":[{\"type\":\"histogram2d\",\"colorbar\":{\"outlinewidth\":0,\"ticks\":\"\"},\"colorscale\":[[0.0,\"#0d0887\"],[0.1111111111111111,\"#46039f\"],[0.2222222222222222,\"#7201a8\"],[0.3333333333333333,\"#9c179e\"],[0.4444444444444444,\"#bd3786\"],[0.5555555555555556,\"#d8576b\"],[0.6666666666666666,\"#ed7953\"],[0.7777777777777778,\"#fb9f3a\"],[0.8888888888888888,\"#fdca26\"],[1.0,\"#f0f921\"]]}],\"heatmap\":[{\"type\":\"heatmap\",\"colorbar\":{\"outlinewidth\":0,\"ticks\":\"\"},\"colorscale\":[[0.0,\"#0d0887\"],[0.1111111111111111,\"#46039f\"],[0.2222222222222222,\"#7201a8\"],[0.3333333333333333,\"#9c179e\"],[0.4444444444444444,\"#bd3786\"],[0.5555555555555556,\"#d8576b\"],[0.6666666666666666,\"#ed7953\"],[0.7777777777777778,\"#fb9f3a\"],[0.8888888888888888,\"#fdca26\"],[1.0,\"#f0f921\"]]}],\"heatmapgl\":[{\"type\":\"heatmapgl\",\"colorbar\":{\"outlinewidth\":0,\"ticks\":\"\"},\"colorscale\":[[0.0,\"#0d0887\"],[0.1111111111111111,\"#46039f\"],[0.2222222222222222,\"#7201a8\"],[0.3333333333333333,\"#9c179e\"],[0.4444444444444444,\"#bd3786\"],[0.5555555555555556,\"#d8576b\"],[0.6666666666666666,\"#ed7953\"],[0.7777777777777778,\"#fb9f3a\"],[0.8888888888888888,\"#fdca26\"],[1.0,\"#f0f921\"]]}],\"contourcarpet\":[{\"type\":\"contourcarpet\",\"colorbar\":{\"outlinewidth\":0,\"ticks\":\"\"}}],\"contour\":[{\"type\":\"contour\",\"colorbar\":{\"outlinewidth\":0,\"ticks\":\"\"},\"colorscale\":[[0.0,\"#0d0887\"],[0.1111111111111111,\"#46039f\"],[0.2222222222222222,\"#7201a8\"],[0.3333333333333333,\"#9c179e\"],[0.4444444444444444,\"#bd3786\"],[0.5555555555555556,\"#d8576b\"],[0.6666666666666666,\"#ed7953\"],[0.7777777777777778,\"#fb9f3a\"],[0.8888888888888888,\"#fdca26\"],[1.0,\"#f0f921\"]]}],\"surface\":[{\"type\":\"surface\",\"colorbar\":{\"outlinewidth\":0,\"ticks\":\"\"},\"colorscale\":[[0.0,\"#0d0887\"],[0.1111111111111111,\"#46039f\"],[0.2222222222222222,\"#7201a8\"],[0.3333333333333333,\"#9c179e\"],[0.4444444444444444,\"#bd3786\"],[0.5555555555555556,\"#d8576b\"],[0.6666666666666666,\"#ed7953\"],[0.7777777777777778,\"#fb9f3a\"],[0.8888888888888888,\"#fdca26\"],[1.0,\"#f0f921\"]]}],\"mesh3d\":[{\"type\":\"mesh3d\",\"colorbar\":{\"outlinewidth\":0,\"ticks\":\"\"}}],\"scatter\":[{\"fillpattern\":{\"fillmode\":\"overlay\",\"size\":10,\"solidity\":0.2},\"type\":\"scatter\"}],\"parcoords\":[{\"type\":\"parcoords\",\"line\":{\"colorbar\":{\"outlinewidth\":0,\"ticks\":\"\"}}}],\"scatterpolargl\":[{\"type\":\"scatterpolargl\",\"marker\":{\"colorbar\":{\"outlinewidth\":0,\"ticks\":\"\"}}}],\"bar\":[{\"error_x\":{\"color\":\"#2a3f5f\"},\"error_y\":{\"color\":\"#2a3f5f\"},\"marker\":{\"line\":{\"color\":\"#E5ECF6\",\"width\":0.5},\"pattern\":{\"fillmode\":\"overlay\",\"size\":10,\"solidity\":0.2}},\"type\":\"bar\"}],\"scattergeo\":[{\"type\":\"scattergeo\",\"marker\":{\"colorbar\":{\"outlinewidth\":0,\"ticks\":\"\"}}}],\"scatterpolar\":[{\"type\":\"scatterpolar\",\"marker\":{\"colorbar\":{\"outlinewidth\":0,\"ticks\":\"\"}}}],\"histogram\":[{\"marker\":{\"pattern\":{\"fillmode\":\"overlay\",\"size\":10,\"solidity\":0.2}},\"type\":\"histogram\"}],\"scattergl\":[{\"type\":\"scattergl\",\"marker\":{\"colorbar\":{\"outlinewidth\":0,\"ticks\":\"\"}}}],\"scatter3d\":[{\"type\":\"scatter3d\",\"line\":{\"colorbar\":{\"outlinewidth\":0,\"ticks\":\"\"}},\"marker\":{\"colorbar\":{\"outlinewidth\":0,\"ticks\":\"\"}}}],\"scattermapbox\":[{\"type\":\"scattermapbox\",\"marker\":{\"colorbar\":{\"outlinewidth\":0,\"ticks\":\"\"}}}],\"scatterternary\":[{\"type\":\"scatterternary\",\"marker\":{\"colorbar\":{\"outlinewidth\":0,\"ticks\":\"\"}}}],\"scattercarpet\":[{\"type\":\"scattercarpet\",\"marker\":{\"colorbar\":{\"outlinewidth\":0,\"ticks\":\"\"}}}],\"carpet\":[{\"aaxis\":{\"endlinecolor\":\"#2a3f5f\",\"gridcolor\":\"white\",\"linecolor\":\"white\",\"minorgridcolor\":\"white\",\"startlinecolor\":\"#2a3f5f\"},\"baxis\":{\"endlinecolor\":\"#2a3f5f\",\"gridcolor\":\"white\",\"linecolor\":\"white\",\"minorgridcolor\":\"white\",\"startlinecolor\":\"#2a3f5f\"},\"type\":\"carpet\"}],\"table\":[{\"cells\":{\"fill\":{\"color\":\"#EBF0F8\"},\"line\":{\"color\":\"white\"}},\"header\":{\"fill\":{\"color\":\"#C8D4E3\"},\"line\":{\"color\":\"white\"}},\"type\":\"table\"}],\"barpolar\":[{\"marker\":{\"line\":{\"color\":\"#E5ECF6\",\"width\":0.5},\"pattern\":{\"fillmode\":\"overlay\",\"size\":10,\"solidity\":0.2}},\"type\":\"barpolar\"}],\"pie\":[{\"automargin\":true,\"type\":\"pie\"}]},\"layout\":{\"autotypenumbers\":\"strict\",\"colorway\":[\"#636efa\",\"#EF553B\",\"#00cc96\",\"#ab63fa\",\"#FFA15A\",\"#19d3f3\",\"#FF6692\",\"#B6E880\",\"#FF97FF\",\"#FECB52\"],\"font\":{\"color\":\"#2a3f5f\"},\"hovermode\":\"closest\",\"hoverlabel\":{\"align\":\"left\"},\"paper_bgcolor\":\"white\",\"plot_bgcolor\":\"#E5ECF6\",\"polar\":{\"bgcolor\":\"#E5ECF6\",\"angularaxis\":{\"gridcolor\":\"white\",\"linecolor\":\"white\",\"ticks\":\"\"},\"radialaxis\":{\"gridcolor\":\"white\",\"linecolor\":\"white\",\"ticks\":\"\"}},\"ternary\":{\"bgcolor\":\"#E5ECF6\",\"aaxis\":{\"gridcolor\":\"white\",\"linecolor\":\"white\",\"ticks\":\"\"},\"baxis\":{\"gridcolor\":\"white\",\"linecolor\":\"white\",\"ticks\":\"\"},\"caxis\":{\"gridcolor\":\"white\",\"linecolor\":\"white\",\"ticks\":\"\"}},\"coloraxis\":{\"colorbar\":{\"outlinewidth\":0,\"ticks\":\"\"}},\"colorscale\":{\"sequential\":[[0.0,\"#0d0887\"],[0.1111111111111111,\"#46039f\"],[0.2222222222222222,\"#7201a8\"],[0.3333333333333333,\"#9c179e\"],[0.4444444444444444,\"#bd3786\"],[0.5555555555555556,\"#d8576b\"],[0.6666666666666666,\"#ed7953\"],[0.7777777777777778,\"#fb9f3a\"],[0.8888888888888888,\"#fdca26\"],[1.0,\"#f0f921\"]],\"sequentialminus\":[[0.0,\"#0d0887\"],[0.1111111111111111,\"#46039f\"],[0.2222222222222222,\"#7201a8\"],[0.3333333333333333,\"#9c179e\"],[0.4444444444444444,\"#bd3786\"],[0.5555555555555556,\"#d8576b\"],[0.6666666666666666,\"#ed7953\"],[0.7777777777777778,\"#fb9f3a\"],[0.8888888888888888,\"#fdca26\"],[1.0,\"#f0f921\"]],\"diverging\":[[0,\"#8e0152\"],[0.1,\"#c51b7d\"],[0.2,\"#de77ae\"],[0.3,\"#f1b6da\"],[0.4,\"#fde0ef\"],[0.5,\"#f7f7f7\"],[0.6,\"#e6f5d0\"],[0.7,\"#b8e186\"],[0.8,\"#7fbc41\"],[0.9,\"#4d9221\"],[1,\"#276419\"]]},\"xaxis\":{\"gridcolor\":\"white\",\"linecolor\":\"white\",\"ticks\":\"\",\"title\":{\"standoff\":15},\"zerolinecolor\":\"white\",\"automargin\":true,\"zerolinewidth\":2},\"yaxis\":{\"gridcolor\":\"white\",\"linecolor\":\"white\",\"ticks\":\"\",\"title\":{\"standoff\":15},\"zerolinecolor\":\"white\",\"automargin\":true,\"zerolinewidth\":2},\"scene\":{\"xaxis\":{\"backgroundcolor\":\"#E5ECF6\",\"gridcolor\":\"white\",\"linecolor\":\"white\",\"showbackground\":true,\"ticks\":\"\",\"zerolinecolor\":\"white\",\"gridwidth\":2},\"yaxis\":{\"backgroundcolor\":\"#E5ECF6\",\"gridcolor\":\"white\",\"linecolor\":\"white\",\"showbackground\":true,\"ticks\":\"\",\"zerolinecolor\":\"white\",\"gridwidth\":2},\"zaxis\":{\"backgroundcolor\":\"#E5ECF6\",\"gridcolor\":\"white\",\"linecolor\":\"white\",\"showbackground\":true,\"ticks\":\"\",\"zerolinecolor\":\"white\",\"gridwidth\":2}},\"shapedefaults\":{\"line\":{\"color\":\"#2a3f5f\"}},\"annotationdefaults\":{\"arrowcolor\":\"#2a3f5f\",\"arrowhead\":0,\"arrowwidth\":1},\"geo\":{\"bgcolor\":\"white\",\"landcolor\":\"#E5ECF6\",\"subunitcolor\":\"white\",\"showland\":true,\"showlakes\":true,\"lakecolor\":\"white\"},\"title\":{\"x\":0.05},\"mapbox\":{\"style\":\"light\"}}},\"xaxis\":{\"anchor\":\"y\",\"domain\":[0.0,1.0],\"title\":{\"text\":\"date\"}},\"yaxis\":{\"anchor\":\"x\",\"domain\":[0.0,1.0],\"title\":{\"text\":\"log_energy_consumption\"}},\"legend\":{\"title\":{\"text\":\"source\"},\"tracegroupgap\":0},\"title\":{\"text\":\"Log of Appliance Energy Consumption in Wh vs Time\"}},                        {\"responsive\": true}                    ).then(function(){\n",
              "                            \n",
              "var gd = document.getElementById('ff3ebaf5-466b-45c8-9eb4-9275bfd4adf1');\n",
              "var x = new MutationObserver(function (mutations, observer) {{\n",
              "        var display = window.getComputedStyle(gd).display;\n",
              "        if (!display || display === 'none') {{\n",
              "            console.log([gd, 'removed!']);\n",
              "            Plotly.purge(gd);\n",
              "            observer.disconnect();\n",
              "        }}\n",
              "}});\n",
              "\n",
              "// Listen for the removal of the full notebook cells\n",
              "var notebookContainer = gd.closest('#notebook-container');\n",
              "if (notebookContainer) {{\n",
              "    x.observe(notebookContainer, {childList: true});\n",
              "}}\n",
              "\n",
              "// Listen for the clearing of the current output cell\n",
              "var outputEl = gd.closest('.output');\n",
              "if (outputEl) {{\n",
              "    x.observe(outputEl, {childList: true});\n",
              "}}\n",
              "\n",
              "                        })                };                            </script>        </div>\n",
              "</body>\n",
              "</html>"
            ]
          },
          "metadata": {}
        }
      ]
    },
    {
      "cell_type": "markdown",
      "metadata": {
        "id": "Jrwiy646yq7t"
      },
      "source": [
        "# Uncertainty Quantification"
      ]
    },
    {
      "cell_type": "markdown",
      "metadata": {
        "id": "8FEzMrU147zx"
      },
      "source": [
        "The fact that stochastic dropouts are applied after each LSTM layer in the Bayesian LSTM enables users to interpret the model outputs as random samples from the posterior distribution of the target variable.\n",
        "\n",
        "This implies that by running multiple experiments/predictions, can approximate  parameters of the posterioir distribution, namely the mean and the variance, in order to create confidence intervals for each prediction.\n",
        "\n",
        "In this example, we construct 99% confidence intervals that are three standard deviations away from the approximate mean of each prediction."
      ]
    },
    {
      "cell_type": "code",
      "metadata": {
        "id": "Jb4xyVW6DVUV",
        "colab": {
          "base_uri": "https://localhost:8080/"
        },
        "outputId": "41fd2dcb-6dc5-4f0d-e55b-451ca08ded39"
      },
      "source": [
        "n_experiments = 100\n",
        "\n",
        "test_uncertainty_df = pd.DataFrame()\n",
        "test_uncertainty_df['date'] = testing_df['date']\n",
        "\n",
        "for i in range(n_experiments):\n",
        "  experiment_predictions = bayesian_lstm.predict(X_test)\n",
        "  test_uncertainty_df['log_energy_consumption_{}'.format(i)] = inverse_transform(experiment_predictions)\n",
        "\n",
        "log_energy_consumption_df = test_uncertainty_df.filter(like='log_energy_consumption', axis=1)\n",
        "test_uncertainty_df['log_energy_consumption_mean'] = log_energy_consumption_df.mean(axis=1)\n",
        "test_uncertainty_df['log_energy_consumption_std'] = log_energy_consumption_df.std(axis=1)\n",
        "\n",
        "test_uncertainty_df = test_uncertainty_df[['date', 'log_energy_consumption_mean', 'log_energy_consumption_std']]"
      ],
      "execution_count": 13,
      "outputs": [
        {
          "output_type": "stream",
          "name": "stderr",
          "text": [
            "<ipython-input-13-8eb0d940c984>:8: PerformanceWarning:\n",
            "\n",
            "DataFrame is highly fragmented.  This is usually the result of calling `frame.insert` many times, which has poor performance.  Consider joining all columns at once using pd.concat(axis=1) instead. To get a de-fragmented frame, use `newframe = frame.copy()`\n",
            "\n",
            "<ipython-input-13-8eb0d940c984>:11: PerformanceWarning:\n",
            "\n",
            "DataFrame is highly fragmented.  This is usually the result of calling `frame.insert` many times, which has poor performance.  Consider joining all columns at once using pd.concat(axis=1) instead. To get a de-fragmented frame, use `newframe = frame.copy()`\n",
            "\n",
            "<ipython-input-13-8eb0d940c984>:12: PerformanceWarning:\n",
            "\n",
            "DataFrame is highly fragmented.  This is usually the result of calling `frame.insert` many times, which has poor performance.  Consider joining all columns at once using pd.concat(axis=1) instead. To get a de-fragmented frame, use `newframe = frame.copy()`\n",
            "\n"
          ]
        }
      ]
    },
    {
      "cell_type": "code",
      "metadata": {
        "id": "SNrb70dSdDH0"
      },
      "source": [
        "test_uncertainty_df['lower_bound'] = test_uncertainty_df['log_energy_consumption_mean'] - 3*test_uncertainty_df['log_energy_consumption_std']\n",
        "test_uncertainty_df['upper_bound'] = test_uncertainty_df['log_energy_consumption_mean'] + 3*test_uncertainty_df['log_energy_consumption_std']"
      ],
      "execution_count": 14,
      "outputs": []
    },
    {
      "cell_type": "code",
      "metadata": {
        "id": "WdHylS8OdEHt",
        "colab": {
          "base_uri": "https://localhost:8080/",
          "height": 542
        },
        "outputId": "5ee9af53-4fda-4a3d-998a-eb661ee59314"
      },
      "source": [
        "import plotly.graph_objects as go\n",
        "\n",
        "test_uncertainty_plot_df = test_uncertainty_df.copy(deep=True)\n",
        "test_uncertainty_plot_df = test_uncertainty_plot_df.loc[test_uncertainty_plot_df['date'].between('2016-05-01', '2016-05-09')]\n",
        "truth_uncertainty_plot_df = testing_truth_df.copy(deep=True)\n",
        "truth_uncertainty_plot_df = truth_uncertainty_plot_df.loc[testing_truth_df['date'].between('2016-05-01', '2016-05-09')]\n",
        "\n",
        "upper_trace = go.Scatter(\n",
        "    x=test_uncertainty_plot_df['date'],\n",
        "    y=test_uncertainty_plot_df['upper_bound'],\n",
        "    mode='lines',\n",
        "    fill=None,\n",
        "    name='99% Upper Confidence Bound'\n",
        "    )\n",
        "lower_trace = go.Scatter(\n",
        "    x=test_uncertainty_plot_df['date'],\n",
        "    y=test_uncertainty_plot_df['lower_bound'],\n",
        "    mode='lines',\n",
        "    fill='tonexty',\n",
        "    fillcolor='rgba(255, 211, 0, 0.1)',\n",
        "    name='99% Lower Confidence Bound'\n",
        "    )\n",
        "real_trace = go.Scatter(\n",
        "    x=truth_uncertainty_plot_df['date'],\n",
        "    y=truth_uncertainty_plot_df['log_energy_consumption'],\n",
        "    mode='lines',\n",
        "    fill=None,\n",
        "    name='Real Values'\n",
        "    )\n",
        "\n",
        "data = [upper_trace, lower_trace, real_trace]\n",
        "\n",
        "fig = go.Figure(data=data)\n",
        "fig.update_layout(title='Uncertainty Quantification for Energy Consumption Test Data',\n",
        "                   xaxis_title='Time',\n",
        "                   yaxis_title='log_energy_consumption (log Wh)')\n",
        "\n",
        "fig.show()"
      ],
      "execution_count": 15,
      "outputs": [
        {
          "output_type": "display_data",
          "data": {
            "text/html": [
              "<html>\n",
              "<head><meta charset=\"utf-8\" /></head>\n",
              "<body>\n",
              "    <div>            <script src=\"https://cdnjs.cloudflare.com/ajax/libs/mathjax/2.7.5/MathJax.js?config=TeX-AMS-MML_SVG\"></script><script type=\"text/javascript\">if (window.MathJax && window.MathJax.Hub && window.MathJax.Hub.Config) {window.MathJax.Hub.Config({SVG: {font: \"STIX-Web\"}});}</script>                <script type=\"text/javascript\">window.PlotlyConfig = {MathJaxConfig: 'local'};</script>\n",
              "        <script charset=\"utf-8\" src=\"https://cdn.plot.ly/plotly-2.24.1.min.js\"></script>                <div id=\"a60e44ea-48c1-4d5e-b8de-1f8856f8e0d7\" class=\"plotly-graph-div\" style=\"height:525px; width:100%;\"></div>            <script type=\"text/javascript\">                                    window.PLOTLYENV=window.PLOTLYENV || {};                                    if (document.getElementById(\"a60e44ea-48c1-4d5e-b8de-1f8856f8e0d7\")) {                    Plotly.newPlot(                        \"a60e44ea-48c1-4d5e-b8de-1f8856f8e0d7\",                        [{\"mode\":\"lines\",\"name\":\"99% Upper Confidence Bound\",\"x\":[\"2016-05-01T00:00:00\",\"2016-05-01T01:00:00\",\"2016-05-01T02:00:00\",\"2016-05-01T03:00:00\",\"2016-05-01T04:00:00\",\"2016-05-01T05:00:00\",\"2016-05-01T06:00:00\",\"2016-05-01T07:00:00\",\"2016-05-01T08:00:00\",\"2016-05-01T09:00:00\",\"2016-05-01T10:00:00\",\"2016-05-01T11:00:00\",\"2016-05-01T12:00:00\",\"2016-05-01T13:00:00\",\"2016-05-01T14:00:00\",\"2016-05-01T15:00:00\",\"2016-05-01T16:00:00\",\"2016-05-01T17:00:00\",\"2016-05-01T18:00:00\",\"2016-05-01T19:00:00\",\"2016-05-01T20:00:00\",\"2016-05-01T21:00:00\",\"2016-05-01T22:00:00\",\"2016-05-01T23:00:00\",\"2016-05-02T00:00:00\",\"2016-05-02T01:00:00\",\"2016-05-02T02:00:00\",\"2016-05-02T03:00:00\",\"2016-05-02T04:00:00\",\"2016-05-02T05:00:00\",\"2016-05-02T06:00:00\",\"2016-05-02T07:00:00\",\"2016-05-02T08:00:00\",\"2016-05-02T09:00:00\",\"2016-05-02T10:00:00\",\"2016-05-02T11:00:00\",\"2016-05-02T12:00:00\",\"2016-05-02T13:00:00\",\"2016-05-02T14:00:00\",\"2016-05-02T15:00:00\",\"2016-05-02T16:00:00\",\"2016-05-02T17:00:00\",\"2016-05-02T18:00:00\",\"2016-05-02T19:00:00\",\"2016-05-02T20:00:00\",\"2016-05-02T21:00:00\",\"2016-05-02T22:00:00\",\"2016-05-02T23:00:00\",\"2016-05-03T00:00:00\",\"2016-05-03T01:00:00\",\"2016-05-03T02:00:00\",\"2016-05-03T03:00:00\",\"2016-05-03T04:00:00\",\"2016-05-03T05:00:00\",\"2016-05-03T06:00:00\",\"2016-05-03T07:00:00\",\"2016-05-03T08:00:00\",\"2016-05-03T09:00:00\",\"2016-05-03T10:00:00\",\"2016-05-03T11:00:00\",\"2016-05-03T12:00:00\",\"2016-05-03T13:00:00\",\"2016-05-03T14:00:00\",\"2016-05-03T15:00:00\",\"2016-05-03T16:00:00\",\"2016-05-03T17:00:00\",\"2016-05-03T18:00:00\",\"2016-05-03T19:00:00\",\"2016-05-03T20:00:00\",\"2016-05-03T21:00:00\",\"2016-05-03T22:00:00\",\"2016-05-03T23:00:00\",\"2016-05-04T00:00:00\",\"2016-05-04T01:00:00\",\"2016-05-04T02:00:00\",\"2016-05-04T03:00:00\",\"2016-05-04T04:00:00\",\"2016-05-04T05:00:00\",\"2016-05-04T06:00:00\",\"2016-05-04T07:00:00\",\"2016-05-04T08:00:00\",\"2016-05-04T09:00:00\",\"2016-05-04T10:00:00\",\"2016-05-04T11:00:00\",\"2016-05-04T12:00:00\",\"2016-05-04T13:00:00\",\"2016-05-04T14:00:00\",\"2016-05-04T15:00:00\",\"2016-05-04T16:00:00\",\"2016-05-04T17:00:00\",\"2016-05-04T18:00:00\",\"2016-05-04T19:00:00\",\"2016-05-04T20:00:00\",\"2016-05-04T21:00:00\",\"2016-05-04T22:00:00\",\"2016-05-04T23:00:00\",\"2016-05-05T00:00:00\",\"2016-05-05T01:00:00\",\"2016-05-05T02:00:00\",\"2016-05-05T03:00:00\",\"2016-05-05T04:00:00\",\"2016-05-05T05:00:00\",\"2016-05-05T06:00:00\",\"2016-05-05T07:00:00\",\"2016-05-05T08:00:00\",\"2016-05-05T09:00:00\",\"2016-05-05T10:00:00\",\"2016-05-05T11:00:00\",\"2016-05-05T12:00:00\",\"2016-05-05T13:00:00\",\"2016-05-05T14:00:00\",\"2016-05-05T15:00:00\",\"2016-05-05T16:00:00\",\"2016-05-05T17:00:00\",\"2016-05-05T18:00:00\",\"2016-05-05T19:00:00\",\"2016-05-05T20:00:00\",\"2016-05-05T21:00:00\",\"2016-05-05T22:00:00\",\"2016-05-05T23:00:00\",\"2016-05-06T00:00:00\",\"2016-05-06T01:00:00\",\"2016-05-06T02:00:00\",\"2016-05-06T03:00:00\",\"2016-05-06T04:00:00\",\"2016-05-06T05:00:00\",\"2016-05-06T06:00:00\",\"2016-05-06T07:00:00\",\"2016-05-06T08:00:00\",\"2016-05-06T09:00:00\",\"2016-05-06T10:00:00\",\"2016-05-06T11:00:00\",\"2016-05-06T12:00:00\",\"2016-05-06T13:00:00\",\"2016-05-06T14:00:00\",\"2016-05-06T15:00:00\",\"2016-05-06T16:00:00\",\"2016-05-06T17:00:00\",\"2016-05-06T18:00:00\",\"2016-05-06T19:00:00\",\"2016-05-06T20:00:00\",\"2016-05-06T21:00:00\",\"2016-05-06T22:00:00\",\"2016-05-06T23:00:00\",\"2016-05-07T00:00:00\",\"2016-05-07T01:00:00\",\"2016-05-07T02:00:00\",\"2016-05-07T03:00:00\",\"2016-05-07T04:00:00\",\"2016-05-07T05:00:00\",\"2016-05-07T06:00:00\",\"2016-05-07T07:00:00\",\"2016-05-07T08:00:00\",\"2016-05-07T09:00:00\",\"2016-05-07T10:00:00\",\"2016-05-07T11:00:00\",\"2016-05-07T12:00:00\",\"2016-05-07T13:00:00\",\"2016-05-07T14:00:00\",\"2016-05-07T15:00:00\",\"2016-05-07T16:00:00\",\"2016-05-07T17:00:00\",\"2016-05-07T18:00:00\",\"2016-05-07T19:00:00\",\"2016-05-07T20:00:00\",\"2016-05-07T21:00:00\",\"2016-05-07T22:00:00\",\"2016-05-07T23:00:00\",\"2016-05-08T00:00:00\",\"2016-05-08T01:00:00\",\"2016-05-08T02:00:00\",\"2016-05-08T03:00:00\",\"2016-05-08T04:00:00\",\"2016-05-08T05:00:00\",\"2016-05-08T06:00:00\",\"2016-05-08T07:00:00\",\"2016-05-08T08:00:00\",\"2016-05-08T09:00:00\",\"2016-05-08T10:00:00\",\"2016-05-08T11:00:00\",\"2016-05-08T12:00:00\",\"2016-05-08T13:00:00\",\"2016-05-08T14:00:00\",\"2016-05-08T15:00:00\",\"2016-05-08T16:00:00\",\"2016-05-08T17:00:00\",\"2016-05-08T18:00:00\",\"2016-05-08T19:00:00\",\"2016-05-08T20:00:00\",\"2016-05-08T21:00:00\",\"2016-05-08T22:00:00\",\"2016-05-08T23:00:00\",\"2016-05-09T00:00:00\"],\"y\":[4.153812408447266,4.1232757568359375,4.152937889099121,4.1517181396484375,4.161709785461426,4.132024765014648,4.123174667358398,4.219402313232422,4.573792934417725,5.584558486938477,5.751736164093018,4.387114524841309,4.834445476531982,4.437275409698486,4.602602481842041,5.1290483474731445,5.287388801574707,5.490060329437256,6.465260982513428,5.143903732299805,5.017452716827393,4.549193859100342,4.284769535064697,4.198164939880371,4.187812328338623,4.147737979888916,4.145284175872803,4.155529975891113,4.111081600189209,4.155956745147705,4.737389087677002,5.956835746765137,6.274501800537109,6.709957599639893,4.4142560958862305,4.313424110412598,4.350920677185059,4.906829833984375,4.432990550994873,4.695897102355957,4.478838920593262,5.093441009521484,5.855179309844971,5.358366966247559,4.84627103805542,4.447731018066406,4.214648723602295,4.239535331726074,4.210015296936035,4.1347527503967285,4.165924072265625,4.176056385040283,4.199395656585693,4.904651641845703,4.312215328216553,4.5403242111206055,6.118290901184082,4.51225471496582,4.191918849945068,4.201225757598877,4.237653732299805,4.2029314041137695,4.22498083114624,4.320812225341797,4.223942279815674,4.492493152618408,5.814397811889648,5.02032995223999,4.665997505187988,4.401817798614502,4.205086708068848,4.183034896850586,4.1621904373168945,4.140050411224365,4.109905242919922,4.197028636932373,4.168426513671875,4.220691204071045,4.297389507293701,4.849084377288818,6.503161430358887,4.886707782745361,4.873842239379883,4.4952192306518555,4.606378555297852,4.356925010681152,4.536242485046387,4.511455535888672,4.612785339355469,5.046296119689941,5.457061767578125,5.10184907913208,4.871641159057617,4.448075771331787,4.2534942626953125,4.191288471221924,4.175506114959717,4.180213451385498,4.162576198577881,4.113025665283203,4.194637775421143,4.191079616546631,4.2231574058532715,4.750077724456787,5.286016941070557,5.321029186248779,5.626303672790527,5.813404083251953,6.094507217407227,4.672031402587891,4.279382705688477,4.280123710632324,5.133909225463867,4.220475196838379,4.904264450073242,4.852849006652832,5.09768533706665,4.282902717590332,4.209901809692383,4.2109808921813965,4.1611809730529785,4.197206497192383,4.135169982910156,4.148405075073242,4.143881797790527,4.191594123840332,4.179609775543213,4.640993595123291,5.720239639282227,5.619741439819336,5.759718894958496,6.412358283996582,5.351086139678955,4.765850067138672,5.3809967041015625,5.059675216674805,6.446237564086914,4.464968681335449,6.065659999847412,5.530971527099609,4.804264068603516,4.898134231567383,4.242753982543945,4.192208766937256,4.166121959686279,4.197681427001953,4.182704448699951,4.165032863616943,4.201993465423584,4.254428386688232,4.195466041564941,4.262603759765625,5.825000762939453,5.5603742599487305,5.207535743713379,5.625883102416992,5.1581525802612305,4.4711689949035645,4.5113301277160645,4.718153953552246,5.287132740020752,5.719166278839111,5.009127616882324,5.160153388977051,5.01598596572876,4.760940074920654,4.204018592834473,4.202724933624268,4.18589973449707,4.200580596923828,4.181481838226318,4.1811652183532715,4.17042875289917,4.192896366119385,4.224583148956299,4.226505279541016,4.686442852020264,5.204545497894287,5.6473870277404785,4.954798698425293,6.471654415130615,4.6969075202941895,4.500059127807617,4.222170352935791,4.28228759765625,4.286489963531494,4.4261016845703125,4.21673583984375,4.386324882507324,4.452721118927002,4.224029064178467,4.235805034637451,4.1930108070373535],\"type\":\"scatter\"},{\"fill\":\"tonexty\",\"fillcolor\":\"rgba(255, 211, 0, 0.1)\",\"mode\":\"lines\",\"name\":\"99% Lower Confidence Bound\",\"x\":[\"2016-05-01T00:00:00\",\"2016-05-01T01:00:00\",\"2016-05-01T02:00:00\",\"2016-05-01T03:00:00\",\"2016-05-01T04:00:00\",\"2016-05-01T05:00:00\",\"2016-05-01T06:00:00\",\"2016-05-01T07:00:00\",\"2016-05-01T08:00:00\",\"2016-05-01T09:00:00\",\"2016-05-01T10:00:00\",\"2016-05-01T11:00:00\",\"2016-05-01T12:00:00\",\"2016-05-01T13:00:00\",\"2016-05-01T14:00:00\",\"2016-05-01T15:00:00\",\"2016-05-01T16:00:00\",\"2016-05-01T17:00:00\",\"2016-05-01T18:00:00\",\"2016-05-01T19:00:00\",\"2016-05-01T20:00:00\",\"2016-05-01T21:00:00\",\"2016-05-01T22:00:00\",\"2016-05-01T23:00:00\",\"2016-05-02T00:00:00\",\"2016-05-02T01:00:00\",\"2016-05-02T02:00:00\",\"2016-05-02T03:00:00\",\"2016-05-02T04:00:00\",\"2016-05-02T05:00:00\",\"2016-05-02T06:00:00\",\"2016-05-02T07:00:00\",\"2016-05-02T08:00:00\",\"2016-05-02T09:00:00\",\"2016-05-02T10:00:00\",\"2016-05-02T11:00:00\",\"2016-05-02T12:00:00\",\"2016-05-02T13:00:00\",\"2016-05-02T14:00:00\",\"2016-05-02T15:00:00\",\"2016-05-02T16:00:00\",\"2016-05-02T17:00:00\",\"2016-05-02T18:00:00\",\"2016-05-02T19:00:00\",\"2016-05-02T20:00:00\",\"2016-05-02T21:00:00\",\"2016-05-02T22:00:00\",\"2016-05-02T23:00:00\",\"2016-05-03T00:00:00\",\"2016-05-03T01:00:00\",\"2016-05-03T02:00:00\",\"2016-05-03T03:00:00\",\"2016-05-03T04:00:00\",\"2016-05-03T05:00:00\",\"2016-05-03T06:00:00\",\"2016-05-03T07:00:00\",\"2016-05-03T08:00:00\",\"2016-05-03T09:00:00\",\"2016-05-03T10:00:00\",\"2016-05-03T11:00:00\",\"2016-05-03T12:00:00\",\"2016-05-03T13:00:00\",\"2016-05-03T14:00:00\",\"2016-05-03T15:00:00\",\"2016-05-03T16:00:00\",\"2016-05-03T17:00:00\",\"2016-05-03T18:00:00\",\"2016-05-03T19:00:00\",\"2016-05-03T20:00:00\",\"2016-05-03T21:00:00\",\"2016-05-03T22:00:00\",\"2016-05-03T23:00:00\",\"2016-05-04T00:00:00\",\"2016-05-04T01:00:00\",\"2016-05-04T02:00:00\",\"2016-05-04T03:00:00\",\"2016-05-04T04:00:00\",\"2016-05-04T05:00:00\",\"2016-05-04T06:00:00\",\"2016-05-04T07:00:00\",\"2016-05-04T08:00:00\",\"2016-05-04T09:00:00\",\"2016-05-04T10:00:00\",\"2016-05-04T11:00:00\",\"2016-05-04T12:00:00\",\"2016-05-04T13:00:00\",\"2016-05-04T14:00:00\",\"2016-05-04T15:00:00\",\"2016-05-04T16:00:00\",\"2016-05-04T17:00:00\",\"2016-05-04T18:00:00\",\"2016-05-04T19:00:00\",\"2016-05-04T20:00:00\",\"2016-05-04T21:00:00\",\"2016-05-04T22:00:00\",\"2016-05-04T23:00:00\",\"2016-05-05T00:00:00\",\"2016-05-05T01:00:00\",\"2016-05-05T02:00:00\",\"2016-05-05T03:00:00\",\"2016-05-05T04:00:00\",\"2016-05-05T05:00:00\",\"2016-05-05T06:00:00\",\"2016-05-05T07:00:00\",\"2016-05-05T08:00:00\",\"2016-05-05T09:00:00\",\"2016-05-05T10:00:00\",\"2016-05-05T11:00:00\",\"2016-05-05T12:00:00\",\"2016-05-05T13:00:00\",\"2016-05-05T14:00:00\",\"2016-05-05T15:00:00\",\"2016-05-05T16:00:00\",\"2016-05-05T17:00:00\",\"2016-05-05T18:00:00\",\"2016-05-05T19:00:00\",\"2016-05-05T20:00:00\",\"2016-05-05T21:00:00\",\"2016-05-05T22:00:00\",\"2016-05-05T23:00:00\",\"2016-05-06T00:00:00\",\"2016-05-06T01:00:00\",\"2016-05-06T02:00:00\",\"2016-05-06T03:00:00\",\"2016-05-06T04:00:00\",\"2016-05-06T05:00:00\",\"2016-05-06T06:00:00\",\"2016-05-06T07:00:00\",\"2016-05-06T08:00:00\",\"2016-05-06T09:00:00\",\"2016-05-06T10:00:00\",\"2016-05-06T11:00:00\",\"2016-05-06T12:00:00\",\"2016-05-06T13:00:00\",\"2016-05-06T14:00:00\",\"2016-05-06T15:00:00\",\"2016-05-06T16:00:00\",\"2016-05-06T17:00:00\",\"2016-05-06T18:00:00\",\"2016-05-06T19:00:00\",\"2016-05-06T20:00:00\",\"2016-05-06T21:00:00\",\"2016-05-06T22:00:00\",\"2016-05-06T23:00:00\",\"2016-05-07T00:00:00\",\"2016-05-07T01:00:00\",\"2016-05-07T02:00:00\",\"2016-05-07T03:00:00\",\"2016-05-07T04:00:00\",\"2016-05-07T05:00:00\",\"2016-05-07T06:00:00\",\"2016-05-07T07:00:00\",\"2016-05-07T08:00:00\",\"2016-05-07T09:00:00\",\"2016-05-07T10:00:00\",\"2016-05-07T11:00:00\",\"2016-05-07T12:00:00\",\"2016-05-07T13:00:00\",\"2016-05-07T14:00:00\",\"2016-05-07T15:00:00\",\"2016-05-07T16:00:00\",\"2016-05-07T17:00:00\",\"2016-05-07T18:00:00\",\"2016-05-07T19:00:00\",\"2016-05-07T20:00:00\",\"2016-05-07T21:00:00\",\"2016-05-07T22:00:00\",\"2016-05-07T23:00:00\",\"2016-05-08T00:00:00\",\"2016-05-08T01:00:00\",\"2016-05-08T02:00:00\",\"2016-05-08T03:00:00\",\"2016-05-08T04:00:00\",\"2016-05-08T05:00:00\",\"2016-05-08T06:00:00\",\"2016-05-08T07:00:00\",\"2016-05-08T08:00:00\",\"2016-05-08T09:00:00\",\"2016-05-08T10:00:00\",\"2016-05-08T11:00:00\",\"2016-05-08T12:00:00\",\"2016-05-08T13:00:00\",\"2016-05-08T14:00:00\",\"2016-05-08T15:00:00\",\"2016-05-08T16:00:00\",\"2016-05-08T17:00:00\",\"2016-05-08T18:00:00\",\"2016-05-08T19:00:00\",\"2016-05-08T20:00:00\",\"2016-05-08T21:00:00\",\"2016-05-08T22:00:00\",\"2016-05-08T23:00:00\",\"2016-05-09T00:00:00\"],\"y\":[3.781198024749756,3.6774117946624756,3.5661699771881104,3.5409913063049316,3.6427667140960693,3.6165735721588135,3.6347389221191406,3.8254308700561523,4.044741153717041,4.541086196899414,4.599974155426025,3.837421417236328,3.997178554534912,3.9796011447906494,4.063899517059326,4.4014482498168945,4.312783241271973,4.474878787994385,4.923591136932373,4.43037223815918,4.168059825897217,4.052781581878662,3.934873104095459,3.811894416809082,3.747152090072632,3.7019174098968506,3.595553398132324,3.653874397277832,3.5940210819244385,3.660349130630493,4.014144420623779,4.37598991394043,4.402795791625977,4.747822284698486,3.8532073497772217,3.6254169940948486,3.6609060764312744,4.035264015197754,3.966251850128174,4.25405216217041,4.149988174438477,4.419050216674805,4.648797512054443,4.454769134521484,4.423949718475342,4.090346336364746,3.8393712043762207,3.8376407623291016,3.800553321838379,3.7827816009521484,3.670968770980835,3.6479668617248535,3.5715060234069824,3.8908355236053467,3.981492519378662,4.0572099685668945,4.624813079833984,4.16945743560791,3.729668378829956,3.6116204261779785,3.8267507553100586,3.782477378845215,3.7758266925811768,3.8895063400268555,3.8114850521087646,4.014358043670654,4.695795059204102,4.477391719818115,4.306459426879883,3.950740098953247,3.696810007095337,3.808025360107422,3.7840185165405273,3.6800289154052734,3.672788619995117,3.652214765548706,3.7055017948150635,3.7781877517700195,3.7986509799957275,4.156223773956299,4.742818832397461,4.030462741851807,4.2506103515625,4.219098091125488,4.198317527770996,4.032649040222168,4.277982711791992,4.167629241943359,4.224821090698242,4.402508735656738,4.613533020019531,4.521359920501709,4.463310241699219,4.139140605926514,3.876253128051758,3.836841106414795,3.7903366088867188,3.7481164932250977,3.661895513534546,3.6523687839508057,3.6717708110809326,3.7614693641662598,3.783043146133423,3.86790132522583,4.269776821136475,4.391354084014893,4.160730361938477,4.529348373413086,4.282896041870117,4.12166690826416,3.8564834594726562,3.7001450061798096,3.6510801315307617,3.7726714611053467,4.015342712402344,4.057868957519531,4.384273052215576,3.93643856048584,3.5977442264556885,3.8094239234924316,3.7966573238372803,3.642192840576172,3.6197876930236816,3.678133249282837,3.6787917613983154,3.7384982109069824,3.7754323482513428,4.0642991065979,4.5893754959106445,4.303929328918457,4.473274230957031,4.8180437088012695,4.322849750518799,4.138608932495117,4.421174049377441,4.455269813537598,4.599377632141113,3.4706337451934814,4.720077037811279,4.551630973815918,4.27919864654541,4.407190322875977,3.8478736877441406,3.8205199241638184,3.752162456512451,3.7587718963623047,3.7492847442626953,3.7544312477111816,3.7162842750549316,3.834716320037842,3.783062696456909,3.911208152770996,4.718747138977051,4.491415023803711,4.437697410583496,4.604318618774414,4.412467002868652,3.9278969764709473,4.281264781951904,4.390135765075684,4.501646518707275,4.6328043937683105,4.447795867919922,4.525420188903809,4.442140102386475,4.335965633392334,3.79628586769104,3.788393020629883,3.788242816925049,3.733508586883545,3.6878583431243896,3.685199022293091,3.723905563354492,3.7534713745117188,3.7883553504943848,3.834043502807617,4.24080228805542,4.295813083648682,4.264837741851807,4.314878463745117,3.795012950897217,4.004807949066162,3.9751408100128174,3.8865227699279785,3.877896308898926,3.855461835861206,3.9194142818450928,3.716383457183838,3.6525557041168213,4.074486255645752,3.8599371910095215,3.853569269180298,3.8230643272399902],\"type\":\"scatter\"},{\"mode\":\"lines\",\"name\":\"Real Values\",\"x\":[\"2016-05-01T00:00:00\",\"2016-05-01T01:00:00\",\"2016-05-01T02:00:00\",\"2016-05-01T03:00:00\",\"2016-05-01T04:00:00\",\"2016-05-01T05:00:00\",\"2016-05-01T06:00:00\",\"2016-05-01T07:00:00\",\"2016-05-01T08:00:00\",\"2016-05-01T09:00:00\",\"2016-05-01T10:00:00\",\"2016-05-01T11:00:00\",\"2016-05-01T12:00:00\",\"2016-05-01T13:00:00\",\"2016-05-01T14:00:00\",\"2016-05-01T15:00:00\",\"2016-05-01T16:00:00\",\"2016-05-01T17:00:00\",\"2016-05-01T18:00:00\",\"2016-05-01T19:00:00\",\"2016-05-01T20:00:00\",\"2016-05-01T21:00:00\",\"2016-05-01T22:00:00\",\"2016-05-01T23:00:00\",\"2016-05-02T00:00:00\",\"2016-05-02T01:00:00\",\"2016-05-02T02:00:00\",\"2016-05-02T03:00:00\",\"2016-05-02T04:00:00\",\"2016-05-02T05:00:00\",\"2016-05-02T06:00:00\",\"2016-05-02T07:00:00\",\"2016-05-02T08:00:00\",\"2016-05-02T09:00:00\",\"2016-05-02T10:00:00\",\"2016-05-02T11:00:00\",\"2016-05-02T12:00:00\",\"2016-05-02T13:00:00\",\"2016-05-02T14:00:00\",\"2016-05-02T15:00:00\",\"2016-05-02T16:00:00\",\"2016-05-02T17:00:00\",\"2016-05-02T18:00:00\",\"2016-05-02T19:00:00\",\"2016-05-02T20:00:00\",\"2016-05-02T21:00:00\",\"2016-05-02T22:00:00\",\"2016-05-02T23:00:00\",\"2016-05-03T00:00:00\",\"2016-05-03T01:00:00\",\"2016-05-03T02:00:00\",\"2016-05-03T03:00:00\",\"2016-05-03T04:00:00\",\"2016-05-03T05:00:00\",\"2016-05-03T06:00:00\",\"2016-05-03T07:00:00\",\"2016-05-03T08:00:00\",\"2016-05-03T09:00:00\",\"2016-05-03T10:00:00\",\"2016-05-03T11:00:00\",\"2016-05-03T12:00:00\",\"2016-05-03T13:00:00\",\"2016-05-03T14:00:00\",\"2016-05-03T15:00:00\",\"2016-05-03T16:00:00\",\"2016-05-03T17:00:00\",\"2016-05-03T18:00:00\",\"2016-05-03T19:00:00\",\"2016-05-03T20:00:00\",\"2016-05-03T21:00:00\",\"2016-05-03T22:00:00\",\"2016-05-03T23:00:00\",\"2016-05-04T00:00:00\",\"2016-05-04T01:00:00\",\"2016-05-04T02:00:00\",\"2016-05-04T03:00:00\",\"2016-05-04T04:00:00\",\"2016-05-04T05:00:00\",\"2016-05-04T06:00:00\",\"2016-05-04T07:00:00\",\"2016-05-04T08:00:00\",\"2016-05-04T09:00:00\",\"2016-05-04T10:00:00\",\"2016-05-04T11:00:00\",\"2016-05-04T12:00:00\",\"2016-05-04T13:00:00\",\"2016-05-04T14:00:00\",\"2016-05-04T15:00:00\",\"2016-05-04T16:00:00\",\"2016-05-04T17:00:00\",\"2016-05-04T18:00:00\",\"2016-05-04T19:00:00\",\"2016-05-04T20:00:00\",\"2016-05-04T21:00:00\",\"2016-05-04T22:00:00\",\"2016-05-04T23:00:00\",\"2016-05-05T00:00:00\",\"2016-05-05T01:00:00\",\"2016-05-05T02:00:00\",\"2016-05-05T03:00:00\",\"2016-05-05T04:00:00\",\"2016-05-05T05:00:00\",\"2016-05-05T06:00:00\",\"2016-05-05T07:00:00\",\"2016-05-05T08:00:00\",\"2016-05-05T09:00:00\",\"2016-05-05T10:00:00\",\"2016-05-05T11:00:00\",\"2016-05-05T12:00:00\",\"2016-05-05T13:00:00\",\"2016-05-05T14:00:00\",\"2016-05-05T15:00:00\",\"2016-05-05T16:00:00\",\"2016-05-05T17:00:00\",\"2016-05-05T18:00:00\",\"2016-05-05T19:00:00\",\"2016-05-05T20:00:00\",\"2016-05-05T21:00:00\",\"2016-05-05T22:00:00\",\"2016-05-05T23:00:00\",\"2016-05-06T00:00:00\",\"2016-05-06T01:00:00\",\"2016-05-06T02:00:00\",\"2016-05-06T03:00:00\",\"2016-05-06T04:00:00\",\"2016-05-06T05:00:00\",\"2016-05-06T06:00:00\",\"2016-05-06T07:00:00\",\"2016-05-06T08:00:00\",\"2016-05-06T09:00:00\",\"2016-05-06T10:00:00\",\"2016-05-06T11:00:00\",\"2016-05-06T12:00:00\",\"2016-05-06T13:00:00\",\"2016-05-06T14:00:00\",\"2016-05-06T15:00:00\",\"2016-05-06T16:00:00\",\"2016-05-06T17:00:00\",\"2016-05-06T18:00:00\",\"2016-05-06T19:00:00\",\"2016-05-06T20:00:00\",\"2016-05-06T21:00:00\",\"2016-05-06T22:00:00\",\"2016-05-06T23:00:00\",\"2016-05-07T00:00:00\",\"2016-05-07T01:00:00\",\"2016-05-07T02:00:00\",\"2016-05-07T03:00:00\",\"2016-05-07T04:00:00\",\"2016-05-07T05:00:00\",\"2016-05-07T06:00:00\",\"2016-05-07T07:00:00\",\"2016-05-07T08:00:00\",\"2016-05-07T09:00:00\",\"2016-05-07T10:00:00\",\"2016-05-07T11:00:00\",\"2016-05-07T12:00:00\",\"2016-05-07T13:00:00\",\"2016-05-07T14:00:00\",\"2016-05-07T15:00:00\",\"2016-05-07T16:00:00\",\"2016-05-07T17:00:00\",\"2016-05-07T18:00:00\",\"2016-05-07T19:00:00\",\"2016-05-07T20:00:00\",\"2016-05-07T21:00:00\",\"2016-05-07T22:00:00\",\"2016-05-07T23:00:00\",\"2016-05-08T00:00:00\",\"2016-05-08T01:00:00\",\"2016-05-08T02:00:00\",\"2016-05-08T03:00:00\",\"2016-05-08T04:00:00\",\"2016-05-08T05:00:00\",\"2016-05-08T06:00:00\",\"2016-05-08T07:00:00\",\"2016-05-08T08:00:00\",\"2016-05-08T09:00:00\",\"2016-05-08T10:00:00\",\"2016-05-08T11:00:00\",\"2016-05-08T12:00:00\",\"2016-05-08T13:00:00\",\"2016-05-08T14:00:00\",\"2016-05-08T15:00:00\",\"2016-05-08T16:00:00\",\"2016-05-08T17:00:00\",\"2016-05-08T18:00:00\",\"2016-05-08T19:00:00\",\"2016-05-08T20:00:00\",\"2016-05-08T21:00:00\",\"2016-05-08T22:00:00\",\"2016-05-08T23:00:00\",\"2016-05-09T00:00:00\"],\"y\":[3.9448128282511368,4.007333185232471,3.8781214537524646,3.7297014486341915,3.9765615265657175,3.9448128282511368,3.9765615265657175,4.0661736852554045,4.442651256490317,4.499809670330265,4.148411783492376,4.518158808998462,4.5712686343124105,4.360973225476049,4.685212893661628,4.653960350157523,5.3706380281276624,5.714832310842786,5.604575824572753,4.75932086581535,4.669708707125663,4.442651256490317,4.248495242049359,3.8781214537524646,4.007333185232471,3.9448128282511368,3.6888794541139363,3.9765615265657175,3.9448128282511368,4.637960008811082,4.339467020255086,5.135798437050262,3.9765615265657175,4.007333185232471,3.9765615265657175,3.9448128282511368,4.402645921876617,4.402645921876617,4.382026634673881,4.402645921876617,4.653960350157523,5.579729825986222,4.841558964052322,4.90527477843843,4.700480365792417,3.9765615265657175,4.174387269895637,4.007333185232471,4.007333185232471,3.6463198396951406,3.9765615265657175,3.9765615265657175,3.912023005428146,3.9448128282511368,4.2243976904702984,3.912023005428146,4.007333185232471,3.6888794541139363,3.9448128282511368,3.9765615265657175,3.9765615265657175,3.6888794541139363,4.037186148382152,3.912023005428146,4.174387269895637,5.501258210544727,4.892852258439873,4.929666231562589,4.773505500807306,4.037186148382152,4.007333185232471,3.7297014486341915,3.9448128282511368,3.9765615265657175,4.007333185232471,3.6463198396951406,3.912023005428146,4.199705077879927,4.74493212836325,4.0943445622221,5.1647859739235145,4.272025739459553,4.422848629194137,4.339467020255086,4.174387269895637,4.248495242049359,4.248495242049359,4.2243976904702984,4.402645921876617,4.7303333289420975,4.892852258439873,4.715518243156957,4.605170185988092,4.31748811353631,4.007333185232471,4.007333185232471,3.6888794541139363,4.037186148382152,3.9448128282511368,4.007333185232471,3.9448128282511368,3.6463198396951406,4.0661736852554045,5.115995809754082,5.155216522907363,4.442651256490317,4.5712686343124105,4.481117537318112,4.637960008811082,3.7297014486341915,4.007333185232471,4.0661736852554045,3.9448128282511368,5.314846668499247,5.085536602269373,4.58836306767171,4.58836306767171,4.272025739459553,4.037186148382152,4.007333185232471,3.7297014486341915,4.0661736852554045,3.912023005428146,4.0661736852554045,3.912023005428146,3.9448128282511368,4.295015257684252,5.508037897530106,4.553876891600541,5.610692051590189,4.499809670330265,4.700480365792417,4.929666231562589,4.382026634673881,5.075173815233827,4.31748811353631,4.248495242049359,4.53617731450114,5.174264717878057,4.841558964052322,4.75932086581535,4.272025739459553,3.9765615265657175,4.0661736852554045,3.9448128282511368,4.037186148382152,3.9765615265657175,4.007333185232471,4.007333185232471,3.9448128282511368,3.9765615265657175,4.999461993498131,4.8012850649143815,5.032614200815031,5.183654458227897,5.085536602269373,4.4620693423474185,4.31748811353631,4.481117537318112,4.637960008811082,4.518158808998462,4.422848629194137,5.652489180268651,4.787491742782046,4.4620693423474185,4.037186148382152,4.0661736852554045,4.037186148382152,4.0661736852554045,3.9448128282511368,4.007333185232471,4.037186148382152,3.912023005428146,4.037186148382152,3.912023005428146,4.0943445622221,5.211305989558407,4.965172920019499,4.90527477843843,3.912023005428146,4.037186148382152,4.037186148382152,4.037186148382152,3.912023005428146,4.007333185232471,4.037186148382152,3.912023005428146,4.0943445622221,4.360973225476049,4.148411783492376,4.0661736852554045,3.9765615265657175,4.007333185232471],\"type\":\"scatter\"}],                        {\"template\":{\"data\":{\"histogram2dcontour\":[{\"type\":\"histogram2dcontour\",\"colorbar\":{\"outlinewidth\":0,\"ticks\":\"\"},\"colorscale\":[[0.0,\"#0d0887\"],[0.1111111111111111,\"#46039f\"],[0.2222222222222222,\"#7201a8\"],[0.3333333333333333,\"#9c179e\"],[0.4444444444444444,\"#bd3786\"],[0.5555555555555556,\"#d8576b\"],[0.6666666666666666,\"#ed7953\"],[0.7777777777777778,\"#fb9f3a\"],[0.8888888888888888,\"#fdca26\"],[1.0,\"#f0f921\"]]}],\"choropleth\":[{\"type\":\"choropleth\",\"colorbar\":{\"outlinewidth\":0,\"ticks\":\"\"}}],\"histogram2d\":[{\"type\":\"histogram2d\",\"colorbar\":{\"outlinewidth\":0,\"ticks\":\"\"},\"colorscale\":[[0.0,\"#0d0887\"],[0.1111111111111111,\"#46039f\"],[0.2222222222222222,\"#7201a8\"],[0.3333333333333333,\"#9c179e\"],[0.4444444444444444,\"#bd3786\"],[0.5555555555555556,\"#d8576b\"],[0.6666666666666666,\"#ed7953\"],[0.7777777777777778,\"#fb9f3a\"],[0.8888888888888888,\"#fdca26\"],[1.0,\"#f0f921\"]]}],\"heatmap\":[{\"type\":\"heatmap\",\"colorbar\":{\"outlinewidth\":0,\"ticks\":\"\"},\"colorscale\":[[0.0,\"#0d0887\"],[0.1111111111111111,\"#46039f\"],[0.2222222222222222,\"#7201a8\"],[0.3333333333333333,\"#9c179e\"],[0.4444444444444444,\"#bd3786\"],[0.5555555555555556,\"#d8576b\"],[0.6666666666666666,\"#ed7953\"],[0.7777777777777778,\"#fb9f3a\"],[0.8888888888888888,\"#fdca26\"],[1.0,\"#f0f921\"]]}],\"heatmapgl\":[{\"type\":\"heatmapgl\",\"colorbar\":{\"outlinewidth\":0,\"ticks\":\"\"},\"colorscale\":[[0.0,\"#0d0887\"],[0.1111111111111111,\"#46039f\"],[0.2222222222222222,\"#7201a8\"],[0.3333333333333333,\"#9c179e\"],[0.4444444444444444,\"#bd3786\"],[0.5555555555555556,\"#d8576b\"],[0.6666666666666666,\"#ed7953\"],[0.7777777777777778,\"#fb9f3a\"],[0.8888888888888888,\"#fdca26\"],[1.0,\"#f0f921\"]]}],\"contourcarpet\":[{\"type\":\"contourcarpet\",\"colorbar\":{\"outlinewidth\":0,\"ticks\":\"\"}}],\"contour\":[{\"type\":\"contour\",\"colorbar\":{\"outlinewidth\":0,\"ticks\":\"\"},\"colorscale\":[[0.0,\"#0d0887\"],[0.1111111111111111,\"#46039f\"],[0.2222222222222222,\"#7201a8\"],[0.3333333333333333,\"#9c179e\"],[0.4444444444444444,\"#bd3786\"],[0.5555555555555556,\"#d8576b\"],[0.6666666666666666,\"#ed7953\"],[0.7777777777777778,\"#fb9f3a\"],[0.8888888888888888,\"#fdca26\"],[1.0,\"#f0f921\"]]}],\"surface\":[{\"type\":\"surface\",\"colorbar\":{\"outlinewidth\":0,\"ticks\":\"\"},\"colorscale\":[[0.0,\"#0d0887\"],[0.1111111111111111,\"#46039f\"],[0.2222222222222222,\"#7201a8\"],[0.3333333333333333,\"#9c179e\"],[0.4444444444444444,\"#bd3786\"],[0.5555555555555556,\"#d8576b\"],[0.6666666666666666,\"#ed7953\"],[0.7777777777777778,\"#fb9f3a\"],[0.8888888888888888,\"#fdca26\"],[1.0,\"#f0f921\"]]}],\"mesh3d\":[{\"type\":\"mesh3d\",\"colorbar\":{\"outlinewidth\":0,\"ticks\":\"\"}}],\"scatter\":[{\"fillpattern\":{\"fillmode\":\"overlay\",\"size\":10,\"solidity\":0.2},\"type\":\"scatter\"}],\"parcoords\":[{\"type\":\"parcoords\",\"line\":{\"colorbar\":{\"outlinewidth\":0,\"ticks\":\"\"}}}],\"scatterpolargl\":[{\"type\":\"scatterpolargl\",\"marker\":{\"colorbar\":{\"outlinewidth\":0,\"ticks\":\"\"}}}],\"bar\":[{\"error_x\":{\"color\":\"#2a3f5f\"},\"error_y\":{\"color\":\"#2a3f5f\"},\"marker\":{\"line\":{\"color\":\"#E5ECF6\",\"width\":0.5},\"pattern\":{\"fillmode\":\"overlay\",\"size\":10,\"solidity\":0.2}},\"type\":\"bar\"}],\"scattergeo\":[{\"type\":\"scattergeo\",\"marker\":{\"colorbar\":{\"outlinewidth\":0,\"ticks\":\"\"}}}],\"scatterpolar\":[{\"type\":\"scatterpolar\",\"marker\":{\"colorbar\":{\"outlinewidth\":0,\"ticks\":\"\"}}}],\"histogram\":[{\"marker\":{\"pattern\":{\"fillmode\":\"overlay\",\"size\":10,\"solidity\":0.2}},\"type\":\"histogram\"}],\"scattergl\":[{\"type\":\"scattergl\",\"marker\":{\"colorbar\":{\"outlinewidth\":0,\"ticks\":\"\"}}}],\"scatter3d\":[{\"type\":\"scatter3d\",\"line\":{\"colorbar\":{\"outlinewidth\":0,\"ticks\":\"\"}},\"marker\":{\"colorbar\":{\"outlinewidth\":0,\"ticks\":\"\"}}}],\"scattermapbox\":[{\"type\":\"scattermapbox\",\"marker\":{\"colorbar\":{\"outlinewidth\":0,\"ticks\":\"\"}}}],\"scatterternary\":[{\"type\":\"scatterternary\",\"marker\":{\"colorbar\":{\"outlinewidth\":0,\"ticks\":\"\"}}}],\"scattercarpet\":[{\"type\":\"scattercarpet\",\"marker\":{\"colorbar\":{\"outlinewidth\":0,\"ticks\":\"\"}}}],\"carpet\":[{\"aaxis\":{\"endlinecolor\":\"#2a3f5f\",\"gridcolor\":\"white\",\"linecolor\":\"white\",\"minorgridcolor\":\"white\",\"startlinecolor\":\"#2a3f5f\"},\"baxis\":{\"endlinecolor\":\"#2a3f5f\",\"gridcolor\":\"white\",\"linecolor\":\"white\",\"minorgridcolor\":\"white\",\"startlinecolor\":\"#2a3f5f\"},\"type\":\"carpet\"}],\"table\":[{\"cells\":{\"fill\":{\"color\":\"#EBF0F8\"},\"line\":{\"color\":\"white\"}},\"header\":{\"fill\":{\"color\":\"#C8D4E3\"},\"line\":{\"color\":\"white\"}},\"type\":\"table\"}],\"barpolar\":[{\"marker\":{\"line\":{\"color\":\"#E5ECF6\",\"width\":0.5},\"pattern\":{\"fillmode\":\"overlay\",\"size\":10,\"solidity\":0.2}},\"type\":\"barpolar\"}],\"pie\":[{\"automargin\":true,\"type\":\"pie\"}]},\"layout\":{\"autotypenumbers\":\"strict\",\"colorway\":[\"#636efa\",\"#EF553B\",\"#00cc96\",\"#ab63fa\",\"#FFA15A\",\"#19d3f3\",\"#FF6692\",\"#B6E880\",\"#FF97FF\",\"#FECB52\"],\"font\":{\"color\":\"#2a3f5f\"},\"hovermode\":\"closest\",\"hoverlabel\":{\"align\":\"left\"},\"paper_bgcolor\":\"white\",\"plot_bgcolor\":\"#E5ECF6\",\"polar\":{\"bgcolor\":\"#E5ECF6\",\"angularaxis\":{\"gridcolor\":\"white\",\"linecolor\":\"white\",\"ticks\":\"\"},\"radialaxis\":{\"gridcolor\":\"white\",\"linecolor\":\"white\",\"ticks\":\"\"}},\"ternary\":{\"bgcolor\":\"#E5ECF6\",\"aaxis\":{\"gridcolor\":\"white\",\"linecolor\":\"white\",\"ticks\":\"\"},\"baxis\":{\"gridcolor\":\"white\",\"linecolor\":\"white\",\"ticks\":\"\"},\"caxis\":{\"gridcolor\":\"white\",\"linecolor\":\"white\",\"ticks\":\"\"}},\"coloraxis\":{\"colorbar\":{\"outlinewidth\":0,\"ticks\":\"\"}},\"colorscale\":{\"sequential\":[[0.0,\"#0d0887\"],[0.1111111111111111,\"#46039f\"],[0.2222222222222222,\"#7201a8\"],[0.3333333333333333,\"#9c179e\"],[0.4444444444444444,\"#bd3786\"],[0.5555555555555556,\"#d8576b\"],[0.6666666666666666,\"#ed7953\"],[0.7777777777777778,\"#fb9f3a\"],[0.8888888888888888,\"#fdca26\"],[1.0,\"#f0f921\"]],\"sequentialminus\":[[0.0,\"#0d0887\"],[0.1111111111111111,\"#46039f\"],[0.2222222222222222,\"#7201a8\"],[0.3333333333333333,\"#9c179e\"],[0.4444444444444444,\"#bd3786\"],[0.5555555555555556,\"#d8576b\"],[0.6666666666666666,\"#ed7953\"],[0.7777777777777778,\"#fb9f3a\"],[0.8888888888888888,\"#fdca26\"],[1.0,\"#f0f921\"]],\"diverging\":[[0,\"#8e0152\"],[0.1,\"#c51b7d\"],[0.2,\"#de77ae\"],[0.3,\"#f1b6da\"],[0.4,\"#fde0ef\"],[0.5,\"#f7f7f7\"],[0.6,\"#e6f5d0\"],[0.7,\"#b8e186\"],[0.8,\"#7fbc41\"],[0.9,\"#4d9221\"],[1,\"#276419\"]]},\"xaxis\":{\"gridcolor\":\"white\",\"linecolor\":\"white\",\"ticks\":\"\",\"title\":{\"standoff\":15},\"zerolinecolor\":\"white\",\"automargin\":true,\"zerolinewidth\":2},\"yaxis\":{\"gridcolor\":\"white\",\"linecolor\":\"white\",\"ticks\":\"\",\"title\":{\"standoff\":15},\"zerolinecolor\":\"white\",\"automargin\":true,\"zerolinewidth\":2},\"scene\":{\"xaxis\":{\"backgroundcolor\":\"#E5ECF6\",\"gridcolor\":\"white\",\"linecolor\":\"white\",\"showbackground\":true,\"ticks\":\"\",\"zerolinecolor\":\"white\",\"gridwidth\":2},\"yaxis\":{\"backgroundcolor\":\"#E5ECF6\",\"gridcolor\":\"white\",\"linecolor\":\"white\",\"showbackground\":true,\"ticks\":\"\",\"zerolinecolor\":\"white\",\"gridwidth\":2},\"zaxis\":{\"backgroundcolor\":\"#E5ECF6\",\"gridcolor\":\"white\",\"linecolor\":\"white\",\"showbackground\":true,\"ticks\":\"\",\"zerolinecolor\":\"white\",\"gridwidth\":2}},\"shapedefaults\":{\"line\":{\"color\":\"#2a3f5f\"}},\"annotationdefaults\":{\"arrowcolor\":\"#2a3f5f\",\"arrowhead\":0,\"arrowwidth\":1},\"geo\":{\"bgcolor\":\"white\",\"landcolor\":\"#E5ECF6\",\"subunitcolor\":\"white\",\"showland\":true,\"showlakes\":true,\"lakecolor\":\"white\"},\"title\":{\"x\":0.05},\"mapbox\":{\"style\":\"light\"}}},\"title\":{\"text\":\"Uncertainty Quantification for Energy Consumption Test Data\"},\"xaxis\":{\"title\":{\"text\":\"Time\"}},\"yaxis\":{\"title\":{\"text\":\"log_energy_consumption (log Wh)\"}}},                        {\"responsive\": true}                    ).then(function(){\n",
              "                            \n",
              "var gd = document.getElementById('a60e44ea-48c1-4d5e-b8de-1f8856f8e0d7');\n",
              "var x = new MutationObserver(function (mutations, observer) {{\n",
              "        var display = window.getComputedStyle(gd).display;\n",
              "        if (!display || display === 'none') {{\n",
              "            console.log([gd, 'removed!']);\n",
              "            Plotly.purge(gd);\n",
              "            observer.disconnect();\n",
              "        }}\n",
              "}});\n",
              "\n",
              "// Listen for the removal of the full notebook cells\n",
              "var notebookContainer = gd.closest('#notebook-container');\n",
              "if (notebookContainer) {{\n",
              "    x.observe(notebookContainer, {childList: true});\n",
              "}}\n",
              "\n",
              "// Listen for the clearing of the current output cell\n",
              "var outputEl = gd.closest('.output');\n",
              "if (outputEl) {{\n",
              "    x.observe(outputEl, {childList: true});\n",
              "}}\n",
              "\n",
              "                        })                };                            </script>        </div>\n",
              "</body>\n",
              "</html>"
            ]
          },
          "metadata": {}
        }
      ]
    },
    {
      "cell_type": "markdown",
      "metadata": {
        "id": "7THEK4P96J0S"
      },
      "source": [
        "#### Evaluating Uncertainty"
      ]
    },
    {
      "cell_type": "markdown",
      "metadata": {
        "id": "PPuR8L6D6PkL"
      },
      "source": [
        "Using multiple experiments above, 99% confidence intervals have been constructed for each the prediction of the target variable (the logarithm of appliance power consumption). While we can visually observe that the model is generally capturing the behavior of the time-series, approximately only 50% of the real data points lie within a 99% confidence interval from the mean prediction value.\n",
        "\n",
        "Despite the relatively low percentage of points within the confidence interval, it must be noted that Bayesian Neural Networks only seek to quantify the epistemic model uncertainty and does not account for aleatoric uncertainty (i.e. noise)."
      ]
    },
    {
      "cell_type": "code",
      "metadata": {
        "id": "mV2_6qekxzLn",
        "colab": {
          "base_uri": "https://localhost:8080/"
        },
        "outputId": "19c1e36f-3aed-4578-f789-0593fad80984"
      },
      "source": [
        "bounds_df = pd.DataFrame()\n",
        "\n",
        "# Using 99% confidence bounds\n",
        "bounds_df['lower_bound'] = test_uncertainty_plot_df['lower_bound']\n",
        "bounds_df['prediction'] = test_uncertainty_plot_df['log_energy_consumption_mean']\n",
        "bounds_df['real_value'] = truth_uncertainty_plot_df['log_energy_consumption']\n",
        "bounds_df['upper_bound'] = test_uncertainty_plot_df['upper_bound']\n",
        "\n",
        "bounds_df['contained'] = ((bounds_df['real_value'] >= bounds_df['lower_bound']) &\n",
        "                          (bounds_df['real_value'] <= bounds_df['upper_bound']))\n",
        "\n",
        "print(\"Proportion of points contained within 99% confidence interval:\",\n",
        "      bounds_df['contained'].mean())"
      ],
      "execution_count": 16,
      "outputs": [
        {
          "output_type": "stream",
          "name": "stdout",
          "text": [
            "Proportion of points contained within 99% confidence interval: 0.7461139896373057\n"
          ]
        }
      ]
    },
    {
      "cell_type": "markdown",
      "metadata": {
        "id": "CLrYy9qgxp_C"
      },
      "source": [
        "# Conclusions\n",
        "\n",
        "- Bayesian LSTMs have been able to produce comparable performance to their frequentist counterparts (all else being equal)\n",
        "- Stochastic dropout enables users to approximate the posterior distribution of the target variable, \\\n",
        "and thus construct confidence intervals for each prediction\n",
        "- Bayesian Neural Networks only attempt to account for epistemic model uncertainty and do not necessarily address aleatoric uncertainty\n",
        "- Computational overhead for repeated/multiple Bayesian LSTM predictions at inference to construct confidence intervals represent a potential challenge for real-time inference use-cases."
      ]
    }
  ]
}